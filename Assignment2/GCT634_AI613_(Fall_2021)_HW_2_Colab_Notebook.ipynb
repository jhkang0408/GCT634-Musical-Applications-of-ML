{
 "cells": [
  {
   "cell_type": "markdown",
   "metadata": {
    "id": "C34u1Fk_d855"
   },
   "source": [
    "# Homework #2: Music Auto Tagging (Multi-Label Classification and Metric Learning Approach)\n",
    "\n",
    "\n",
    "Music auto-tagging is an important task that can be used in many musical applications such as music search or recommender systems. \n",
    "\n",
    "Two central methods for representation learning include deep metric learning and classification, both having the same goal of learning a representation that can generalize well across tasks.\n",
    "\n",
    "Your mission is to build your own Neural Network model to represent audio signal. Specifically, the goals of this homework are as follows:\n",
    "\n",
    "* Experiencing the whole pipeline of deep learning based system: data preparation, feature extraction, model training and evaluation\n",
    "* Getting familiar with the Neural Network architectures for music representation\n",
    "* Using Pytorch in practice"
   ]
  },
  {
   "cell_type": "markdown",
   "metadata": {
    "id": "jS4CjH2Ocshx"
   },
   "source": [
    "# Getting Ready"
   ]
  },
  {
   "cell_type": "markdown",
   "metadata": {
    "id": "v5i1Y0_-cXv5"
   },
   "source": [
    "## Preparing The Dataset\n",
    "We use the [magnatagatune](https://mirg.city.ac.uk/codeapps/the-magnatagatune-dataset) dataset which has been the most widely used in the music tagging task.  The MagnaTagATune dataset consists of 25k music\n",
    "clips from 6,622 unique songs.\n",
    "\n",
    "The dataset contains 30-second audio files including 189 different tags\n",
    "For this homework, we are going to use a magnatagatune with 8-second audio and only 50 genres.\n",
    "\n",
    "We use subset of magnatagatune dataset (9074 samples x 8 sec).\n",
    "\n",
    "To make your life easier, place them in a directory as below:\n",
    "\n",
    "```\n",
    "├── annotations_final.csv\n",
    "├── waveform\n",
    "  ├── 1\n",
    "  ├── ...\n",
    "  └── d\n",
    "```"
   ]
  },
  {
   "cell_type": "markdown",
   "metadata": {
    "id": "HMdtGjitcptx"
   },
   "source": [
    "## Importing Packages"
   ]
  },
  {
   "cell_type": "code",
   "execution_count": 64,
   "metadata": {
    "id": "SwAowYXSQSky"
   },
   "outputs": [],
   "source": [
    "import warnings\n",
    "import multiprocessing\n",
    "warnings.filterwarnings(action='ignore')\n",
    "\n",
    "import numpy as np\n",
    "import pandas as pd\n",
    "import os\n",
    "import torchaudio\n",
    "import torch\n",
    "import torch.nn as nn\n",
    "from sklearn import metrics\n",
    "\n",
    "from tqdm.notebook import tqdm\n",
    "from glob import glob\n",
    "from torch.utils.data import Dataset, DataLoader\n",
    "from torch.optim.lr_scheduler import ReduceLROnPlateau\n",
    "\n",
    "import IPython.display as ipd"
   ]
  },
  {
   "cell_type": "markdown",
   "metadata": {
    "id": "NyC0UrXH-Uh6"
   },
   "source": [
    "## Enabling and testing the GPU\n",
    "\n",
    "First, you'll need to enable GPUs for the Colab notebook:\n",
    "\n",
    "- Navigate to Edit (수정) → Notebook Settings (노트 설정)\n",
    "- select GPU from the Hardware Accelerator (하드웨어 가속기) drop-down\n",
    "\n",
    "Next, we'll confirm that we can connect to the GPU with PyTorch and check versions of packages:"
   ]
  },
  {
   "cell_type": "code",
   "execution_count": 65,
   "metadata": {
    "colab": {
     "base_uri": "https://localhost:8080/"
    },
    "id": "s3RwC1lh-bCx",
    "outputId": "321a5f1b-3349-40cc-86a2-4991f70a89eb"
   },
   "outputs": [
    {
     "name": "stdout",
     "output_type": "stream",
     "text": [
      "Found GPU at: TITAN Xp\n",
      "PyTorch version: 1.9.0\n",
      "Torch Audio version: 0.9.0\n"
     ]
    }
   ],
   "source": [
    "if not torch.cuda.is_available():\n",
    "  raise SystemError('GPU device not found!')\n",
    "print(f'Found GPU at: {torch.cuda.get_device_name()}')\n",
    "print(f'PyTorch version: {torch.__version__}')\n",
    "print(f'Torch Audio version: {torchaudio.__version__}')"
   ]
  },
  {
   "cell_type": "markdown",
   "metadata": {
    "id": "1IrP3qHvQuYi"
   },
   "source": [
    "If the cell above throws an error, then you should enable the GPU following the instruction above!"
   ]
  },
  {
   "cell_type": "markdown",
   "metadata": {
    "id": "yKtCz_FikqbW"
   },
   "source": [
    "# Data Checking\n"
   ]
  },
  {
   "cell_type": "code",
   "execution_count": 66,
   "metadata": {
    "id": "0vMD0MJokzAC"
   },
   "outputs": [],
   "source": [
    "# use 50 top tags\n",
    "TAGS = ['guitar','classical', 'slow','techno','strings','drums','electronic','rock',\n",
    "        'fast','piano','ambient','beat','violin','vocal','synth','female','indian',\n",
    "        'opera','male','singing','vocals','no vocals','harpsichord','loud','quiet',\n",
    "        'flute', 'woman', 'male vocal', 'no vocal', 'pop','soft','sitar', 'solo',\n",
    "        'man', 'classic', 'choir', 'voice', 'new age', 'dance', 'male voice',\n",
    "        'female vocal', 'beats', 'harp', 'cello', 'no voice', 'weird', 'country',\n",
    "        'metal', 'female voice', 'choral']"
   ]
  },
  {
   "cell_type": "code",
   "execution_count": 67,
   "metadata": {
    "colab": {
     "base_uri": "https://localhost:8080/"
    },
    "id": "eiEOlneUk13L",
    "outputId": "f81d289d-71c3-4fc8-a564-d27b3c64c972"
   },
   "outputs": [
    {
     "data": {
      "text/plain": [
       "classical                                                    1\n",
       "strings                                                      1\n",
       "opera                                                        1\n",
       "violin                                                       1\n",
       "mp3_path     f/american_bach_soloists-j_s__bach_solo_cantat...\n",
       "Name: 2, dtype: object"
      ]
     },
     "execution_count": 67,
     "metadata": {},
     "output_type": "execute_result"
    }
   ],
   "source": [
    "df = pd.read_csv(\"./annotations_final.csv\", sep=\"\\t\", index_col=0)\n",
    "item = df.iloc[0]\n",
    "item[item != 0] # check annotated tags"
   ]
  },
  {
   "cell_type": "code",
   "execution_count": 68,
   "metadata": {
    "id": "gK6IJHHKTcWf"
   },
   "outputs": [],
   "source": [
    "# filter out, un-annnotated dataset\n",
    "df_filter =  df[TAGS].sum(axis=1)\n",
    "use_id = df_filter[df_filter != 0].index\n",
    "df = df.loc[use_id]"
   ]
  },
  {
   "cell_type": "code",
   "execution_count": 69,
   "metadata": {
    "colab": {
     "base_uri": "https://localhost:8080/",
     "height": 441
    },
    "id": "mLEyujG_k_pm",
    "outputId": "b50bd925-a7fa-4128-9faf-3b3f4b1bb1b9"
   },
   "outputs": [
    {
     "data": {
      "text/plain": [
       "<AxesSubplot:>"
      ]
     },
     "execution_count": 69,
     "metadata": {},
     "output_type": "execute_result"
    },
    {
     "data": {
      "image/png": "[encoded data removed]",
      "text/plain": [
       "<Figure size 1296x432 with 1 Axes>"
      ]
     },
     "metadata": {
      "needs_background": "light"
     },
     "output_type": "display_data"
    }
   ],
   "source": [
    "df[TAGS].sum().plot.bar(figsize=(18,6),rot=60) # check data distribution"
   ]
  },
  {
   "cell_type": "markdown",
   "metadata": {
    "id": "UEyf5th3zodi"
   },
   "source": [
    "# Training CNNs from Scratch\n",
    "\n",
    "The baseline code is provided so that you can easily start the homework and also compare with your own algorithm.\n",
    "The baseline model extracts mel-spectrogram and has a simple set of CNN model that includes convolutional layer, batch normalization, maxpooling and fully-connected layer."
   ]
  },
  {
   "cell_type": "markdown",
   "metadata": {
    "id": "jLEXvCXUK6GR"
   },
   "source": [
    "## Data Preprocessing"
   ]
  },
  {
   "cell_type": "code",
   "execution_count": 70,
   "metadata": {
    "id": "SVQgtwoulfdt"
   },
   "outputs": [],
   "source": [
    "train = []\n",
    "valid = []\n",
    "test = []\n",
    "id_to_path = {}\n",
    "for idx in range(len(df)):\n",
    "  item = df.iloc[idx]\n",
    "  id = item.name\n",
    "  path = item['mp3_path']\n",
    "  folder = path.split(\"/\")[0]\n",
    "  id_to_path[id] = path\n",
    "  if folder in \"012ab\":\n",
    "    train.append(id)# split = \"train\"\n",
    "  elif folder == \"c\":    \n",
    "    valid.append(id)# split = \"valid\"\n",
    "  elif folder in \"d\":\n",
    "    test.append(id)# split = \"test\""
   ]
  },
  {
   "cell_type": "code",
   "execution_count": 71,
   "metadata": {
    "colab": {
     "base_uri": "https://localhost:8080/"
    },
    "id": "JL4Ws0pznlOq",
    "outputId": "a61853c2-6870-4649-cec3-ff965c430b0c"
   },
   "outputs": [
    {
     "data": {
      "text/plain": [
       "(9074, 0.6839321137315406, 0.16850341635441923, 0.14756446991404013)"
      ]
     },
     "execution_count": 71,
     "metadata": {},
     "output_type": "execute_result"
    }
   ],
   "source": [
    "total = len(train) + len(valid) + len(test)\n",
    "total, len(train) / total, len(valid)/ total, len(test)/ total"
   ]
  },
  {
   "cell_type": "code",
   "execution_count": 72,
   "metadata": {
    "id": "3HqY5P4_B5sK"
   },
   "outputs": [],
   "source": [
    "df = df[TAGS]"
   ]
  },
  {
   "cell_type": "code",
   "execution_count": 73,
   "metadata": {
    "id": "shhlfGxSBsGV"
   },
   "outputs": [],
   "source": [
    "df_train = df.loc[train]\n",
    "df_valid = df.loc[valid]\n",
    "df_test = df.loc[test]"
   ]
  },
  {
   "cell_type": "code",
   "execution_count": 74,
   "metadata": {
    "id": "L6YDccHNLdI1"
   },
   "outputs": [],
   "source": [
    "# Data processing setup.\n",
    "SR = 16000\n",
    "BATCH_SIZE = 16"
   ]
  },
  {
   "cell_type": "markdown",
   "metadata": {
    "id": "STBkkl-ZyqWy"
   },
   "source": [
    "## Dataset & DataLoader"
   ]
  },
  {
   "cell_type": "code",
   "execution_count": 75,
   "metadata": {
    "id": "HfeuWIyfiSsD"
   },
   "outputs": [],
   "source": [
    "from torch.utils.data import Dataset, DataLoader\n",
    "import numpy as np\n",
    "\n",
    "class AudioDataset(Dataset):\n",
    "  def __init__(self, paths, input_length, binary, id_to_path, split):\n",
    "    \"\"\"\n",
    "    Args:\n",
    "      paths (str): path to load dataset from\n",
    "      input_length (int): sample_rate x duration (second) \n",
    "      binary (Pandas.DataFrame): binary matrix for audio (index: track_id, columns: tag binary)\n",
    "      id_to_path (Dict): track id to audio path\n",
    "      split (str): one of [TRAIN, VALID, TEST]\n",
    "    \"\"\"\n",
    "    self.paths = paths\n",
    "    self.input_length = input_length\n",
    "    self.binary = binary\n",
    "    self.id_to_path = id_to_path\n",
    "    self.split = split\n",
    "    \n",
    "  def __getitem__(self, index):\n",
    "    item = self.binary.iloc[index]\n",
    "    waveform = self.item_to_waveform(item)\n",
    "    return waveform.astype(np.float32), item.values.astype(np.float32)\n",
    "  \n",
    "  def item_to_waveform(self, item):\n",
    "    id = item.name\n",
    "    path = os.path.join(self.paths, self.id_to_path[id].replace(\".mp3\", \".npy\")) # pre-extract waveform, for fast loader\n",
    "    waveform = np.load(path) \n",
    "    if self.split in ['TRAIN','VALID']:\n",
    "      random_idx = np.random.randint(low=0, high=int(waveform.shape[0] - self.input_length))\n",
    "      waveform = waveform[random_idx:random_idx+self.input_length] # extract input\n",
    "      audio = np.expand_dims(waveform, axis = 0)# 1 x samples\n",
    "    elif self.split == 'TEST':\n",
    "      chunk_number = waveform.shape[0] // self.input_length\n",
    "      chunk = np.zeros((chunk_number, self.input_length))\n",
    "      for idx in range(chunk.shape[0]):\n",
    "        chunk[idx] = waveform[idx:idx+input_length]\n",
    "      audio = chunk\n",
    "    return audio\n",
    "      \n",
    "  def __len__(self):\n",
    "    return len(self.binary)"
   ]
  },
  {
   "cell_type": "markdown",
   "metadata": {
    "id": "Q7mZxLEgJ6ON"
   },
   "source": [
    "### Computing statistics of the training set\n",
    "The code below compute mean, standard deviation and the minimum temporal dimension size, and use them for preprocessing inputs."
   ]
  },
  {
   "cell_type": "code",
   "execution_count": 76,
   "metadata": {
    "id": "ZSNZ81-0nbWp"
   },
   "outputs": [],
   "source": [
    "BATCH_SIZE = 16\n",
    "num_workers = 0 #2\n",
    "sample_rate = 16000\n",
    "duration = 3\n",
    "input_length =  sample_rate * duration\n",
    "data_path = \"./waveform\"\n",
    "tr_data = AudioDataset(data_path, input_length, df_train, id_to_path, 'TRAIN')\n",
    "va_data = AudioDataset(data_path, input_length, df_valid, id_to_path, 'VALID')\n",
    "te_data = AudioDataset(data_path, input_length, df_test, id_to_path, 'TEST')\n",
    "loader_train = DataLoader(tr_data, batch_size=BATCH_SIZE, shuffle=True, num_workers=num_workers, drop_last=True)\n",
    "loader_valid = DataLoader(va_data, batch_size=BATCH_SIZE, shuffle=False, num_workers=num_workers, drop_last=False)\n",
    "loader_test = DataLoader(te_data, batch_size=1, shuffle=False, num_workers=num_workers, drop_last=False) # for chunk inference"
   ]
  },
  {
   "cell_type": "markdown",
   "metadata": {
    "id": "DbODI4qpWYeo"
   },
   "source": [
    "## Training a baseline\n",
    "The table below shows the architecture of the baseline.\n",
    "\n",
    "| Layer          | Output Size | Details                 |\n",
    "|----------------|-------------|-------------------------|\n",
    "| input          | B x 1 x 16000 * sec,    | batch x channel x samples |\n",
    "| mel_spec       | B x 96 x 188    | batch x freq x time|\n",
    "| conv + maxpool | B x 32 x 64    | kernel_size=3, stride=1 |\n",
    "| conv + maxpool | B x 32 x 22    | kernel_size=3, stride=1 |\n",
    "| conv + maxpool | B x 32 x 8     | kernel_size=3 stride=1 |\n",
    "| global_avgpool | B x 32 x 1     | -                       |\n",
    "| classifier     | B x 50         | -                       |\n",
    "\n",
    "The class below is an implementation of it:"
   ]
  },
  {
   "cell_type": "code",
   "execution_count": 90,
   "metadata": {
    "id": "P2ZC-xNf2sgF"
   },
   "outputs": [],
   "source": [
    "import torch.nn as nn\n",
    "\n",
    "class Baseline(nn.Module):\n",
    "  def __init__(self,\n",
    "              sample_rate=16000,\n",
    "              n_fft=512,\n",
    "              f_min=0.0,\n",
    "              f_max=8000.0,\n",
    "              n_mels=96,\n",
    "              n_class=50):\n",
    "    \"\"\"\n",
    "    Args:\n",
    "      sample_rate (int): path to load dataset from\n",
    "      n_fft (int): number of samples for fft\n",
    "      f_min (float): min freq\n",
    "      f_max (float): max freq\n",
    "      n_mels (float): number of mel bin\n",
    "      n_class (int): number of class\n",
    "    \"\"\"\n",
    "    super(Baseline, self).__init__()\n",
    "    # Spectrogram\n",
    "    self.spec = torchaudio.transforms.MelSpectrogram(sample_rate=sample_rate,\n",
    "                                                      n_fft=n_fft,\n",
    "                                                      f_min=f_min,\n",
    "                                                      f_max=f_max,\n",
    "                                                      n_mels=n_mels)\n",
    "    self.to_db = torchaudio.transforms.AmplitudeToDB()\n",
    "    self.spec_bn = nn.BatchNorm2d(1)\n",
    "    \n",
    "    self.conv0 = nn.Sequential(\n",
    "        nn.Conv1d(n_mels, out_channels=32, kernel_size=3, stride=1, padding=3),\n",
    "        nn.BatchNorm1d(32),\n",
    "        nn.ReLU(),\n",
    "        nn.MaxPool1d(kernel_size=3, stride=3)\n",
    "        )\n",
    "\n",
    "    self.conv1 = nn.Sequential(\n",
    "        nn.Conv1d(32, out_channels=32, kernel_size=3, stride=1, padding=3),\n",
    "        nn.BatchNorm1d(32),\n",
    "        nn.ReLU(),\n",
    "        nn.MaxPool1d(kernel_size=3, stride=3)\n",
    "        )\n",
    "\n",
    "    self.conv2 = nn.Sequential(\n",
    "        nn.Conv1d(32, out_channels=32, kernel_size=3, stride=1, padding=3),\n",
    "        nn.BatchNorm1d(32),\n",
    "        nn.ReLU(),\n",
    "        nn.MaxPool1d(kernel_size=3, stride=3)\n",
    "        )\n",
    "    # Aggregate features over temporal dimension.\n",
    "    self.final_pool = nn.AdaptiveAvgPool1d(1)\n",
    "    # Predict tag using the aggregated features.\n",
    "    self.linear = nn.Linear(32, n_class)\n",
    "\n",
    "  def forward(self, x):\n",
    "    x = self.spec(x)\n",
    "    x = self.to_db(x)\n",
    "    x = self.spec_bn(x)\n",
    "    x = x.squeeze(1) # for 1D conv\n",
    "    x = self.conv0(x)\n",
    "    x = self.conv1(x)\n",
    "    x = self.conv2(x)\n",
    "    x = self.final_pool(x)\n",
    "    x = self.linear(x.squeeze(-1))\n",
    "    x = nn.Sigmoid()(x) # for binary cross entropy loss\n",
    "    return x"
   ]
  },
  {
   "cell_type": "code",
   "execution_count": 91,
   "metadata": {
    "id": "gkTtVVYpYyD5"
   },
   "outputs": [],
   "source": [
    "class Runner(object):\n",
    "  def __init__(self, model, lr, momentum, weight_decay, sr, tags):\n",
    "    \"\"\"\n",
    "    Args:\n",
    "      model (nn.Module): pytorch model\n",
    "      lr (float): learning rate\n",
    "      momentum (float): momentum\n",
    "      weight_decay (float): weight_decay\n",
    "      sr (float): stopping rate\n",
    "      tags (list): tags with index\n",
    "    \"\"\"\n",
    "    self.optimizer = torch.optim.SGD(model.parameters(), lr=lr, momentum=momentum, nesterov=True, weight_decay=weight_decay)\n",
    "    self.scheduler = ReduceLROnPlateau(self.optimizer, mode='min', factor=0.2, patience=5, verbose=True)\n",
    "    self.learning_rate = lr\n",
    "    self.stopping_rate = sr\n",
    "    self.device = torch.device('cuda') if torch.cuda.is_available() else torch.device('cpu')\n",
    "    self.model = model.to(self.device)\n",
    "    self.criterion = torch.nn.BCELoss().to(self.device)\n",
    "    self.tags = tags\n",
    "\n",
    "  # Running model for train, test and validation. mode: 'train' for training, 'eval' for validation and test\n",
    "  def run(self, dataloader, epoch, mode='TRAIN'):\n",
    "    self.model.train() if mode is 'TRAIN' else self.model.eval()\n",
    "\n",
    "    epoch_loss = 0\n",
    "    pbar = tqdm(dataloader, desc=f'{mode} Epoch {epoch:02}')  # progress bar\n",
    "    for x, y in pbar:\n",
    "      # Move mini-batch to the desired device.\n",
    "      x = x.to(self.device)\n",
    "      y = y.to(self.device)\n",
    "      # Feed forward the model.\n",
    "      prediction = self.model(x)\n",
    "      # Compute the loss.\n",
    "      loss = self.criterion(prediction, y)\n",
    "      if mode is 'TRAIN':\n",
    "        # Perform backward propagation to compute gradients.\n",
    "        loss.backward()\n",
    "        # Update the parameters.\n",
    "        self.optimizer.step()\n",
    "        # Reset the computed gradients.\n",
    "        self.optimizer.zero_grad()\n",
    "\n",
    "      batch_size = len(x)\n",
    "      epoch_loss += batch_size * loss.item()\n",
    "    epoch_loss = epoch_loss / len(dataloader.dataset)\n",
    "    return epoch_loss\n",
    "\n",
    "  def test(self, dataloader):\n",
    "    self.model.eval()\n",
    "    epoch_loss = 0\n",
    "    predictions = []\n",
    "    labels = []\n",
    "    pbar = tqdm(dataloader, desc=f'TEST')  # progress bar\n",
    "    for x, y in pbar:\n",
    "      x = x.to(self.device)\n",
    "      y = y.to(self.device)\n",
    "      x = x.transpose(1,0) # pre-batch in audio loader (chunk, 1, waveform)\n",
    "      prediction = self.model(x)\n",
    "      prediction = prediction.mean(dim=0, keepdim=True) # average chunk audio\n",
    "      loss = self.criterion(prediction, y) \n",
    "      batch_size = len(x)\n",
    "      epoch_loss += batch_size * loss.item()\n",
    "      predictions.extend(prediction.detach().cpu().numpy())\n",
    "      labels.extend(y.detach().cpu().numpy())\n",
    "    epoch_loss = epoch_loss / len(loader_test.dataset)\n",
    "    roc_aucs, tag_wise_rocaucs = self.get_auc(predictions, labels)\n",
    "    return roc_aucs, epoch_loss, tag_wise_rocaucs\n",
    "\n",
    "  # Early stopping function for given validation loss, you can use this part!\n",
    "  def early_stop(self, loss, epoch):\n",
    "    self.scheduler.step(loss, epoch)\n",
    "    self.learning_rate = self.optimizer.param_groups[0]['lr']\n",
    "    stop = self.learning_rate < self.stopping_rate\n",
    "    return stop\n",
    "\n",
    "  def get_auc(self, predictions, labels):\n",
    "    roc_aucs  = metrics.roc_auc_score(labels, predictions, average='macro')\n",
    "    tag_wise_predictions = np.stack(predictions).T\n",
    "    tag_wise_labels = np.stack(labels).T\n",
    "    tag_wise_rocaucs = {}\n",
    "    for tag, logit, label in zip(self.tags, tag_wise_predictions, tag_wise_labels):\n",
    "      tag_wise_rocaucs[tag] = metrics.roc_auc_score(label, logit)\n",
    "    return roc_aucs, tag_wise_rocaucs"
   ]
  },
  {
   "cell_type": "code",
   "execution_count": 92,
   "metadata": {
    "id": "FSL6Iu62dCla"
   },
   "outputs": [],
   "source": [
    "# Training setup.\n",
    "LR = 1e-3  # learning rate\n",
    "SR = 1e-5  # stopping rate\n",
    "MOMENTUM = 0.9\n",
    "NUM_EPOCHS = 10\n",
    "WEIGHT_DECAY = 0.0  # L2 regularization weight"
   ]
  },
  {
   "cell_type": "code",
   "execution_count": 93,
   "metadata": {
    "colab": {
     "base_uri": "https://localhost:8080/",
     "height": 827,
     "referenced_widgets": [
      "8b48804a20c14a8a8b70f6eb8ea74e28",
      "654a1871b37a4210aa2a3ef86a62d1b4",
      "8df567ca27644734a516484971e729fa",
      "6216597660ea4f50b04ac4d3b9b1e251",
      "e1b79015ceaa43caa111a2bb4657114d",
      "0a2effe6de324b058a2d55958e148a8f",
      "674c4cf07ff04f81b5feb569d87ac6ef",
      "5c7b021353df4b3d97e6e33c318c70a4",
      "fe5b72307897434cb978d62394dc96db",
      "c69742c36f4b442cabb432eeb78983f5",
      "3a17f1cc849f44d8944d0073a8b85b27",
      "a43ebb65612f4aeda2c43ae091547345",
      "3cc6205b410246f49b2e346fe9be5ffe",
      "6173b1e4b4c744adbc8e95863ecf7199",
      "b57e45cb1cf140eebd735eac1554518b",
      "a939cf06d8f94befb7535ba78a1bc8dc",
      "1f28d8bf2f2941f6afc83e9d170328b6",
      "0f8bdc740fef44a68776564bee1d546a",
      "8b53a6b1e6534886b85acccc95f1b099",
      "2eff267262604cff87ec1c212d2aa59b",
      "66a8d8f576744b14a81abb4af5bc4b30",
      "6a09d1b31f4b4e1bb2fdff16846a8ad3",
      "5270c562fadb482993d8f0261f1e6a72",
      "484a0f6f3373463494154e7ba85e6406",
      "8a75ad09a9ed4ffabddf4620c67f8f44",
      "b638f9eefef14f279de4b3dcbc213bbc",
      "675cfb6c501c4666adde9062d6f00a2a",
      "2c02df20cf8e406da352bd232f71a217",
      "83501f42d3b346008d04e9871e11458c",
      "5877368fe5b74a4fa4c6aca60e202244",
      "841806f099d348dcaee2ee75592b79b5",
      "7bbc2617af414d429bbc3928bc7a69c4",
      "18dc267777b044af9f1d7af99c9fc3c3",
      "3965f52f3b0a41048cbfc851f54249f7",
      "1b414e36314e4226be8427007ba4f503",
      "cbf21eb3dc71449c891e1b15ea7dd9d9",
      "8f0205d3db1a459d96d1a9808ed13b6b",
      "7bdff757f53f4ab8928dd9a620154517",
      "6aba9a56efb9478ab9b53fc0245a7225",
      "b648349fe7ff4fe084700e890a3c3ee2",
      "b8968534668147ffaa98106973256059",
      "41fb64f5adfd4058a35f9d5e4ebda206",
      "b8da56b57b3648c68f96c47e6d1a5476",
      "7c826394fb264ce687c2fc741b279de4",
      "3fee3f52d4db49bb89b4f3612e7fc0ec",
      "2caefa322e83491e9fac7e3bb162efc7",
      "15292311d4b44d709d35e7c136266e5b",
      "ccf20979e2d14bfdb5e1246ab56dd18a",
      "67d36361bc6d460ab5358e86f58b490c",
      "3615951f36eb484fa78e20fed13387ae",
      "b4503f8e2a8541a6bc1e6729f95351b8",
      "58ea8979add741a7abb22d9ba7fa6c7f",
      "a02587c9bf9246e58230d5000a63d011",
      "8fba2ce80ecb491e9dd21261be4ef709",
      "36772b864d4648db8694af97c8f13d8e",
      "fdd89f705c524e8d9839fd0d14e3e037",
      "adf9f2d260e6423eb654087687f6e2db",
      "721b84a11b894b14ae34bf4554366ea1",
      "c030d4fdaafe4a3393263b275d7b78d5",
      "20f1f9a9401a43a092bbe07dabc9bfbb",
      "086e764a3cdb4d8c90e3219426f2ec87",
      "d9cf780a6f2b4e25b8dd71b61319e006",
      "ceb40235b08b4821aca4e82f97a531b0",
      "d7e0906db6854a7b97db0611b33cace9",
      "65b0b2b1e6304807a84a97d83a26b0d9",
      "e6ed5e6e67364cd4beb37ffb28284886",
      "4075a836fb0e441093fffe818d6db803",
      "59a323cab35e4901accf185a41011566",
      "6a5f796842e64457935710af03a5dcac",
      "fb91db9b7bac484baddaf600c223df36",
      "504fb3e6bfe04a938f9cf755d32503b6",
      "8614e77b3c414b9d982d208bb8a70d81",
      "eaf982d791304d529ca2778af02081af",
      "2dc90c4f4e11409ea4d7631ed3c7ac95",
      "3c1dc8d3251440bdb4e52ceb4711d165",
      "fe122ba9856f494c9cbcb257e1695735",
      "7ba3d304796140bbadb93647fb172e1a",
      "4601e65ec6134e528465dfb38d563dd7",
      "7cf80646268c43adac155e5483339a6e",
      "3063c7c84770472a84a8c75b9aaa7be8",
      "b70e961a701c49f2b0cc57ddf867fa66",
      "4e5789811e5f4ea9a50332f6d5b29bcf",
      "0f771ce284554aa4baa9c96cdb956688",
      "d23b50e9c22046f187850f38b9a8521d",
      "da4011b371d94932981d9d529bda9bd1",
      "681b96ed7ef845e4adac07dc4583b079",
      "6ebe6a7b856d4032863d7016f1b84172",
      "d9599de7e85d4d2e8ec8bfc1603c4249",
      "2aa3b855a3d347a2aa876a3dd0160575",
      "7d95fc6a5b0848fbaee9374ddabe3ed1",
      "f546f77d9b054668adb547ac7ca03be4",
      "a58183a912a3454a8677d7282f051e2b",
      "8b14a2bca640419db2bc669a870525d1",
      "fdfd4979a14841a2a414eb796923d829",
      "615a675234504d4693b50b9c0900167a",
      "a01fbf10fe984166a1ea9bb38fe1f587",
      "c9c1f3d99c1a4fb7b3ea1f54b29cc55a",
      "6c59d45716064e03900a36ccd4c1117c",
      "9f61f05050a248a38a5b0f778e301e54",
      "7dd0016023094b4fbacacbd2b39b5c51",
      "258db2e29e494eb1b8be46572ed8a9b0",
      "dd8a5a0cd45d4de6b877577f4ea0dec6",
      "f01e886eb4d246458f4f1127cc70941e",
      "83a98d4e9ea941139fbc1c3d633ba874",
      "1db529161bc645cd8f4ec27cb9ef256f",
      "822b2c18b33843a48d41fc3f7675d564",
      "b1ec0a74cc244c1cb3ec83a80da0f56e",
      "b0a6aeb25bc14aa8bfc3efbef43c2e41",
      "70af1487bce94bbc832442033a9c9160",
      "f106d5ea769445fcb91a83ec33efbe59",
      "446c07081b7542f0b620e07993831f38",
      "39e4f52b22e54b2a80611bb85f785957",
      "e609e1a894874b909f25ffd83acc4393",
      "65b6545735b9439786fe6b6b10e1971c",
      "b10bb3c53e2c4ce38c46d0590d155176",
      "507589182a86424ba1d8c6f31a284b3a",
      "6a14db1a97134ec4873def8e075094ef",
      "c77ea5270fdc4a21823759a917c8964e",
      "311a3879e1924811880fb8a30a35bfe1",
      "e525660f600b46499a6f60f7793c3bb3",
      "6eb65cfa48df4389a5de44e323c4048b",
      "74f733d86d6f433dac48fa04c564a48b",
      "884d84a79a76406f9f834ec2e40f113a",
      "55f2df91c2774273b7da5e8e30a5cc3a",
      "11c9bd4612c54ac2bfcc1e1a64d60ffa",
      "41b2d45672294944a6a460f695fb6d29",
      "9cd08c36d4c54052a670d973ad5fd281",
      "698db1ef395b43a994b0c2ed9ff93bf9",
      "f670d31c36e8490f97a4ebf69c8837cf",
      "9318470dcf4f491fb78cbccc3e0bb892",
      "d583a9df40be4858b1b3064adccb879a",
      "9f9e1fecbedc48319e59efbca0fcb7d1",
      "7a3ce921a2034ab3a49e0eb420ac7cfa",
      "9d2369f510434bc6adacaeb13f7c40c4",
      "1e1f0a0a30d94bc0b0f3575e3d6a83dd",
      "2e4db66dfbcd488392d167860db7fd71",
      "22734154f2af484685e2dcfe6bd784fe",
      "866c29d16e8a4b2ba33ef1790da8206e",
      "60acfc36976b4fbd951a1b5b226c15ff",
      "40973380eea5405c8ed55d5e22098127",
      "8ca3c76de44b43ceaaf9555e4ce76bce",
      "25d534fa9662454d9645ebe0b2a448f8",
      "1b05bb58af8c453b96571f11ffb3efa2",
      "fe329a08a1df445cb998ffd8959b2177",
      "2bc8840140564a67b082cbbdd87aea1f",
      "bd48bd83d84a4249bb04a90551017263",
      "c75d8a77c94644759d36567042fd3dd2",
      "8a603ac96cae462baf70c43da1d0f21f",
      "fa5442882a0c46bdae0ed5825d61539e",
      "2b18ddb8ab7a4de582039470e2bd8c62",
      "26776c3ba1ef4e3ab332c57788333cf5",
      "47063c8354244a7398144868e5014c14",
      "9e3d6344597d41529cc44e5efd604306",
      "59cdc83c878e477498cad2a74bd076a8",
      "02610d76caa34365808c037fe029f5b6",
      "4d8c2d2730224e1db766988b71bd69e3",
      "d6f30c77b0624fb48bd782f55d154a95",
      "f56d14df27524479a5c7e5569d297946",
      "e4f1a4aea6994deab2df41e513ad4465",
      "1ad7e4fd1e744f68906d39300b0ff687",
      "72e16dbaad72425583d6377d3bf60c46",
      "99fd3f7988be428097496c27f600f268",
      "1b3cd2c081164d30be288bb3f5a53e1b",
      "6864092ff4674836bb330ea8ec12563e",
      "a923b70c95694a66a752b1bb75114d67",
      "22370711af5441d48c6491993ae6d822",
      "2691de7ce44647309ad5c46512a342b6",
      "3942db0e175a4569ac8f7281d3375471",
      "186f0780a58b4aa89bfc17fbee9051b4",
      "86263c930ad24e2cb1597dd4019d663a",
      "20f791db93dd4877a9d82f4571e4f425",
      "5e4d7b4d6d6e45f2ac02f0a6ae83ea60",
      "42f1c86e56644ae18db1ece2e31e89d8",
      "a43d104f6be14effbf348025989b4d86",
      "61ada837f6904535b3c60cbf30df7698",
      "dff29060def04e7eaa82f1abd3393062",
      "cd0956fa3d364059a8815e85bd41da64",
      "7b2c1516501948a684271ace9d156a84",
      "c724436eb7d64a14873591ddb0eb3f62",
      "f905df355e54429392d5e2b685ad48b7",
      "898d0bb0177a43ff8d43a1cff56de361",
      "465d658254294592b835bfbeb04e10d0",
      "1577f400958e43418513bf9e99b6863f",
      "bc1fddd16e5040f3a9b8d87e340819d4",
      "df1bf30fbee44eecb16c9f68da0a2aad",
      "51b3cb0e60dd43458bc32566999a512e",
      "f3e688b911794bcc931694f014f87280",
      "fc24a54fd7314c08a091960469af5b18",
      "bd0f8ecfaf954680a988035e40095dd4",
      "bfd801abf85a43e99fdc1cd9c84d95f8",
      "dcefe25b60414de485cbe462e8256327",
      "9470c4c46ca3448d803fc5ec84f98bd6",
      "0f9268dafd084b3989beb38517692ecb",
      "0b3cb854f43f4a01b2be08238475c958",
      "5bbb7c7ed4024444bc0a60b0ae30092a",
      "0b3f907b5b3c455b8a038070142bc755",
      "4c79595013b844ce9779d65fb20761fb",
      "a471e1ca1ce04bccb10ed157dba49c02",
      "361cf769beda447fbcd2facb6b2b9038",
      "3ce0adc3bbb543e8a75be2aac3dd1dff",
      "52729e1a3bc24130bf954b50e196824d",
      "01bc6bfbd6014dc5ac93bed246a0f3c8",
      "dfa504428d6c4e84a54a092e1536fc94",
      "9ef1b83ce0784341b6ae1932467784fe",
      "7b32172ad65848e9bcbc3f9d87e454f0",
      "27fb8545902b4f38849a3ca4c8436a6a",
      "d931fd25ed5b4a978a151da213391bd9",
      "7a7ba6fdf18348f68b569b78fe29bcac",
      "687fe0aa3f134586b2874da87a545fce",
      "75725dccdd864a4cb3e6cffb05d94e17",
      "0dce5c43c33d493a87baee1d1777fa21",
      "84271ab1138a4f4c8d52650d03b355c4",
      "bf3619ebdb134fecb6831fb9bb5ab819",
      "123cb19bbe3449c7be1ab42a926d02ad",
      "b820c108f5d54a6d9881f53df5ca3121",
      "6b20409de34349049021dbacb8d9602f",
      "dd49c8825d7744a8bee59e4e537c2aba",
      "a6c7b4eea43c4f6680508ef30fa2912b",
      "ed84a2c90ae840fba47d167a18662963",
      "31b9bf82fd1d43fb9f792bf6cafde691"
     ]
    },
    "id": "2DBAh6pskuaY",
    "outputId": "e7293ac0-6da1-4aed-f916-9bbcdbe4414c"
   },
   "outputs": [
    {
     "data": {
      "application/vnd.jupyter.widget-view+json": {
       "model_id": "960d933cd713452f875fbe38322d241f",
       "version_major": 2,
       "version_minor": 0
      },
      "text/plain": [
       "TRAIN Epoch 00:   0%|          | 0/387 [00:00<?, ?it/s]"
      ]
     },
     "metadata": {},
     "output_type": "display_data"
    },
    {
     "data": {
      "application/vnd.jupyter.widget-view+json": {
       "model_id": "2238091643b64074b528cb67d58c4e97",
       "version_major": 2,
       "version_minor": 0
      },
      "text/plain": [
       "VALID Epoch 00:   0%|          | 0/96 [00:00<?, ?it/s]"
      ]
     },
     "metadata": {},
     "output_type": "display_data"
    },
    {
     "name": "stdout",
     "output_type": "stream",
     "text": [
      "[Epoch 1/10] [Train Loss: 0.6075] [Valid Loss: 0.5019]\n"
     ]
    },
    {
     "data": {
      "application/vnd.jupyter.widget-view+json": {
       "model_id": "8e45b4ae9b994eb6a35508741cab1f65",
       "version_major": 2,
       "version_minor": 0
      },
      "text/plain": [
       "TRAIN Epoch 01:   0%|          | 0/387 [00:00<?, ?it/s]"
      ]
     },
     "metadata": {},
     "output_type": "display_data"
    },
    {
     "data": {
      "application/vnd.jupyter.widget-view+json": {
       "model_id": "e01d9f81cdbf4ce882357a3a876be41f",
       "version_major": 2,
       "version_minor": 0
      },
      "text/plain": [
       "VALID Epoch 01:   0%|          | 0/96 [00:00<?, ?it/s]"
      ]
     },
     "metadata": {},
     "output_type": "display_data"
    },
    {
     "name": "stdout",
     "output_type": "stream",
     "text": [
      "[Epoch 2/10] [Train Loss: 0.4206] [Valid Loss: 0.3624]\n"
     ]
    },
    {
     "data": {
      "application/vnd.jupyter.widget-view+json": {
       "model_id": "ad72145ff3a64d208937d96599150de5",
       "version_major": 2,
       "version_minor": 0
      },
      "text/plain": [
       "TRAIN Epoch 02:   0%|          | 0/387 [00:00<?, ?it/s]"
      ]
     },
     "metadata": {},
     "output_type": "display_data"
    },
    {
     "data": {
      "application/vnd.jupyter.widget-view+json": {
       "model_id": "cd991e76a4bb47db8a9758cb75bc4557",
       "version_major": 2,
       "version_minor": 0
      },
      "text/plain": [
       "VALID Epoch 02:   0%|          | 0/96 [00:00<?, ?it/s]"
      ]
     },
     "metadata": {},
     "output_type": "display_data"
    },
    {
     "name": "stdout",
     "output_type": "stream",
     "text": [
      "[Epoch 3/10] [Train Loss: 0.3193] [Valid Loss: 0.2908]\n"
     ]
    },
    {
     "data": {
      "application/vnd.jupyter.widget-view+json": {
       "model_id": "50bfa8f3b4354ddebbfac2dc215c8041",
       "version_major": 2,
       "version_minor": 0
      },
      "text/plain": [
       "TRAIN Epoch 03:   0%|          | 0/387 [00:00<?, ?it/s]"
      ]
     },
     "metadata": {},
     "output_type": "display_data"
    },
    {
     "data": {
      "application/vnd.jupyter.widget-view+json": {
       "model_id": "e76b369227f944c3a8a93c9c1a46dfb5",
       "version_major": 2,
       "version_minor": 0
      },
      "text/plain": [
       "VALID Epoch 03:   0%|          | 0/96 [00:00<?, ?it/s]"
      ]
     },
     "metadata": {},
     "output_type": "display_data"
    },
    {
     "name": "stdout",
     "output_type": "stream",
     "text": [
      "[Epoch 4/10] [Train Loss: 0.2718] [Valid Loss: 0.2605]\n"
     ]
    },
    {
     "data": {
      "application/vnd.jupyter.widget-view+json": {
       "model_id": "6a405e021b1e4391aaca27ee77d4b584",
       "version_major": 2,
       "version_minor": 0
      },
      "text/plain": [
       "TRAIN Epoch 04:   0%|          | 0/387 [00:00<?, ?it/s]"
      ]
     },
     "metadata": {},
     "output_type": "display_data"
    },
    {
     "data": {
      "application/vnd.jupyter.widget-view+json": {
       "model_id": "a36f772eafab47c6a492de3303249964",
       "version_major": 2,
       "version_minor": 0
      },
      "text/plain": [
       "VALID Epoch 04:   0%|          | 0/96 [00:00<?, ?it/s]"
      ]
     },
     "metadata": {},
     "output_type": "display_data"
    },
    {
     "name": "stdout",
     "output_type": "stream",
     "text": [
      "[Epoch 5/10] [Train Loss: 0.2489] [Valid Loss: 0.2448]\n"
     ]
    },
    {
     "data": {
      "application/vnd.jupyter.widget-view+json": {
       "model_id": "4dc87f4af19d436aabfc5e7b57be5e12",
       "version_major": 2,
       "version_minor": 0
      },
      "text/plain": [
       "TRAIN Epoch 05:   0%|          | 0/387 [00:00<?, ?it/s]"
      ]
     },
     "metadata": {},
     "output_type": "display_data"
    },
    {
     "data": {
      "application/vnd.jupyter.widget-view+json": {
       "model_id": "8cccef833328491782303021ae00fcab",
       "version_major": 2,
       "version_minor": 0
      },
      "text/plain": [
       "VALID Epoch 05:   0%|          | 0/96 [00:00<?, ?it/s]"
      ]
     },
     "metadata": {},
     "output_type": "display_data"
    },
    {
     "name": "stdout",
     "output_type": "stream",
     "text": [
      "[Epoch 6/10] [Train Loss: 0.2369] [Valid Loss: 0.2349]\n"
     ]
    },
    {
     "data": {
      "application/vnd.jupyter.widget-view+json": {
       "model_id": "5ad345a05dc74a80828bcce4b1808b22",
       "version_major": 2,
       "version_minor": 0
      },
      "text/plain": [
       "TRAIN Epoch 06:   0%|          | 0/387 [00:00<?, ?it/s]"
      ]
     },
     "metadata": {},
     "output_type": "display_data"
    },
    {
     "data": {
      "application/vnd.jupyter.widget-view+json": {
       "model_id": "a49bdb47a4544fdf9edba11803d11874",
       "version_major": 2,
       "version_minor": 0
      },
      "text/plain": [
       "VALID Epoch 06:   0%|          | 0/96 [00:00<?, ?it/s]"
      ]
     },
     "metadata": {},
     "output_type": "display_data"
    },
    {
     "name": "stdout",
     "output_type": "stream",
     "text": [
      "[Epoch 7/10] [Train Loss: 0.2302] [Valid Loss: 0.2296]\n"
     ]
    },
    {
     "data": {
      "application/vnd.jupyter.widget-view+json": {
       "model_id": "43ff129b7aaf494e9c6a338ff4d608c8",
       "version_major": 2,
       "version_minor": 0
      },
      "text/plain": [
       "TRAIN Epoch 07:   0%|          | 0/387 [00:00<?, ?it/s]"
      ]
     },
     "metadata": {},
     "output_type": "display_data"
    },
    {
     "data": {
      "application/vnd.jupyter.widget-view+json": {
       "model_id": "804cddaca95d48c5bc5bd50a8e8245fc",
       "version_major": 2,
       "version_minor": 0
      },
      "text/plain": [
       "VALID Epoch 07:   0%|          | 0/96 [00:00<?, ?it/s]"
      ]
     },
     "metadata": {},
     "output_type": "display_data"
    },
    {
     "name": "stdout",
     "output_type": "stream",
     "text": [
      "[Epoch 8/10] [Train Loss: 0.2254] [Valid Loss: 0.2240]\n"
     ]
    },
    {
     "data": {
      "application/vnd.jupyter.widget-view+json": {
       "model_id": "59bdabf0e9bc451eb88e0dbd00c9ed45",
       "version_major": 2,
       "version_minor": 0
      },
      "text/plain": [
       "TRAIN Epoch 08:   0%|          | 0/387 [00:00<?, ?it/s]"
      ]
     },
     "metadata": {},
     "output_type": "display_data"
    },
    {
     "data": {
      "application/vnd.jupyter.widget-view+json": {
       "model_id": "408a0443bd14474d8d1f06286f6feff7",
       "version_major": 2,
       "version_minor": 0
      },
      "text/plain": [
       "VALID Epoch 08:   0%|          | 0/96 [00:00<?, ?it/s]"
      ]
     },
     "metadata": {},
     "output_type": "display_data"
    },
    {
     "name": "stdout",
     "output_type": "stream",
     "text": [
      "[Epoch 9/10] [Train Loss: 0.2219] [Valid Loss: 0.2214]\n"
     ]
    },
    {
     "data": {
      "application/vnd.jupyter.widget-view+json": {
       "model_id": "9fe6e8c663d2417db68082954255f30e",
       "version_major": 2,
       "version_minor": 0
      },
      "text/plain": [
       "TRAIN Epoch 09:   0%|          | 0/387 [00:00<?, ?it/s]"
      ]
     },
     "metadata": {},
     "output_type": "display_data"
    },
    {
     "data": {
      "application/vnd.jupyter.widget-view+json": {
       "model_id": "f00ab813b6974190903c01c47b2a266e",
       "version_major": 2,
       "version_minor": 0
      },
      "text/plain": [
       "VALID Epoch 09:   0%|          | 0/96 [00:00<?, ?it/s]"
      ]
     },
     "metadata": {},
     "output_type": "display_data"
    },
    {
     "name": "stdout",
     "output_type": "stream",
     "text": [
      "[Epoch 10/10] [Train Loss: 0.2194] [Valid Loss: 0.2194]\n"
     ]
    }
   ],
   "source": [
    "# Iterate over epochs.\n",
    "model = Baseline()\n",
    "runner = Runner(model=model, lr = LR, momentum = MOMENTUM, weight_decay = WEIGHT_DECAY, sr = SR, tags=TAGS)\n",
    "for epoch in range(NUM_EPOCHS):\n",
    "  train_loss = runner.run(loader_train, epoch, 'TRAIN')\n",
    "  valid_loss = runner.run(loader_valid, epoch, 'VALID')\n",
    "  print(\"[Epoch %d/%d] [Train Loss: %.4f] [Valid Loss: %.4f]\" %\n",
    "        (epoch + 1, NUM_EPOCHS, train_loss, valid_loss))\n",
    "  if runner.early_stop(valid_loss, epoch + 1):\n",
    "    break"
   ]
  },
  {
   "cell_type": "code",
   "execution_count": 94,
   "metadata": {
    "colab": {
     "base_uri": "https://localhost:8080/",
     "height": 66,
     "referenced_widgets": [
      "f2ddc394f32e455080c204d0bbd0baa8",
      "00b03e3e1b36414f904f77c11cd273ab",
      "1d191509d7974e62a3b5d9fa08791883",
      "f1ee16386cd6404a9fda78d7c7cf0cce",
      "4ea39805b4b043f7a9b9d603e29a88a1",
      "72fba5b662844d7f93da831314174fd9",
      "271e55df86ea4927bf5c970fdaf57b80",
      "152aff73b9e941909d87e30718361aa9",
      "0688021a898a46f0bcbe4fcd84ead086",
      "64cb3496b40d42f0996693c9400f2fbc",
      "da104f872ba2497a862adbe027e01c51"
     ]
    },
    "id": "jPkUxbRVzuAO",
    "outputId": "1acc477a-f542-4e8a-c67a-e30884b42a05"
   },
   "outputs": [
    {
     "data": {
      "application/vnd.jupyter.widget-view+json": {
       "model_id": "d71509b7514148199688e32b55a7cd43",
       "version_major": 2,
       "version_minor": 0
      },
      "text/plain": [
       "TEST:   0%|          | 0/1339 [00:00<?, ?it/s]"
      ]
     },
     "metadata": {},
     "output_type": "display_data"
    },
    {
     "name": "stdout",
     "output_type": "stream",
     "text": [
      "test_loss=0.44331,  roc_auc=0.61%\n"
     ]
    }
   ],
   "source": [
    "roc_aucs, epoch_loss, tag_wise_rocaucs = runner.test(loader_test)\n",
    "print(f'test_loss={epoch_loss:.5f},  roc_auc={roc_aucs:.2f}%')"
   ]
  },
  {
   "cell_type": "code",
   "execution_count": 95,
   "metadata": {
    "colab": {
     "base_uri": "https://localhost:8080/",
     "height": 444
    },
    "id": "obkM4pNR0Fyk",
    "outputId": "93012dc9-0c12-4e9e-8a4a-b673800dd766"
   },
   "outputs": [
    {
     "data": {
      "text/plain": [
       "<AxesSubplot:>"
      ]
     },
     "execution_count": 95,
     "metadata": {},
     "output_type": "execute_result"
    },
    {
     "data": {
      "image/png": "[encoded data removed]",
      "text/plain": [
       "<Figure size 1296x432 with 1 Axes>"
      ]
     },
     "metadata": {
      "needs_background": "light"
     },
     "output_type": "display_data"
    }
   ],
   "source": [
    "result_auc = pd.DataFrame([tag_wise_rocaucs[tag] for tag in TAGS], columns=['rocauc'], index=TAGS)\n",
    "result_auc.sort_values(by='rocauc', ascending=False).plot.bar(figsize=(18,6),rot=60) # which tag is easy and hard task"
   ]
  },
  {
   "cell_type": "code",
   "execution_count": 96,
   "metadata": {},
   "outputs": [
    {
     "name": "stdout",
     "output_type": "stream",
     "text": [
      "-----------------------------------------------------------------------------\n",
      "           Layer (type)          Input Shape         Param #     Tr. Param #\n",
      "=============================================================================\n",
      "       MelSpectrogram-1       [16, 1, 48000]               0               0\n",
      "        AmplitudeToDB-2     [16, 1, 96, 188]               0               0\n",
      "          BatchNorm2d-3     [16, 1, 96, 188]               2               2\n",
      "               Conv1d-4        [16, 96, 188]           9,248           9,248\n",
      "          BatchNorm1d-5        [16, 32, 192]              64              64\n",
      "                 ReLU-6        [16, 32, 192]               0               0\n",
      "            MaxPool1d-7        [16, 32, 192]               0               0\n",
      "               Conv1d-8         [16, 32, 64]           3,104           3,104\n",
      "          BatchNorm1d-9         [16, 32, 68]              64              64\n",
      "                ReLU-10         [16, 32, 68]               0               0\n",
      "           MaxPool1d-11         [16, 32, 68]               0               0\n",
      "              Conv1d-12         [16, 32, 22]           3,104           3,104\n",
      "         BatchNorm1d-13         [16, 32, 26]              64              64\n",
      "                ReLU-14         [16, 32, 26]               0               0\n",
      "           MaxPool1d-15         [16, 32, 26]               0               0\n",
      "   AdaptiveAvgPool1d-16          [16, 32, 8]               0               0\n",
      "              Linear-17             [16, 32]           1,650           1,650\n",
      "=============================================================================\n",
      "Total params: 17,300\n",
      "Trainable params: 17,300\n",
      "Non-trainable params: 0\n",
      "-----------------------------------------------------------------------------\n"
     ]
    }
   ],
   "source": [
    "import pytorch_model_summary \n",
    "print(pytorch_model_summary.summary(model, torch.zeros(16, 1, 48000).to('cuda'), show_input=True))"
   ]
  },
  {
   "cell_type": "code",
   "execution_count": 20,
   "metadata": {
    "id": "Qk8C4x4zAFRl"
   },
   "outputs": [],
   "source": [
    "def auto_tagging(waveform, model, input_length, tags, topk):\n",
    "  \"\"\"\n",
    "  Args:\n",
    "    waveform(np.array) : no channel audio (waveform, )\n",
    "    model (nn.Module): pytorch model\n",
    "    input_length (int): sample_rate x duration (second) \n",
    "    tags (list): list of tags\n",
    "    topk (int): tagging number\n",
    "  \"\"\"\n",
    "  device = torch.device('cuda') if torch.cuda.is_available() else torch.device('cpu')\n",
    "  model = model.to(device)\n",
    "  chunk_number = waveform.shape[0] // input_length\n",
    "  chunk = np.zeros((chunk_number, input_length))\n",
    "  for idx in range(chunk.shape[0]):\n",
    "    chunk[idx] = waveform[idx:idx+input_length]  \n",
    "  audio_tensor = torch.from_numpy(chunk.astype(np.float32))\n",
    "  predictions = model(audio_tensor.unsqueeze(1).to(device))\n",
    "  logit = predictions.mean(dim=0, keepdim=False).detach().cpu().numpy()\n",
    "  annotation = [tags[i] for i in logit.argsort()[::-1][:topk]]\n",
    "  return annotation"
   ]
  },
  {
   "cell_type": "code",
   "execution_count": 21,
   "metadata": {
    "colab": {
     "base_uri": "https://localhost:8080/",
     "height": 92
    },
    "id": "u3bxgERQ9Ucu",
    "outputId": "3a20d5e8-6045-46f1-e6b7-2c2e4081cd08"
   },
   "outputs": [
    {
     "name": "stdout",
     "output_type": "stream",
     "text": [
      "annotation tag:  ['guitar', 'drums', 'rock', 'loud']\n"
     ]
    },
    {
     "data": {
      "text/html": [
       "\n",
       "                <audio  controls=\"controls\" >\n",
       "                    <source src=\"data:audio/wav;base64,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\" type=\"audio/wav\" />\n",
       "                    Your browser does not support the audio element.\n",
       "                </audio>\n",
       "              "
      ],
      "text/plain": [
       "<IPython.lib.display.Audio object>"
      ]
     },
     "execution_count": 21,
     "metadata": {},
     "output_type": "execute_result"
    }
   ],
   "source": [
    "# sample infernece id = 234\n",
    "id = 224\n",
    "audio_sample = df_test.loc[id]\n",
    "waveform = np.load(os.path.join(\"./waveform\",id_to_path[id].replace(\".mp3\",\".npy\")))\n",
    "print(\"annotation tag: \",list(audio_sample[audio_sample != 0].index))\n",
    "ipd.Audio(waveform, rate=16000) # load a NumPy array"
   ]
  },
  {
   "cell_type": "code",
   "execution_count": 22,
   "metadata": {
    "colab": {
     "base_uri": "https://localhost:8080/"
    },
    "id": "Db6tubya-lI3",
    "outputId": "1afb7bb3-4fb8-43a2-9440-2dfa9ba47a46"
   },
   "outputs": [
    {
     "name": "stdout",
     "output_type": "stream",
     "text": [
      "model predict tags:  ['guitar', 'rock']\n"
     ]
    }
   ],
   "source": [
    "annotation = auto_tagging(waveform, runner.model, input_length, TAGS, 2)\n",
    "print(\"model predict tags: \",annotation)"
   ]
  },
  {
   "cell_type": "markdown",
   "metadata": {
    "id": "-kCF13NKY3M7"
   },
   "source": [
    "### [Question 1] Implement the given architecture.\n",
    "Implement a 2D CNN with the architecture below, train, and report a test accuracy of the 2D CNN.\n",
    "\n",
    "| Layer          | Output Size | Details                 |\n",
    "|----------------|-------------|-------------------------|\n",
    "| input          | B x 1 x sample_rate * duration,    | batch x channel (mono) x samples |\n",
    "| mel_spec       | B x 1 x 96 x 188    | batch x channel (mono) x freq x time|\n",
    "| conv + maxpool | B x 64 x 24 x 47    | output_channels=64, kernel_size=3, pooling=(4,4) |\n",
    "| conv + maxpool | B x 128 x 8 x 15    | output_channels=128, kernel_size=3, pooling=(3,3) |\n",
    "| conv + maxpool | B x 128 x  2 x 5     | output_channels=128, kernel_size=3 pooling=(3,3) |\n",
    "| conv + maxpool | B x 64 x 1 x 1      | output_channels=64, kernel_size=3 pooling=(2,5)                    |\n",
    "| classifier     | B x 50         | -                       |\n",
    "\n",
    "\n",
    "Note: you should give appropriate paddings! "
   ]
  },
  {
   "cell_type": "code",
   "execution_count": 97,
   "metadata": {
    "id": "3nN6jCzWCo9m"
   },
   "outputs": [],
   "source": [
    "import torch.nn as nn\n",
    "\n",
    "class Conv_2d(nn.Module):\n",
    "  def __init__(self, input_channels, output_channels, kernel_size=3, stride=1, padding=1, pooling=2):\n",
    "    # To do\n",
    "    #========================================\n",
    "    super(Conv_2d, self).__init__()\n",
    "    self.conv = nn.Conv2d(input_channels, output_channels, kernel_size, 1, padding, bias=True) \n",
    "    self.bn = nn.BatchNorm2d(output_channels)\n",
    "    self.relu = nn.ReLU(inplace=True) \n",
    "    self.mp = nn.MaxPool2d(pooling)\n",
    "    #========================================\n",
    "  def forward(self, x):\n",
    "    out = self.mp(self.relu(self.bn(self.conv(x))))\n",
    "    return out\n",
    "\n",
    "class CNN2D(nn.Module):\n",
    "  def __init__(self,\n",
    "              sample_rate=16000,\n",
    "              n_fft=512,\n",
    "              f_min=0.0,\n",
    "              f_max=8000.0,\n",
    "              n_mels=96,\n",
    "              n_class=50):\n",
    "    super(CNN2D, self).__init__()\n",
    "    \n",
    "    # Spectrogram\n",
    "    self.spec = torchaudio.transforms.MelSpectrogram(sample_rate=sample_rate,\n",
    "                                                      n_fft=n_fft,\n",
    "                                                      f_min=f_min,\n",
    "                                                      f_max=f_max,\n",
    "                                                      n_mels=n_mels)\n",
    "    self.to_db = torchaudio.transforms.AmplitudeToDB()\n",
    "    self.spec_bn = nn.BatchNorm2d(1)\n",
    "    # To do\n",
    "    #========================================\n",
    "    self.layer1 = Conv_2d(1, 64, 3, 1, 1, 4)\n",
    "    self.layer2 = Conv_2d(64, 128, 3, 1, 1, 3)\n",
    "    self.layer3 = Conv_2d(128, 128, 3, 1, 1, 3)\n",
    "    self.layer4 = Conv_2d(128, 64, 3, 1, 1, (2,5))\n",
    "    #========================================\n",
    "    self.linear = nn.Linear(64, n_class)\n",
    "    \n",
    "  def forward(self, x):\n",
    "    x = self.spec(x)\n",
    "    x = self.to_db(x)\n",
    "    x = self.spec_bn(x)\n",
    "    x = self.layer1(x)\n",
    "    x = self.layer2(x)\n",
    "    x = self.layer3(x)\n",
    "    x = self.layer4(x)\n",
    "    x = x.view(x.size(0), -1)\n",
    "    x = self.linear(x)\n",
    "    x = nn.Sigmoid()(x) # for binary cross entropy loss\n",
    "    return x"
   ]
  },
  {
   "cell_type": "code",
   "execution_count": 98,
   "metadata": {},
   "outputs": [],
   "source": [
    "# Training setup.\n",
    "LR = 1e-3  # learning rate\n",
    "SR = 1e-5  # stopping rate\n",
    "MOMENTUM = 0.9\n",
    "NUM_EPOCHS = 10\n",
    "WEIGHT_DECAY = 0.0  # L2 regularization weight"
   ]
  },
  {
   "cell_type": "code",
   "execution_count": 99,
   "metadata": {},
   "outputs": [
    {
     "data": {
      "application/vnd.jupyter.widget-view+json": {
       "model_id": "9ddd9caf70d546bd9d000b42e0e4784b",
       "version_major": 2,
       "version_minor": 0
      },
      "text/plain": [
       "TRAIN Epoch 00:   0%|          | 0/387 [00:00<?, ?it/s]"
      ]
     },
     "metadata": {},
     "output_type": "display_data"
    },
    {
     "data": {
      "application/vnd.jupyter.widget-view+json": {
       "model_id": "c0d6bc64a8af4726ba316b8840217b13",
       "version_major": 2,
       "version_minor": 0
      },
      "text/plain": [
       "VALID Epoch 00:   0%|          | 0/96 [00:00<?, ?it/s]"
      ]
     },
     "metadata": {},
     "output_type": "display_data"
    },
    {
     "name": "stdout",
     "output_type": "stream",
     "text": [
      "[Epoch 1/10] [Train Loss: 0.3197] [Valid Loss: 0.2203]\n"
     ]
    },
    {
     "data": {
      "application/vnd.jupyter.widget-view+json": {
       "model_id": "6d490e3c4bc74099959c6a3e81ca6bc4",
       "version_major": 2,
       "version_minor": 0
      },
      "text/plain": [
       "TRAIN Epoch 01:   0%|          | 0/387 [00:00<?, ?it/s]"
      ]
     },
     "metadata": {},
     "output_type": "display_data"
    },
    {
     "data": {
      "application/vnd.jupyter.widget-view+json": {
       "model_id": "9d74d2e6b7994410b33502dfbca49e70",
       "version_major": 2,
       "version_minor": 0
      },
      "text/plain": [
       "VALID Epoch 01:   0%|          | 0/96 [00:00<?, ?it/s]"
      ]
     },
     "metadata": {},
     "output_type": "display_data"
    },
    {
     "name": "stdout",
     "output_type": "stream",
     "text": [
      "[Epoch 2/10] [Train Loss: 0.2133] [Valid Loss: 0.2086]\n"
     ]
    },
    {
     "data": {
      "application/vnd.jupyter.widget-view+json": {
       "model_id": "db3ce73e25db4a118f0b5424dde932c0",
       "version_major": 2,
       "version_minor": 0
      },
      "text/plain": [
       "TRAIN Epoch 02:   0%|          | 0/387 [00:00<?, ?it/s]"
      ]
     },
     "metadata": {},
     "output_type": "display_data"
    },
    {
     "data": {
      "application/vnd.jupyter.widget-view+json": {
       "model_id": "09479190bef9468d9e07594595d778f9",
       "version_major": 2,
       "version_minor": 0
      },
      "text/plain": [
       "VALID Epoch 02:   0%|          | 0/96 [00:00<?, ?it/s]"
      ]
     },
     "metadata": {},
     "output_type": "display_data"
    },
    {
     "name": "stdout",
     "output_type": "stream",
     "text": [
      "[Epoch 3/10] [Train Loss: 0.2065] [Valid Loss: 0.2042]\n"
     ]
    },
    {
     "data": {
      "application/vnd.jupyter.widget-view+json": {
       "model_id": "7de919044cde4718ab0831d1f03b5f6e",
       "version_major": 2,
       "version_minor": 0
      },
      "text/plain": [
       "TRAIN Epoch 03:   0%|          | 0/387 [00:00<?, ?it/s]"
      ]
     },
     "metadata": {},
     "output_type": "display_data"
    },
    {
     "data": {
      "application/vnd.jupyter.widget-view+json": {
       "model_id": "a78b8fcc440b4c60b173b7f8e7313e39",
       "version_major": 2,
       "version_minor": 0
      },
      "text/plain": [
       "VALID Epoch 03:   0%|          | 0/96 [00:00<?, ?it/s]"
      ]
     },
     "metadata": {},
     "output_type": "display_data"
    },
    {
     "name": "stdout",
     "output_type": "stream",
     "text": [
      "[Epoch 4/10] [Train Loss: 0.2020] [Valid Loss: 0.2013]\n"
     ]
    },
    {
     "data": {
      "application/vnd.jupyter.widget-view+json": {
       "model_id": "834d49ae39fd402da9c1ff22a5bf72a7",
       "version_major": 2,
       "version_minor": 0
      },
      "text/plain": [
       "TRAIN Epoch 04:   0%|          | 0/387 [00:00<?, ?it/s]"
      ]
     },
     "metadata": {},
     "output_type": "display_data"
    },
    {
     "data": {
      "application/vnd.jupyter.widget-view+json": {
       "model_id": "75234609e58b4ac1a2b7c504a9d58956",
       "version_major": 2,
       "version_minor": 0
      },
      "text/plain": [
       "VALID Epoch 04:   0%|          | 0/96 [00:00<?, ?it/s]"
      ]
     },
     "metadata": {},
     "output_type": "display_data"
    },
    {
     "name": "stdout",
     "output_type": "stream",
     "text": [
      "[Epoch 5/10] [Train Loss: 0.1987] [Valid Loss: 0.1980]\n"
     ]
    },
    {
     "data": {
      "application/vnd.jupyter.widget-view+json": {
       "model_id": "e55fb24f33654b5499da052e63a55cde",
       "version_major": 2,
       "version_minor": 0
      },
      "text/plain": [
       "TRAIN Epoch 05:   0%|          | 0/387 [00:00<?, ?it/s]"
      ]
     },
     "metadata": {},
     "output_type": "display_data"
    },
    {
     "data": {
      "application/vnd.jupyter.widget-view+json": {
       "model_id": "f3a4cf46868b4386b238e31a67111d41",
       "version_major": 2,
       "version_minor": 0
      },
      "text/plain": [
       "VALID Epoch 05:   0%|          | 0/96 [00:00<?, ?it/s]"
      ]
     },
     "metadata": {},
     "output_type": "display_data"
    },
    {
     "name": "stdout",
     "output_type": "stream",
     "text": [
      "[Epoch 6/10] [Train Loss: 0.1963] [Valid Loss: 0.1964]\n"
     ]
    },
    {
     "data": {
      "application/vnd.jupyter.widget-view+json": {
       "model_id": "bc2024e10d434b8c88c5b2f96bd9a450",
       "version_major": 2,
       "version_minor": 0
      },
      "text/plain": [
       "TRAIN Epoch 06:   0%|          | 0/387 [00:00<?, ?it/s]"
      ]
     },
     "metadata": {},
     "output_type": "display_data"
    },
    {
     "data": {
      "application/vnd.jupyter.widget-view+json": {
       "model_id": "7ad1267334b84b96b914e62f3ed9424f",
       "version_major": 2,
       "version_minor": 0
      },
      "text/plain": [
       "VALID Epoch 06:   0%|          | 0/96 [00:00<?, ?it/s]"
      ]
     },
     "metadata": {},
     "output_type": "display_data"
    },
    {
     "name": "stdout",
     "output_type": "stream",
     "text": [
      "[Epoch 7/10] [Train Loss: 0.1940] [Valid Loss: 0.1944]\n"
     ]
    },
    {
     "data": {
      "application/vnd.jupyter.widget-view+json": {
       "model_id": "b11fc7d648c640ab9616de3be3f83e2b",
       "version_major": 2,
       "version_minor": 0
      },
      "text/plain": [
       "TRAIN Epoch 07:   0%|          | 0/387 [00:00<?, ?it/s]"
      ]
     },
     "metadata": {},
     "output_type": "display_data"
    },
    {
     "data": {
      "application/vnd.jupyter.widget-view+json": {
       "model_id": "a56ec3912898437b947844c57e40c7c5",
       "version_major": 2,
       "version_minor": 0
      },
      "text/plain": [
       "VALID Epoch 07:   0%|          | 0/96 [00:00<?, ?it/s]"
      ]
     },
     "metadata": {},
     "output_type": "display_data"
    },
    {
     "name": "stdout",
     "output_type": "stream",
     "text": [
      "[Epoch 8/10] [Train Loss: 0.1919] [Valid Loss: 0.1926]\n"
     ]
    },
    {
     "data": {
      "application/vnd.jupyter.widget-view+json": {
       "model_id": "997099f080e64b799704de943124e0cf",
       "version_major": 2,
       "version_minor": 0
      },
      "text/plain": [
       "TRAIN Epoch 08:   0%|          | 0/387 [00:00<?, ?it/s]"
      ]
     },
     "metadata": {},
     "output_type": "display_data"
    },
    {
     "data": {
      "application/vnd.jupyter.widget-view+json": {
       "model_id": "6290690674a04e4fa3238113aaf93506",
       "version_major": 2,
       "version_minor": 0
      },
      "text/plain": [
       "VALID Epoch 08:   0%|          | 0/96 [00:00<?, ?it/s]"
      ]
     },
     "metadata": {},
     "output_type": "display_data"
    },
    {
     "name": "stdout",
     "output_type": "stream",
     "text": [
      "[Epoch 9/10] [Train Loss: 0.1906] [Valid Loss: 0.1901]\n"
     ]
    },
    {
     "data": {
      "application/vnd.jupyter.widget-view+json": {
       "model_id": "80f8030379894639be81986bb5a10f5f",
       "version_major": 2,
       "version_minor": 0
      },
      "text/plain": [
       "TRAIN Epoch 09:   0%|          | 0/387 [00:00<?, ?it/s]"
      ]
     },
     "metadata": {},
     "output_type": "display_data"
    },
    {
     "data": {
      "application/vnd.jupyter.widget-view+json": {
       "model_id": "6ce8aba0ae784e61850473ff5276b759",
       "version_major": 2,
       "version_minor": 0
      },
      "text/plain": [
       "VALID Epoch 09:   0%|          | 0/96 [00:00<?, ?it/s]"
      ]
     },
     "metadata": {},
     "output_type": "display_data"
    },
    {
     "name": "stdout",
     "output_type": "stream",
     "text": [
      "[Epoch 10/10] [Train Loss: 0.1891] [Valid Loss: 0.1898]\n"
     ]
    }
   ],
   "source": [
    "# Iterate over epochs.\n",
    "model = CNN2D()\n",
    "runner = Runner(model=model, lr = LR, momentum = MOMENTUM, weight_decay = WEIGHT_DECAY, sr = SR, tags=TAGS)\n",
    "for epoch in range(NUM_EPOCHS):\n",
    "  train_loss = runner.run(loader_train, epoch, 'TRAIN')\n",
    "  valid_loss = runner.run(loader_valid, epoch, 'VALID')\n",
    "  print(\"[Epoch %d/%d] [Train Loss: %.4f] [Valid Loss: %.4f]\" %\n",
    "        (epoch + 1, NUM_EPOCHS, train_loss, valid_loss))\n",
    "  if runner.early_stop(valid_loss, epoch + 1):\n",
    "    break"
   ]
  },
  {
   "cell_type": "code",
   "execution_count": 100,
   "metadata": {},
   "outputs": [
    {
     "data": {
      "application/vnd.jupyter.widget-view+json": {
       "model_id": "7dfc429d7eeb4619aea8fabd197dbbc0",
       "version_major": 2,
       "version_minor": 0
      },
      "text/plain": [
       "TEST:   0%|          | 0/1339 [00:00<?, ?it/s]"
      ]
     },
     "metadata": {},
     "output_type": "display_data"
    },
    {
     "name": "stdout",
     "output_type": "stream",
     "text": [
      "test_loss=0.37705,  roc_auc=0.77%\n"
     ]
    }
   ],
   "source": [
    "roc_aucs, epoch_loss, tag_wise_rocaucs = runner.test(loader_test)\n",
    "print(f'test_loss={epoch_loss:.5f},  roc_auc={roc_aucs:.2f}%')"
   ]
  },
  {
   "cell_type": "code",
   "execution_count": 101,
   "metadata": {},
   "outputs": [
    {
     "data": {
      "text/plain": [
       "<AxesSubplot:>"
      ]
     },
     "execution_count": 101,
     "metadata": {},
     "output_type": "execute_result"
    },
    {
     "data": {
      "image/png": "[encoded data removed]",
      "text/plain": [
       "<Figure size 1296x432 with 1 Axes>"
      ]
     },
     "metadata": {
      "needs_background": "light"
     },
     "output_type": "display_data"
    }
   ],
   "source": [
    "result_auc = pd.DataFrame([tag_wise_rocaucs[tag] for tag in TAGS], columns=['rocauc'], index=TAGS)\n",
    "result_auc.sort_values(by='rocauc', ascending=False).plot.bar(figsize=(18,6),rot=60) # which tag is easy and hard task"
   ]
  },
  {
   "cell_type": "code",
   "execution_count": 102,
   "metadata": {},
   "outputs": [
    {
     "name": "stdout",
     "output_type": "stream",
     "text": [
      "-------------------------------------------------------------------------\n",
      "       Layer (type)          Input Shape         Param #     Tr. Param #\n",
      "=========================================================================\n",
      "   MelSpectrogram-1       [16, 1, 48000]               0               0\n",
      "    AmplitudeToDB-2     [16, 1, 96, 188]               0               0\n",
      "      BatchNorm2d-3     [16, 1, 96, 188]               2               2\n",
      "          Conv_2d-4     [16, 1, 96, 188]             768             768\n",
      "          Conv_2d-5     [16, 64, 24, 47]          74,112          74,112\n",
      "          Conv_2d-6     [16, 128, 8, 15]         147,840         147,840\n",
      "          Conv_2d-7      [16, 128, 2, 5]          73,920          73,920\n",
      "           Linear-8             [16, 64]           3,250           3,250\n",
      "=========================================================================\n",
      "Total params: 299,892\n",
      "Trainable params: 299,892\n",
      "Non-trainable params: 0\n",
      "-------------------------------------------------------------------------\n"
     ]
    }
   ],
   "source": [
    "import pytorch_model_summary \n",
    "print(pytorch_model_summary.summary(model, torch.zeros(16, 1, 48000).to('cuda'), show_input=True))"
   ]
  },
  {
   "cell_type": "markdown",
   "metadata": {
    "id": "8D0uZmjaGSnC"
   },
   "source": [
    "### [Question 2] Improve the performenace.\n",
    "Now it is your turn. You should improve the baseline code with your own algorithm. There are many ways to improve it. The followings are possible ideas: \n",
    "\n",
    "* You can try 1D CNN or 2D CNN models and choose different model parameters:\n",
    "    * Filter size\n",
    "    * Pooling size\n",
    "    * Stride size \n",
    "    * Number of filters\n",
    "    * Model depth\n",
    "    * Regularization: L2/L1 and Dropout\n",
    "\n",
    "* You should try different hyperparameters to train the model and optimizers:\n",
    "    * Learning rate\n",
    "    * Model depth\n",
    "    * Optimizers: SGD (with Nesterov momentum), Adam, RMSProp, ...\n",
    "\n",
    "* You can try training a model using both mel-spectrograms and features extracted using the pre-trained models. However, end-to-end training using additional external data is prohibited. (Performance doesn't have a huge impact on grading. don't waste time)\n",
    "\n",
    "\n",
    "* You can try different parameters (e.g. hop and window size) to extract mel-spectrogram or different features as input to the network (e.g. MFCC, chroma features ...). \n",
    "\n",
    "* You can also use ResNet or other CNNs with skip connections. \n",
    "\n",
    "* Furthermore, you can augment data using digital audio effects."
   ]
  },
  {
   "cell_type": "code",
   "execution_count": 81,
   "metadata": {},
   "outputs": [],
   "source": [
    "import torch.nn as nn\n",
    "\n",
    "class Conv_1d_Q2(nn.Module):\n",
    "  def __init__(self, input_channels, output_channels):\n",
    "    super(Conv_1d_Q2, self).__init__()\n",
    "    self.conv = nn.Conv2d(input_channels, output_channels, 1, 1, 0, bias=True) \n",
    "    self.bn = nn.BatchNorm2d(output_channels)\n",
    "    \n",
    "  def forward(self, x):\n",
    "    identity = x\n",
    "    out = self.bn(self.conv(x))\n",
    "    return out \n",
    "\n",
    "class Conv_2d_Q2(nn.Module):\n",
    "  def __init__(self, input_channels, output_channels, kernel_size=3, stride=1, padding=1, pooling=2):\n",
    "    super(Conv_2d_Q2, self).__init__()\n",
    "    self.conv = nn.Conv2d(input_channels, output_channels, kernel_size, 1, padding, bias=True) \n",
    "    self.bn = nn.BatchNorm2d(output_channels)\n",
    "    self.relu = nn.ReLU(inplace=True) \n",
    "    self.mp = nn.MaxPool2d(pooling)\n",
    "    \n",
    "  def forward(self, x):\n",
    "    out = self.mp(self.relu(self.bn(self.conv(x))))\n",
    "    return out\n",
    "\n",
    "class model_Q2(nn.Module):\n",
    "  def __init__(self,\n",
    "              sample_rate=16000,\n",
    "              n_fft=512,\n",
    "              f_min=0.0,\n",
    "              f_max=8000.0,\n",
    "              n_mels=96,\n",
    "              n_class=50):\n",
    "    super(model_Q2, self).__init__()\n",
    "    self.apply(self.init_params) \n",
    "    \n",
    "    # Spectrogram\n",
    "    self.spec = torchaudio.transforms.MelSpectrogram(sample_rate=sample_rate,\n",
    "                                                      n_fft=n_fft,\n",
    "                                                      f_min=f_min,\n",
    "                                                      f_max=f_max,\n",
    "                                                      n_mels=n_mels)\n",
    "    self.to_db = torchaudio.transforms.AmplitudeToDB()\n",
    "    self.spec_bn = nn.BatchNorm2d(1)\n",
    " \n",
    "    self.layer1 = Conv_2d_Q2(1, 16, 3, 1, 1, 4)\n",
    "    self.layer2 = Conv_2d_Q2(16, 32, 3, 1, 1, 3)\n",
    "    self.layer3 = Conv_2d_Q2(32, 64, 3, 1, 1, 3)\n",
    "    self.layer4 = Conv_2d_Q2(64, 128, 3, 1, 1, (2,5))    \n",
    "    self.layer5 = Conv_1d_Q2(128, 50)\n",
    "    \n",
    "  def init_params(self, m):\n",
    "    for m in self.modules(): \n",
    "        if isinstance(m, nn.Linear) or isinstance(m, nn.Conv2d):\n",
    "            torch.nn.init.xavier_normal_(m.weight)\n",
    "            torch.nn.init.constant_(m.bias, 0)\n",
    "        elif isinstance(m, nn.BatchNorm2d):\n",
    "            torch.nn.init.constant_(m.weight, 1)\n",
    "            torch.nn.init.constant_(m.bias, 0) \n",
    "                \n",
    "  def forward(self, x):\n",
    "    x = self.spec(x)\n",
    "    x = self.to_db(x)\n",
    "    x = self.spec_bn(x)\n",
    "    x = self.layer1(x)\n",
    "    x = self.layer2(x)\n",
    "    x = self.layer3(x)\n",
    "    x = self.layer4(x)\n",
    "    x = self.layer5(x)\n",
    "    x = x.view(x.size(0), -1) \n",
    "    x = nn.Sigmoid()(x) # for binary cross entropy loss\n",
    "    return x"
   ]
  },
  {
   "cell_type": "code",
   "execution_count": 82,
   "metadata": {},
   "outputs": [],
   "source": [
    "class Runner_Q2(object):\n",
    "  def __init__(self, model, lr, sr, tags):\n",
    "    \"\"\"\n",
    "    Args:\n",
    "      model (nn.Module): pytorch model\n",
    "      lr (float): learning rate\n",
    "      momentum (float): momentum\n",
    "      weight_decay (float): weight_decay\n",
    "      sr (float): stopping rate\n",
    "      tags (list): tags with index\n",
    "    \"\"\"\n",
    "    self.optimizer = torch.optim.Adam(model.parameters(), lr=lr)\n",
    "    self.scheduler = ReduceLROnPlateau(self.optimizer, mode='min', factor=0.10, patience=2, verbose=True)\n",
    "    self.learning_rate = lr\n",
    "    self.stopping_rate = sr\n",
    "    self.device = torch.device('cuda') if torch.cuda.is_available() else torch.device('cpu')\n",
    "    self.model = model.to(self.device)\n",
    "    self.criterion = torch.nn.BCELoss().to(self.device)\n",
    "    self.tags = tags\n",
    "\n",
    "  # Running model for train, test and validation. mode: 'train' for training, 'eval' for validation and test\n",
    "  def run(self, dataloader, epoch, mode='TRAIN'):\n",
    "    self.model.train() if mode is 'TRAIN' else self.model.eval()\n",
    "\n",
    "    epoch_loss = 0\n",
    "    pbar = tqdm(dataloader, desc=f'{mode} Epoch {epoch:02}')  # progress bar\n",
    "    for x, y in pbar:\n",
    "      # Move mini-batch to the desired device.\n",
    "      x = x.to(self.device)\n",
    "      y = y.to(self.device)\n",
    "      # Feed forward the model.\n",
    "      prediction = self.model(x)\n",
    "      # Compute the loss.\n",
    "      loss = self.criterion(prediction, y)\n",
    "      if mode is 'TRAIN':\n",
    "        # Perform backward propagation to compute gradients.\n",
    "        loss.backward()\n",
    "        # Update the parameters.\n",
    "        self.optimizer.step()\n",
    "        # Reset the computed gradients.\n",
    "        self.optimizer.zero_grad()\n",
    "\n",
    "      batch_size = len(x)\n",
    "      epoch_loss += batch_size * loss.item()\n",
    "    epoch_loss = epoch_loss / len(dataloader.dataset)\n",
    "    return epoch_loss\n",
    "\n",
    "  def test(self, dataloader):\n",
    "    self.model.eval()\n",
    "    epoch_loss = 0\n",
    "    predictions = []\n",
    "    labels = []\n",
    "    pbar = tqdm(dataloader, desc=f'TEST')  # progress bar\n",
    "    for x, y in pbar:\n",
    "      x = x.to(self.device)\n",
    "      y = y.to(self.device)\n",
    "      x = x.transpose(1,0) # pre-batch in audio loader (chunk, 1, waveform)\n",
    "      prediction = self.model(x)\n",
    "      prediction = prediction.mean(dim=0, keepdim=True) # average chunk audio\n",
    "      loss = self.criterion(prediction, y) \n",
    "      batch_size = len(x)\n",
    "      epoch_loss += batch_size * loss.item()\n",
    "      predictions.extend(prediction.detach().cpu().numpy())\n",
    "      labels.extend(y.detach().cpu().numpy())\n",
    "    epoch_loss = epoch_loss / len(loader_test.dataset)\n",
    "    roc_aucs, tag_wise_rocaucs = self.get_auc(predictions, labels)\n",
    "    return roc_aucs, epoch_loss, tag_wise_rocaucs\n",
    "\n",
    "  # Early stopping function for given validation loss, you can use this part!\n",
    "  def early_stop(self, loss, epoch):\n",
    "    self.scheduler.step(loss, epoch)\n",
    "    self.learning_rate = self.optimizer.param_groups[0]['lr']\n",
    "    stop = self.learning_rate < self.stopping_rate\n",
    "    return stop\n",
    "\n",
    "  def get_auc(self, predictions, labels):\n",
    "    roc_aucs  = metrics.roc_auc_score(labels, predictions, average='macro')\n",
    "    tag_wise_predictions = np.stack(predictions).T\n",
    "    tag_wise_labels = np.stack(labels).T\n",
    "    tag_wise_rocaucs = {}\n",
    "    for tag, logit, label in zip(self.tags, tag_wise_predictions, tag_wise_labels):\n",
    "      tag_wise_rocaucs[tag] = metrics.roc_auc_score(label, logit)\n",
    "    return roc_aucs, tag_wise_rocaucs"
   ]
  },
  {
   "cell_type": "code",
   "execution_count": 83,
   "metadata": {},
   "outputs": [],
   "source": [
    "# Training setup.\n",
    "LR = 1e-2  # learning rate\n",
    "SR = 1e-6  # stopping rate\n",
    "NUM_EPOCHS = 30"
   ]
  },
  {
   "cell_type": "code",
   "execution_count": 84,
   "metadata": {},
   "outputs": [
    {
     "data": {
      "application/vnd.jupyter.widget-view+json": {
       "model_id": "a932f9426bd74e039258205a1890b3e5",
       "version_major": 2,
       "version_minor": 0
      },
      "text/plain": [
       "TRAIN Epoch 00:   0%|          | 0/387 [00:00<?, ?it/s]"
      ]
     },
     "metadata": {},
     "output_type": "display_data"
    },
    {
     "data": {
      "application/vnd.jupyter.widget-view+json": {
       "model_id": "8ff58e9d27f14cb4ac014eea77c4e1b4",
       "version_major": 2,
       "version_minor": 0
      },
      "text/plain": [
       "VALID Epoch 00:   0%|          | 0/96 [00:00<?, ?it/s]"
      ]
     },
     "metadata": {},
     "output_type": "display_data"
    },
    {
     "name": "stdout",
     "output_type": "stream",
     "text": [
      "[Epoch 1/30] [Train Loss: 0.3422] [Valid Loss: 0.2213]\n"
     ]
    },
    {
     "data": {
      "application/vnd.jupyter.widget-view+json": {
       "model_id": "8d147f776d1b4936b2d53e5932904fcc",
       "version_major": 2,
       "version_minor": 0
      },
      "text/plain": [
       "TRAIN Epoch 01:   0%|          | 0/387 [00:00<?, ?it/s]"
      ]
     },
     "metadata": {},
     "output_type": "display_data"
    },
    {
     "data": {
      "application/vnd.jupyter.widget-view+json": {
       "model_id": "4033195d5636471686a3ce8e077182c2",
       "version_major": 2,
       "version_minor": 0
      },
      "text/plain": [
       "VALID Epoch 01:   0%|          | 0/96 [00:00<?, ?it/s]"
      ]
     },
     "metadata": {},
     "output_type": "display_data"
    },
    {
     "name": "stdout",
     "output_type": "stream",
     "text": [
      "[Epoch 2/30] [Train Loss: 0.1978] [Valid Loss: 0.1887]\n"
     ]
    },
    {
     "data": {
      "application/vnd.jupyter.widget-view+json": {
       "model_id": "d8e93ac90de045e19e216636d93bce15",
       "version_major": 2,
       "version_minor": 0
      },
      "text/plain": [
       "TRAIN Epoch 02:   0%|          | 0/387 [00:00<?, ?it/s]"
      ]
     },
     "metadata": {},
     "output_type": "display_data"
    },
    {
     "data": {
      "application/vnd.jupyter.widget-view+json": {
       "model_id": "2b7bc2ccae254d77926421d249b60bf9",
       "version_major": 2,
       "version_minor": 0
      },
      "text/plain": [
       "VALID Epoch 02:   0%|          | 0/96 [00:00<?, ?it/s]"
      ]
     },
     "metadata": {},
     "output_type": "display_data"
    },
    {
     "name": "stdout",
     "output_type": "stream",
     "text": [
      "[Epoch 3/30] [Train Loss: 0.1807] [Valid Loss: 0.1778]\n"
     ]
    },
    {
     "data": {
      "application/vnd.jupyter.widget-view+json": {
       "model_id": "e6b2c03977274913884c913cde2c9de5",
       "version_major": 2,
       "version_minor": 0
      },
      "text/plain": [
       "TRAIN Epoch 03:   0%|          | 0/387 [00:00<?, ?it/s]"
      ]
     },
     "metadata": {},
     "output_type": "display_data"
    },
    {
     "data": {
      "application/vnd.jupyter.widget-view+json": {
       "model_id": "259feb98ed934cd0bafb4951e5b62ed6",
       "version_major": 2,
       "version_minor": 0
      },
      "text/plain": [
       "VALID Epoch 03:   0%|          | 0/96 [00:00<?, ?it/s]"
      ]
     },
     "metadata": {},
     "output_type": "display_data"
    },
    {
     "name": "stdout",
     "output_type": "stream",
     "text": [
      "[Epoch 4/30] [Train Loss: 0.1753] [Valid Loss: 0.1765]\n"
     ]
    },
    {
     "data": {
      "application/vnd.jupyter.widget-view+json": {
       "model_id": "3e9f37c5a1d54cb380c6dd96bd89ce61",
       "version_major": 2,
       "version_minor": 0
      },
      "text/plain": [
       "TRAIN Epoch 04:   0%|          | 0/387 [00:00<?, ?it/s]"
      ]
     },
     "metadata": {},
     "output_type": "display_data"
    },
    {
     "data": {
      "application/vnd.jupyter.widget-view+json": {
       "model_id": "ff606cc026ca47a0bb6090ece27fb90f",
       "version_major": 2,
       "version_minor": 0
      },
      "text/plain": [
       "VALID Epoch 04:   0%|          | 0/96 [00:00<?, ?it/s]"
      ]
     },
     "metadata": {},
     "output_type": "display_data"
    },
    {
     "name": "stdout",
     "output_type": "stream",
     "text": [
      "[Epoch 5/30] [Train Loss: 0.1703] [Valid Loss: 0.1718]\n"
     ]
    },
    {
     "data": {
      "application/vnd.jupyter.widget-view+json": {
       "model_id": "671c4ae0501e401eb3c30525dc3637ca",
       "version_major": 2,
       "version_minor": 0
      },
      "text/plain": [
       "TRAIN Epoch 05:   0%|          | 0/387 [00:00<?, ?it/s]"
      ]
     },
     "metadata": {},
     "output_type": "display_data"
    },
    {
     "data": {
      "application/vnd.jupyter.widget-view+json": {
       "model_id": "72b64a27cc154106a47a32f7c73ade0a",
       "version_major": 2,
       "version_minor": 0
      },
      "text/plain": [
       "VALID Epoch 05:   0%|          | 0/96 [00:00<?, ?it/s]"
      ]
     },
     "metadata": {},
     "output_type": "display_data"
    },
    {
     "name": "stdout",
     "output_type": "stream",
     "text": [
      "[Epoch 6/30] [Train Loss: 0.1677] [Valid Loss: 0.1763]\n"
     ]
    },
    {
     "data": {
      "application/vnd.jupyter.widget-view+json": {
       "model_id": "96ce277280464f1c8f2a37f63fe9075a",
       "version_major": 2,
       "version_minor": 0
      },
      "text/plain": [
       "TRAIN Epoch 06:   0%|          | 0/387 [00:00<?, ?it/s]"
      ]
     },
     "metadata": {},
     "output_type": "display_data"
    },
    {
     "data": {
      "application/vnd.jupyter.widget-view+json": {
       "model_id": "fea584b442634f50abec12bed70a8b50",
       "version_major": 2,
       "version_minor": 0
      },
      "text/plain": [
       "VALID Epoch 06:   0%|          | 0/96 [00:00<?, ?it/s]"
      ]
     },
     "metadata": {},
     "output_type": "display_data"
    },
    {
     "name": "stdout",
     "output_type": "stream",
     "text": [
      "[Epoch 7/30] [Train Loss: 0.1662] [Valid Loss: 0.1667]\n"
     ]
    },
    {
     "data": {
      "application/vnd.jupyter.widget-view+json": {
       "model_id": "aa3bf1a0ae7f43f38f52844cbbe3cdb8",
       "version_major": 2,
       "version_minor": 0
      },
      "text/plain": [
       "TRAIN Epoch 07:   0%|          | 0/387 [00:00<?, ?it/s]"
      ]
     },
     "metadata": {},
     "output_type": "display_data"
    },
    {
     "data": {
      "application/vnd.jupyter.widget-view+json": {
       "model_id": "33174651154e47f9ba1368a4f440fe96",
       "version_major": 2,
       "version_minor": 0
      },
      "text/plain": [
       "VALID Epoch 07:   0%|          | 0/96 [00:00<?, ?it/s]"
      ]
     },
     "metadata": {},
     "output_type": "display_data"
    },
    {
     "name": "stdout",
     "output_type": "stream",
     "text": [
      "[Epoch 8/30] [Train Loss: 0.1636] [Valid Loss: 0.1729]\n"
     ]
    },
    {
     "data": {
      "application/vnd.jupyter.widget-view+json": {
       "model_id": "3004fb798c494a838cf96b971d2e2f39",
       "version_major": 2,
       "version_minor": 0
      },
      "text/plain": [
       "TRAIN Epoch 08:   0%|          | 0/387 [00:00<?, ?it/s]"
      ]
     },
     "metadata": {},
     "output_type": "display_data"
    },
    {
     "data": {
      "application/vnd.jupyter.widget-view+json": {
       "model_id": "5cf7a7aa703a4d33af4a7579a7a7c14d",
       "version_major": 2,
       "version_minor": 0
      },
      "text/plain": [
       "VALID Epoch 08:   0%|          | 0/96 [00:00<?, ?it/s]"
      ]
     },
     "metadata": {},
     "output_type": "display_data"
    },
    {
     "name": "stdout",
     "output_type": "stream",
     "text": [
      "[Epoch 9/30] [Train Loss: 0.1629] [Valid Loss: 0.1629]\n"
     ]
    },
    {
     "data": {
      "application/vnd.jupyter.widget-view+json": {
       "model_id": "43687f7a8c1f4ef99e8afa3d3b839107",
       "version_major": 2,
       "version_minor": 0
      },
      "text/plain": [
       "TRAIN Epoch 09:   0%|          | 0/387 [00:00<?, ?it/s]"
      ]
     },
     "metadata": {},
     "output_type": "display_data"
    },
    {
     "data": {
      "application/vnd.jupyter.widget-view+json": {
       "model_id": "2f86c84eca564b2c84282be4b7ff2f12",
       "version_major": 2,
       "version_minor": 0
      },
      "text/plain": [
       "VALID Epoch 09:   0%|          | 0/96 [00:00<?, ?it/s]"
      ]
     },
     "metadata": {},
     "output_type": "display_data"
    },
    {
     "name": "stdout",
     "output_type": "stream",
     "text": [
      "[Epoch 10/30] [Train Loss: 0.1617] [Valid Loss: 0.1705]\n"
     ]
    },
    {
     "data": {
      "application/vnd.jupyter.widget-view+json": {
       "model_id": "7749e1cb97054dce8671e1842d5d0b62",
       "version_major": 2,
       "version_minor": 0
      },
      "text/plain": [
       "TRAIN Epoch 10:   0%|          | 0/387 [00:00<?, ?it/s]"
      ]
     },
     "metadata": {},
     "output_type": "display_data"
    },
    {
     "data": {
      "application/vnd.jupyter.widget-view+json": {
       "model_id": "83c707920d5b47a699c572966c67b420",
       "version_major": 2,
       "version_minor": 0
      },
      "text/plain": [
       "VALID Epoch 10:   0%|          | 0/96 [00:00<?, ?it/s]"
      ]
     },
     "metadata": {},
     "output_type": "display_data"
    },
    {
     "name": "stdout",
     "output_type": "stream",
     "text": [
      "[Epoch 11/30] [Train Loss: 0.1603] [Valid Loss: 0.1593]\n"
     ]
    },
    {
     "data": {
      "application/vnd.jupyter.widget-view+json": {
       "model_id": "985a0e1b3ea04ec3816ccac8c4853ae8",
       "version_major": 2,
       "version_minor": 0
      },
      "text/plain": [
       "TRAIN Epoch 11:   0%|          | 0/387 [00:00<?, ?it/s]"
      ]
     },
     "metadata": {},
     "output_type": "display_data"
    },
    {
     "data": {
      "application/vnd.jupyter.widget-view+json": {
       "model_id": "7c10fc9616494f8c984171c77d9198ed",
       "version_major": 2,
       "version_minor": 0
      },
      "text/plain": [
       "VALID Epoch 11:   0%|          | 0/96 [00:00<?, ?it/s]"
      ]
     },
     "metadata": {},
     "output_type": "display_data"
    },
    {
     "name": "stdout",
     "output_type": "stream",
     "text": [
      "[Epoch 12/30] [Train Loss: 0.1592] [Valid Loss: 0.1606]\n"
     ]
    },
    {
     "data": {
      "application/vnd.jupyter.widget-view+json": {
       "model_id": "a7f29e313d3a43aba5767fa1efd11772",
       "version_major": 2,
       "version_minor": 0
      },
      "text/plain": [
       "TRAIN Epoch 12:   0%|          | 0/387 [00:00<?, ?it/s]"
      ]
     },
     "metadata": {},
     "output_type": "display_data"
    },
    {
     "data": {
      "application/vnd.jupyter.widget-view+json": {
       "model_id": "81a184e2c36b48fda36a04a60fb0061f",
       "version_major": 2,
       "version_minor": 0
      },
      "text/plain": [
       "VALID Epoch 12:   0%|          | 0/96 [00:00<?, ?it/s]"
      ]
     },
     "metadata": {},
     "output_type": "display_data"
    },
    {
     "name": "stdout",
     "output_type": "stream",
     "text": [
      "[Epoch 13/30] [Train Loss: 0.1587] [Valid Loss: 0.1595]\n"
     ]
    },
    {
     "data": {
      "application/vnd.jupyter.widget-view+json": {
       "model_id": "6be4d056ee404df69e41827ab29b2cee",
       "version_major": 2,
       "version_minor": 0
      },
      "text/plain": [
       "TRAIN Epoch 13:   0%|          | 0/387 [00:00<?, ?it/s]"
      ]
     },
     "metadata": {},
     "output_type": "display_data"
    },
    {
     "data": {
      "application/vnd.jupyter.widget-view+json": {
       "model_id": "f393b7fd71264a808ce2e5942f393b55",
       "version_major": 2,
       "version_minor": 0
      },
      "text/plain": [
       "VALID Epoch 13:   0%|          | 0/96 [00:00<?, ?it/s]"
      ]
     },
     "metadata": {},
     "output_type": "display_data"
    },
    {
     "name": "stdout",
     "output_type": "stream",
     "text": [
      "[Epoch 14/30] [Train Loss: 0.1584] [Valid Loss: 0.1580]\n"
     ]
    },
    {
     "data": {
      "application/vnd.jupyter.widget-view+json": {
       "model_id": "95808a6a97f74b2b95c74114c42e886a",
       "version_major": 2,
       "version_minor": 0
      },
      "text/plain": [
       "TRAIN Epoch 14:   0%|          | 0/387 [00:00<?, ?it/s]"
      ]
     },
     "metadata": {},
     "output_type": "display_data"
    },
    {
     "data": {
      "application/vnd.jupyter.widget-view+json": {
       "model_id": "e70e7066e2b74ee4802aa9e4e511d5ca",
       "version_major": 2,
       "version_minor": 0
      },
      "text/plain": [
       "VALID Epoch 14:   0%|          | 0/96 [00:00<?, ?it/s]"
      ]
     },
     "metadata": {},
     "output_type": "display_data"
    },
    {
     "name": "stdout",
     "output_type": "stream",
     "text": [
      "[Epoch 15/30] [Train Loss: 0.1567] [Valid Loss: 0.1581]\n"
     ]
    },
    {
     "data": {
      "application/vnd.jupyter.widget-view+json": {
       "model_id": "e1691ad07f354be59be5fe6eff12b1e4",
       "version_major": 2,
       "version_minor": 0
      },
      "text/plain": [
       "TRAIN Epoch 15:   0%|          | 0/387 [00:00<?, ?it/s]"
      ]
     },
     "metadata": {},
     "output_type": "display_data"
    },
    {
     "data": {
      "application/vnd.jupyter.widget-view+json": {
       "model_id": "e0839fda7943496daa6d98b46ae3abfd",
       "version_major": 2,
       "version_minor": 0
      },
      "text/plain": [
       "VALID Epoch 15:   0%|          | 0/96 [00:00<?, ?it/s]"
      ]
     },
     "metadata": {},
     "output_type": "display_data"
    },
    {
     "name": "stdout",
     "output_type": "stream",
     "text": [
      "[Epoch 16/30] [Train Loss: 0.1567] [Valid Loss: 0.1557]\n"
     ]
    },
    {
     "data": {
      "application/vnd.jupyter.widget-view+json": {
       "model_id": "98780b672b524a489628d4a37c1a925c",
       "version_major": 2,
       "version_minor": 0
      },
      "text/plain": [
       "TRAIN Epoch 16:   0%|          | 0/387 [00:00<?, ?it/s]"
      ]
     },
     "metadata": {},
     "output_type": "display_data"
    },
    {
     "data": {
      "application/vnd.jupyter.widget-view+json": {
       "model_id": "4bfc66b3bf1643a792e70084fa60fb34",
       "version_major": 2,
       "version_minor": 0
      },
      "text/plain": [
       "VALID Epoch 16:   0%|          | 0/96 [00:00<?, ?it/s]"
      ]
     },
     "metadata": {},
     "output_type": "display_data"
    },
    {
     "name": "stdout",
     "output_type": "stream",
     "text": [
      "[Epoch 17/30] [Train Loss: 0.1555] [Valid Loss: 0.1585]\n"
     ]
    },
    {
     "data": {
      "application/vnd.jupyter.widget-view+json": {
       "model_id": "f790d43af684427a963099bc57a8d8ca",
       "version_major": 2,
       "version_minor": 0
      },
      "text/plain": [
       "TRAIN Epoch 17:   0%|          | 0/387 [00:00<?, ?it/s]"
      ]
     },
     "metadata": {},
     "output_type": "display_data"
    },
    {
     "data": {
      "application/vnd.jupyter.widget-view+json": {
       "model_id": "e7710289747d408093238f8b8e469187",
       "version_major": 2,
       "version_minor": 0
      },
      "text/plain": [
       "VALID Epoch 17:   0%|          | 0/96 [00:00<?, ?it/s]"
      ]
     },
     "metadata": {},
     "output_type": "display_data"
    },
    {
     "name": "stdout",
     "output_type": "stream",
     "text": [
      "[Epoch 18/30] [Train Loss: 0.1553] [Valid Loss: 0.1612]\n"
     ]
    },
    {
     "data": {
      "application/vnd.jupyter.widget-view+json": {
       "model_id": "28dc507f9a6b43a39fb37ba73aa0231a",
       "version_major": 2,
       "version_minor": 0
      },
      "text/plain": [
       "TRAIN Epoch 18:   0%|          | 0/387 [00:00<?, ?it/s]"
      ]
     },
     "metadata": {},
     "output_type": "display_data"
    },
    {
     "data": {
      "application/vnd.jupyter.widget-view+json": {
       "model_id": "0c42633233bf4a3f8bb7b43d276f216a",
       "version_major": 2,
       "version_minor": 0
      },
      "text/plain": [
       "VALID Epoch 18:   0%|          | 0/96 [00:00<?, ?it/s]"
      ]
     },
     "metadata": {},
     "output_type": "display_data"
    },
    {
     "name": "stdout",
     "output_type": "stream",
     "text": [
      "[Epoch 19/30] [Train Loss: 0.1542] [Valid Loss: 0.1597]\n",
      "Epoch    19: reducing learning rate of group 0 to 1.0000e-03.\n"
     ]
    },
    {
     "data": {
      "application/vnd.jupyter.widget-view+json": {
       "model_id": "03893d08c298466b809f01ea46da5e32",
       "version_major": 2,
       "version_minor": 0
      },
      "text/plain": [
       "TRAIN Epoch 19:   0%|          | 0/387 [00:00<?, ?it/s]"
      ]
     },
     "metadata": {},
     "output_type": "display_data"
    },
    {
     "data": {
      "application/vnd.jupyter.widget-view+json": {
       "model_id": "b0dfb5c5fc624464bba1a495cdee6195",
       "version_major": 2,
       "version_minor": 0
      },
      "text/plain": [
       "VALID Epoch 19:   0%|          | 0/96 [00:00<?, ?it/s]"
      ]
     },
     "metadata": {},
     "output_type": "display_data"
    },
    {
     "name": "stdout",
     "output_type": "stream",
     "text": [
      "[Epoch 20/30] [Train Loss: 0.1504] [Valid Loss: 0.1551]\n"
     ]
    },
    {
     "data": {
      "application/vnd.jupyter.widget-view+json": {
       "model_id": "aeeac063e4bd478aad26b492e36270be",
       "version_major": 2,
       "version_minor": 0
      },
      "text/plain": [
       "TRAIN Epoch 20:   0%|          | 0/387 [00:00<?, ?it/s]"
      ]
     },
     "metadata": {},
     "output_type": "display_data"
    },
    {
     "data": {
      "application/vnd.jupyter.widget-view+json": {
       "model_id": "67302eae019c433483e36aad6349edd8",
       "version_major": 2,
       "version_minor": 0
      },
      "text/plain": [
       "VALID Epoch 20:   0%|          | 0/96 [00:00<?, ?it/s]"
      ]
     },
     "metadata": {},
     "output_type": "display_data"
    },
    {
     "name": "stdout",
     "output_type": "stream",
     "text": [
      "[Epoch 21/30] [Train Loss: 0.1485] [Valid Loss: 0.1534]\n"
     ]
    },
    {
     "data": {
      "application/vnd.jupyter.widget-view+json": {
       "model_id": "ffe064bf42c042e083f7a0a77fdda7c4",
       "version_major": 2,
       "version_minor": 0
      },
      "text/plain": [
       "TRAIN Epoch 21:   0%|          | 0/387 [00:00<?, ?it/s]"
      ]
     },
     "metadata": {},
     "output_type": "display_data"
    },
    {
     "data": {
      "application/vnd.jupyter.widget-view+json": {
       "model_id": "8423b3c969cb47838eeafdb43ed0a0c7",
       "version_major": 2,
       "version_minor": 0
      },
      "text/plain": [
       "VALID Epoch 21:   0%|          | 0/96 [00:00<?, ?it/s]"
      ]
     },
     "metadata": {},
     "output_type": "display_data"
    },
    {
     "name": "stdout",
     "output_type": "stream",
     "text": [
      "[Epoch 22/30] [Train Loss: 0.1485] [Valid Loss: 0.1538]\n"
     ]
    },
    {
     "data": {
      "application/vnd.jupyter.widget-view+json": {
       "model_id": "8d05961f67c34481b43c4b83e56ea74c",
       "version_major": 2,
       "version_minor": 0
      },
      "text/plain": [
       "TRAIN Epoch 22:   0%|          | 0/387 [00:00<?, ?it/s]"
      ]
     },
     "metadata": {},
     "output_type": "display_data"
    },
    {
     "data": {
      "application/vnd.jupyter.widget-view+json": {
       "model_id": "14dd1ad8480445c3a40ef9987d165878",
       "version_major": 2,
       "version_minor": 0
      },
      "text/plain": [
       "VALID Epoch 22:   0%|          | 0/96 [00:00<?, ?it/s]"
      ]
     },
     "metadata": {},
     "output_type": "display_data"
    },
    {
     "name": "stdout",
     "output_type": "stream",
     "text": [
      "[Epoch 23/30] [Train Loss: 0.1467] [Valid Loss: 0.1534]\n"
     ]
    },
    {
     "data": {
      "application/vnd.jupyter.widget-view+json": {
       "model_id": "168fc4fef1dc4dde83c38fa786669d99",
       "version_major": 2,
       "version_minor": 0
      },
      "text/plain": [
       "TRAIN Epoch 23:   0%|          | 0/387 [00:00<?, ?it/s]"
      ]
     },
     "metadata": {},
     "output_type": "display_data"
    },
    {
     "data": {
      "application/vnd.jupyter.widget-view+json": {
       "model_id": "15dc546f84624538bb890682f45cd4d9",
       "version_major": 2,
       "version_minor": 0
      },
      "text/plain": [
       "VALID Epoch 23:   0%|          | 0/96 [00:00<?, ?it/s]"
      ]
     },
     "metadata": {},
     "output_type": "display_data"
    },
    {
     "name": "stdout",
     "output_type": "stream",
     "text": [
      "[Epoch 24/30] [Train Loss: 0.1462] [Valid Loss: 0.1545]\n",
      "Epoch    24: reducing learning rate of group 0 to 1.0000e-04.\n"
     ]
    },
    {
     "data": {
      "application/vnd.jupyter.widget-view+json": {
       "model_id": "73336c36705b42e49031aefbb1c75074",
       "version_major": 2,
       "version_minor": 0
      },
      "text/plain": [
       "TRAIN Epoch 24:   0%|          | 0/387 [00:00<?, ?it/s]"
      ]
     },
     "metadata": {},
     "output_type": "display_data"
    },
    {
     "data": {
      "application/vnd.jupyter.widget-view+json": {
       "model_id": "87de88c0f19f4256859a7daf8a847626",
       "version_major": 2,
       "version_minor": 0
      },
      "text/plain": [
       "VALID Epoch 24:   0%|          | 0/96 [00:00<?, ?it/s]"
      ]
     },
     "metadata": {},
     "output_type": "display_data"
    },
    {
     "name": "stdout",
     "output_type": "stream",
     "text": [
      "[Epoch 25/30] [Train Loss: 0.1457] [Valid Loss: 0.1517]\n"
     ]
    },
    {
     "data": {
      "application/vnd.jupyter.widget-view+json": {
       "model_id": "d7f180417ffc444a970a87049de61726",
       "version_major": 2,
       "version_minor": 0
      },
      "text/plain": [
       "TRAIN Epoch 25:   0%|          | 0/387 [00:00<?, ?it/s]"
      ]
     },
     "metadata": {},
     "output_type": "display_data"
    },
    {
     "data": {
      "application/vnd.jupyter.widget-view+json": {
       "model_id": "31474c910e6249569278fbef59474d25",
       "version_major": 2,
       "version_minor": 0
      },
      "text/plain": [
       "VALID Epoch 25:   0%|          | 0/96 [00:00<?, ?it/s]"
      ]
     },
     "metadata": {},
     "output_type": "display_data"
    },
    {
     "name": "stdout",
     "output_type": "stream",
     "text": [
      "[Epoch 26/30] [Train Loss: 0.1467] [Valid Loss: 0.1538]\n"
     ]
    },
    {
     "data": {
      "application/vnd.jupyter.widget-view+json": {
       "model_id": "bb8d4ea51dae41b1a4dadf4a59d3e9b6",
       "version_major": 2,
       "version_minor": 0
      },
      "text/plain": [
       "TRAIN Epoch 26:   0%|          | 0/387 [00:00<?, ?it/s]"
      ]
     },
     "metadata": {},
     "output_type": "display_data"
    },
    {
     "data": {
      "application/vnd.jupyter.widget-view+json": {
       "model_id": "95262cb546d0474687ea748178ed3a3b",
       "version_major": 2,
       "version_minor": 0
      },
      "text/plain": [
       "VALID Epoch 26:   0%|          | 0/96 [00:00<?, ?it/s]"
      ]
     },
     "metadata": {},
     "output_type": "display_data"
    },
    {
     "name": "stdout",
     "output_type": "stream",
     "text": [
      "[Epoch 27/30] [Train Loss: 0.1460] [Valid Loss: 0.1538]\n"
     ]
    },
    {
     "data": {
      "application/vnd.jupyter.widget-view+json": {
       "model_id": "491d0b3bf0fe4fe28bd7487b276db9bc",
       "version_major": 2,
       "version_minor": 0
      },
      "text/plain": [
       "TRAIN Epoch 27:   0%|          | 0/387 [00:00<?, ?it/s]"
      ]
     },
     "metadata": {},
     "output_type": "display_data"
    },
    {
     "data": {
      "application/vnd.jupyter.widget-view+json": {
       "model_id": "e85a4fa8ad5b4dc3a06a500f26aae4bf",
       "version_major": 2,
       "version_minor": 0
      },
      "text/plain": [
       "VALID Epoch 27:   0%|          | 0/96 [00:00<?, ?it/s]"
      ]
     },
     "metadata": {},
     "output_type": "display_data"
    },
    {
     "name": "stdout",
     "output_type": "stream",
     "text": [
      "[Epoch 28/30] [Train Loss: 0.1454] [Valid Loss: 0.1540]\n",
      "Epoch    28: reducing learning rate of group 0 to 1.0000e-05.\n"
     ]
    },
    {
     "data": {
      "application/vnd.jupyter.widget-view+json": {
       "model_id": "d08e23efd964466483aea18226fd2677",
       "version_major": 2,
       "version_minor": 0
      },
      "text/plain": [
       "TRAIN Epoch 28:   0%|          | 0/387 [00:00<?, ?it/s]"
      ]
     },
     "metadata": {},
     "output_type": "display_data"
    },
    {
     "data": {
      "application/vnd.jupyter.widget-view+json": {
       "model_id": "a9f89f932b2a4313afc825b3dda4a5f7",
       "version_major": 2,
       "version_minor": 0
      },
      "text/plain": [
       "VALID Epoch 28:   0%|          | 0/96 [00:00<?, ?it/s]"
      ]
     },
     "metadata": {},
     "output_type": "display_data"
    },
    {
     "name": "stdout",
     "output_type": "stream",
     "text": [
      "[Epoch 29/30] [Train Loss: 0.1453] [Valid Loss: 0.1526]\n"
     ]
    },
    {
     "data": {
      "application/vnd.jupyter.widget-view+json": {
       "model_id": "8ae393ed1d434fc2865a123e6d13afdb",
       "version_major": 2,
       "version_minor": 0
      },
      "text/plain": [
       "TRAIN Epoch 29:   0%|          | 0/387 [00:00<?, ?it/s]"
      ]
     },
     "metadata": {},
     "output_type": "display_data"
    },
    {
     "data": {
      "application/vnd.jupyter.widget-view+json": {
       "model_id": "16694444e1f74a059f9fb25f4160e0f1",
       "version_major": 2,
       "version_minor": 0
      },
      "text/plain": [
       "VALID Epoch 29:   0%|          | 0/96 [00:00<?, ?it/s]"
      ]
     },
     "metadata": {},
     "output_type": "display_data"
    },
    {
     "name": "stdout",
     "output_type": "stream",
     "text": [
      "[Epoch 30/30] [Train Loss: 0.1460] [Valid Loss: 0.1535]\n"
     ]
    }
   ],
   "source": [
    "# Iterate over epochs.\n",
    "model = model_Q2()\n",
    "runner = Runner_Q2(model=model, lr = LR, sr = SR, tags=TAGS)\n",
    "for epoch in range(NUM_EPOCHS):\n",
    "  train_loss = runner.run(loader_train, epoch, 'TRAIN')\n",
    "  valid_loss = runner.run(loader_valid, epoch, 'VALID')\n",
    "  print(\"[Epoch %d/%d] [Train Loss: %.4f] [Valid Loss: %.4f]\" %\n",
    "        (epoch + 1, NUM_EPOCHS, train_loss, valid_loss))\n",
    "  if runner.early_stop(valid_loss, epoch + 1):\n",
    "    break"
   ]
  },
  {
   "cell_type": "code",
   "execution_count": 85,
   "metadata": {},
   "outputs": [
    {
     "data": {
      "application/vnd.jupyter.widget-view+json": {
       "model_id": "8f24cb7f92bd4c9797ac3831e6640d12",
       "version_major": 2,
       "version_minor": 0
      },
      "text/plain": [
       "TEST:   0%|          | 0/1339 [00:00<?, ?it/s]"
      ]
     },
     "metadata": {},
     "output_type": "display_data"
    },
    {
     "name": "stdout",
     "output_type": "stream",
     "text": [
      "test_loss=0.31234,  roc_auc=0.86%\n"
     ]
    }
   ],
   "source": [
    "roc_aucs, epoch_loss, tag_wise_rocaucs = runner.test(loader_test)\n",
    "print(f'test_loss={epoch_loss:.5f},  roc_auc={roc_aucs:.2f}%')"
   ]
  },
  {
   "cell_type": "code",
   "execution_count": 86,
   "metadata": {},
   "outputs": [
    {
     "data": {
      "text/plain": [
       "<AxesSubplot:>"
      ]
     },
     "execution_count": 86,
     "metadata": {},
     "output_type": "execute_result"
    },
    {
     "data": {
      "image/png": "[encoded data removed]",
      "text/plain": [
       "<Figure size 1296x432 with 1 Axes>"
      ]
     },
     "metadata": {
      "needs_background": "light"
     },
     "output_type": "display_data"
    }
   ],
   "source": [
    "result_auc = pd.DataFrame([tag_wise_rocaucs[tag] for tag in TAGS], columns=['rocauc'], index=TAGS)\n",
    "result_auc.sort_values(by='rocauc', ascending=False).plot.bar(figsize=(18,6),rot=60) # which tag is easy and hard task"
   ]
  },
  {
   "cell_type": "code",
   "execution_count": 88,
   "metadata": {},
   "outputs": [
    {
     "name": "stdout",
     "output_type": "stream",
     "text": [
      "-------------------------------------------------------------------------\n",
      "       Layer (type)          Input Shape         Param #     Tr. Param #\n",
      "=========================================================================\n",
      "   MelSpectrogram-1       [16, 1, 48000]               0               0\n",
      "    AmplitudeToDB-2     [16, 1, 96, 188]               0               0\n",
      "      BatchNorm2d-3     [16, 1, 96, 188]               2               2\n",
      "       Conv_2d_Q2-4     [16, 1, 96, 188]             192             192\n",
      "       Conv_2d_Q2-5     [16, 16, 24, 47]           4,704           4,704\n",
      "       Conv_2d_Q2-6      [16, 32, 8, 15]          18,624          18,624\n",
      "       Conv_2d_Q2-7       [16, 64, 2, 5]          74,112          74,112\n",
      "       Conv_1d_Q2-8      [16, 128, 1, 1]           6,550           6,550\n",
      "=========================================================================\n",
      "Total params: 104,184\n",
      "Trainable params: 104,184\n",
      "Non-trainable params: 0\n",
      "-------------------------------------------------------------------------\n"
     ]
    }
   ],
   "source": [
    "import pytorch_model_summary \n",
    "print(pytorch_model_summary.summary(model, torch.zeros(16, 1, 48000).to('cuda'), show_input=True))"
   ]
  },
  {
   "cell_type": "markdown",
   "metadata": {
    "id": "VIRc_WML8MnD"
   },
   "source": [
    "# Metric Learning\n",
    "\n",
    "Metric learning is a paradigm of representation learning, in which proximity between the representations of items is optimized to correspond to a notion of similarity. \n",
    "\n",
    "Compared to the classification, metric learning can leverage more flexible forms of supervision, for example, two audio clips belong to the same artist or not, or have the same tempo or not. Search and recommender systems rely on similarity between songs, artists, albums, lyrics, tags, etc. Nearest neighbor classifiers use similarity to propagate information (eg, tags) from labeled to unlabeled data.\n"
   ]
  },
  {
   "cell_type": "markdown",
   "metadata": {
    "id": "bq4wDvyMTTOk"
   },
   "source": [
    "### Dataloader"
   ]
  },
  {
   "cell_type": "code",
   "execution_count": 175,
   "metadata": {
    "id": "AmgDstz0L_PE"
   },
   "outputs": [],
   "source": [
    "import random\n",
    "class TripletDataset(Dataset):\n",
    "  def __init__(self, paths, id_to_path, input_length, binary, tags, split):\n",
    "    \"\"\"\n",
    "    Args:\n",
    "      paths (str): path to load dataset from\n",
    "      id_to_path (Dict): track id to audio path\n",
    "      input_length (int): sample_rate x duration (second) \n",
    "      binary (Pandas.DataFrame): binary matrix for audio (index: track_id, columns: tag binary)\n",
    "      tags(list) : list of tag\n",
    "      split (str): one of [TRAIN, VALID, TEST]\n",
    "    \"\"\"\n",
    "    self.paths = paths\n",
    "    self.id_to_path = id_to_path\n",
    "    self.input_length = input_length\n",
    "    self.tags = tags\n",
    "    self.binary = binary\n",
    "    self.split = split\n",
    "\n",
    "  def __getitem__(self, index):\n",
    "    if self.split in [\"TRAIN\",\"VALID\"]:\n",
    "      tag = random.choice(self.tags)\n",
    "      tag_binary = self.binary[tag]\n",
    "      positive_tracks = tag_binary[tag_binary != 0]\n",
    "      negative_tracks = tag_binary[tag_binary == 0]\n",
    "      anc_id, pos_id = positive_tracks.sample(2).index\n",
    "      neg_id = negative_tracks.sample(1).index[0]\n",
    "\n",
    "      anc_waveform = self.item_to_waveform(anc_id)\n",
    "      pos_waveform = self.item_to_waveform(pos_id)\n",
    "      neg_waveform = self.item_to_waveform(neg_id)\n",
    "      return anc_waveform, pos_waveform, neg_waveform\n",
    "\n",
    "    elif self.split == \"TEST\":\n",
    "      item = self.binary.iloc[index]\n",
    "      id = item.name\n",
    "      path = os.path.join(self.paths, self.id_to_path[id].replace(\".mp3\",\".npy\"))\n",
    "      waveform = np.load(path)\n",
    "      chunk_number = waveform.shape[0] // self.input_length\n",
    "      chunk = np.zeros((chunk_number, self.input_length))\n",
    "      for idx in range(chunk.shape[0]):\n",
    "        chunk[idx] = waveform[idx:idx+input_length]\n",
    "      audio = chunk.astype(np.float32)\n",
    "      label = item.values.astype(np.float32)\n",
    "      return audio, label\n",
    "\n",
    "  def item_to_waveform(self, id):\n",
    "    path = os.path.join(self.paths, self.id_to_path[id].replace(\".mp3\", \".npy\")) # pre-extract waveform, for fast loader\n",
    "    waveform = np.load(path) \n",
    "    random_idx = np.random.randint(low=0, high=int(waveform.shape[0] - self.input_length))\n",
    "    waveform = waveform[random_idx:random_idx+self.input_length] # extract input\n",
    "    audio = np.expand_dims(waveform, axis = 0)# 1 x samples\n",
    "    return audio.astype(np.float32)\n",
    "\n",
    "  def __len__(self):\n",
    "    if self.split in [\"TRAIN\",\"VALID\"]:\n",
    "      return len(self.binary) # it is tag wise sampling, so you can increase dataset length\n",
    "    elif self.split == \"TEST\":\n",
    "      return len(self.binary)"
   ]
  },
  {
   "cell_type": "code",
   "execution_count": 176,
   "metadata": {
    "id": "lywWIQj5UgYe"
   },
   "outputs": [],
   "source": [
    "tr_data = TripletDataset(data_path, id_to_path, input_length, df_train, TAGS, \"TRAIN\")\n",
    "va_data = TripletDataset(data_path, id_to_path, input_length, df_valid, TAGS, \"VALID\")\n",
    "te_data = TripletDataset(data_path, id_to_path, input_length, df_test, TAGS, \"TEST\")\n",
    "loader_train = DataLoader(tr_data, batch_size=BATCH_SIZE, shuffle=True, num_workers=num_workers, drop_last=True)\n",
    "loader_valid = DataLoader(va_data, batch_size=BATCH_SIZE, shuffle=False, num_workers=num_workers, drop_last=False)\n",
    "loader_test = DataLoader(te_data, batch_size=1, shuffle=False, num_workers=num_workers, drop_last=False)"
   ]
  },
  {
   "cell_type": "code",
   "execution_count": 177,
   "metadata": {
    "id": "UVpAiw_BiYJ2"
   },
   "outputs": [],
   "source": [
    "class LinearProjection(nn.Module):\n",
    "  \"\"\"\n",
    "  Backbone model for linear proejction\n",
    "  mel spectrogam to embedding\n",
    "  \"\"\"\n",
    "  def __init__(self,\n",
    "              sample_rate=16000,\n",
    "              n_fft=512,\n",
    "              f_min=0.0,\n",
    "              f_max=8000.0,\n",
    "              n_mels=96):\n",
    "    \"\"\"\n",
    "    Args:\n",
    "      sample_rate (int): path to load dataset from\n",
    "      n_fft (int): number of samples for fft\n",
    "      f_min (float): min freq\n",
    "      f_max (float): max freq\n",
    "      n_mels (float): number of mel bin\n",
    "      n_class (int): number of class\n",
    "    \"\"\"\n",
    "    super(LinearProjection, self).__init__()\n",
    "    self.spec = torchaudio.transforms.MelSpectrogram(sample_rate=sample_rate,\n",
    "                                                      n_fft=n_fft,\n",
    "                                                      f_min=f_min,\n",
    "                                                      f_max=f_max,\n",
    "                                                      n_mels=n_mels)\n",
    "    self.to_db = torchaudio.transforms.AmplitudeToDB()\n",
    "    self.spec_bn = nn.BatchNorm2d(1)\n",
    "    self.embedding_size = 4096\n",
    "    self.linear_proj = nn.Linear(n_mels * 188, self.embedding_size) # (freq * time) to embedding dim\n",
    "  def forward(self, x):\n",
    "    x = self.spec(x)\n",
    "    x = self.to_db(x)\n",
    "    x = self.spec_bn(x)\n",
    "    x = x.squeeze(1)\n",
    "    x = x.view(x.size(0), -1)\n",
    "    embedding = self.linear_proj(x)\n",
    "    return embedding"
   ]
  },
  {
   "cell_type": "code",
   "execution_count": 178,
   "metadata": {
    "id": "lDcpcATdxQHd"
   },
   "outputs": [],
   "source": [
    "class TripletLoss(nn.Module):\n",
    "  def __init__(self, margin):\n",
    "    \"\"\"\n",
    "    Args:\n",
    "      margin:\n",
    "    \"\"\"\n",
    "    super(TripletLoss, self).__init__()\n",
    "    self.margin = margin\n",
    "    self.relu = nn.ReLU()\n",
    "    \n",
    "  def forward(self, anchor, positive, negative):\n",
    "    pos_sim = nn.CosineSimilarity(dim=-1)(anchor, positive)\n",
    "    neg_sim = nn.CosineSimilarity(dim=-1)(anchor, negative)\n",
    "    losses = self.relu(self.margin - pos_sim + neg_sim)\n",
    "    return losses.mean()"
   ]
  },
  {
   "cell_type": "markdown",
   "metadata": {
    "id": "gB3W-exfVi6m"
   },
   "source": [
    "### [Question 3] Implement the evaluation metric.\n",
    "Implement a multi-label recall for metric learning. \n",
    "- https://arxiv.org/abs/2008.03729\n",
    "\n",
    "If one of the top K retrieved results has the same class label as the query song, the recall@K is set to 1, otherwise it is set to 0. This process is repeated for all samples in the test set and then averaged. Our data is multi-labeled, however, so we adapt the standard single-label (multi-class) R@K metric to create a multi-label variant. Our definition is\n",
    "\n",
    "$$\n",
    "Recall@K = \\frac{1}{N} \\Sigma^{N}_{q=1} \n",
    "\\frac{n(y^{q} \\cap (\\cup^{K}_{i=1}y^{i})}{n(y^{q})}\n",
    "$$\n",
    "\n",
    "where $N$ is the number of test samples, $y^{q}$ is the ground truth labels of a query, and $y^{i}$ is the ground truth labels of the top $K$ retrieved results. And, $n(·)$ denotes the number of the elements of a set. In this setup, if the set of labels of the top K retrieved results contains all the multiple labels of the query song, the recall@K is set to 1, otherwise it is set to the correct answer ratio. We report R@K when K is 1, 2, 4, and 8."
   ]
  },
  {
   "cell_type": "code",
   "execution_count": 179,
   "metadata": {
    "id": "7jUFbJnbxnko"
   },
   "outputs": [],
   "source": [
    "class Metric_Runner(object):\n",
    "  def __init__(self, model, lr, momentum, weight_decay, sr):\n",
    "    \"\"\"\n",
    "    Args:\n",
    "      model (nn.Module): pytorch model\n",
    "      lr (float): learning rate\n",
    "      momentum (float): momentum\n",
    "      weight_decay (float): weight_decay\n",
    "      sr (float): stopping rate\n",
    "    \"\"\"\n",
    "    self.optimizer = torch.optim.SGD(model.parameters(), lr=lr, momentum=momentum, nesterov=True, weight_decay=weight_decay)\n",
    "    self.scheduler = ReduceLROnPlateau(self.optimizer, mode='min', factor=0.2, patience=5, verbose=True)\n",
    "    self.learning_rate = lr\n",
    "    self.stopping_rate = sr\n",
    "    self.device = torch.device('cuda') if torch.cuda.is_available() else torch.device('cpu')\n",
    "    self.model = model.to(self.device)\n",
    "    self.criterion = TripletLoss(margin=0.4).to(self.device)\n",
    "\n",
    "  # Running model for train, test and validation. mode: 'train' for training, 'eval' for validation and test\n",
    "  def run(self, dataloader, epoch, mode='TRAIN'):\n",
    "    self.model.train() if mode is 'TRAIN' else self.model.eval()\n",
    "\n",
    "    epoch_loss = 0\n",
    "    pbar = tqdm(dataloader, desc=f'{mode} Epoch {epoch:02}')  # progress bar\n",
    "    for item in pbar:\n",
    "      # Move mini-batch to the desired device.\n",
    "      anc, pos, neg = item\n",
    "      anc_emb = self.model(anc.to(self.device))\n",
    "      pos_emb = self.model(pos.to(self.device))\n",
    "      neg_emb = self.model(neg.to(self.device))\n",
    "      \n",
    "      # Compute the loss.\n",
    "      loss = self.criterion(anc_emb, pos_emb, neg_emb)\n",
    "      if mode is 'TRAIN':\n",
    "        # Perform backward propagation to compute gradients.\n",
    "        loss.backward()\n",
    "        # Update the parameters.\n",
    "        self.optimizer.step()\n",
    "        # Reset the computed gradients.\n",
    "        self.optimizer.zero_grad()\n",
    "\n",
    "      batch_size = anc_emb.shape[0]\n",
    "      epoch_loss += batch_size * loss.item()\n",
    "    epoch_loss = epoch_loss / len(dataloader.dataset)\n",
    "    return epoch_loss\n",
    "\n",
    "  def test(self, dataloader):\n",
    "    self.model.eval()\n",
    "    epoch_loss = 0\n",
    "    embeddings, labels = [], []\n",
    "    pbar = tqdm(dataloader, desc=f'TEST')  # progress bar\n",
    "    for waveform, label in pbar:\n",
    "      waveform = waveform.transpose(1,0)\n",
    "      with torch.no_grad():\n",
    "        embedding = self.model(waveform.to(self.device))\n",
    "      embeddings.append(embedding.mean(0,True).detach().cpu())\n",
    "      labels.append(label)\n",
    "    embeddings = torch.stack(embeddings).squeeze(1)\n",
    "    labels = torch.stack(labels).squeeze(1)\n",
    "\n",
    "    # calculate cosine similarity (if you use different distance metric, than you need to change this part)\n",
    "    embedding_norm = embeddings / embeddings.norm(dim=-1, keepdim=True)\n",
    "    sim_matrix = embedding_norm @ embedding_norm.T\n",
    "    sim_matrix = sim_matrix.detach().cpu().numpy()\n",
    "    labels = labels.detach().cpu().numpy()\n",
    "    multilabel_recall = {\n",
    "        \"R@1\" : self.multilabel_recall(sim_matrix, labels, top_k=1),\n",
    "        \"R@2\" : self.multilabel_recall(sim_matrix, labels, top_k=2),\n",
    "        \"R@4\" : self.multilabel_recall(sim_matrix, labels, top_k=4),\n",
    "        \"R@8\" : self.multilabel_recall(sim_matrix, labels, top_k=8),\n",
    "    }\n",
    "    return multilabel_recall\n",
    "\n",
    "  def multilabel_recall(self, sim_matrix, binary_labels, top_k):\n",
    "    Multilabel_Recall=0    \n",
    "    for i in range(binary_labels.shape[0]):\n",
    "        indices = (-sim_matrix[i,:]).argsort()[:top_k+1]\n",
    "        indices = np.delete(indices, np.where(indices==i))    \n",
    "        numerator  = np.sum(np.logical_and(binary_labels[i,:], np.any(binary_labels[indices,:], axis=0)))\n",
    "        denominator = np.sum(binary_labels[i,:])\n",
    "        Multilabel_Recall += numerator / denominator\n",
    "    Multilabel_Recall /= binary_labels.shape[0]   \n",
    "    return Multilabel_Recall\n",
    "\n",
    "  # Early stopping function for given validation loss\n",
    "  def early_stop(self, loss, epoch):\n",
    "    self.scheduler.step(loss, epoch)\n",
    "    self.learning_rate = self.optimizer.param_groups[0]['lr']\n",
    "    stop = self.learning_rate < self.stopping_rate\n",
    "    return stop"
   ]
  },
  {
   "cell_type": "code",
   "execution_count": 180,
   "metadata": {
    "colab": {
     "base_uri": "https://localhost:8080/",
     "height": 260,
     "referenced_widgets": [
      "efa79b7f495545289bfc40244fcc3e23",
      "a46deb4df36f495ca51dbcc2bea71bea",
      "92f214f47e504ba08548697f6a87a6cf",
      "eb9d5948a05845eaa9c530843871b16d",
      "9017558c16b84b4292c1643ffbd10f6b",
      "d00cd9ddec7a4f479cfcc505a7569b67",
      "7283ed084d2745e5b958009a1b0a62a6",
      "395d59a532554014a487041559fd2395",
      "9131edfb50d24881b87d5c2443d197df",
      "6709e92040a841a8b9fa848aa501f24e",
      "dacb4b704e7f4af2ad2b16952d3e3d94",
      "89b35f6cd83f410e9678f7dceb8429df",
      "0cdb413534964c24adb24b762923f351",
      "d371cd8705c541d0bad977ac7b141771",
      "1dc412ddec8d47b9a758b4726a357d1f",
      "5877c27a18174e5f9a7468f84fc26f49",
      "4a2a00204e5f49a78b4a9ec0d54ec554",
      "8ce704027a954760970f15027ce8c93f",
      "87db7a78d40d422e88eac4a865e58cc0",
      "f5b3d7fa214245d497d632c6760ae152",
      "521950358ee740a49a540a9e34d42561",
      "275143fcd1114a39a443742c521cbb10",
      "7722c43464904d7b90806163a6628a85",
      "021bd6c5019a45e883c12ed84730ad2e",
      "b26199ed67b045aa830214355061db73",
      "de820d03df5d4d8e9c6c1b05451fe2ef",
      "c75a1cc9c3bc43e88680c2a294a0034e",
      "bc928a07373f49b6bfbeb107a2c3c0b6",
      "2096d06042d84f0cae418678e66b8989",
      "4fac1b4562e64a16a698126e61d30983",
      "7b3a4e93c6084b4a8c28dfde8b142a25",
      "62755ce2a04d4865939de2a029305285",
      "b62da4071fe94a8580023c4c3598a898",
      "a244411bc65c4967a1bcfba1cf5a4e07",
      "1014d12c0d1a4fc4baf827ef100f89c9",
      "071d7884419640a9bd0237a74a085fb5",
      "e95133fed5824975868d65802d0cba2d",
      "a6083efa8b4748ab88ec2b63e0900a5f",
      "ae8fbca3b56d426f8332e9391279dda9",
      "0d6625378f274b3da3d8a45c2b61227f",
      "e18aa815f21f4795b8e9383beda606c6",
      "28ed63c7d589477281497707e18ee57f",
      "98a2d2156edd4b3a9263a7b239b1232f",
      "27dba8a9f9be4e81b21b3f1021d3bcb7",
      "d254ac9b1e00419cb899fe59377909e5",
      "a3471d4c0541459dba04307d3d0b11e5",
      "f0b2a8dcb4ee4d3ea6eaba7e1f6bf95c",
      "2f265936955848eaba5ab82fd7f44308",
      "d27ad0700ae749f4adac90add72e648c",
      "92c1b9854a984482acaea3442de8d2f3",
      "e0c42be4dced48508a55df7f5bb142ec",
      "0761a8cc8bca4943b0f47ea221f190b4",
      "790c0467fb53474b8d2b742a72a09534",
      "65a21f5669724f0b90998b6e2f8351ce",
      "4e860aec9df248e09592295cd590d717",
      "47a9d794904c49afa5b070c696d5c095",
      "2e5759d4d6c844fba504ce2ad12d79ba",
      "65baeec2a4c34000863bbc3573df7a77",
      "fcc843e9ec544746b3a22042fc961f9a",
      "b209730ab66b49e28eda673ef6035801",
      "6a755dcb0d974a3da38bb7be7902a950",
      "4affc5a375624b5ba42831f905b11bcb",
      "fa1604a1b664494c98e351ecd1c3aba0",
      "6727e94af2fc45149897da8bc0aaf3d6",
      "2f387fa1e52c442cabe3b850c8564a5d",
      "22e7bdcc1fd74405918a37d6227ca649"
     ]
    },
    "id": "wOOI9DPhy4QY",
    "outputId": "1d7cdfe3-783d-4726-996a-da6b200d2777"
   },
   "outputs": [
    {
     "data": {
      "application/vnd.jupyter.widget-view+json": {
       "model_id": "434dd075b38349129dd1e02102fd3ced",
       "version_major": 2,
       "version_minor": 0
      },
      "text/plain": [
       "TRAIN Epoch 00:   0%|          | 0/387 [00:00<?, ?it/s]"
      ]
     },
     "metadata": {},
     "output_type": "display_data"
    },
    {
     "data": {
      "application/vnd.jupyter.widget-view+json": {
       "model_id": "c540bec99a6444b290545ac5ccf900e2",
       "version_major": 2,
       "version_minor": 0
      },
      "text/plain": [
       "VALID Epoch 00:   0%|          | 0/96 [00:00<?, ?it/s]"
      ]
     },
     "metadata": {},
     "output_type": "display_data"
    },
    {
     "name": "stdout",
     "output_type": "stream",
     "text": [
      "[Epoch 1/3] [Train Loss: 0.3174] [Valid Loss: 0.3004]\n"
     ]
    },
    {
     "data": {
      "application/vnd.jupyter.widget-view+json": {
       "model_id": "cabc39537cfc4010895ecee6b14b840f",
       "version_major": 2,
       "version_minor": 0
      },
      "text/plain": [
       "TRAIN Epoch 01:   0%|          | 0/387 [00:00<?, ?it/s]"
      ]
     },
     "metadata": {},
     "output_type": "display_data"
    },
    {
     "data": {
      "application/vnd.jupyter.widget-view+json": {
       "model_id": "cd0193e86b08477497f9af571f432626",
       "version_major": 2,
       "version_minor": 0
      },
      "text/plain": [
       "VALID Epoch 01:   0%|          | 0/96 [00:00<?, ?it/s]"
      ]
     },
     "metadata": {},
     "output_type": "display_data"
    },
    {
     "name": "stdout",
     "output_type": "stream",
     "text": [
      "[Epoch 2/3] [Train Loss: 0.3073] [Valid Loss: 0.2975]\n"
     ]
    },
    {
     "data": {
      "application/vnd.jupyter.widget-view+json": {
       "model_id": "1d6838d40b06458a8e05cb4206cb1481",
       "version_major": 2,
       "version_minor": 0
      },
      "text/plain": [
       "TRAIN Epoch 02:   0%|          | 0/387 [00:00<?, ?it/s]"
      ]
     },
     "metadata": {},
     "output_type": "display_data"
    },
    {
     "data": {
      "application/vnd.jupyter.widget-view+json": {
       "model_id": "721823aafc634bbd9ab43842ced7e05c",
       "version_major": 2,
       "version_minor": 0
      },
      "text/plain": [
       "VALID Epoch 02:   0%|          | 0/96 [00:00<?, ?it/s]"
      ]
     },
     "metadata": {},
     "output_type": "display_data"
    },
    {
     "name": "stdout",
     "output_type": "stream",
     "text": [
      "[Epoch 3/3] [Train Loss: 0.3005] [Valid Loss: 0.2973]\n"
     ]
    }
   ],
   "source": [
    "NUM_EPOCHS = 3\n",
    "model = LinearProjection()\n",
    "runner = Metric_Runner(model=model, lr = LR, momentum = MOMENTUM, weight_decay = WEIGHT_DECAY, sr = SR)\n",
    "for epoch in range(NUM_EPOCHS):\n",
    "  train_loss = runner.run(loader_train, epoch, 'TRAIN')\n",
    "  valid_loss = runner.run(loader_valid, epoch, 'VALID')\n",
    "  print(\"[Epoch %d/%d] [Train Loss: %.4f] [Valid Loss: %.4f]\" %\n",
    "        (epoch + 1, NUM_EPOCHS, train_loss, valid_loss))\n",
    "  if runner.early_stop(valid_loss, epoch + 1):\n",
    "    break"
   ]
  },
  {
   "cell_type": "code",
   "execution_count": 181,
   "metadata": {
    "id": "XpFMy5Xx9RnD"
   },
   "outputs": [
    {
     "data": {
      "application/vnd.jupyter.widget-view+json": {
       "model_id": "e6c9c01a157e4a97977aae4c0f8b5497",
       "version_major": 2,
       "version_minor": 0
      },
      "text/plain": [
       "TEST:   0%|          | 0/1339 [00:00<?, ?it/s]"
      ]
     },
     "metadata": {},
     "output_type": "display_data"
    },
    {
     "name": "stdout",
     "output_type": "stream",
     "text": [
      "[[ 1.0000005   0.8038367   0.7241065  ... -0.33296677 -0.19945891\n",
      "  -0.24652752]\n",
      " [ 0.8038367   1.0000006   0.7030273  ... -0.29676622 -0.13715693\n",
      "  -0.24074608]\n",
      " [ 0.7241065   0.7030273   0.9999994  ... -0.21144395 -0.18166277\n",
      "  -0.36374336]\n",
      " ...\n",
      " [-0.3329668  -0.29676625 -0.21144395 ...  1.0000007   0.61211824\n",
      "   0.45896938]\n",
      " [-0.19945893 -0.13715696 -0.18166277 ...  0.61211824  1.0000006\n",
      "   0.36746272]\n",
      " [-0.24652751 -0.24074605 -0.36374336 ...  0.45896938  0.36746272\n",
      "   0.9999994 ]]\n"
     ]
    }
   ],
   "source": [
    "multilabel_recall = runner.test(loader_test)"
   ]
  },
  {
   "cell_type": "code",
   "execution_count": 182,
   "metadata": {
    "id": "8-YCn2uyhZvh"
   },
   "outputs": [
    {
     "data": {
      "text/plain": [
       "{'R@1': 0.3884792122656197,\n",
       " 'R@2': 0.5248360593020788,\n",
       " 'R@4': 0.6632427981942541,\n",
       " 'R@8': 0.7854506065671109}"
      ]
     },
     "execution_count": 182,
     "metadata": {},
     "output_type": "execute_result"
    }
   ],
   "source": [
    "multilabel_recall"
   ]
  },
  {
   "cell_type": "markdown",
   "metadata": {
    "id": "ef-Qjx1rdYEY"
   },
   "source": [
    "### [Question 4] Improve the performenace.\n",
    "Now it is your turn. You should improve the baseline code with your own algorithm. There are many ways to improve it. The followings are possible ideas: \n",
    "\n",
    "* Change backbone model\n",
    "  - https://arxiv.org/abs/1609.04243\n",
    "  - https://arxiv.org/abs/1711.02520\n",
    "  - https://arxiv.org/abs/2006.00751\n",
    "* Change distance mesure\n",
    "  - Euclidean distance\n",
    "  - Cosine distance\n",
    "* Change positive negative sampling\n",
    "  - Tag based sampling\n",
    "  - Timbre, Beat based sampling\n",
    "  - Latent Space based sampling (SVD or Word Embedding)\n",
    "  - Instance based sampling"
   ]
  },
  {
   "cell_type": "code",
   "execution_count": 199,
   "metadata": {
    "id": "AqTgCmU5h32G"
   },
   "outputs": [],
   "source": [
    "class Conv_1d_Q2(nn.Module):\n",
    "  def __init__(self, input_channels, output_channels):\n",
    "    super(Conv_1d_Q2, self).__init__()\n",
    "    self.conv = nn.Conv2d(input_channels, output_channels, 1, 1, 0, bias=True) \n",
    "    self.bn = nn.BatchNorm2d(output_channels)\n",
    "    \n",
    "  def forward(self, x):\n",
    "    identity = x\n",
    "    out = self.bn(self.conv(x))\n",
    "    return out \n",
    "\n",
    "class Conv_2d_Q2(nn.Module):\n",
    "  def __init__(self, input_channels, output_channels, kernel_size=3, stride=1, padding=1, pooling=2):\n",
    "    super(Conv_2d_Q2, self).__init__()\n",
    "    self.conv = nn.Conv2d(input_channels, output_channels, kernel_size, 1, padding, bias=True) \n",
    "    self.bn = nn.BatchNorm2d(output_channels)\n",
    "    self.relu = nn.ReLU(inplace=True) \n",
    "    self.mp = nn.MaxPool2d(pooling)\n",
    "    \n",
    "  def forward(self, x):\n",
    "    out = self.mp(self.relu(self.bn(self.conv(x))))\n",
    "    return out \n",
    "\n",
    "class Projection_Q4(nn.Module):\n",
    "  \"\"\"\n",
    "  Backbone model for linear proejction\n",
    "  mel spectrogam to embedding\n",
    "  \"\"\"\n",
    "  def __init__(self,\n",
    "              sample_rate=16000,\n",
    "              n_fft=512,\n",
    "              f_min=0.0,\n",
    "              f_max=8000.0,\n",
    "              n_mels=96):\n",
    "    \"\"\"\n",
    "    Args:\n",
    "      sample_rate (int): path to load dataset from\n",
    "      n_fft (int): number of samples for fft\n",
    "      f_min (float): min freq\n",
    "      f_max (float): max freq\n",
    "      n_mels (float): number of mel bin\n",
    "      n_class (int): number of class\n",
    "    \"\"\"\n",
    "    super(Projection_Q4, self).__init__()\n",
    "    self.apply(self.init_params) \n",
    "    self.spec = torchaudio.transforms.MelSpectrogram(sample_rate=sample_rate,\n",
    "                                                      n_fft=n_fft,\n",
    "                                                      f_min=f_min,\n",
    "                                                      f_max=f_max,\n",
    "                                                      n_mels=n_mels)\n",
    "    self.to_db = torchaudio.transforms.AmplitudeToDB()\n",
    "    self.spec_bn = nn.BatchNorm2d(1)\n",
    "    self.layer1 = Conv_2d_Q2(1, 128, 3, 1, 1, 4)\n",
    "    self.layer2 = Conv_2d_Q2(128, 256, 3, 1, 1, 3)\n",
    "    self.layer3 = Conv_2d_Q2(256, 512, 3, 1, 1, 3)\n",
    "    self.layer4 = Conv_2d_Q2(512, 1024, 3, 1, 1, (2,5))    \n",
    "    self.layer5 = Conv_1d_Q2(1024, 1024)\n",
    "    \n",
    "  def init_params(self, m):\n",
    "    for m in self.modules(): \n",
    "        if isinstance(m, nn.Linear) or isinstance(m, nn.Conv2d):\n",
    "            torch.nn.init.xavier_normal_(m.weight)\n",
    "            torch.nn.init.constant_(m.bias, 0)\n",
    "        elif isinstance(m, nn.BatchNorm2d):\n",
    "            torch.nn.init.constant_(m.weight, 1)\n",
    "            torch.nn.init.constant_(m.bias, 0)    \n",
    "            \n",
    "  def forward(self, x):\n",
    "    x = self.spec(x)\n",
    "    x = self.to_db(x)\n",
    "    x = self.spec_bn(x)\n",
    "    x = self.layer1(x)\n",
    "    x = self.layer2(x)\n",
    "    x = self.layer3(x)\n",
    "    x = self.layer4(x)\n",
    "    x = self.layer5(x)\n",
    "    embedding = x.view(x.size(0), -1)\n",
    "    return embedding"
   ]
  },
  {
   "cell_type": "code",
   "execution_count": 200,
   "metadata": {},
   "outputs": [],
   "source": [
    "class Metric_Runner_Q4(object):\n",
    "  def __init__(self, model, lr, sr):\n",
    "    \"\"\"\n",
    "    Args:\n",
    "      model (nn.Module): pytorch model\n",
    "      lr (float): learning rate\n",
    "      momentum (float): momentum\n",
    "      weight_decay (float): weight_decay\n",
    "      sr (float): stopping rate\n",
    "    \"\"\"\n",
    "    self.optimizer = torch.optim.Adam(model.parameters(), lr=lr)    \n",
    "    self.scheduler = ReduceLROnPlateau(self.optimizer, mode='min', factor=0.1, patience=2, verbose=True)\n",
    "    self.learning_rate = lr\n",
    "    self.stopping_rate = sr\n",
    "    self.device = torch.device('cuda') if torch.cuda.is_available() else torch.device('cpu')\n",
    "    self.model = model.to(self.device)\n",
    "    self.criterion = nn.TripletMarginLoss(margin=0.4, p=2).to(self.device)\n",
    "\n",
    "  # Running model for train, test and validation. mode: 'train' for training, 'eval' for validation and test\n",
    "  def run(self, dataloader, epoch, mode='TRAIN'):\n",
    "    self.model.train() if mode is 'TRAIN' else self.model.eval()\n",
    "\n",
    "    epoch_loss = 0\n",
    "    pbar = tqdm(dataloader, desc=f'{mode} Epoch {epoch:02}')  # progress bar\n",
    "    for item in pbar:\n",
    "      # Move mini-batch to the desired device.\n",
    "      anc, pos, neg = item\n",
    "      anc_emb = self.model(anc.to(self.device))\n",
    "      pos_emb = self.model(pos.to(self.device))\n",
    "      neg_emb = self.model(neg.to(self.device))\n",
    "      \n",
    "      # Compute the loss.\n",
    "      loss = self.criterion(anc_emb, pos_emb, neg_emb)\n",
    "      if mode is 'TRAIN':\n",
    "        # Perform backward propagation to compute gradients.\n",
    "        loss.backward()\n",
    "        # Update the parameters.\n",
    "        self.optimizer.step()\n",
    "        # Reset the computed gradients.\n",
    "        self.optimizer.zero_grad()\n",
    "\n",
    "      batch_size = anc_emb.shape[0]\n",
    "      epoch_loss += batch_size * loss.item()\n",
    "    epoch_loss = epoch_loss / len(dataloader.dataset)\n",
    "    return epoch_loss\n",
    "\n",
    "  def test(self, dataloader):\n",
    "    self.model.eval()\n",
    "    epoch_loss = 0\n",
    "    embeddings, labels = [], []\n",
    "    pbar = tqdm(dataloader, desc=f'TEST')  # progress bar\n",
    "    for waveform, label in pbar:\n",
    "      waveform = waveform.transpose(1,0)\n",
    "      with torch.no_grad():\n",
    "        embedding = self.model(waveform.to(self.device))\n",
    "      embeddings.append(embedding.mean(0,True).detach().cpu())\n",
    "      labels.append(label)\n",
    "    embeddings = torch.stack(embeddings).squeeze(1)\n",
    "    labels = torch.stack(labels).squeeze(1)\n",
    "\n",
    "    # Euclidean distance matrix\n",
    "    sim_matrix = torch.zeros(embeddings.shape[0], embeddings.shape[0])\n",
    "    for i in range(embeddings.shape[0]):\n",
    "        sim_matrix[i,:]=torch.norm(embeddings[i,:]-embeddings, dim=1)    \n",
    "    sim_matrix = -sim_matrix\n",
    "    sim_matrix = sim_matrix.detach().cpu().numpy()\n",
    "    labels = labels.detach().cpu().numpy()\n",
    "\n",
    "    multilabel_recall = {\n",
    "        \"R@1\" : self.multilabel_recall(sim_matrix, labels, top_k=1),\n",
    "        \"R@2\" : self.multilabel_recall(sim_matrix, labels, top_k=2),\n",
    "        \"R@4\" : self.multilabel_recall(sim_matrix, labels, top_k=4),\n",
    "        \"R@8\" : self.multilabel_recall(sim_matrix, labels, top_k=8),\n",
    "    }\n",
    "    return multilabel_recall\n",
    "\n",
    "  def multilabel_recall(self, sim_matrix, binary_labels, top_k):\n",
    "    Multilabel_Recall=0    \n",
    "    for i in range(binary_labels.shape[0]):\n",
    "        indices = (-sim_matrix[i,:]).argsort()[:top_k+1]\n",
    "        indices = np.delete(indices, np.where(indices==i))    \n",
    "        numerator  = np.sum(np.logical_and(binary_labels[i,:], np.any(binary_labels[indices,:], axis=0)))\n",
    "        denominator = np.sum(binary_labels[i,:])\n",
    "        Multilabel_Recall += numerator / denominator\n",
    "    Multilabel_Recall /= binary_labels.shape[0]   \n",
    "    return Multilabel_Recall\n",
    "\n",
    "  # Early stopping function for given validation loss\n",
    "  def early_stop(self, loss, epoch):\n",
    "    self.scheduler.step(loss, epoch)\n",
    "    self.learning_rate = self.optimizer.param_groups[0]['lr']\n",
    "    stop = self.learning_rate < self.stopping_rate\n",
    "    return stop"
   ]
  },
  {
   "cell_type": "code",
   "execution_count": 201,
   "metadata": {},
   "outputs": [],
   "source": [
    "# Training setup.\n",
    "LR = 1e-2  # learning rate\n",
    "SR = 1e-6  # stopping rate\n",
    "NUM_EPOCHS = 3"
   ]
  },
  {
   "cell_type": "code",
   "execution_count": 202,
   "metadata": {},
   "outputs": [
    {
     "data": {
      "application/vnd.jupyter.widget-view+json": {
       "model_id": "c26077b19f66452c8b29aac42840bb02",
       "version_major": 2,
       "version_minor": 0
      },
      "text/plain": [
       "TRAIN Epoch 00:   0%|          | 0/387 [00:00<?, ?it/s]"
      ]
     },
     "metadata": {},
     "output_type": "display_data"
    },
    {
     "data": {
      "application/vnd.jupyter.widget-view+json": {
       "model_id": "69b59f6898ed4df5bdf745c1e0dfa464",
       "version_major": 2,
       "version_minor": 0
      },
      "text/plain": [
       "VALID Epoch 00:   0%|          | 0/96 [00:00<?, ?it/s]"
      ]
     },
     "metadata": {},
     "output_type": "display_data"
    },
    {
     "name": "stdout",
     "output_type": "stream",
     "text": [
      "[Epoch 1/3] [Train Loss: 1.6735] [Valid Loss: 0.3100]\n"
     ]
    },
    {
     "data": {
      "application/vnd.jupyter.widget-view+json": {
       "model_id": "55694ca885f44f878a293c19ce598fa5",
       "version_major": 2,
       "version_minor": 0
      },
      "text/plain": [
       "TRAIN Epoch 01:   0%|          | 0/387 [00:00<?, ?it/s]"
      ]
     },
     "metadata": {},
     "output_type": "display_data"
    },
    {
     "data": {
      "application/vnd.jupyter.widget-view+json": {
       "model_id": "8b6d68b337c74c179c052c19d29110f7",
       "version_major": 2,
       "version_minor": 0
      },
      "text/plain": [
       "VALID Epoch 01:   0%|          | 0/96 [00:00<?, ?it/s]"
      ]
     },
     "metadata": {},
     "output_type": "display_data"
    },
    {
     "name": "stdout",
     "output_type": "stream",
     "text": [
      "[Epoch 2/3] [Train Loss: 0.3268] [Valid Loss: 0.3024]\n"
     ]
    },
    {
     "data": {
      "application/vnd.jupyter.widget-view+json": {
       "model_id": "4d3b7d22e1764ec7a96aada6f559e559",
       "version_major": 2,
       "version_minor": 0
      },
      "text/plain": [
       "TRAIN Epoch 02:   0%|          | 0/387 [00:00<?, ?it/s]"
      ]
     },
     "metadata": {},
     "output_type": "display_data"
    },
    {
     "data": {
      "application/vnd.jupyter.widget-view+json": {
       "model_id": "708d7185aa04487a9362b0d1c0b213f4",
       "version_major": 2,
       "version_minor": 0
      },
      "text/plain": [
       "VALID Epoch 02:   0%|          | 0/96 [00:00<?, ?it/s]"
      ]
     },
     "metadata": {},
     "output_type": "display_data"
    },
    {
     "name": "stdout",
     "output_type": "stream",
     "text": [
      "[Epoch 3/3] [Train Loss: 0.3182] [Valid Loss: 0.3163]\n"
     ]
    }
   ],
   "source": [
    "model = Projection_Q4()\n",
    "runner = Metric_Runner_Q4(model=model, lr = LR, sr = SR)\n",
    "for epoch in range(NUM_EPOCHS):\n",
    "  train_loss = runner.run(loader_train, epoch, 'TRAIN')\n",
    "  valid_loss = runner.run(loader_valid, epoch, 'VALID')\n",
    "  print(\"[Epoch %d/%d] [Train Loss: %.4f] [Valid Loss: %.4f]\" %\n",
    "        (epoch + 1, NUM_EPOCHS, train_loss, valid_loss))\n",
    "  if runner.early_stop(valid_loss, epoch + 1):\n",
    "    break"
   ]
  },
  {
   "cell_type": "code",
   "execution_count": 203,
   "metadata": {},
   "outputs": [
    {
     "data": {
      "application/vnd.jupyter.widget-view+json": {
       "model_id": "b4996dadfc0246759c73cda3707a6979",
       "version_major": 2,
       "version_minor": 0
      },
      "text/plain": [
       "TEST:   0%|          | 0/1339 [00:00<?, ?it/s]"
      ]
     },
     "metadata": {},
     "output_type": "display_data"
    }
   ],
   "source": [
    "multilabel_recall = runner.test(loader_test)"
   ]
  },
  {
   "cell_type": "code",
   "execution_count": 204,
   "metadata": {},
   "outputs": [
    {
     "data": {
      "text/plain": [
       "{'R@1': 0.3533652162292938,\n",
       " 'R@2': 0.4962460409062349,\n",
       " 'R@4': 0.6420733527529638,\n",
       " 'R@8': 0.7751820994539437}"
      ]
     },
     "execution_count": 204,
     "metadata": {},
     "output_type": "execute_result"
    }
   ],
   "source": [
    "multilabel_recall"
   ]
  },
  {
   "cell_type": "markdown",
   "metadata": {
    "id": "CRfOAefCh57y"
   },
   "source": [
    "\n",
    "# Deliverables\n",
    "You should submit your Python code (`.ipynb` or `.py` files) and homework report (.pdf file) to KLMS. The report should include:\n",
    "* Algorithm Description\n",
    "* Experiments and Results\n",
    "* Discussion\n",
    "\n",
    "# Note\n",
    "The code is written using PyTorch but you can use TensorFlow if you want.\n",
    "\n",
    "# Credit\n",
    "Thie homework was implemented by Jongpil Lee, Soonbeom Choi, Taejun Kim and SeungHeon Doh in the KAIST Music and Audio Computing Lab.\n"
   ]
  }
 ],
 "metadata": {
  "accelerator": "GPU",
  "colab": {
   "collapsed_sections": [],
   "name": "GCT634/AI613 (Fall 2021) HW#2 Colab Notebook",
   "provenance": []
  },
  "kernelspec": {
   "display_name": "Python 3 (ipykernel)",
   "language": "python",
   "name": "python3"
  },
  "language_info": {
   "codemirror_mode": {
    "name": "ipython",
    "version": 3
   },
   "file_extension": ".py",
   "mimetype": "text/x-python",
   "name": "python",
   "nbconvert_exporter": "python",
   "pygments_lexer": "ipython3",
   "version": "3.7.11"
  },
  "widgets": {
   "application/vnd.jupyter.widget-state+json": {
    "00b03e3e1b36414f904f77c11cd273ab": {
     "model_module": "@jupyter-widgets/base",
     "model_module_version": "1.2.0",
     "model_name": "LayoutModel",
     "state": {
      "_model_module": "@jupyter-widgets/base",
      "_model_module_version": "1.2.0",
      "_model_name": "LayoutModel",
      "_view_count": null,
      "_view_module": "@jupyter-widgets/base",
      "_view_module_version": "1.2.0",
      "_view_name": "LayoutView",
      "align_content": null,
      "align_items": null,
      "align_self": null,
      "border": null,
      "bottom": null,
      "display": null,
      "flex": null,
      "flex_flow": null,
      "grid_area": null,
      "grid_auto_columns": null,
      "grid_auto_flow": null,
      "grid_auto_rows": null,
      "grid_column": null,
      "grid_gap": null,
      "grid_row": null,
      "grid_template_areas": null,
      "grid_template_columns": null,
      "grid_template_rows": null,
      "height": null,
      "justify_content": null,
      "justify_items": null,
      "left": null,
      "margin": null,
      "max_height": null,
      "max_width": null,
      "min_height": null,
      "min_width": null,
      "object_fit": null,
      "object_position": null,
      "order": null,
      "overflow": null,
      "overflow_x": null,
      "overflow_y": null,
      "padding": null,
      "right": null,
      "top": null,
      "visibility": null,
      "width": null
     }
    },
    "01bc6bfbd6014dc5ac93bed246a0f3c8": {
     "model_module": "@jupyter-widgets/controls",
     "model_module_version": "1.5.0",
     "model_name": "FloatProgressModel",
     "state": {
      "_dom_classes": [],
      "_model_module": "@jupyter-widgets/controls",
      "_model_module_version": "1.5.0",
      "_model_name": "FloatProgressModel",
      "_view_count": null,
      "_view_module": "@jupyter-widgets/controls",
      "_view_module_version": "1.5.0",
      "_view_name": "ProgressView",
      "bar_style": "success",
      "description": "",
      "description_tooltip": null,
      "layout": "IPY_MODEL_d931fd25ed5b4a978a151da213391bd9",
      "max": 387,
      "min": 0,
      "orientation": "horizontal",
      "style": "IPY_MODEL_27fb8545902b4f38849a3ca4c8436a6a",
      "value": 387
     }
    },
    "021bd6c5019a45e883c12ed84730ad2e": {
     "model_module": "@jupyter-widgets/base",
     "model_module_version": "1.2.0",
     "model_name": "LayoutModel",
     "state": {
      "_model_module": "@jupyter-widgets/base",
      "_model_module_version": "1.2.0",
      "_model_name": "LayoutModel",
      "_view_count": null,
      "_view_module": "@jupyter-widgets/base",
      "_view_module_version": "1.2.0",
      "_view_name": "LayoutView",
      "align_content": null,
      "align_items": null,
      "align_self": null,
      "border": null,
      "bottom": null,
      "display": null,
      "flex": null,
      "flex_flow": null,
      "grid_area": null,
      "grid_auto_columns": null,
      "grid_auto_flow": null,
      "grid_auto_rows": null,
      "grid_column": null,
      "grid_gap": null,
      "grid_row": null,
      "grid_template_areas": null,
      "grid_template_columns": null,
      "grid_template_rows": null,
      "height": null,
      "justify_content": null,
      "justify_items": null,
      "left": null,
      "margin": null,
      "max_height": null,
      "max_width": null,
      "min_height": null,
      "min_width": null,
      "object_fit": null,
      "object_position": null,
      "order": null,
      "overflow": null,
      "overflow_x": null,
      "overflow_y": null,
      "padding": null,
      "right": null,
      "top": null,
      "visibility": null,
      "width": null
     }
    },
    "02610d76caa34365808c037fe029f5b6": {
     "model_module": "@jupyter-widgets/controls",
     "model_module_version": "1.5.0",
     "model_name": "HBoxModel",
     "state": {
      "_dom_classes": [],
      "_model_module": "@jupyter-widgets/controls",
      "_model_module_version": "1.5.0",
      "_model_name": "HBoxModel",
      "_view_count": null,
      "_view_module": "@jupyter-widgets/controls",
      "_view_module_version": "1.5.0",
      "_view_name": "HBoxView",
      "box_style": "",
      "children": [
       "IPY_MODEL_d6f30c77b0624fb48bd782f55d154a95",
       "IPY_MODEL_f56d14df27524479a5c7e5569d297946",
       "IPY_MODEL_e4f1a4aea6994deab2df41e513ad4465"
      ],
      "layout": "IPY_MODEL_4d8c2d2730224e1db766988b71bd69e3"
     }
    },
    "0688021a898a46f0bcbe4fcd84ead086": {
     "model_module": "@jupyter-widgets/base",
     "model_module_version": "1.2.0",
     "model_name": "LayoutModel",
     "state": {
      "_model_module": "@jupyter-widgets/base",
      "_model_module_version": "1.2.0",
      "_model_name": "LayoutModel",
      "_view_count": null,
      "_view_module": "@jupyter-widgets/base",
      "_view_module_version": "1.2.0",
      "_view_name": "LayoutView",
      "align_content": null,
      "align_items": null,
      "align_self": null,
      "border": null,
      "bottom": null,
      "display": null,
      "flex": null,
      "flex_flow": null,
      "grid_area": null,
      "grid_auto_columns": null,
      "grid_auto_flow": null,
      "grid_auto_rows": null,
      "grid_column": null,
      "grid_gap": null,
      "grid_row": null,
      "grid_template_areas": null,
      "grid_template_columns": null,
      "grid_template_rows": null,
      "height": null,
      "justify_content": null,
      "justify_items": null,
      "left": null,
      "margin": null,
      "max_height": null,
      "max_width": null,
      "min_height": null,
      "min_width": null,
      "object_fit": null,
      "object_position": null,
      "order": null,
      "overflow": null,
      "overflow_x": null,
      "overflow_y": null,
      "padding": null,
      "right": null,
      "top": null,
      "visibility": null,
      "width": null
     }
    },
    "071d7884419640a9bd0237a74a085fb5": {
     "model_module": "@jupyter-widgets/controls",
     "model_module_version": "1.5.0",
     "model_name": "HTMLModel",
     "state": {
      "_dom_classes": [],
      "_model_module": "@jupyter-widgets/controls",
      "_model_module_version": "1.5.0",
      "_model_name": "HTMLModel",
      "_view_count": null,
      "_view_module": "@jupyter-widgets/controls",
      "_view_module_version": "1.5.0",
      "_view_name": "HTMLView",
      "description": "",
      "description_tooltip": null,
      "layout": "IPY_MODEL_0d6625378f274b3da3d8a45c2b61227f",
      "placeholder": "​",
      "style": "IPY_MODEL_ae8fbca3b56d426f8332e9391279dda9",
      "value": "VALID Epoch 01: 100%"
     }
    },
    "0761a8cc8bca4943b0f47ea221f190b4": {
     "model_module": "@jupyter-widgets/controls",
     "model_module_version": "1.5.0",
     "model_name": "ProgressStyleModel",
     "state": {
      "_model_module": "@jupyter-widgets/controls",
      "_model_module_version": "1.5.0",
      "_model_name": "ProgressStyleModel",
      "_view_count": null,
      "_view_module": "@jupyter-widgets/base",
      "_view_module_version": "1.2.0",
      "_view_name": "StyleView",
      "bar_color": null,
      "description_width": ""
     }
    },
    "086e764a3cdb4d8c90e3219426f2ec87": {
     "model_module": "@jupyter-widgets/controls",
     "model_module_version": "1.5.0",
     "model_name": "DescriptionStyleModel",
     "state": {
      "_model_module": "@jupyter-widgets/controls",
      "_model_module_version": "1.5.0",
      "_model_name": "DescriptionStyleModel",
      "_view_count": null,
      "_view_module": "@jupyter-widgets/base",
      "_view_module_version": "1.2.0",
      "_view_name": "StyleView",
      "description_width": ""
     }
    },
    "0a2effe6de324b058a2d55958e148a8f": {
     "model_module": "@jupyter-widgets/controls",
     "model_module_version": "1.5.0",
     "model_name": "DescriptionStyleModel",
     "state": {
      "_model_module": "@jupyter-widgets/controls",
      "_model_module_version": "1.5.0",
      "_model_name": "DescriptionStyleModel",
      "_view_count": null,
      "_view_module": "@jupyter-widgets/base",
      "_view_module_version": "1.2.0",
      "_view_name": "StyleView",
      "description_width": ""
     }
    },
    "0b3cb854f43f4a01b2be08238475c958": {
     "model_module": "@jupyter-widgets/base",
     "model_module_version": "1.2.0",
     "model_name": "LayoutModel",
     "state": {
      "_model_module": "@jupyter-widgets/base",
      "_model_module_version": "1.2.0",
      "_model_name": "LayoutModel",
      "_view_count": null,
      "_view_module": "@jupyter-widgets/base",
      "_view_module_version": "1.2.0",
      "_view_name": "LayoutView",
      "align_content": null,
      "align_items": null,
      "align_self": null,
      "border": null,
      "bottom": null,
      "display": null,
      "flex": null,
      "flex_flow": null,
      "grid_area": null,
      "grid_auto_columns": null,
      "grid_auto_flow": null,
      "grid_auto_rows": null,
      "grid_column": null,
      "grid_gap": null,
      "grid_row": null,
      "grid_template_areas": null,
      "grid_template_columns": null,
      "grid_template_rows": null,
      "height": null,
      "justify_content": null,
      "justify_items": null,
      "left": null,
      "margin": null,
      "max_height": null,
      "max_width": null,
      "min_height": null,
      "min_width": null,
      "object_fit": null,
      "object_position": null,
      "order": null,
      "overflow": null,
      "overflow_x": null,
      "overflow_y": null,
      "padding": null,
      "right": null,
      "top": null,
      "visibility": null,
      "width": null
     }
    },
    "0b3f907b5b3c455b8a038070142bc755": {
     "model_module": "@jupyter-widgets/base",
     "model_module_version": "1.2.0",
     "model_name": "LayoutModel",
     "state": {
      "_model_module": "@jupyter-widgets/base",
      "_model_module_version": "1.2.0",
      "_model_name": "LayoutModel",
      "_view_count": null,
      "_view_module": "@jupyter-widgets/base",
      "_view_module_version": "1.2.0",
      "_view_name": "LayoutView",
      "align_content": null,
      "align_items": null,
      "align_self": null,
      "border": null,
      "bottom": null,
      "display": null,
      "flex": null,
      "flex_flow": null,
      "grid_area": null,
      "grid_auto_columns": null,
      "grid_auto_flow": null,
      "grid_auto_rows": null,
      "grid_column": null,
      "grid_gap": null,
      "grid_row": null,
      "grid_template_areas": null,
      "grid_template_columns": null,
      "grid_template_rows": null,
      "height": null,
      "justify_content": null,
      "justify_items": null,
      "left": null,
      "margin": null,
      "max_height": null,
      "max_width": null,
      "min_height": null,
      "min_width": null,
      "object_fit": null,
      "object_position": null,
      "order": null,
      "overflow": null,
      "overflow_x": null,
      "overflow_y": null,
      "padding": null,
      "right": null,
      "top": null,
      "visibility": null,
      "width": null
     }
    },
    "0cdb413534964c24adb24b762923f351": {
     "model_module": "@jupyter-widgets/base",
     "model_module_version": "1.2.0",
     "model_name": "LayoutModel",
     "state": {
      "_model_module": "@jupyter-widgets/base",
      "_model_module_version": "1.2.0",
      "_model_name": "LayoutModel",
      "_view_count": null,
      "_view_module": "@jupyter-widgets/base",
      "_view_module_version": "1.2.0",
      "_view_name": "LayoutView",
      "align_content": null,
      "align_items": null,
      "align_self": null,
      "border": null,
      "bottom": null,
      "display": null,
      "flex": null,
      "flex_flow": null,
      "grid_area": null,
      "grid_auto_columns": null,
      "grid_auto_flow": null,
      "grid_auto_rows": null,
      "grid_column": null,
      "grid_gap": null,
      "grid_row": null,
      "grid_template_areas": null,
      "grid_template_columns": null,
      "grid_template_rows": null,
      "height": null,
      "justify_content": null,
      "justify_items": null,
      "left": null,
      "margin": null,
      "max_height": null,
      "max_width": null,
      "min_height": null,
      "min_width": null,
      "object_fit": null,
      "object_position": null,
      "order": null,
      "overflow": null,
      "overflow_x": null,
      "overflow_y": null,
      "padding": null,
      "right": null,
      "top": null,
      "visibility": null,
      "width": null
     }
    },
    "0d6625378f274b3da3d8a45c2b61227f": {
     "model_module": "@jupyter-widgets/base",
     "model_module_version": "1.2.0",
     "model_name": "LayoutModel",
     "state": {
      "_model_module": "@jupyter-widgets/base",
      "_model_module_version": "1.2.0",
      "_model_name": "LayoutModel",
      "_view_count": null,
      "_view_module": "@jupyter-widgets/base",
      "_view_module_version": "1.2.0",
      "_view_name": "LayoutView",
      "align_content": null,
      "align_items": null,
      "align_self": null,
      "border": null,
      "bottom": null,
      "display": null,
      "flex": null,
      "flex_flow": null,
      "grid_area": null,
      "grid_auto_columns": null,
      "grid_auto_flow": null,
      "grid_auto_rows": null,
      "grid_column": null,
      "grid_gap": null,
      "grid_row": null,
      "grid_template_areas": null,
      "grid_template_columns": null,
      "grid_template_rows": null,
      "height": null,
      "justify_content": null,
      "justify_items": null,
      "left": null,
      "margin": null,
      "max_height": null,
      "max_width": null,
      "min_height": null,
      "min_width": null,
      "object_fit": null,
      "object_position": null,
      "order": null,
      "overflow": null,
      "overflow_x": null,
      "overflow_y": null,
      "padding": null,
      "right": null,
      "top": null,
      "visibility": null,
      "width": null
     }
    },
    "0dce5c43c33d493a87baee1d1777fa21": {
     "model_module": "@jupyter-widgets/base",
     "model_module_version": "1.2.0",
     "model_name": "LayoutModel",
     "state": {
      "_model_module": "@jupyter-widgets/base",
      "_model_module_version": "1.2.0",
      "_model_name": "LayoutModel",
      "_view_count": null,
      "_view_module": "@jupyter-widgets/base",
      "_view_module_version": "1.2.0",
      "_view_name": "LayoutView",
      "align_content": null,
      "align_items": null,
      "align_self": null,
      "border": null,
      "bottom": null,
      "display": null,
      "flex": null,
      "flex_flow": null,
      "grid_area": null,
      "grid_auto_columns": null,
      "grid_auto_flow": null,
      "grid_auto_rows": null,
      "grid_column": null,
      "grid_gap": null,
      "grid_row": null,
      "grid_template_areas": null,
      "grid_template_columns": null,
      "grid_template_rows": null,
      "height": null,
      "justify_content": null,
      "justify_items": null,
      "left": null,
      "margin": null,
      "max_height": null,
      "max_width": null,
      "min_height": null,
      "min_width": null,
      "object_fit": null,
      "object_position": null,
      "order": null,
      "overflow": null,
      "overflow_x": null,
      "overflow_y": null,
      "padding": null,
      "right": null,
      "top": null,
      "visibility": null,
      "width": null
     }
    },
    "0f771ce284554aa4baa9c96cdb956688": {
     "model_module": "@jupyter-widgets/controls",
     "model_module_version": "1.5.0",
     "model_name": "DescriptionStyleModel",
     "state": {
      "_model_module": "@jupyter-widgets/controls",
      "_model_module_version": "1.5.0",
      "_model_name": "DescriptionStyleModel",
      "_view_count": null,
      "_view_module": "@jupyter-widgets/base",
      "_view_module_version": "1.2.0",
      "_view_name": "StyleView",
      "description_width": ""
     }
    },
    "0f8bdc740fef44a68776564bee1d546a": {
     "model_module": "@jupyter-widgets/base",
     "model_module_version": "1.2.0",
     "model_name": "LayoutModel",
     "state": {
      "_model_module": "@jupyter-widgets/base",
      "_model_module_version": "1.2.0",
      "_model_name": "LayoutModel",
      "_view_count": null,
      "_view_module": "@jupyter-widgets/base",
      "_view_module_version": "1.2.0",
      "_view_name": "LayoutView",
      "align_content": null,
      "align_items": null,
      "align_self": null,
      "border": null,
      "bottom": null,
      "display": null,
      "flex": null,
      "flex_flow": null,
      "grid_area": null,
      "grid_auto_columns": null,
      "grid_auto_flow": null,
      "grid_auto_rows": null,
      "grid_column": null,
      "grid_gap": null,
      "grid_row": null,
      "grid_template_areas": null,
      "grid_template_columns": null,
      "grid_template_rows": null,
      "height": null,
      "justify_content": null,
      "justify_items": null,
      "left": null,
      "margin": null,
      "max_height": null,
      "max_width": null,
      "min_height": null,
      "min_width": null,
      "object_fit": null,
      "object_position": null,
      "order": null,
      "overflow": null,
      "overflow_x": null,
      "overflow_y": null,
      "padding": null,
      "right": null,
      "top": null,
      "visibility": null,
      "width": null
     }
    },
    "0f9268dafd084b3989beb38517692ecb": {
     "model_module": "@jupyter-widgets/controls",
     "model_module_version": "1.5.0",
     "model_name": "DescriptionStyleModel",
     "state": {
      "_model_module": "@jupyter-widgets/controls",
      "_model_module_version": "1.5.0",
      "_model_name": "DescriptionStyleModel",
      "_view_count": null,
      "_view_module": "@jupyter-widgets/base",
      "_view_module_version": "1.2.0",
      "_view_name": "StyleView",
      "description_width": ""
     }
    },
    "1014d12c0d1a4fc4baf827ef100f89c9": {
     "model_module": "@jupyter-widgets/base",
     "model_module_version": "1.2.0",
     "model_name": "LayoutModel",
     "state": {
      "_model_module": "@jupyter-widgets/base",
      "_model_module_version": "1.2.0",
      "_model_name": "LayoutModel",
      "_view_count": null,
      "_view_module": "@jupyter-widgets/base",
      "_view_module_version": "1.2.0",
      "_view_name": "LayoutView",
      "align_content": null,
      "align_items": null,
      "align_self": null,
      "border": null,
      "bottom": null,
      "display": null,
      "flex": null,
      "flex_flow": null,
      "grid_area": null,
      "grid_auto_columns": null,
      "grid_auto_flow": null,
      "grid_auto_rows": null,
      "grid_column": null,
      "grid_gap": null,
      "grid_row": null,
      "grid_template_areas": null,
      "grid_template_columns": null,
      "grid_template_rows": null,
      "height": null,
      "justify_content": null,
      "justify_items": null,
      "left": null,
      "margin": null,
      "max_height": null,
      "max_width": null,
      "min_height": null,
      "min_width": null,
      "object_fit": null,
      "object_position": null,
      "order": null,
      "overflow": null,
      "overflow_x": null,
      "overflow_y": null,
      "padding": null,
      "right": null,
      "top": null,
      "visibility": null,
      "width": null
     }
    },
    "11c9bd4612c54ac2bfcc1e1a64d60ffa": {
     "model_module": "@jupyter-widgets/controls",
     "model_module_version": "1.5.0",
     "model_name": "FloatProgressModel",
     "state": {
      "_dom_classes": [],
      "_model_module": "@jupyter-widgets/controls",
      "_model_module_version": "1.5.0",
      "_model_name": "FloatProgressModel",
      "_view_count": null,
      "_view_module": "@jupyter-widgets/controls",
      "_view_module_version": "1.5.0",
      "_view_name": "ProgressView",
      "bar_style": "success",
      "description": "",
      "description_tooltip": null,
      "layout": "IPY_MODEL_9318470dcf4f491fb78cbccc3e0bb892",
      "max": 96,
      "min": 0,
      "orientation": "horizontal",
      "style": "IPY_MODEL_f670d31c36e8490f97a4ebf69c8837cf",
      "value": 96
     }
    },
    "123cb19bbe3449c7be1ab42a926d02ad": {
     "model_module": "@jupyter-widgets/controls",
     "model_module_version": "1.5.0",
     "model_name": "HTMLModel",
     "state": {
      "_dom_classes": [],
      "_model_module": "@jupyter-widgets/controls",
      "_model_module_version": "1.5.0",
      "_model_name": "HTMLModel",
      "_view_count": null,
      "_view_module": "@jupyter-widgets/controls",
      "_view_module_version": "1.5.0",
      "_view_name": "HTMLView",
      "description": "",
      "description_tooltip": null,
      "layout": "IPY_MODEL_31b9bf82fd1d43fb9f792bf6cafde691",
      "placeholder": "​",
      "style": "IPY_MODEL_ed84a2c90ae840fba47d167a18662963",
      "value": " 96/96 [00:02&lt;00:00, 47.39it/s]"
     }
    },
    "15292311d4b44d709d35e7c136266e5b": {
     "model_module": "@jupyter-widgets/controls",
     "model_module_version": "1.5.0",
     "model_name": "HTMLModel",
     "state": {
      "_dom_classes": [],
      "_model_module": "@jupyter-widgets/controls",
      "_model_module_version": "1.5.0",
      "_model_name": "HTMLModel",
      "_view_count": null,
      "_view_module": "@jupyter-widgets/controls",
      "_view_module_version": "1.5.0",
      "_view_name": "HTMLView",
      "description": "",
      "description_tooltip": null,
      "layout": "IPY_MODEL_b4503f8e2a8541a6bc1e6729f95351b8",
      "placeholder": "​",
      "style": "IPY_MODEL_3615951f36eb484fa78e20fed13387ae",
      "value": "TRAIN Epoch 02: 100%"
     }
    },
    "152aff73b9e941909d87e30718361aa9": {
     "model_module": "@jupyter-widgets/controls",
     "model_module_version": "1.5.0",
     "model_name": "ProgressStyleModel",
     "state": {
      "_model_module": "@jupyter-widgets/controls",
      "_model_module_version": "1.5.0",
      "_model_name": "ProgressStyleModel",
      "_view_count": null,
      "_view_module": "@jupyter-widgets/base",
      "_view_module_version": "1.2.0",
      "_view_name": "StyleView",
      "bar_color": null,
      "description_width": ""
     }
    },
    "1577f400958e43418513bf9e99b6863f": {
     "model_module": "@jupyter-widgets/base",
     "model_module_version": "1.2.0",
     "model_name": "LayoutModel",
     "state": {
      "_model_module": "@jupyter-widgets/base",
      "_model_module_version": "1.2.0",
      "_model_name": "LayoutModel",
      "_view_count": null,
      "_view_module": "@jupyter-widgets/base",
      "_view_module_version": "1.2.0",
      "_view_name": "LayoutView",
      "align_content": null,
      "align_items": null,
      "align_self": null,
      "border": null,
      "bottom": null,
      "display": null,
      "flex": null,
      "flex_flow": null,
      "grid_area": null,
      "grid_auto_columns": null,
      "grid_auto_flow": null,
      "grid_auto_rows": null,
      "grid_column": null,
      "grid_gap": null,
      "grid_row": null,
      "grid_template_areas": null,
      "grid_template_columns": null,
      "grid_template_rows": null,
      "height": null,
      "justify_content": null,
      "justify_items": null,
      "left": null,
      "margin": null,
      "max_height": null,
      "max_width": null,
      "min_height": null,
      "min_width": null,
      "object_fit": null,
      "object_position": null,
      "order": null,
      "overflow": null,
      "overflow_x": null,
      "overflow_y": null,
      "padding": null,
      "right": null,
      "top": null,
      "visibility": null,
      "width": null
     }
    },
    "186f0780a58b4aa89bfc17fbee9051b4": {
     "model_module": "@jupyter-widgets/controls",
     "model_module_version": "1.5.0",
     "model_name": "FloatProgressModel",
     "state": {
      "_dom_classes": [],
      "_model_module": "@jupyter-widgets/controls",
      "_model_module_version": "1.5.0",
      "_model_name": "FloatProgressModel",
      "_view_count": null,
      "_view_module": "@jupyter-widgets/controls",
      "_view_module_version": "1.5.0",
      "_view_name": "ProgressView",
      "bar_style": "success",
      "description": "",
      "description_tooltip": null,
      "layout": "IPY_MODEL_a43d104f6be14effbf348025989b4d86",
      "max": 96,
      "min": 0,
      "orientation": "horizontal",
      "style": "IPY_MODEL_42f1c86e56644ae18db1ece2e31e89d8",
      "value": 96
     }
    },
    "18dc267777b044af9f1d7af99c9fc3c3": {
     "model_module": "@jupyter-widgets/base",
     "model_module_version": "1.2.0",
     "model_name": "LayoutModel",
     "state": {
      "_model_module": "@jupyter-widgets/base",
      "_model_module_version": "1.2.0",
      "_model_name": "LayoutModel",
      "_view_count": null,
      "_view_module": "@jupyter-widgets/base",
      "_view_module_version": "1.2.0",
      "_view_name": "LayoutView",
      "align_content": null,
      "align_items": null,
      "align_self": null,
      "border": null,
      "bottom": null,
      "display": null,
      "flex": null,
      "flex_flow": null,
      "grid_area": null,
      "grid_auto_columns": null,
      "grid_auto_flow": null,
      "grid_auto_rows": null,
      "grid_column": null,
      "grid_gap": null,
      "grid_row": null,
      "grid_template_areas": null,
      "grid_template_columns": null,
      "grid_template_rows": null,
      "height": null,
      "justify_content": null,
      "justify_items": null,
      "left": null,
      "margin": null,
      "max_height": null,
      "max_width": null,
      "min_height": null,
      "min_width": null,
      "object_fit": null,
      "object_position": null,
      "order": null,
      "overflow": null,
      "overflow_x": null,
      "overflow_y": null,
      "padding": null,
      "right": null,
      "top": null,
      "visibility": null,
      "width": null
     }
    },
    "1ad7e4fd1e744f68906d39300b0ff687": {
     "model_module": "@jupyter-widgets/controls",
     "model_module_version": "1.5.0",
     "model_name": "DescriptionStyleModel",
     "state": {
      "_model_module": "@jupyter-widgets/controls",
      "_model_module_version": "1.5.0",
      "_model_name": "DescriptionStyleModel",
      "_view_count": null,
      "_view_module": "@jupyter-widgets/base",
      "_view_module_version": "1.2.0",
      "_view_name": "StyleView",
      "description_width": ""
     }
    },
    "1b05bb58af8c453b96571f11ffb3efa2": {
     "model_module": "@jupyter-widgets/base",
     "model_module_version": "1.2.0",
     "model_name": "LayoutModel",
     "state": {
      "_model_module": "@jupyter-widgets/base",
      "_model_module_version": "1.2.0",
      "_model_name": "LayoutModel",
      "_view_count": null,
      "_view_module": "@jupyter-widgets/base",
      "_view_module_version": "1.2.0",
      "_view_name": "LayoutView",
      "align_content": null,
      "align_items": null,
      "align_self": null,
      "border": null,
      "bottom": null,
      "display": null,
      "flex": null,
      "flex_flow": null,
      "grid_area": null,
      "grid_auto_columns": null,
      "grid_auto_flow": null,
      "grid_auto_rows": null,
      "grid_column": null,
      "grid_gap": null,
      "grid_row": null,
      "grid_template_areas": null,
      "grid_template_columns": null,
      "grid_template_rows": null,
      "height": null,
      "justify_content": null,
      "justify_items": null,
      "left": null,
      "margin": null,
      "max_height": null,
      "max_width": null,
      "min_height": null,
      "min_width": null,
      "object_fit": null,
      "object_position": null,
      "order": null,
      "overflow": null,
      "overflow_x": null,
      "overflow_y": null,
      "padding": null,
      "right": null,
      "top": null,
      "visibility": null,
      "width": null
     }
    },
    "1b3cd2c081164d30be288bb3f5a53e1b": {
     "model_module": "@jupyter-widgets/base",
     "model_module_version": "1.2.0",
     "model_name": "LayoutModel",
     "state": {
      "_model_module": "@jupyter-widgets/base",
      "_model_module_version": "1.2.0",
      "_model_name": "LayoutModel",
      "_view_count": null,
      "_view_module": "@jupyter-widgets/base",
      "_view_module_version": "1.2.0",
      "_view_name": "LayoutView",
      "align_content": null,
      "align_items": null,
      "align_self": null,
      "border": null,
      "bottom": null,
      "display": null,
      "flex": null,
      "flex_flow": null,
      "grid_area": null,
      "grid_auto_columns": null,
      "grid_auto_flow": null,
      "grid_auto_rows": null,
      "grid_column": null,
      "grid_gap": null,
      "grid_row": null,
      "grid_template_areas": null,
      "grid_template_columns": null,
      "grid_template_rows": null,
      "height": null,
      "justify_content": null,
      "justify_items": null,
      "left": null,
      "margin": null,
      "max_height": null,
      "max_width": null,
      "min_height": null,
      "min_width": null,
      "object_fit": null,
      "object_position": null,
      "order": null,
      "overflow": null,
      "overflow_x": null,
      "overflow_y": null,
      "padding": null,
      "right": null,
      "top": null,
      "visibility": null,
      "width": null
     }
    },
    "1b414e36314e4226be8427007ba4f503": {
     "model_module": "@jupyter-widgets/base",
     "model_module_version": "1.2.0",
     "model_name": "LayoutModel",
     "state": {
      "_model_module": "@jupyter-widgets/base",
      "_model_module_version": "1.2.0",
      "_model_name": "LayoutModel",
      "_view_count": null,
      "_view_module": "@jupyter-widgets/base",
      "_view_module_version": "1.2.0",
      "_view_name": "LayoutView",
      "align_content": null,
      "align_items": null,
      "align_self": null,
      "border": null,
      "bottom": null,
      "display": null,
      "flex": null,
      "flex_flow": null,
      "grid_area": null,
      "grid_auto_columns": null,
      "grid_auto_flow": null,
      "grid_auto_rows": null,
      "grid_column": null,
      "grid_gap": null,
      "grid_row": null,
      "grid_template_areas": null,
      "grid_template_columns": null,
      "grid_template_rows": null,
      "height": null,
      "justify_content": null,
      "justify_items": null,
      "left": null,
      "margin": null,
      "max_height": null,
      "max_width": null,
      "min_height": null,
      "min_width": null,
      "object_fit": null,
      "object_position": null,
      "order": null,
      "overflow": null,
      "overflow_x": null,
      "overflow_y": null,
      "padding": null,
      "right": null,
      "top": null,
      "visibility": null,
      "width": null
     }
    },
    "1d191509d7974e62a3b5d9fa08791883": {
     "model_module": "@jupyter-widgets/controls",
     "model_module_version": "1.5.0",
     "model_name": "HTMLModel",
     "state": {
      "_dom_classes": [],
      "_model_module": "@jupyter-widgets/controls",
      "_model_module_version": "1.5.0",
      "_model_name": "HTMLModel",
      "_view_count": null,
      "_view_module": "@jupyter-widgets/controls",
      "_view_module_version": "1.5.0",
      "_view_name": "HTMLView",
      "description": "",
      "description_tooltip": null,
      "layout": "IPY_MODEL_271e55df86ea4927bf5c970fdaf57b80",
      "placeholder": "​",
      "style": "IPY_MODEL_72fba5b662844d7f93da831314174fd9",
      "value": "TEST: 100%"
     }
    },
    "1db529161bc645cd8f4ec27cb9ef256f": {
     "model_module": "@jupyter-widgets/controls",
     "model_module_version": "1.5.0",
     "model_name": "DescriptionStyleModel",
     "state": {
      "_model_module": "@jupyter-widgets/controls",
      "_model_module_version": "1.5.0",
      "_model_name": "DescriptionStyleModel",
      "_view_count": null,
      "_view_module": "@jupyter-widgets/base",
      "_view_module_version": "1.2.0",
      "_view_name": "StyleView",
      "description_width": ""
     }
    },
    "1dc412ddec8d47b9a758b4726a357d1f": {
     "model_module": "@jupyter-widgets/controls",
     "model_module_version": "1.5.0",
     "model_name": "FloatProgressModel",
     "state": {
      "_dom_classes": [],
      "_model_module": "@jupyter-widgets/controls",
      "_model_module_version": "1.5.0",
      "_model_name": "FloatProgressModel",
      "_view_count": null,
      "_view_module": "@jupyter-widgets/controls",
      "_view_module_version": "1.5.0",
      "_view_name": "ProgressView",
      "bar_style": "success",
      "description": "",
      "description_tooltip": null,
      "layout": "IPY_MODEL_f5b3d7fa214245d497d632c6760ae152",
      "max": 96,
      "min": 0,
      "orientation": "horizontal",
      "style": "IPY_MODEL_87db7a78d40d422e88eac4a865e58cc0",
      "value": 96
     }
    },
    "1e1f0a0a30d94bc0b0f3575e3d6a83dd": {
     "model_module": "@jupyter-widgets/controls",
     "model_module_version": "1.5.0",
     "model_name": "HTMLModel",
     "state": {
      "_dom_classes": [],
      "_model_module": "@jupyter-widgets/controls",
      "_model_module_version": "1.5.0",
      "_model_name": "HTMLModel",
      "_view_count": null,
      "_view_module": "@jupyter-widgets/controls",
      "_view_module_version": "1.5.0",
      "_view_name": "HTMLView",
      "description": "",
      "description_tooltip": null,
      "layout": "IPY_MODEL_60acfc36976b4fbd951a1b5b226c15ff",
      "placeholder": "​",
      "style": "IPY_MODEL_866c29d16e8a4b2ba33ef1790da8206e",
      "value": "TRAIN Epoch 06: 100%"
     }
    },
    "1f28d8bf2f2941f6afc83e9d170328b6": {
     "model_module": "@jupyter-widgets/controls",
     "model_module_version": "1.5.0",
     "model_name": "DescriptionStyleModel",
     "state": {
      "_model_module": "@jupyter-widgets/controls",
      "_model_module_version": "1.5.0",
      "_model_name": "DescriptionStyleModel",
      "_view_count": null,
      "_view_module": "@jupyter-widgets/base",
      "_view_module_version": "1.2.0",
      "_view_name": "StyleView",
      "description_width": ""
     }
    },
    "2096d06042d84f0cae418678e66b8989": {
     "model_module": "@jupyter-widgets/base",
     "model_module_version": "1.2.0",
     "model_name": "LayoutModel",
     "state": {
      "_model_module": "@jupyter-widgets/base",
      "_model_module_version": "1.2.0",
      "_model_name": "LayoutModel",
      "_view_count": null,
      "_view_module": "@jupyter-widgets/base",
      "_view_module_version": "1.2.0",
      "_view_name": "LayoutView",
      "align_content": null,
      "align_items": null,
      "align_self": null,
      "border": null,
      "bottom": null,
      "display": null,
      "flex": null,
      "flex_flow": null,
      "grid_area": null,
      "grid_auto_columns": null,
      "grid_auto_flow": null,
      "grid_auto_rows": null,
      "grid_column": null,
      "grid_gap": null,
      "grid_row": null,
      "grid_template_areas": null,
      "grid_template_columns": null,
      "grid_template_rows": null,
      "height": null,
      "justify_content": null,
      "justify_items": null,
      "left": null,
      "margin": null,
      "max_height": null,
      "max_width": null,
      "min_height": null,
      "min_width": null,
      "object_fit": null,
      "object_position": null,
      "order": null,
      "overflow": null,
      "overflow_x": null,
      "overflow_y": null,
      "padding": null,
      "right": null,
      "top": null,
      "visibility": null,
      "width": null
     }
    },
    "20f1f9a9401a43a092bbe07dabc9bfbb": {
     "model_module": "@jupyter-widgets/controls",
     "model_module_version": "1.5.0",
     "model_name": "HTMLModel",
     "state": {
      "_dom_classes": [],
      "_model_module": "@jupyter-widgets/controls",
      "_model_module_version": "1.5.0",
      "_model_name": "HTMLModel",
      "_view_count": null,
      "_view_module": "@jupyter-widgets/controls",
      "_view_module_version": "1.5.0",
      "_view_name": "HTMLView",
      "description": "",
      "description_tooltip": null,
      "layout": "IPY_MODEL_e6ed5e6e67364cd4beb37ffb28284886",
      "placeholder": "​",
      "style": "IPY_MODEL_65b0b2b1e6304807a84a97d83a26b0d9",
      "value": " 96/96 [00:02&lt;00:00, 50.36it/s]"
     }
    },
    "20f791db93dd4877a9d82f4571e4f425": {
     "model_module": "@jupyter-widgets/controls",
     "model_module_version": "1.5.0",
     "model_name": "DescriptionStyleModel",
     "state": {
      "_model_module": "@jupyter-widgets/controls",
      "_model_module_version": "1.5.0",
      "_model_name": "DescriptionStyleModel",
      "_view_count": null,
      "_view_module": "@jupyter-widgets/base",
      "_view_module_version": "1.2.0",
      "_view_name": "StyleView",
      "description_width": ""
     }
    },
    "22370711af5441d48c6491993ae6d822": {
     "model_module": "@jupyter-widgets/controls",
     "model_module_version": "1.5.0",
     "model_name": "HBoxModel",
     "state": {
      "_dom_classes": [],
      "_model_module": "@jupyter-widgets/controls",
      "_model_module_version": "1.5.0",
      "_model_name": "HBoxModel",
      "_view_count": null,
      "_view_module": "@jupyter-widgets/controls",
      "_view_module_version": "1.5.0",
      "_view_name": "HBoxView",
      "box_style": "",
      "children": [
       "IPY_MODEL_3942db0e175a4569ac8f7281d3375471",
       "IPY_MODEL_186f0780a58b4aa89bfc17fbee9051b4",
       "IPY_MODEL_86263c930ad24e2cb1597dd4019d663a"
      ],
      "layout": "IPY_MODEL_2691de7ce44647309ad5c46512a342b6"
     }
    },
    "22734154f2af484685e2dcfe6bd784fe": {
     "model_module": "@jupyter-widgets/controls",
     "model_module_version": "1.5.0",
     "model_name": "HTMLModel",
     "state": {
      "_dom_classes": [],
      "_model_module": "@jupyter-widgets/controls",
      "_model_module_version": "1.5.0",
      "_model_name": "HTMLModel",
      "_view_count": null,
      "_view_module": "@jupyter-widgets/controls",
      "_view_module_version": "1.5.0",
      "_view_name": "HTMLView",
      "description": "",
      "description_tooltip": null,
      "layout": "IPY_MODEL_1b05bb58af8c453b96571f11ffb3efa2",
      "placeholder": "​",
      "style": "IPY_MODEL_25d534fa9662454d9645ebe0b2a448f8",
      "value": " 387/387 [00:09&lt;00:00, 46.00it/s]"
     }
    },
    "22e7bdcc1fd74405918a37d6227ca649": {
     "model_module": "@jupyter-widgets/base",
     "model_module_version": "1.2.0",
     "model_name": "LayoutModel",
     "state": {
      "_model_module": "@jupyter-widgets/base",
      "_model_module_version": "1.2.0",
      "_model_name": "LayoutModel",
      "_view_count": null,
      "_view_module": "@jupyter-widgets/base",
      "_view_module_version": "1.2.0",
      "_view_name": "LayoutView",
      "align_content": null,
      "align_items": null,
      "align_self": null,
      "border": null,
      "bottom": null,
      "display": null,
      "flex": null,
      "flex_flow": null,
      "grid_area": null,
      "grid_auto_columns": null,
      "grid_auto_flow": null,
      "grid_auto_rows": null,
      "grid_column": null,
      "grid_gap": null,
      "grid_row": null,
      "grid_template_areas": null,
      "grid_template_columns": null,
      "grid_template_rows": null,
      "height": null,
      "justify_content": null,
      "justify_items": null,
      "left": null,
      "margin": null,
      "max_height": null,
      "max_width": null,
      "min_height": null,
      "min_width": null,
      "object_fit": null,
      "object_position": null,
      "order": null,
      "overflow": null,
      "overflow_x": null,
      "overflow_y": null,
      "padding": null,
      "right": null,
      "top": null,
      "visibility": null,
      "width": null
     }
    },
    "258db2e29e494eb1b8be46572ed8a9b0": {
     "model_module": "@jupyter-widgets/base",
     "model_module_version": "1.2.0",
     "model_name": "LayoutModel",
     "state": {
      "_model_module": "@jupyter-widgets/base",
      "_model_module_version": "1.2.0",
      "_model_name": "LayoutModel",
      "_view_count": null,
      "_view_module": "@jupyter-widgets/base",
      "_view_module_version": "1.2.0",
      "_view_name": "LayoutView",
      "align_content": null,
      "align_items": null,
      "align_self": null,
      "border": null,
      "bottom": null,
      "display": null,
      "flex": null,
      "flex_flow": null,
      "grid_area": null,
      "grid_auto_columns": null,
      "grid_auto_flow": null,
      "grid_auto_rows": null,
      "grid_column": null,
      "grid_gap": null,
      "grid_row": null,
      "grid_template_areas": null,
      "grid_template_columns": null,
      "grid_template_rows": null,
      "height": null,
      "justify_content": null,
      "justify_items": null,
      "left": null,
      "margin": null,
      "max_height": null,
      "max_width": null,
      "min_height": null,
      "min_width": null,
      "object_fit": null,
      "object_position": null,
      "order": null,
      "overflow": null,
      "overflow_x": null,
      "overflow_y": null,
      "padding": null,
      "right": null,
      "top": null,
      "visibility": null,
      "width": null
     }
    },
    "25d534fa9662454d9645ebe0b2a448f8": {
     "model_module": "@jupyter-widgets/controls",
     "model_module_version": "1.5.0",
     "model_name": "DescriptionStyleModel",
     "state": {
      "_model_module": "@jupyter-widgets/controls",
      "_model_module_version": "1.5.0",
      "_model_name": "DescriptionStyleModel",
      "_view_count": null,
      "_view_module": "@jupyter-widgets/base",
      "_view_module_version": "1.2.0",
      "_view_name": "StyleView",
      "description_width": ""
     }
    },
    "26776c3ba1ef4e3ab332c57788333cf5": {
     "model_module": "@jupyter-widgets/controls",
     "model_module_version": "1.5.0",
     "model_name": "ProgressStyleModel",
     "state": {
      "_model_module": "@jupyter-widgets/controls",
      "_model_module_version": "1.5.0",
      "_model_name": "ProgressStyleModel",
      "_view_count": null,
      "_view_module": "@jupyter-widgets/base",
      "_view_module_version": "1.2.0",
      "_view_name": "StyleView",
      "bar_color": null,
      "description_width": ""
     }
    },
    "2691de7ce44647309ad5c46512a342b6": {
     "model_module": "@jupyter-widgets/base",
     "model_module_version": "1.2.0",
     "model_name": "LayoutModel",
     "state": {
      "_model_module": "@jupyter-widgets/base",
      "_model_module_version": "1.2.0",
      "_model_name": "LayoutModel",
      "_view_count": null,
      "_view_module": "@jupyter-widgets/base",
      "_view_module_version": "1.2.0",
      "_view_name": "LayoutView",
      "align_content": null,
      "align_items": null,
      "align_self": null,
      "border": null,
      "bottom": null,
      "display": null,
      "flex": null,
      "flex_flow": null,
      "grid_area": null,
      "grid_auto_columns": null,
      "grid_auto_flow": null,
      "grid_auto_rows": null,
      "grid_column": null,
      "grid_gap": null,
      "grid_row": null,
      "grid_template_areas": null,
      "grid_template_columns": null,
      "grid_template_rows": null,
      "height": null,
      "justify_content": null,
      "justify_items": null,
      "left": null,
      "margin": null,
      "max_height": null,
      "max_width": null,
      "min_height": null,
      "min_width": null,
      "object_fit": null,
      "object_position": null,
      "order": null,
      "overflow": null,
      "overflow_x": null,
      "overflow_y": null,
      "padding": null,
      "right": null,
      "top": null,
      "visibility": null,
      "width": null
     }
    },
    "271e55df86ea4927bf5c970fdaf57b80": {
     "model_module": "@jupyter-widgets/base",
     "model_module_version": "1.2.0",
     "model_name": "LayoutModel",
     "state": {
      "_model_module": "@jupyter-widgets/base",
      "_model_module_version": "1.2.0",
      "_model_name": "LayoutModel",
      "_view_count": null,
      "_view_module": "@jupyter-widgets/base",
      "_view_module_version": "1.2.0",
      "_view_name": "LayoutView",
      "align_content": null,
      "align_items": null,
      "align_self": null,
      "border": null,
      "bottom": null,
      "display": null,
      "flex": null,
      "flex_flow": null,
      "grid_area": null,
      "grid_auto_columns": null,
      "grid_auto_flow": null,
      "grid_auto_rows": null,
      "grid_column": null,
      "grid_gap": null,
      "grid_row": null,
      "grid_template_areas": null,
      "grid_template_columns": null,
      "grid_template_rows": null,
      "height": null,
      "justify_content": null,
      "justify_items": null,
      "left": null,
      "margin": null,
      "max_height": null,
      "max_width": null,
      "min_height": null,
      "min_width": null,
      "object_fit": null,
      "object_position": null,
      "order": null,
      "overflow": null,
      "overflow_x": null,
      "overflow_y": null,
      "padding": null,
      "right": null,
      "top": null,
      "visibility": null,
      "width": null
     }
    },
    "275143fcd1114a39a443742c521cbb10": {
     "model_module": "@jupyter-widgets/base",
     "model_module_version": "1.2.0",
     "model_name": "LayoutModel",
     "state": {
      "_model_module": "@jupyter-widgets/base",
      "_model_module_version": "1.2.0",
      "_model_name": "LayoutModel",
      "_view_count": null,
      "_view_module": "@jupyter-widgets/base",
      "_view_module_version": "1.2.0",
      "_view_name": "LayoutView",
      "align_content": null,
      "align_items": null,
      "align_self": null,
      "border": null,
      "bottom": null,
      "display": null,
      "flex": null,
      "flex_flow": null,
      "grid_area": null,
      "grid_auto_columns": null,
      "grid_auto_flow": null,
      "grid_auto_rows": null,
      "grid_column": null,
      "grid_gap": null,
      "grid_row": null,
      "grid_template_areas": null,
      "grid_template_columns": null,
      "grid_template_rows": null,
      "height": null,
      "justify_content": null,
      "justify_items": null,
      "left": null,
      "margin": null,
      "max_height": null,
      "max_width": null,
      "min_height": null,
      "min_width": null,
      "object_fit": null,
      "object_position": null,
      "order": null,
      "overflow": null,
      "overflow_x": null,
      "overflow_y": null,
      "padding": null,
      "right": null,
      "top": null,
      "visibility": null,
      "width": null
     }
    },
    "27dba8a9f9be4e81b21b3f1021d3bcb7": {
     "model_module": "@jupyter-widgets/base",
     "model_module_version": "1.2.0",
     "model_name": "LayoutModel",
     "state": {
      "_model_module": "@jupyter-widgets/base",
      "_model_module_version": "1.2.0",
      "_model_name": "LayoutModel",
      "_view_count": null,
      "_view_module": "@jupyter-widgets/base",
      "_view_module_version": "1.2.0",
      "_view_name": "LayoutView",
      "align_content": null,
      "align_items": null,
      "align_self": null,
      "border": null,
      "bottom": null,
      "display": null,
      "flex": null,
      "flex_flow": null,
      "grid_area": null,
      "grid_auto_columns": null,
      "grid_auto_flow": null,
      "grid_auto_rows": null,
      "grid_column": null,
      "grid_gap": null,
      "grid_row": null,
      "grid_template_areas": null,
      "grid_template_columns": null,
      "grid_template_rows": null,
      "height": null,
      "justify_content": null,
      "justify_items": null,
      "left": null,
      "margin": null,
      "max_height": null,
      "max_width": null,
      "min_height": null,
      "min_width": null,
      "object_fit": null,
      "object_position": null,
      "order": null,
      "overflow": null,
      "overflow_x": null,
      "overflow_y": null,
      "padding": null,
      "right": null,
      "top": null,
      "visibility": null,
      "width": null
     }
    },
    "27fb8545902b4f38849a3ca4c8436a6a": {
     "model_module": "@jupyter-widgets/controls",
     "model_module_version": "1.5.0",
     "model_name": "ProgressStyleModel",
     "state": {
      "_model_module": "@jupyter-widgets/controls",
      "_model_module_version": "1.5.0",
      "_model_name": "ProgressStyleModel",
      "_view_count": null,
      "_view_module": "@jupyter-widgets/base",
      "_view_module_version": "1.2.0",
      "_view_name": "StyleView",
      "bar_color": null,
      "description_width": ""
     }
    },
    "28ed63c7d589477281497707e18ee57f": {
     "model_module": "@jupyter-widgets/base",
     "model_module_version": "1.2.0",
     "model_name": "LayoutModel",
     "state": {
      "_model_module": "@jupyter-widgets/base",
      "_model_module_version": "1.2.0",
      "_model_name": "LayoutModel",
      "_view_count": null,
      "_view_module": "@jupyter-widgets/base",
      "_view_module_version": "1.2.0",
      "_view_name": "LayoutView",
      "align_content": null,
      "align_items": null,
      "align_self": null,
      "border": null,
      "bottom": null,
      "display": null,
      "flex": null,
      "flex_flow": null,
      "grid_area": null,
      "grid_auto_columns": null,
      "grid_auto_flow": null,
      "grid_auto_rows": null,
      "grid_column": null,
      "grid_gap": null,
      "grid_row": null,
      "grid_template_areas": null,
      "grid_template_columns": null,
      "grid_template_rows": null,
      "height": null,
      "justify_content": null,
      "justify_items": null,
      "left": null,
      "margin": null,
      "max_height": null,
      "max_width": null,
      "min_height": null,
      "min_width": null,
      "object_fit": null,
      "object_position": null,
      "order": null,
      "overflow": null,
      "overflow_x": null,
      "overflow_y": null,
      "padding": null,
      "right": null,
      "top": null,
      "visibility": null,
      "width": null
     }
    },
    "2aa3b855a3d347a2aa876a3dd0160575": {
     "model_module": "@jupyter-widgets/controls",
     "model_module_version": "1.5.0",
     "model_name": "HBoxModel",
     "state": {
      "_dom_classes": [],
      "_model_module": "@jupyter-widgets/controls",
      "_model_module_version": "1.5.0",
      "_model_name": "HBoxModel",
      "_view_count": null,
      "_view_module": "@jupyter-widgets/controls",
      "_view_module_version": "1.5.0",
      "_view_name": "HBoxView",
      "box_style": "",
      "children": [
       "IPY_MODEL_f546f77d9b054668adb547ac7ca03be4",
       "IPY_MODEL_a58183a912a3454a8677d7282f051e2b",
       "IPY_MODEL_8b14a2bca640419db2bc669a870525d1"
      ],
      "layout": "IPY_MODEL_7d95fc6a5b0848fbaee9374ddabe3ed1"
     }
    },
    "2b18ddb8ab7a4de582039470e2bd8c62": {
     "model_module": "@jupyter-widgets/base",
     "model_module_version": "1.2.0",
     "model_name": "LayoutModel",
     "state": {
      "_model_module": "@jupyter-widgets/base",
      "_model_module_version": "1.2.0",
      "_model_name": "LayoutModel",
      "_view_count": null,
      "_view_module": "@jupyter-widgets/base",
      "_view_module_version": "1.2.0",
      "_view_name": "LayoutView",
      "align_content": null,
      "align_items": null,
      "align_self": null,
      "border": null,
      "bottom": null,
      "display": null,
      "flex": null,
      "flex_flow": null,
      "grid_area": null,
      "grid_auto_columns": null,
      "grid_auto_flow": null,
      "grid_auto_rows": null,
      "grid_column": null,
      "grid_gap": null,
      "grid_row": null,
      "grid_template_areas": null,
      "grid_template_columns": null,
      "grid_template_rows": null,
      "height": null,
      "justify_content": null,
      "justify_items": null,
      "left": null,
      "margin": null,
      "max_height": null,
      "max_width": null,
      "min_height": null,
      "min_width": null,
      "object_fit": null,
      "object_position": null,
      "order": null,
      "overflow": null,
      "overflow_x": null,
      "overflow_y": null,
      "padding": null,
      "right": null,
      "top": null,
      "visibility": null,
      "width": null
     }
    },
    "2bc8840140564a67b082cbbdd87aea1f": {
     "model_module": "@jupyter-widgets/base",
     "model_module_version": "1.2.0",
     "model_name": "LayoutModel",
     "state": {
      "_model_module": "@jupyter-widgets/base",
      "_model_module_version": "1.2.0",
      "_model_name": "LayoutModel",
      "_view_count": null,
      "_view_module": "@jupyter-widgets/base",
      "_view_module_version": "1.2.0",
      "_view_name": "LayoutView",
      "align_content": null,
      "align_items": null,
      "align_self": null,
      "border": null,
      "bottom": null,
      "display": null,
      "flex": null,
      "flex_flow": null,
      "grid_area": null,
      "grid_auto_columns": null,
      "grid_auto_flow": null,
      "grid_auto_rows": null,
      "grid_column": null,
      "grid_gap": null,
      "grid_row": null,
      "grid_template_areas": null,
      "grid_template_columns": null,
      "grid_template_rows": null,
      "height": null,
      "justify_content": null,
      "justify_items": null,
      "left": null,
      "margin": null,
      "max_height": null,
      "max_width": null,
      "min_height": null,
      "min_width": null,
      "object_fit": null,
      "object_position": null,
      "order": null,
      "overflow": null,
      "overflow_x": null,
      "overflow_y": null,
      "padding": null,
      "right": null,
      "top": null,
      "visibility": null,
      "width": null
     }
    },
    "2c02df20cf8e406da352bd232f71a217": {
     "model_module": "@jupyter-widgets/controls",
     "model_module_version": "1.5.0",
     "model_name": "DescriptionStyleModel",
     "state": {
      "_model_module": "@jupyter-widgets/controls",
      "_model_module_version": "1.5.0",
      "_model_name": "DescriptionStyleModel",
      "_view_count": null,
      "_view_module": "@jupyter-widgets/base",
      "_view_module_version": "1.2.0",
      "_view_name": "StyleView",
      "description_width": ""
     }
    },
    "2caefa322e83491e9fac7e3bb162efc7": {
     "model_module": "@jupyter-widgets/base",
     "model_module_version": "1.2.0",
     "model_name": "LayoutModel",
     "state": {
      "_model_module": "@jupyter-widgets/base",
      "_model_module_version": "1.2.0",
      "_model_name": "LayoutModel",
      "_view_count": null,
      "_view_module": "@jupyter-widgets/base",
      "_view_module_version": "1.2.0",
      "_view_name": "LayoutView",
      "align_content": null,
      "align_items": null,
      "align_self": null,
      "border": null,
      "bottom": null,
      "display": null,
      "flex": null,
      "flex_flow": null,
      "grid_area": null,
      "grid_auto_columns": null,
      "grid_auto_flow": null,
      "grid_auto_rows": null,
      "grid_column": null,
      "grid_gap": null,
      "grid_row": null,
      "grid_template_areas": null,
      "grid_template_columns": null,
      "grid_template_rows": null,
      "height": null,
      "justify_content": null,
      "justify_items": null,
      "left": null,
      "margin": null,
      "max_height": null,
      "max_width": null,
      "min_height": null,
      "min_width": null,
      "object_fit": null,
      "object_position": null,
      "order": null,
      "overflow": null,
      "overflow_x": null,
      "overflow_y": null,
      "padding": null,
      "right": null,
      "top": null,
      "visibility": null,
      "width": null
     }
    },
    "2dc90c4f4e11409ea4d7631ed3c7ac95": {
     "model_module": "@jupyter-widgets/controls",
     "model_module_version": "1.5.0",
     "model_name": "ProgressStyleModel",
     "state": {
      "_model_module": "@jupyter-widgets/controls",
      "_model_module_version": "1.5.0",
      "_model_name": "ProgressStyleModel",
      "_view_count": null,
      "_view_module": "@jupyter-widgets/base",
      "_view_module_version": "1.2.0",
      "_view_name": "StyleView",
      "bar_color": null,
      "description_width": ""
     }
    },
    "2e4db66dfbcd488392d167860db7fd71": {
     "model_module": "@jupyter-widgets/controls",
     "model_module_version": "1.5.0",
     "model_name": "FloatProgressModel",
     "state": {
      "_dom_classes": [],
      "_model_module": "@jupyter-widgets/controls",
      "_model_module_version": "1.5.0",
      "_model_name": "FloatProgressModel",
      "_view_count": null,
      "_view_module": "@jupyter-widgets/controls",
      "_view_module_version": "1.5.0",
      "_view_name": "ProgressView",
      "bar_style": "success",
      "description": "",
      "description_tooltip": null,
      "layout": "IPY_MODEL_8ca3c76de44b43ceaaf9555e4ce76bce",
      "max": 387,
      "min": 0,
      "orientation": "horizontal",
      "style": "IPY_MODEL_40973380eea5405c8ed55d5e22098127",
      "value": 387
     }
    },
    "2e5759d4d6c844fba504ce2ad12d79ba": {
     "model_module": "@jupyter-widgets/base",
     "model_module_version": "1.2.0",
     "model_name": "LayoutModel",
     "state": {
      "_model_module": "@jupyter-widgets/base",
      "_model_module_version": "1.2.0",
      "_model_name": "LayoutModel",
      "_view_count": null,
      "_view_module": "@jupyter-widgets/base",
      "_view_module_version": "1.2.0",
      "_view_name": "LayoutView",
      "align_content": null,
      "align_items": null,
      "align_self": null,
      "border": null,
      "bottom": null,
      "display": null,
      "flex": null,
      "flex_flow": null,
      "grid_area": null,
      "grid_auto_columns": null,
      "grid_auto_flow": null,
      "grid_auto_rows": null,
      "grid_column": null,
      "grid_gap": null,
      "grid_row": null,
      "grid_template_areas": null,
      "grid_template_columns": null,
      "grid_template_rows": null,
      "height": null,
      "justify_content": null,
      "justify_items": null,
      "left": null,
      "margin": null,
      "max_height": null,
      "max_width": null,
      "min_height": null,
      "min_width": null,
      "object_fit": null,
      "object_position": null,
      "order": null,
      "overflow": null,
      "overflow_x": null,
      "overflow_y": null,
      "padding": null,
      "right": null,
      "top": null,
      "visibility": null,
      "width": null
     }
    },
    "2eff267262604cff87ec1c212d2aa59b": {
     "model_module": "@jupyter-widgets/base",
     "model_module_version": "1.2.0",
     "model_name": "LayoutModel",
     "state": {
      "_model_module": "@jupyter-widgets/base",
      "_model_module_version": "1.2.0",
      "_model_name": "LayoutModel",
      "_view_count": null,
      "_view_module": "@jupyter-widgets/base",
      "_view_module_version": "1.2.0",
      "_view_name": "LayoutView",
      "align_content": null,
      "align_items": null,
      "align_self": null,
      "border": null,
      "bottom": null,
      "display": null,
      "flex": null,
      "flex_flow": null,
      "grid_area": null,
      "grid_auto_columns": null,
      "grid_auto_flow": null,
      "grid_auto_rows": null,
      "grid_column": null,
      "grid_gap": null,
      "grid_row": null,
      "grid_template_areas": null,
      "grid_template_columns": null,
      "grid_template_rows": null,
      "height": null,
      "justify_content": null,
      "justify_items": null,
      "left": null,
      "margin": null,
      "max_height": null,
      "max_width": null,
      "min_height": null,
      "min_width": null,
      "object_fit": null,
      "object_position": null,
      "order": null,
      "overflow": null,
      "overflow_x": null,
      "overflow_y": null,
      "padding": null,
      "right": null,
      "top": null,
      "visibility": null,
      "width": null
     }
    },
    "2f265936955848eaba5ab82fd7f44308": {
     "model_module": "@jupyter-widgets/controls",
     "model_module_version": "1.5.0",
     "model_name": "FloatProgressModel",
     "state": {
      "_dom_classes": [],
      "_model_module": "@jupyter-widgets/controls",
      "_model_module_version": "1.5.0",
      "_model_name": "FloatProgressModel",
      "_view_count": null,
      "_view_module": "@jupyter-widgets/controls",
      "_view_module_version": "1.5.0",
      "_view_name": "ProgressView",
      "bar_style": "success",
      "description": "",
      "description_tooltip": null,
      "layout": "IPY_MODEL_790c0467fb53474b8d2b742a72a09534",
      "max": 387,
      "min": 0,
      "orientation": "horizontal",
      "style": "IPY_MODEL_0761a8cc8bca4943b0f47ea221f190b4",
      "value": 387
     }
    },
    "2f387fa1e52c442cabe3b850c8564a5d": {
     "model_module": "@jupyter-widgets/controls",
     "model_module_version": "1.5.0",
     "model_name": "DescriptionStyleModel",
     "state": {
      "_model_module": "@jupyter-widgets/controls",
      "_model_module_version": "1.5.0",
      "_model_name": "DescriptionStyleModel",
      "_view_count": null,
      "_view_module": "@jupyter-widgets/base",
      "_view_module_version": "1.2.0",
      "_view_name": "StyleView",
      "description_width": ""
     }
    },
    "3063c7c84770472a84a8c75b9aaa7be8": {
     "model_module": "@jupyter-widgets/controls",
     "model_module_version": "1.5.0",
     "model_name": "HTMLModel",
     "state": {
      "_dom_classes": [],
      "_model_module": "@jupyter-widgets/controls",
      "_model_module_version": "1.5.0",
      "_model_name": "HTMLModel",
      "_view_count": null,
      "_view_module": "@jupyter-widgets/controls",
      "_view_module_version": "1.5.0",
      "_view_name": "HTMLView",
      "description": "",
      "description_tooltip": null,
      "layout": "IPY_MODEL_d23b50e9c22046f187850f38b9a8521d",
      "placeholder": "​",
      "style": "IPY_MODEL_0f771ce284554aa4baa9c96cdb956688",
      "value": "VALID Epoch 03: 100%"
     }
    },
    "311a3879e1924811880fb8a30a35bfe1": {
     "model_module": "@jupyter-widgets/base",
     "model_module_version": "1.2.0",
     "model_name": "LayoutModel",
     "state": {
      "_model_module": "@jupyter-widgets/base",
      "_model_module_version": "1.2.0",
      "_model_name": "LayoutModel",
      "_view_count": null,
      "_view_module": "@jupyter-widgets/base",
      "_view_module_version": "1.2.0",
      "_view_name": "LayoutView",
      "align_content": null,
      "align_items": null,
      "align_self": null,
      "border": null,
      "bottom": null,
      "display": null,
      "flex": null,
      "flex_flow": null,
      "grid_area": null,
      "grid_auto_columns": null,
      "grid_auto_flow": null,
      "grid_auto_rows": null,
      "grid_column": null,
      "grid_gap": null,
      "grid_row": null,
      "grid_template_areas": null,
      "grid_template_columns": null,
      "grid_template_rows": null,
      "height": null,
      "justify_content": null,
      "justify_items": null,
      "left": null,
      "margin": null,
      "max_height": null,
      "max_width": null,
      "min_height": null,
      "min_width": null,
      "object_fit": null,
      "object_position": null,
      "order": null,
      "overflow": null,
      "overflow_x": null,
      "overflow_y": null,
      "padding": null,
      "right": null,
      "top": null,
      "visibility": null,
      "width": null
     }
    },
    "31b9bf82fd1d43fb9f792bf6cafde691": {
     "model_module": "@jupyter-widgets/base",
     "model_module_version": "1.2.0",
     "model_name": "LayoutModel",
     "state": {
      "_model_module": "@jupyter-widgets/base",
      "_model_module_version": "1.2.0",
      "_model_name": "LayoutModel",
      "_view_count": null,
      "_view_module": "@jupyter-widgets/base",
      "_view_module_version": "1.2.0",
      "_view_name": "LayoutView",
      "align_content": null,
      "align_items": null,
      "align_self": null,
      "border": null,
      "bottom": null,
      "display": null,
      "flex": null,
      "flex_flow": null,
      "grid_area": null,
      "grid_auto_columns": null,
      "grid_auto_flow": null,
      "grid_auto_rows": null,
      "grid_column": null,
      "grid_gap": null,
      "grid_row": null,
      "grid_template_areas": null,
      "grid_template_columns": null,
      "grid_template_rows": null,
      "height": null,
      "justify_content": null,
      "justify_items": null,
      "left": null,
      "margin": null,
      "max_height": null,
      "max_width": null,
      "min_height": null,
      "min_width": null,
      "object_fit": null,
      "object_position": null,
      "order": null,
      "overflow": null,
      "overflow_x": null,
      "overflow_y": null,
      "padding": null,
      "right": null,
      "top": null,
      "visibility": null,
      "width": null
     }
    },
    "3615951f36eb484fa78e20fed13387ae": {
     "model_module": "@jupyter-widgets/controls",
     "model_module_version": "1.5.0",
     "model_name": "DescriptionStyleModel",
     "state": {
      "_model_module": "@jupyter-widgets/controls",
      "_model_module_version": "1.5.0",
      "_model_name": "DescriptionStyleModel",
      "_view_count": null,
      "_view_module": "@jupyter-widgets/base",
      "_view_module_version": "1.2.0",
      "_view_name": "StyleView",
      "description_width": ""
     }
    },
    "361cf769beda447fbcd2facb6b2b9038": {
     "model_module": "@jupyter-widgets/controls",
     "model_module_version": "1.5.0",
     "model_name": "HBoxModel",
     "state": {
      "_dom_classes": [],
      "_model_module": "@jupyter-widgets/controls",
      "_model_module_version": "1.5.0",
      "_model_name": "HBoxModel",
      "_view_count": null,
      "_view_module": "@jupyter-widgets/controls",
      "_view_module_version": "1.5.0",
      "_view_name": "HBoxView",
      "box_style": "",
      "children": [
       "IPY_MODEL_52729e1a3bc24130bf954b50e196824d",
       "IPY_MODEL_01bc6bfbd6014dc5ac93bed246a0f3c8",
       "IPY_MODEL_dfa504428d6c4e84a54a092e1536fc94"
      ],
      "layout": "IPY_MODEL_3ce0adc3bbb543e8a75be2aac3dd1dff"
     }
    },
    "36772b864d4648db8694af97c8f13d8e": {
     "model_module": "@jupyter-widgets/base",
     "model_module_version": "1.2.0",
     "model_name": "LayoutModel",
     "state": {
      "_model_module": "@jupyter-widgets/base",
      "_model_module_version": "1.2.0",
      "_model_name": "LayoutModel",
      "_view_count": null,
      "_view_module": "@jupyter-widgets/base",
      "_view_module_version": "1.2.0",
      "_view_name": "LayoutView",
      "align_content": null,
      "align_items": null,
      "align_self": null,
      "border": null,
      "bottom": null,
      "display": null,
      "flex": null,
      "flex_flow": null,
      "grid_area": null,
      "grid_auto_columns": null,
      "grid_auto_flow": null,
      "grid_auto_rows": null,
      "grid_column": null,
      "grid_gap": null,
      "grid_row": null,
      "grid_template_areas": null,
      "grid_template_columns": null,
      "grid_template_rows": null,
      "height": null,
      "justify_content": null,
      "justify_items": null,
      "left": null,
      "margin": null,
      "max_height": null,
      "max_width": null,
      "min_height": null,
      "min_width": null,
      "object_fit": null,
      "object_position": null,
      "order": null,
      "overflow": null,
      "overflow_x": null,
      "overflow_y": null,
      "padding": null,
      "right": null,
      "top": null,
      "visibility": null,
      "width": null
     }
    },
    "3942db0e175a4569ac8f7281d3375471": {
     "model_module": "@jupyter-widgets/controls",
     "model_module_version": "1.5.0",
     "model_name": "HTMLModel",
     "state": {
      "_dom_classes": [],
      "_model_module": "@jupyter-widgets/controls",
      "_model_module_version": "1.5.0",
      "_model_name": "HTMLModel",
      "_view_count": null,
      "_view_module": "@jupyter-widgets/controls",
      "_view_module_version": "1.5.0",
      "_view_name": "HTMLView",
      "description": "",
      "description_tooltip": null,
      "layout": "IPY_MODEL_5e4d7b4d6d6e45f2ac02f0a6ae83ea60",
      "placeholder": "​",
      "style": "IPY_MODEL_20f791db93dd4877a9d82f4571e4f425",
      "value": "VALID Epoch 07: 100%"
     }
    },
    "395d59a532554014a487041559fd2395": {
     "model_module": "@jupyter-widgets/controls",
     "model_module_version": "1.5.0",
     "model_name": "ProgressStyleModel",
     "state": {
      "_model_module": "@jupyter-widgets/controls",
      "_model_module_version": "1.5.0",
      "_model_name": "ProgressStyleModel",
      "_view_count": null,
      "_view_module": "@jupyter-widgets/base",
      "_view_module_version": "1.2.0",
      "_view_name": "StyleView",
      "bar_color": null,
      "description_width": ""
     }
    },
    "3965f52f3b0a41048cbfc851f54249f7": {
     "model_module": "@jupyter-widgets/controls",
     "model_module_version": "1.5.0",
     "model_name": "HBoxModel",
     "state": {
      "_dom_classes": [],
      "_model_module": "@jupyter-widgets/controls",
      "_model_module_version": "1.5.0",
      "_model_name": "HBoxModel",
      "_view_count": null,
      "_view_module": "@jupyter-widgets/controls",
      "_view_module_version": "1.5.0",
      "_view_name": "HBoxView",
      "box_style": "",
      "children": [
       "IPY_MODEL_cbf21eb3dc71449c891e1b15ea7dd9d9",
       "IPY_MODEL_8f0205d3db1a459d96d1a9808ed13b6b",
       "IPY_MODEL_7bdff757f53f4ab8928dd9a620154517"
      ],
      "layout": "IPY_MODEL_1b414e36314e4226be8427007ba4f503"
     }
    },
    "39e4f52b22e54b2a80611bb85f785957": {
     "model_module": "@jupyter-widgets/base",
     "model_module_version": "1.2.0",
     "model_name": "LayoutModel",
     "state": {
      "_model_module": "@jupyter-widgets/base",
      "_model_module_version": "1.2.0",
      "_model_name": "LayoutModel",
      "_view_count": null,
      "_view_module": "@jupyter-widgets/base",
      "_view_module_version": "1.2.0",
      "_view_name": "LayoutView",
      "align_content": null,
      "align_items": null,
      "align_self": null,
      "border": null,
      "bottom": null,
      "display": null,
      "flex": null,
      "flex_flow": null,
      "grid_area": null,
      "grid_auto_columns": null,
      "grid_auto_flow": null,
      "grid_auto_rows": null,
      "grid_column": null,
      "grid_gap": null,
      "grid_row": null,
      "grid_template_areas": null,
      "grid_template_columns": null,
      "grid_template_rows": null,
      "height": null,
      "justify_content": null,
      "justify_items": null,
      "left": null,
      "margin": null,
      "max_height": null,
      "max_width": null,
      "min_height": null,
      "min_width": null,
      "object_fit": null,
      "object_position": null,
      "order": null,
      "overflow": null,
      "overflow_x": null,
      "overflow_y": null,
      "padding": null,
      "right": null,
      "top": null,
      "visibility": null,
      "width": null
     }
    },
    "3a17f1cc849f44d8944d0073a8b85b27": {
     "model_module": "@jupyter-widgets/base",
     "model_module_version": "1.2.0",
     "model_name": "LayoutModel",
     "state": {
      "_model_module": "@jupyter-widgets/base",
      "_model_module_version": "1.2.0",
      "_model_name": "LayoutModel",
      "_view_count": null,
      "_view_module": "@jupyter-widgets/base",
      "_view_module_version": "1.2.0",
      "_view_name": "LayoutView",
      "align_content": null,
      "align_items": null,
      "align_self": null,
      "border": null,
      "bottom": null,
      "display": null,
      "flex": null,
      "flex_flow": null,
      "grid_area": null,
      "grid_auto_columns": null,
      "grid_auto_flow": null,
      "grid_auto_rows": null,
      "grid_column": null,
      "grid_gap": null,
      "grid_row": null,
      "grid_template_areas": null,
      "grid_template_columns": null,
      "grid_template_rows": null,
      "height": null,
      "justify_content": null,
      "justify_items": null,
      "left": null,
      "margin": null,
      "max_height": null,
      "max_width": null,
      "min_height": null,
      "min_width": null,
      "object_fit": null,
      "object_position": null,
      "order": null,
      "overflow": null,
      "overflow_x": null,
      "overflow_y": null,
      "padding": null,
      "right": null,
      "top": null,
      "visibility": null,
      "width": null
     }
    },
    "3c1dc8d3251440bdb4e52ceb4711d165": {
     "model_module": "@jupyter-widgets/base",
     "model_module_version": "1.2.0",
     "model_name": "LayoutModel",
     "state": {
      "_model_module": "@jupyter-widgets/base",
      "_model_module_version": "1.2.0",
      "_model_name": "LayoutModel",
      "_view_count": null,
      "_view_module": "@jupyter-widgets/base",
      "_view_module_version": "1.2.0",
      "_view_name": "LayoutView",
      "align_content": null,
      "align_items": null,
      "align_self": null,
      "border": null,
      "bottom": null,
      "display": null,
      "flex": null,
      "flex_flow": null,
      "grid_area": null,
      "grid_auto_columns": null,
      "grid_auto_flow": null,
      "grid_auto_rows": null,
      "grid_column": null,
      "grid_gap": null,
      "grid_row": null,
      "grid_template_areas": null,
      "grid_template_columns": null,
      "grid_template_rows": null,
      "height": null,
      "justify_content": null,
      "justify_items": null,
      "left": null,
      "margin": null,
      "max_height": null,
      "max_width": null,
      "min_height": null,
      "min_width": null,
      "object_fit": null,
      "object_position": null,
      "order": null,
      "overflow": null,
      "overflow_x": null,
      "overflow_y": null,
      "padding": null,
      "right": null,
      "top": null,
      "visibility": null,
      "width": null
     }
    },
    "3cc6205b410246f49b2e346fe9be5ffe": {
     "model_module": "@jupyter-widgets/base",
     "model_module_version": "1.2.0",
     "model_name": "LayoutModel",
     "state": {
      "_model_module": "@jupyter-widgets/base",
      "_model_module_version": "1.2.0",
      "_model_name": "LayoutModel",
      "_view_count": null,
      "_view_module": "@jupyter-widgets/base",
      "_view_module_version": "1.2.0",
      "_view_name": "LayoutView",
      "align_content": null,
      "align_items": null,
      "align_self": null,
      "border": null,
      "bottom": null,
      "display": null,
      "flex": null,
      "flex_flow": null,
      "grid_area": null,
      "grid_auto_columns": null,
      "grid_auto_flow": null,
      "grid_auto_rows": null,
      "grid_column": null,
      "grid_gap": null,
      "grid_row": null,
      "grid_template_areas": null,
      "grid_template_columns": null,
      "grid_template_rows": null,
      "height": null,
      "justify_content": null,
      "justify_items": null,
      "left": null,
      "margin": null,
      "max_height": null,
      "max_width": null,
      "min_height": null,
      "min_width": null,
      "object_fit": null,
      "object_position": null,
      "order": null,
      "overflow": null,
      "overflow_x": null,
      "overflow_y": null,
      "padding": null,
      "right": null,
      "top": null,
      "visibility": null,
      "width": null
     }
    },
    "3ce0adc3bbb543e8a75be2aac3dd1dff": {
     "model_module": "@jupyter-widgets/base",
     "model_module_version": "1.2.0",
     "model_name": "LayoutModel",
     "state": {
      "_model_module": "@jupyter-widgets/base",
      "_model_module_version": "1.2.0",
      "_model_name": "LayoutModel",
      "_view_count": null,
      "_view_module": "@jupyter-widgets/base",
      "_view_module_version": "1.2.0",
      "_view_name": "LayoutView",
      "align_content": null,
      "align_items": null,
      "align_self": null,
      "border": null,
      "bottom": null,
      "display": null,
      "flex": null,
      "flex_flow": null,
      "grid_area": null,
      "grid_auto_columns": null,
      "grid_auto_flow": null,
      "grid_auto_rows": null,
      "grid_column": null,
      "grid_gap": null,
      "grid_row": null,
      "grid_template_areas": null,
      "grid_template_columns": null,
      "grid_template_rows": null,
      "height": null,
      "justify_content": null,
      "justify_items": null,
      "left": null,
      "margin": null,
      "max_height": null,
      "max_width": null,
      "min_height": null,
      "min_width": null,
      "object_fit": null,
      "object_position": null,
      "order": null,
      "overflow": null,
      "overflow_x": null,
      "overflow_y": null,
      "padding": null,
      "right": null,
      "top": null,
      "visibility": null,
      "width": null
     }
    },
    "3fee3f52d4db49bb89b4f3612e7fc0ec": {
     "model_module": "@jupyter-widgets/controls",
     "model_module_version": "1.5.0",
     "model_name": "HBoxModel",
     "state": {
      "_dom_classes": [],
      "_model_module": "@jupyter-widgets/controls",
      "_model_module_version": "1.5.0",
      "_model_name": "HBoxModel",
      "_view_count": null,
      "_view_module": "@jupyter-widgets/controls",
      "_view_module_version": "1.5.0",
      "_view_name": "HBoxView",
      "box_style": "",
      "children": [
       "IPY_MODEL_15292311d4b44d709d35e7c136266e5b",
       "IPY_MODEL_ccf20979e2d14bfdb5e1246ab56dd18a",
       "IPY_MODEL_67d36361bc6d460ab5358e86f58b490c"
      ],
      "layout": "IPY_MODEL_2caefa322e83491e9fac7e3bb162efc7"
     }
    },
    "4075a836fb0e441093fffe818d6db803": {
     "model_module": "@jupyter-widgets/controls",
     "model_module_version": "1.5.0",
     "model_name": "HBoxModel",
     "state": {
      "_dom_classes": [],
      "_model_module": "@jupyter-widgets/controls",
      "_model_module_version": "1.5.0",
      "_model_name": "HBoxModel",
      "_view_count": null,
      "_view_module": "@jupyter-widgets/controls",
      "_view_module_version": "1.5.0",
      "_view_name": "HBoxView",
      "box_style": "",
      "children": [
       "IPY_MODEL_6a5f796842e64457935710af03a5dcac",
       "IPY_MODEL_fb91db9b7bac484baddaf600c223df36",
       "IPY_MODEL_504fb3e6bfe04a938f9cf755d32503b6"
      ],
      "layout": "IPY_MODEL_59a323cab35e4901accf185a41011566"
     }
    },
    "40973380eea5405c8ed55d5e22098127": {
     "model_module": "@jupyter-widgets/controls",
     "model_module_version": "1.5.0",
     "model_name": "ProgressStyleModel",
     "state": {
      "_model_module": "@jupyter-widgets/controls",
      "_model_module_version": "1.5.0",
      "_model_name": "ProgressStyleModel",
      "_view_count": null,
      "_view_module": "@jupyter-widgets/base",
      "_view_module_version": "1.2.0",
      "_view_name": "StyleView",
      "bar_color": null,
      "description_width": ""
     }
    },
    "41b2d45672294944a6a460f695fb6d29": {
     "model_module": "@jupyter-widgets/controls",
     "model_module_version": "1.5.0",
     "model_name": "HTMLModel",
     "state": {
      "_dom_classes": [],
      "_model_module": "@jupyter-widgets/controls",
      "_model_module_version": "1.5.0",
      "_model_name": "HTMLModel",
      "_view_count": null,
      "_view_module": "@jupyter-widgets/controls",
      "_view_module_version": "1.5.0",
      "_view_name": "HTMLView",
      "description": "",
      "description_tooltip": null,
      "layout": "IPY_MODEL_9f9e1fecbedc48319e59efbca0fcb7d1",
      "placeholder": "​",
      "style": "IPY_MODEL_d583a9df40be4858b1b3064adccb879a",
      "value": " 96/96 [00:02&lt;00:00, 50.49it/s]"
     }
    },
    "41fb64f5adfd4058a35f9d5e4ebda206": {
     "model_module": "@jupyter-widgets/base",
     "model_module_version": "1.2.0",
     "model_name": "LayoutModel",
     "state": {
      "_model_module": "@jupyter-widgets/base",
      "_model_module_version": "1.2.0",
      "_model_name": "LayoutModel",
      "_view_count": null,
      "_view_module": "@jupyter-widgets/base",
      "_view_module_version": "1.2.0",
      "_view_name": "LayoutView",
      "align_content": null,
      "align_items": null,
      "align_self": null,
      "border": null,
      "bottom": null,
      "display": null,
      "flex": null,
      "flex_flow": null,
      "grid_area": null,
      "grid_auto_columns": null,
      "grid_auto_flow": null,
      "grid_auto_rows": null,
      "grid_column": null,
      "grid_gap": null,
      "grid_row": null,
      "grid_template_areas": null,
      "grid_template_columns": null,
      "grid_template_rows": null,
      "height": null,
      "justify_content": null,
      "justify_items": null,
      "left": null,
      "margin": null,
      "max_height": null,
      "max_width": null,
      "min_height": null,
      "min_width": null,
      "object_fit": null,
      "object_position": null,
      "order": null,
      "overflow": null,
      "overflow_x": null,
      "overflow_y": null,
      "padding": null,
      "right": null,
      "top": null,
      "visibility": null,
      "width": null
     }
    },
    "42f1c86e56644ae18db1ece2e31e89d8": {
     "model_module": "@jupyter-widgets/controls",
     "model_module_version": "1.5.0",
     "model_name": "ProgressStyleModel",
     "state": {
      "_model_module": "@jupyter-widgets/controls",
      "_model_module_version": "1.5.0",
      "_model_name": "ProgressStyleModel",
      "_view_count": null,
      "_view_module": "@jupyter-widgets/base",
      "_view_module_version": "1.2.0",
      "_view_name": "StyleView",
      "bar_color": null,
      "description_width": ""
     }
    },
    "446c07081b7542f0b620e07993831f38": {
     "model_module": "@jupyter-widgets/controls",
     "model_module_version": "1.5.0",
     "model_name": "HBoxModel",
     "state": {
      "_dom_classes": [],
      "_model_module": "@jupyter-widgets/controls",
      "_model_module_version": "1.5.0",
      "_model_name": "HBoxModel",
      "_view_count": null,
      "_view_module": "@jupyter-widgets/controls",
      "_view_module_version": "1.5.0",
      "_view_name": "HBoxView",
      "box_style": "",
      "children": [
       "IPY_MODEL_e609e1a894874b909f25ffd83acc4393",
       "IPY_MODEL_65b6545735b9439786fe6b6b10e1971c",
       "IPY_MODEL_b10bb3c53e2c4ce38c46d0590d155176"
      ],
      "layout": "IPY_MODEL_39e4f52b22e54b2a80611bb85f785957"
     }
    },
    "4601e65ec6134e528465dfb38d563dd7": {
     "model_module": "@jupyter-widgets/controls",
     "model_module_version": "1.5.0",
     "model_name": "HBoxModel",
     "state": {
      "_dom_classes": [],
      "_model_module": "@jupyter-widgets/controls",
      "_model_module_version": "1.5.0",
      "_model_name": "HBoxModel",
      "_view_count": null,
      "_view_module": "@jupyter-widgets/controls",
      "_view_module_version": "1.5.0",
      "_view_name": "HBoxView",
      "box_style": "",
      "children": [
       "IPY_MODEL_3063c7c84770472a84a8c75b9aaa7be8",
       "IPY_MODEL_b70e961a701c49f2b0cc57ddf867fa66",
       "IPY_MODEL_4e5789811e5f4ea9a50332f6d5b29bcf"
      ],
      "layout": "IPY_MODEL_7cf80646268c43adac155e5483339a6e"
     }
    },
    "465d658254294592b835bfbeb04e10d0": {
     "model_module": "@jupyter-widgets/controls",
     "model_module_version": "1.5.0",
     "model_name": "DescriptionStyleModel",
     "state": {
      "_model_module": "@jupyter-widgets/controls",
      "_model_module_version": "1.5.0",
      "_model_name": "DescriptionStyleModel",
      "_view_count": null,
      "_view_module": "@jupyter-widgets/base",
      "_view_module_version": "1.2.0",
      "_view_name": "StyleView",
      "description_width": ""
     }
    },
    "47063c8354244a7398144868e5014c14": {
     "model_module": "@jupyter-widgets/base",
     "model_module_version": "1.2.0",
     "model_name": "LayoutModel",
     "state": {
      "_model_module": "@jupyter-widgets/base",
      "_model_module_version": "1.2.0",
      "_model_name": "LayoutModel",
      "_view_count": null,
      "_view_module": "@jupyter-widgets/base",
      "_view_module_version": "1.2.0",
      "_view_name": "LayoutView",
      "align_content": null,
      "align_items": null,
      "align_self": null,
      "border": null,
      "bottom": null,
      "display": null,
      "flex": null,
      "flex_flow": null,
      "grid_area": null,
      "grid_auto_columns": null,
      "grid_auto_flow": null,
      "grid_auto_rows": null,
      "grid_column": null,
      "grid_gap": null,
      "grid_row": null,
      "grid_template_areas": null,
      "grid_template_columns": null,
      "grid_template_rows": null,
      "height": null,
      "justify_content": null,
      "justify_items": null,
      "left": null,
      "margin": null,
      "max_height": null,
      "max_width": null,
      "min_height": null,
      "min_width": null,
      "object_fit": null,
      "object_position": null,
      "order": null,
      "overflow": null,
      "overflow_x": null,
      "overflow_y": null,
      "padding": null,
      "right": null,
      "top": null,
      "visibility": null,
      "width": null
     }
    },
    "47a9d794904c49afa5b070c696d5c095": {
     "model_module": "@jupyter-widgets/controls",
     "model_module_version": "1.5.0",
     "model_name": "HBoxModel",
     "state": {
      "_dom_classes": [],
      "_model_module": "@jupyter-widgets/controls",
      "_model_module_version": "1.5.0",
      "_model_name": "HBoxModel",
      "_view_count": null,
      "_view_module": "@jupyter-widgets/controls",
      "_view_module_version": "1.5.0",
      "_view_name": "HBoxView",
      "box_style": "",
      "children": [
       "IPY_MODEL_65baeec2a4c34000863bbc3573df7a77",
       "IPY_MODEL_fcc843e9ec544746b3a22042fc961f9a",
       "IPY_MODEL_b209730ab66b49e28eda673ef6035801"
      ],
      "layout": "IPY_MODEL_2e5759d4d6c844fba504ce2ad12d79ba"
     }
    },
    "484a0f6f3373463494154e7ba85e6406": {
     "model_module": "@jupyter-widgets/base",
     "model_module_version": "1.2.0",
     "model_name": "LayoutModel",
     "state": {
      "_model_module": "@jupyter-widgets/base",
      "_model_module_version": "1.2.0",
      "_model_name": "LayoutModel",
      "_view_count": null,
      "_view_module": "@jupyter-widgets/base",
      "_view_module_version": "1.2.0",
      "_view_name": "LayoutView",
      "align_content": null,
      "align_items": null,
      "align_self": null,
      "border": null,
      "bottom": null,
      "display": null,
      "flex": null,
      "flex_flow": null,
      "grid_area": null,
      "grid_auto_columns": null,
      "grid_auto_flow": null,
      "grid_auto_rows": null,
      "grid_column": null,
      "grid_gap": null,
      "grid_row": null,
      "grid_template_areas": null,
      "grid_template_columns": null,
      "grid_template_rows": null,
      "height": null,
      "justify_content": null,
      "justify_items": null,
      "left": null,
      "margin": null,
      "max_height": null,
      "max_width": null,
      "min_height": null,
      "min_width": null,
      "object_fit": null,
      "object_position": null,
      "order": null,
      "overflow": null,
      "overflow_x": null,
      "overflow_y": null,
      "padding": null,
      "right": null,
      "top": null,
      "visibility": null,
      "width": null
     }
    },
    "4a2a00204e5f49a78b4a9ec0d54ec554": {
     "model_module": "@jupyter-widgets/controls",
     "model_module_version": "1.5.0",
     "model_name": "DescriptionStyleModel",
     "state": {
      "_model_module": "@jupyter-widgets/controls",
      "_model_module_version": "1.5.0",
      "_model_name": "DescriptionStyleModel",
      "_view_count": null,
      "_view_module": "@jupyter-widgets/base",
      "_view_module_version": "1.2.0",
      "_view_name": "StyleView",
      "description_width": ""
     }
    },
    "4affc5a375624b5ba42831f905b11bcb": {
     "model_module": "@jupyter-widgets/base",
     "model_module_version": "1.2.0",
     "model_name": "LayoutModel",
     "state": {
      "_model_module": "@jupyter-widgets/base",
      "_model_module_version": "1.2.0",
      "_model_name": "LayoutModel",
      "_view_count": null,
      "_view_module": "@jupyter-widgets/base",
      "_view_module_version": "1.2.0",
      "_view_name": "LayoutView",
      "align_content": null,
      "align_items": null,
      "align_self": null,
      "border": null,
      "bottom": null,
      "display": null,
      "flex": null,
      "flex_flow": null,
      "grid_area": null,
      "grid_auto_columns": null,
      "grid_auto_flow": null,
      "grid_auto_rows": null,
      "grid_column": null,
      "grid_gap": null,
      "grid_row": null,
      "grid_template_areas": null,
      "grid_template_columns": null,
      "grid_template_rows": null,
      "height": null,
      "justify_content": null,
      "justify_items": null,
      "left": null,
      "margin": null,
      "max_height": null,
      "max_width": null,
      "min_height": null,
      "min_width": null,
      "object_fit": null,
      "object_position": null,
      "order": null,
      "overflow": null,
      "overflow_x": null,
      "overflow_y": null,
      "padding": null,
      "right": null,
      "top": null,
      "visibility": null,
      "width": null
     }
    },
    "4c79595013b844ce9779d65fb20761fb": {
     "model_module": "@jupyter-widgets/controls",
     "model_module_version": "1.5.0",
     "model_name": "DescriptionStyleModel",
     "state": {
      "_model_module": "@jupyter-widgets/controls",
      "_model_module_version": "1.5.0",
      "_model_name": "DescriptionStyleModel",
      "_view_count": null,
      "_view_module": "@jupyter-widgets/base",
      "_view_module_version": "1.2.0",
      "_view_name": "StyleView",
      "description_width": ""
     }
    },
    "4d8c2d2730224e1db766988b71bd69e3": {
     "model_module": "@jupyter-widgets/base",
     "model_module_version": "1.2.0",
     "model_name": "LayoutModel",
     "state": {
      "_model_module": "@jupyter-widgets/base",
      "_model_module_version": "1.2.0",
      "_model_name": "LayoutModel",
      "_view_count": null,
      "_view_module": "@jupyter-widgets/base",
      "_view_module_version": "1.2.0",
      "_view_name": "LayoutView",
      "align_content": null,
      "align_items": null,
      "align_self": null,
      "border": null,
      "bottom": null,
      "display": null,
      "flex": null,
      "flex_flow": null,
      "grid_area": null,
      "grid_auto_columns": null,
      "grid_auto_flow": null,
      "grid_auto_rows": null,
      "grid_column": null,
      "grid_gap": null,
      "grid_row": null,
      "grid_template_areas": null,
      "grid_template_columns": null,
      "grid_template_rows": null,
      "height": null,
      "justify_content": null,
      "justify_items": null,
      "left": null,
      "margin": null,
      "max_height": null,
      "max_width": null,
      "min_height": null,
      "min_width": null,
      "object_fit": null,
      "object_position": null,
      "order": null,
      "overflow": null,
      "overflow_x": null,
      "overflow_y": null,
      "padding": null,
      "right": null,
      "top": null,
      "visibility": null,
      "width": null
     }
    },
    "4e5789811e5f4ea9a50332f6d5b29bcf": {
     "model_module": "@jupyter-widgets/controls",
     "model_module_version": "1.5.0",
     "model_name": "HTMLModel",
     "state": {
      "_dom_classes": [],
      "_model_module": "@jupyter-widgets/controls",
      "_model_module_version": "1.5.0",
      "_model_name": "HTMLModel",
      "_view_count": null,
      "_view_module": "@jupyter-widgets/controls",
      "_view_module_version": "1.5.0",
      "_view_name": "HTMLView",
      "description": "",
      "description_tooltip": null,
      "layout": "IPY_MODEL_d9599de7e85d4d2e8ec8bfc1603c4249",
      "placeholder": "​",
      "style": "IPY_MODEL_6ebe6a7b856d4032863d7016f1b84172",
      "value": " 96/96 [00:02&lt;00:00, 51.52it/s]"
     }
    },
    "4e860aec9df248e09592295cd590d717": {
     "model_module": "@jupyter-widgets/base",
     "model_module_version": "1.2.0",
     "model_name": "LayoutModel",
     "state": {
      "_model_module": "@jupyter-widgets/base",
      "_model_module_version": "1.2.0",
      "_model_name": "LayoutModel",
      "_view_count": null,
      "_view_module": "@jupyter-widgets/base",
      "_view_module_version": "1.2.0",
      "_view_name": "LayoutView",
      "align_content": null,
      "align_items": null,
      "align_self": null,
      "border": null,
      "bottom": null,
      "display": null,
      "flex": null,
      "flex_flow": null,
      "grid_area": null,
      "grid_auto_columns": null,
      "grid_auto_flow": null,
      "grid_auto_rows": null,
      "grid_column": null,
      "grid_gap": null,
      "grid_row": null,
      "grid_template_areas": null,
      "grid_template_columns": null,
      "grid_template_rows": null,
      "height": null,
      "justify_content": null,
      "justify_items": null,
      "left": null,
      "margin": null,
      "max_height": null,
      "max_width": null,
      "min_height": null,
      "min_width": null,
      "object_fit": null,
      "object_position": null,
      "order": null,
      "overflow": null,
      "overflow_x": null,
      "overflow_y": null,
      "padding": null,
      "right": null,
      "top": null,
      "visibility": null,
      "width": null
     }
    },
    "4ea39805b4b043f7a9b9d603e29a88a1": {
     "model_module": "@jupyter-widgets/controls",
     "model_module_version": "1.5.0",
     "model_name": "HTMLModel",
     "state": {
      "_dom_classes": [],
      "_model_module": "@jupyter-widgets/controls",
      "_model_module_version": "1.5.0",
      "_model_name": "HTMLModel",
      "_view_count": null,
      "_view_module": "@jupyter-widgets/controls",
      "_view_module_version": "1.5.0",
      "_view_name": "HTMLView",
      "description": "",
      "description_tooltip": null,
      "layout": "IPY_MODEL_da104f872ba2497a862adbe027e01c51",
      "placeholder": "​",
      "style": "IPY_MODEL_64cb3496b40d42f0996693c9400f2fbc",
      "value": " 1339/1339 [00:09&lt;00:00, 154.18it/s]"
     }
    },
    "4fac1b4562e64a16a698126e61d30983": {
     "model_module": "@jupyter-widgets/controls",
     "model_module_version": "1.5.0",
     "model_name": "ProgressStyleModel",
     "state": {
      "_model_module": "@jupyter-widgets/controls",
      "_model_module_version": "1.5.0",
      "_model_name": "ProgressStyleModel",
      "_view_count": null,
      "_view_module": "@jupyter-widgets/base",
      "_view_module_version": "1.2.0",
      "_view_name": "StyleView",
      "bar_color": null,
      "description_width": ""
     }
    },
    "504fb3e6bfe04a938f9cf755d32503b6": {
     "model_module": "@jupyter-widgets/controls",
     "model_module_version": "1.5.0",
     "model_name": "HTMLModel",
     "state": {
      "_dom_classes": [],
      "_model_module": "@jupyter-widgets/controls",
      "_model_module_version": "1.5.0",
      "_model_name": "HTMLModel",
      "_view_count": null,
      "_view_module": "@jupyter-widgets/controls",
      "_view_module_version": "1.5.0",
      "_view_name": "HTMLView",
      "description": "",
      "description_tooltip": null,
      "layout": "IPY_MODEL_7ba3d304796140bbadb93647fb172e1a",
      "placeholder": "​",
      "style": "IPY_MODEL_fe122ba9856f494c9cbcb257e1695735",
      "value": " 387/387 [00:09&lt;00:00, 45.01it/s]"
     }
    },
    "507589182a86424ba1d8c6f31a284b3a": {
     "model_module": "@jupyter-widgets/controls",
     "model_module_version": "1.5.0",
     "model_name": "DescriptionStyleModel",
     "state": {
      "_model_module": "@jupyter-widgets/controls",
      "_model_module_version": "1.5.0",
      "_model_name": "DescriptionStyleModel",
      "_view_count": null,
      "_view_module": "@jupyter-widgets/base",
      "_view_module_version": "1.2.0",
      "_view_name": "StyleView",
      "description_width": ""
     }
    },
    "51b3cb0e60dd43458bc32566999a512e": {
     "model_module": "@jupyter-widgets/controls",
     "model_module_version": "1.5.0",
     "model_name": "DescriptionStyleModel",
     "state": {
      "_model_module": "@jupyter-widgets/controls",
      "_model_module_version": "1.5.0",
      "_model_name": "DescriptionStyleModel",
      "_view_count": null,
      "_view_module": "@jupyter-widgets/base",
      "_view_module_version": "1.2.0",
      "_view_name": "StyleView",
      "description_width": ""
     }
    },
    "521950358ee740a49a540a9e34d42561": {
     "model_module": "@jupyter-widgets/controls",
     "model_module_version": "1.5.0",
     "model_name": "DescriptionStyleModel",
     "state": {
      "_model_module": "@jupyter-widgets/controls",
      "_model_module_version": "1.5.0",
      "_model_name": "DescriptionStyleModel",
      "_view_count": null,
      "_view_module": "@jupyter-widgets/base",
      "_view_module_version": "1.2.0",
      "_view_name": "StyleView",
      "description_width": ""
     }
    },
    "5270c562fadb482993d8f0261f1e6a72": {
     "model_module": "@jupyter-widgets/controls",
     "model_module_version": "1.5.0",
     "model_name": "HBoxModel",
     "state": {
      "_dom_classes": [],
      "_model_module": "@jupyter-widgets/controls",
      "_model_module_version": "1.5.0",
      "_model_name": "HBoxModel",
      "_view_count": null,
      "_view_module": "@jupyter-widgets/controls",
      "_view_module_version": "1.5.0",
      "_view_name": "HBoxView",
      "box_style": "",
      "children": [
       "IPY_MODEL_8a75ad09a9ed4ffabddf4620c67f8f44",
       "IPY_MODEL_b638f9eefef14f279de4b3dcbc213bbc",
       "IPY_MODEL_675cfb6c501c4666adde9062d6f00a2a"
      ],
      "layout": "IPY_MODEL_484a0f6f3373463494154e7ba85e6406"
     }
    },
    "52729e1a3bc24130bf954b50e196824d": {
     "model_module": "@jupyter-widgets/controls",
     "model_module_version": "1.5.0",
     "model_name": "HTMLModel",
     "state": {
      "_dom_classes": [],
      "_model_module": "@jupyter-widgets/controls",
      "_model_module_version": "1.5.0",
      "_model_name": "HTMLModel",
      "_view_count": null,
      "_view_module": "@jupyter-widgets/controls",
      "_view_module_version": "1.5.0",
      "_view_name": "HTMLView",
      "description": "",
      "description_tooltip": null,
      "layout": "IPY_MODEL_7b32172ad65848e9bcbc3f9d87e454f0",
      "placeholder": "​",
      "style": "IPY_MODEL_9ef1b83ce0784341b6ae1932467784fe",
      "value": "TRAIN Epoch 09: 100%"
     }
    },
    "55f2df91c2774273b7da5e8e30a5cc3a": {
     "model_module": "@jupyter-widgets/controls",
     "model_module_version": "1.5.0",
     "model_name": "HTMLModel",
     "state": {
      "_dom_classes": [],
      "_model_module": "@jupyter-widgets/controls",
      "_model_module_version": "1.5.0",
      "_model_name": "HTMLModel",
      "_view_count": null,
      "_view_module": "@jupyter-widgets/controls",
      "_view_module_version": "1.5.0",
      "_view_name": "HTMLView",
      "description": "",
      "description_tooltip": null,
      "layout": "IPY_MODEL_698db1ef395b43a994b0c2ed9ff93bf9",
      "placeholder": "​",
      "style": "IPY_MODEL_9cd08c36d4c54052a670d973ad5fd281",
      "value": "VALID Epoch 05: 100%"
     }
    },
    "5877368fe5b74a4fa4c6aca60e202244": {
     "model_module": "@jupyter-widgets/controls",
     "model_module_version": "1.5.0",
     "model_name": "ProgressStyleModel",
     "state": {
      "_model_module": "@jupyter-widgets/controls",
      "_model_module_version": "1.5.0",
      "_model_name": "ProgressStyleModel",
      "_view_count": null,
      "_view_module": "@jupyter-widgets/base",
      "_view_module_version": "1.2.0",
      "_view_name": "StyleView",
      "bar_color": null,
      "description_width": ""
     }
    },
    "5877c27a18174e5f9a7468f84fc26f49": {
     "model_module": "@jupyter-widgets/controls",
     "model_module_version": "1.5.0",
     "model_name": "HTMLModel",
     "state": {
      "_dom_classes": [],
      "_model_module": "@jupyter-widgets/controls",
      "_model_module_version": "1.5.0",
      "_model_name": "HTMLModel",
      "_view_count": null,
      "_view_module": "@jupyter-widgets/controls",
      "_view_module_version": "1.5.0",
      "_view_name": "HTMLView",
      "description": "",
      "description_tooltip": null,
      "layout": "IPY_MODEL_275143fcd1114a39a443742c521cbb10",
      "placeholder": "​",
      "style": "IPY_MODEL_521950358ee740a49a540a9e34d42561",
      "value": " 96/96 [00:06&lt;00:00, 17.78it/s]"
     }
    },
    "58ea8979add741a7abb22d9ba7fa6c7f": {
     "model_module": "@jupyter-widgets/controls",
     "model_module_version": "1.5.0",
     "model_name": "ProgressStyleModel",
     "state": {
      "_model_module": "@jupyter-widgets/controls",
      "_model_module_version": "1.5.0",
      "_model_name": "ProgressStyleModel",
      "_view_count": null,
      "_view_module": "@jupyter-widgets/base",
      "_view_module_version": "1.2.0",
      "_view_name": "StyleView",
      "bar_color": null,
      "description_width": ""
     }
    },
    "59a323cab35e4901accf185a41011566": {
     "model_module": "@jupyter-widgets/base",
     "model_module_version": "1.2.0",
     "model_name": "LayoutModel",
     "state": {
      "_model_module": "@jupyter-widgets/base",
      "_model_module_version": "1.2.0",
      "_model_name": "LayoutModel",
      "_view_count": null,
      "_view_module": "@jupyter-widgets/base",
      "_view_module_version": "1.2.0",
      "_view_name": "LayoutView",
      "align_content": null,
      "align_items": null,
      "align_self": null,
      "border": null,
      "bottom": null,
      "display": null,
      "flex": null,
      "flex_flow": null,
      "grid_area": null,
      "grid_auto_columns": null,
      "grid_auto_flow": null,
      "grid_auto_rows": null,
      "grid_column": null,
      "grid_gap": null,
      "grid_row": null,
      "grid_template_areas": null,
      "grid_template_columns": null,
      "grid_template_rows": null,
      "height": null,
      "justify_content": null,
      "justify_items": null,
      "left": null,
      "margin": null,
      "max_height": null,
      "max_width": null,
      "min_height": null,
      "min_width": null,
      "object_fit": null,
      "object_position": null,
      "order": null,
      "overflow": null,
      "overflow_x": null,
      "overflow_y": null,
      "padding": null,
      "right": null,
      "top": null,
      "visibility": null,
      "width": null
     }
    },
    "59cdc83c878e477498cad2a74bd076a8": {
     "model_module": "@jupyter-widgets/base",
     "model_module_version": "1.2.0",
     "model_name": "LayoutModel",
     "state": {
      "_model_module": "@jupyter-widgets/base",
      "_model_module_version": "1.2.0",
      "_model_name": "LayoutModel",
      "_view_count": null,
      "_view_module": "@jupyter-widgets/base",
      "_view_module_version": "1.2.0",
      "_view_name": "LayoutView",
      "align_content": null,
      "align_items": null,
      "align_self": null,
      "border": null,
      "bottom": null,
      "display": null,
      "flex": null,
      "flex_flow": null,
      "grid_area": null,
      "grid_auto_columns": null,
      "grid_auto_flow": null,
      "grid_auto_rows": null,
      "grid_column": null,
      "grid_gap": null,
      "grid_row": null,
      "grid_template_areas": null,
      "grid_template_columns": null,
      "grid_template_rows": null,
      "height": null,
      "justify_content": null,
      "justify_items": null,
      "left": null,
      "margin": null,
      "max_height": null,
      "max_width": null,
      "min_height": null,
      "min_width": null,
      "object_fit": null,
      "object_position": null,
      "order": null,
      "overflow": null,
      "overflow_x": null,
      "overflow_y": null,
      "padding": null,
      "right": null,
      "top": null,
      "visibility": null,
      "width": null
     }
    },
    "5bbb7c7ed4024444bc0a60b0ae30092a": {
     "model_module": "@jupyter-widgets/controls",
     "model_module_version": "1.5.0",
     "model_name": "ProgressStyleModel",
     "state": {
      "_model_module": "@jupyter-widgets/controls",
      "_model_module_version": "1.5.0",
      "_model_name": "ProgressStyleModel",
      "_view_count": null,
      "_view_module": "@jupyter-widgets/base",
      "_view_module_version": "1.2.0",
      "_view_name": "StyleView",
      "bar_color": null,
      "description_width": ""
     }
    },
    "5c7b021353df4b3d97e6e33c318c70a4": {
     "model_module": "@jupyter-widgets/controls",
     "model_module_version": "1.5.0",
     "model_name": "ProgressStyleModel",
     "state": {
      "_model_module": "@jupyter-widgets/controls",
      "_model_module_version": "1.5.0",
      "_model_name": "ProgressStyleModel",
      "_view_count": null,
      "_view_module": "@jupyter-widgets/base",
      "_view_module_version": "1.2.0",
      "_view_name": "StyleView",
      "bar_color": null,
      "description_width": ""
     }
    },
    "5e4d7b4d6d6e45f2ac02f0a6ae83ea60": {
     "model_module": "@jupyter-widgets/base",
     "model_module_version": "1.2.0",
     "model_name": "LayoutModel",
     "state": {
      "_model_module": "@jupyter-widgets/base",
      "_model_module_version": "1.2.0",
      "_model_name": "LayoutModel",
      "_view_count": null,
      "_view_module": "@jupyter-widgets/base",
      "_view_module_version": "1.2.0",
      "_view_name": "LayoutView",
      "align_content": null,
      "align_items": null,
      "align_self": null,
      "border": null,
      "bottom": null,
      "display": null,
      "flex": null,
      "flex_flow": null,
      "grid_area": null,
      "grid_auto_columns": null,
      "grid_auto_flow": null,
      "grid_auto_rows": null,
      "grid_column": null,
      "grid_gap": null,
      "grid_row": null,
      "grid_template_areas": null,
      "grid_template_columns": null,
      "grid_template_rows": null,
      "height": null,
      "justify_content": null,
      "justify_items": null,
      "left": null,
      "margin": null,
      "max_height": null,
      "max_width": null,
      "min_height": null,
      "min_width": null,
      "object_fit": null,
      "object_position": null,
      "order": null,
      "overflow": null,
      "overflow_x": null,
      "overflow_y": null,
      "padding": null,
      "right": null,
      "top": null,
      "visibility": null,
      "width": null
     }
    },
    "60acfc36976b4fbd951a1b5b226c15ff": {
     "model_module": "@jupyter-widgets/base",
     "model_module_version": "1.2.0",
     "model_name": "LayoutModel",
     "state": {
      "_model_module": "@jupyter-widgets/base",
      "_model_module_version": "1.2.0",
      "_model_name": "LayoutModel",
      "_view_count": null,
      "_view_module": "@jupyter-widgets/base",
      "_view_module_version": "1.2.0",
      "_view_name": "LayoutView",
      "align_content": null,
      "align_items": null,
      "align_self": null,
      "border": null,
      "bottom": null,
      "display": null,
      "flex": null,
      "flex_flow": null,
      "grid_area": null,
      "grid_auto_columns": null,
      "grid_auto_flow": null,
      "grid_auto_rows": null,
      "grid_column": null,
      "grid_gap": null,
      "grid_row": null,
      "grid_template_areas": null,
      "grid_template_columns": null,
      "grid_template_rows": null,
      "height": null,
      "justify_content": null,
      "justify_items": null,
      "left": null,
      "margin": null,
      "max_height": null,
      "max_width": null,
      "min_height": null,
      "min_width": null,
      "object_fit": null,
      "object_position": null,
      "order": null,
      "overflow": null,
      "overflow_x": null,
      "overflow_y": null,
      "padding": null,
      "right": null,
      "top": null,
      "visibility": null,
      "width": null
     }
    },
    "615a675234504d4693b50b9c0900167a": {
     "model_module": "@jupyter-widgets/base",
     "model_module_version": "1.2.0",
     "model_name": "LayoutModel",
     "state": {
      "_model_module": "@jupyter-widgets/base",
      "_model_module_version": "1.2.0",
      "_model_name": "LayoutModel",
      "_view_count": null,
      "_view_module": "@jupyter-widgets/base",
      "_view_module_version": "1.2.0",
      "_view_name": "LayoutView",
      "align_content": null,
      "align_items": null,
      "align_self": null,
      "border": null,
      "bottom": null,
      "display": null,
      "flex": null,
      "flex_flow": null,
      "grid_area": null,
      "grid_auto_columns": null,
      "grid_auto_flow": null,
      "grid_auto_rows": null,
      "grid_column": null,
      "grid_gap": null,
      "grid_row": null,
      "grid_template_areas": null,
      "grid_template_columns": null,
      "grid_template_rows": null,
      "height": null,
      "justify_content": null,
      "justify_items": null,
      "left": null,
      "margin": null,
      "max_height": null,
      "max_width": null,
      "min_height": null,
      "min_width": null,
      "object_fit": null,
      "object_position": null,
      "order": null,
      "overflow": null,
      "overflow_x": null,
      "overflow_y": null,
      "padding": null,
      "right": null,
      "top": null,
      "visibility": null,
      "width": null
     }
    },
    "6173b1e4b4c744adbc8e95863ecf7199": {
     "model_module": "@jupyter-widgets/controls",
     "model_module_version": "1.5.0",
     "model_name": "HTMLModel",
     "state": {
      "_dom_classes": [],
      "_model_module": "@jupyter-widgets/controls",
      "_model_module_version": "1.5.0",
      "_model_name": "HTMLModel",
      "_view_count": null,
      "_view_module": "@jupyter-widgets/controls",
      "_view_module_version": "1.5.0",
      "_view_name": "HTMLView",
      "description": "",
      "description_tooltip": null,
      "layout": "IPY_MODEL_0f8bdc740fef44a68776564bee1d546a",
      "placeholder": "​",
      "style": "IPY_MODEL_1f28d8bf2f2941f6afc83e9d170328b6",
      "value": "VALID Epoch 00: 100%"
     }
    },
    "61ada837f6904535b3c60cbf30df7698": {
     "model_module": "@jupyter-widgets/controls",
     "model_module_version": "1.5.0",
     "model_name": "DescriptionStyleModel",
     "state": {
      "_model_module": "@jupyter-widgets/controls",
      "_model_module_version": "1.5.0",
      "_model_name": "DescriptionStyleModel",
      "_view_count": null,
      "_view_module": "@jupyter-widgets/base",
      "_view_module_version": "1.2.0",
      "_view_name": "StyleView",
      "description_width": ""
     }
    },
    "6216597660ea4f50b04ac4d3b9b1e251": {
     "model_module": "@jupyter-widgets/controls",
     "model_module_version": "1.5.0",
     "model_name": "FloatProgressModel",
     "state": {
      "_dom_classes": [],
      "_model_module": "@jupyter-widgets/controls",
      "_model_module_version": "1.5.0",
      "_model_name": "FloatProgressModel",
      "_view_count": null,
      "_view_module": "@jupyter-widgets/controls",
      "_view_module_version": "1.5.0",
      "_view_name": "ProgressView",
      "bar_style": "success",
      "description": "",
      "description_tooltip": null,
      "layout": "IPY_MODEL_fe5b72307897434cb978d62394dc96db",
      "max": 387,
      "min": 0,
      "orientation": "horizontal",
      "style": "IPY_MODEL_5c7b021353df4b3d97e6e33c318c70a4",
      "value": 387
     }
    },
    "62755ce2a04d4865939de2a029305285": {
     "model_module": "@jupyter-widgets/controls",
     "model_module_version": "1.5.0",
     "model_name": "DescriptionStyleModel",
     "state": {
      "_model_module": "@jupyter-widgets/controls",
      "_model_module_version": "1.5.0",
      "_model_name": "DescriptionStyleModel",
      "_view_count": null,
      "_view_module": "@jupyter-widgets/base",
      "_view_module_version": "1.2.0",
      "_view_name": "StyleView",
      "description_width": ""
     }
    },
    "64cb3496b40d42f0996693c9400f2fbc": {
     "model_module": "@jupyter-widgets/controls",
     "model_module_version": "1.5.0",
     "model_name": "DescriptionStyleModel",
     "state": {
      "_model_module": "@jupyter-widgets/controls",
      "_model_module_version": "1.5.0",
      "_model_name": "DescriptionStyleModel",
      "_view_count": null,
      "_view_module": "@jupyter-widgets/base",
      "_view_module_version": "1.2.0",
      "_view_name": "StyleView",
      "description_width": ""
     }
    },
    "654a1871b37a4210aa2a3ef86a62d1b4": {
     "model_module": "@jupyter-widgets/base",
     "model_module_version": "1.2.0",
     "model_name": "LayoutModel",
     "state": {
      "_model_module": "@jupyter-widgets/base",
      "_model_module_version": "1.2.0",
      "_model_name": "LayoutModel",
      "_view_count": null,
      "_view_module": "@jupyter-widgets/base",
      "_view_module_version": "1.2.0",
      "_view_name": "LayoutView",
      "align_content": null,
      "align_items": null,
      "align_self": null,
      "border": null,
      "bottom": null,
      "display": null,
      "flex": null,
      "flex_flow": null,
      "grid_area": null,
      "grid_auto_columns": null,
      "grid_auto_flow": null,
      "grid_auto_rows": null,
      "grid_column": null,
      "grid_gap": null,
      "grid_row": null,
      "grid_template_areas": null,
      "grid_template_columns": null,
      "grid_template_rows": null,
      "height": null,
      "justify_content": null,
      "justify_items": null,
      "left": null,
      "margin": null,
      "max_height": null,
      "max_width": null,
      "min_height": null,
      "min_width": null,
      "object_fit": null,
      "object_position": null,
      "order": null,
      "overflow": null,
      "overflow_x": null,
      "overflow_y": null,
      "padding": null,
      "right": null,
      "top": null,
      "visibility": null,
      "width": null
     }
    },
    "65a21f5669724f0b90998b6e2f8351ce": {
     "model_module": "@jupyter-widgets/controls",
     "model_module_version": "1.5.0",
     "model_name": "DescriptionStyleModel",
     "state": {
      "_model_module": "@jupyter-widgets/controls",
      "_model_module_version": "1.5.0",
      "_model_name": "DescriptionStyleModel",
      "_view_count": null,
      "_view_module": "@jupyter-widgets/base",
      "_view_module_version": "1.2.0",
      "_view_name": "StyleView",
      "description_width": ""
     }
    },
    "65b0b2b1e6304807a84a97d83a26b0d9": {
     "model_module": "@jupyter-widgets/controls",
     "model_module_version": "1.5.0",
     "model_name": "DescriptionStyleModel",
     "state": {
      "_model_module": "@jupyter-widgets/controls",
      "_model_module_version": "1.5.0",
      "_model_name": "DescriptionStyleModel",
      "_view_count": null,
      "_view_module": "@jupyter-widgets/base",
      "_view_module_version": "1.2.0",
      "_view_name": "StyleView",
      "description_width": ""
     }
    },
    "65b6545735b9439786fe6b6b10e1971c": {
     "model_module": "@jupyter-widgets/controls",
     "model_module_version": "1.5.0",
     "model_name": "FloatProgressModel",
     "state": {
      "_dom_classes": [],
      "_model_module": "@jupyter-widgets/controls",
      "_model_module_version": "1.5.0",
      "_model_name": "FloatProgressModel",
      "_view_count": null,
      "_view_module": "@jupyter-widgets/controls",
      "_view_module_version": "1.5.0",
      "_view_name": "ProgressView",
      "bar_style": "success",
      "description": "",
      "description_tooltip": null,
      "layout": "IPY_MODEL_311a3879e1924811880fb8a30a35bfe1",
      "max": 387,
      "min": 0,
      "orientation": "horizontal",
      "style": "IPY_MODEL_c77ea5270fdc4a21823759a917c8964e",
      "value": 387
     }
    },
    "65baeec2a4c34000863bbc3573df7a77": {
     "model_module": "@jupyter-widgets/controls",
     "model_module_version": "1.5.0",
     "model_name": "HTMLModel",
     "state": {
      "_dom_classes": [],
      "_model_module": "@jupyter-widgets/controls",
      "_model_module_version": "1.5.0",
      "_model_name": "HTMLModel",
      "_view_count": null,
      "_view_module": "@jupyter-widgets/controls",
      "_view_module_version": "1.5.0",
      "_view_name": "HTMLView",
      "description": "",
      "description_tooltip": null,
      "layout": "IPY_MODEL_4affc5a375624b5ba42831f905b11bcb",
      "placeholder": "​",
      "style": "IPY_MODEL_6a755dcb0d974a3da38bb7be7902a950",
      "value": "VALID Epoch 02: 100%"
     }
    },
    "66a8d8f576744b14a81abb4af5bc4b30": {
     "model_module": "@jupyter-widgets/controls",
     "model_module_version": "1.5.0",
     "model_name": "DescriptionStyleModel",
     "state": {
      "_model_module": "@jupyter-widgets/controls",
      "_model_module_version": "1.5.0",
      "_model_name": "DescriptionStyleModel",
      "_view_count": null,
      "_view_module": "@jupyter-widgets/base",
      "_view_module_version": "1.2.0",
      "_view_name": "StyleView",
      "description_width": ""
     }
    },
    "6709e92040a841a8b9fa848aa501f24e": {
     "model_module": "@jupyter-widgets/controls",
     "model_module_version": "1.5.0",
     "model_name": "DescriptionStyleModel",
     "state": {
      "_model_module": "@jupyter-widgets/controls",
      "_model_module_version": "1.5.0",
      "_model_name": "DescriptionStyleModel",
      "_view_count": null,
      "_view_module": "@jupyter-widgets/base",
      "_view_module_version": "1.2.0",
      "_view_name": "StyleView",
      "description_width": ""
     }
    },
    "6727e94af2fc45149897da8bc0aaf3d6": {
     "model_module": "@jupyter-widgets/base",
     "model_module_version": "1.2.0",
     "model_name": "LayoutModel",
     "state": {
      "_model_module": "@jupyter-widgets/base",
      "_model_module_version": "1.2.0",
      "_model_name": "LayoutModel",
      "_view_count": null,
      "_view_module": "@jupyter-widgets/base",
      "_view_module_version": "1.2.0",
      "_view_name": "LayoutView",
      "align_content": null,
      "align_items": null,
      "align_self": null,
      "border": null,
      "bottom": null,
      "display": null,
      "flex": null,
      "flex_flow": null,
      "grid_area": null,
      "grid_auto_columns": null,
      "grid_auto_flow": null,
      "grid_auto_rows": null,
      "grid_column": null,
      "grid_gap": null,
      "grid_row": null,
      "grid_template_areas": null,
      "grid_template_columns": null,
      "grid_template_rows": null,
      "height": null,
      "justify_content": null,
      "justify_items": null,
      "left": null,
      "margin": null,
      "max_height": null,
      "max_width": null,
      "min_height": null,
      "min_width": null,
      "object_fit": null,
      "object_position": null,
      "order": null,
      "overflow": null,
      "overflow_x": null,
      "overflow_y": null,
      "padding": null,
      "right": null,
      "top": null,
      "visibility": null,
      "width": null
     }
    },
    "674c4cf07ff04f81b5feb569d87ac6ef": {
     "model_module": "@jupyter-widgets/base",
     "model_module_version": "1.2.0",
     "model_name": "LayoutModel",
     "state": {
      "_model_module": "@jupyter-widgets/base",
      "_model_module_version": "1.2.0",
      "_model_name": "LayoutModel",
      "_view_count": null,
      "_view_module": "@jupyter-widgets/base",
      "_view_module_version": "1.2.0",
      "_view_name": "LayoutView",
      "align_content": null,
      "align_items": null,
      "align_self": null,
      "border": null,
      "bottom": null,
      "display": null,
      "flex": null,
      "flex_flow": null,
      "grid_area": null,
      "grid_auto_columns": null,
      "grid_auto_flow": null,
      "grid_auto_rows": null,
      "grid_column": null,
      "grid_gap": null,
      "grid_row": null,
      "grid_template_areas": null,
      "grid_template_columns": null,
      "grid_template_rows": null,
      "height": null,
      "justify_content": null,
      "justify_items": null,
      "left": null,
      "margin": null,
      "max_height": null,
      "max_width": null,
      "min_height": null,
      "min_width": null,
      "object_fit": null,
      "object_position": null,
      "order": null,
      "overflow": null,
      "overflow_x": null,
      "overflow_y": null,
      "padding": null,
      "right": null,
      "top": null,
      "visibility": null,
      "width": null
     }
    },
    "675cfb6c501c4666adde9062d6f00a2a": {
     "model_module": "@jupyter-widgets/controls",
     "model_module_version": "1.5.0",
     "model_name": "HTMLModel",
     "state": {
      "_dom_classes": [],
      "_model_module": "@jupyter-widgets/controls",
      "_model_module_version": "1.5.0",
      "_model_name": "HTMLModel",
      "_view_count": null,
      "_view_module": "@jupyter-widgets/controls",
      "_view_module_version": "1.5.0",
      "_view_name": "HTMLView",
      "description": "",
      "description_tooltip": null,
      "layout": "IPY_MODEL_18dc267777b044af9f1d7af99c9fc3c3",
      "placeholder": "​",
      "style": "IPY_MODEL_7bbc2617af414d429bbc3928bc7a69c4",
      "value": " 387/387 [00:09&lt;00:00, 43.96it/s]"
     }
    },
    "67d36361bc6d460ab5358e86f58b490c": {
     "model_module": "@jupyter-widgets/controls",
     "model_module_version": "1.5.0",
     "model_name": "HTMLModel",
     "state": {
      "_dom_classes": [],
      "_model_module": "@jupyter-widgets/controls",
      "_model_module_version": "1.5.0",
      "_model_name": "HTMLModel",
      "_view_count": null,
      "_view_module": "@jupyter-widgets/controls",
      "_view_module_version": "1.5.0",
      "_view_name": "HTMLView",
      "description": "",
      "description_tooltip": null,
      "layout": "IPY_MODEL_36772b864d4648db8694af97c8f13d8e",
      "placeholder": "​",
      "style": "IPY_MODEL_8fba2ce80ecb491e9dd21261be4ef709",
      "value": " 387/387 [00:09&lt;00:00, 42.01it/s]"
     }
    },
    "681b96ed7ef845e4adac07dc4583b079": {
     "model_module": "@jupyter-widgets/base",
     "model_module_version": "1.2.0",
     "model_name": "LayoutModel",
     "state": {
      "_model_module": "@jupyter-widgets/base",
      "_model_module_version": "1.2.0",
      "_model_name": "LayoutModel",
      "_view_count": null,
      "_view_module": "@jupyter-widgets/base",
      "_view_module_version": "1.2.0",
      "_view_name": "LayoutView",
      "align_content": null,
      "align_items": null,
      "align_self": null,
      "border": null,
      "bottom": null,
      "display": null,
      "flex": null,
      "flex_flow": null,
      "grid_area": null,
      "grid_auto_columns": null,
      "grid_auto_flow": null,
      "grid_auto_rows": null,
      "grid_column": null,
      "grid_gap": null,
      "grid_row": null,
      "grid_template_areas": null,
      "grid_template_columns": null,
      "grid_template_rows": null,
      "height": null,
      "justify_content": null,
      "justify_items": null,
      "left": null,
      "margin": null,
      "max_height": null,
      "max_width": null,
      "min_height": null,
      "min_width": null,
      "object_fit": null,
      "object_position": null,
      "order": null,
      "overflow": null,
      "overflow_x": null,
      "overflow_y": null,
      "padding": null,
      "right": null,
      "top": null,
      "visibility": null,
      "width": null
     }
    },
    "6864092ff4674836bb330ea8ec12563e": {
     "model_module": "@jupyter-widgets/controls",
     "model_module_version": "1.5.0",
     "model_name": "DescriptionStyleModel",
     "state": {
      "_model_module": "@jupyter-widgets/controls",
      "_model_module_version": "1.5.0",
      "_model_name": "DescriptionStyleModel",
      "_view_count": null,
      "_view_module": "@jupyter-widgets/base",
      "_view_module_version": "1.2.0",
      "_view_name": "StyleView",
      "description_width": ""
     }
    },
    "687fe0aa3f134586b2874da87a545fce": {
     "model_module": "@jupyter-widgets/base",
     "model_module_version": "1.2.0",
     "model_name": "LayoutModel",
     "state": {
      "_model_module": "@jupyter-widgets/base",
      "_model_module_version": "1.2.0",
      "_model_name": "LayoutModel",
      "_view_count": null,
      "_view_module": "@jupyter-widgets/base",
      "_view_module_version": "1.2.0",
      "_view_name": "LayoutView",
      "align_content": null,
      "align_items": null,
      "align_self": null,
      "border": null,
      "bottom": null,
      "display": null,
      "flex": null,
      "flex_flow": null,
      "grid_area": null,
      "grid_auto_columns": null,
      "grid_auto_flow": null,
      "grid_auto_rows": null,
      "grid_column": null,
      "grid_gap": null,
      "grid_row": null,
      "grid_template_areas": null,
      "grid_template_columns": null,
      "grid_template_rows": null,
      "height": null,
      "justify_content": null,
      "justify_items": null,
      "left": null,
      "margin": null,
      "max_height": null,
      "max_width": null,
      "min_height": null,
      "min_width": null,
      "object_fit": null,
      "object_position": null,
      "order": null,
      "overflow": null,
      "overflow_x": null,
      "overflow_y": null,
      "padding": null,
      "right": null,
      "top": null,
      "visibility": null,
      "width": null
     }
    },
    "698db1ef395b43a994b0c2ed9ff93bf9": {
     "model_module": "@jupyter-widgets/base",
     "model_module_version": "1.2.0",
     "model_name": "LayoutModel",
     "state": {
      "_model_module": "@jupyter-widgets/base",
      "_model_module_version": "1.2.0",
      "_model_name": "LayoutModel",
      "_view_count": null,
      "_view_module": "@jupyter-widgets/base",
      "_view_module_version": "1.2.0",
      "_view_name": "LayoutView",
      "align_content": null,
      "align_items": null,
      "align_self": null,
      "border": null,
      "bottom": null,
      "display": null,
      "flex": null,
      "flex_flow": null,
      "grid_area": null,
      "grid_auto_columns": null,
      "grid_auto_flow": null,
      "grid_auto_rows": null,
      "grid_column": null,
      "grid_gap": null,
      "grid_row": null,
      "grid_template_areas": null,
      "grid_template_columns": null,
      "grid_template_rows": null,
      "height": null,
      "justify_content": null,
      "justify_items": null,
      "left": null,
      "margin": null,
      "max_height": null,
      "max_width": null,
      "min_height": null,
      "min_width": null,
      "object_fit": null,
      "object_position": null,
      "order": null,
      "overflow": null,
      "overflow_x": null,
      "overflow_y": null,
      "padding": null,
      "right": null,
      "top": null,
      "visibility": null,
      "width": null
     }
    },
    "6a09d1b31f4b4e1bb2fdff16846a8ad3": {
     "model_module": "@jupyter-widgets/base",
     "model_module_version": "1.2.0",
     "model_name": "LayoutModel",
     "state": {
      "_model_module": "@jupyter-widgets/base",
      "_model_module_version": "1.2.0",
      "_model_name": "LayoutModel",
      "_view_count": null,
      "_view_module": "@jupyter-widgets/base",
      "_view_module_version": "1.2.0",
      "_view_name": "LayoutView",
      "align_content": null,
      "align_items": null,
      "align_self": null,
      "border": null,
      "bottom": null,
      "display": null,
      "flex": null,
      "flex_flow": null,
      "grid_area": null,
      "grid_auto_columns": null,
      "grid_auto_flow": null,
      "grid_auto_rows": null,
      "grid_column": null,
      "grid_gap": null,
      "grid_row": null,
      "grid_template_areas": null,
      "grid_template_columns": null,
      "grid_template_rows": null,
      "height": null,
      "justify_content": null,
      "justify_items": null,
      "left": null,
      "margin": null,
      "max_height": null,
      "max_width": null,
      "min_height": null,
      "min_width": null,
      "object_fit": null,
      "object_position": null,
      "order": null,
      "overflow": null,
      "overflow_x": null,
      "overflow_y": null,
      "padding": null,
      "right": null,
      "top": null,
      "visibility": null,
      "width": null
     }
    },
    "6a14db1a97134ec4873def8e075094ef": {
     "model_module": "@jupyter-widgets/base",
     "model_module_version": "1.2.0",
     "model_name": "LayoutModel",
     "state": {
      "_model_module": "@jupyter-widgets/base",
      "_model_module_version": "1.2.0",
      "_model_name": "LayoutModel",
      "_view_count": null,
      "_view_module": "@jupyter-widgets/base",
      "_view_module_version": "1.2.0",
      "_view_name": "LayoutView",
      "align_content": null,
      "align_items": null,
      "align_self": null,
      "border": null,
      "bottom": null,
      "display": null,
      "flex": null,
      "flex_flow": null,
      "grid_area": null,
      "grid_auto_columns": null,
      "grid_auto_flow": null,
      "grid_auto_rows": null,
      "grid_column": null,
      "grid_gap": null,
      "grid_row": null,
      "grid_template_areas": null,
      "grid_template_columns": null,
      "grid_template_rows": null,
      "height": null,
      "justify_content": null,
      "justify_items": null,
      "left": null,
      "margin": null,
      "max_height": null,
      "max_width": null,
      "min_height": null,
      "min_width": null,
      "object_fit": null,
      "object_position": null,
      "order": null,
      "overflow": null,
      "overflow_x": null,
      "overflow_y": null,
      "padding": null,
      "right": null,
      "top": null,
      "visibility": null,
      "width": null
     }
    },
    "6a5f796842e64457935710af03a5dcac": {
     "model_module": "@jupyter-widgets/controls",
     "model_module_version": "1.5.0",
     "model_name": "HTMLModel",
     "state": {
      "_dom_classes": [],
      "_model_module": "@jupyter-widgets/controls",
      "_model_module_version": "1.5.0",
      "_model_name": "HTMLModel",
      "_view_count": null,
      "_view_module": "@jupyter-widgets/controls",
      "_view_module_version": "1.5.0",
      "_view_name": "HTMLView",
      "description": "",
      "description_tooltip": null,
      "layout": "IPY_MODEL_eaf982d791304d529ca2778af02081af",
      "placeholder": "​",
      "style": "IPY_MODEL_8614e77b3c414b9d982d208bb8a70d81",
      "value": "TRAIN Epoch 03: 100%"
     }
    },
    "6a755dcb0d974a3da38bb7be7902a950": {
     "model_module": "@jupyter-widgets/controls",
     "model_module_version": "1.5.0",
     "model_name": "DescriptionStyleModel",
     "state": {
      "_model_module": "@jupyter-widgets/controls",
      "_model_module_version": "1.5.0",
      "_model_name": "DescriptionStyleModel",
      "_view_count": null,
      "_view_module": "@jupyter-widgets/base",
      "_view_module_version": "1.2.0",
      "_view_name": "StyleView",
      "description_width": ""
     }
    },
    "6aba9a56efb9478ab9b53fc0245a7225": {
     "model_module": "@jupyter-widgets/controls",
     "model_module_version": "1.5.0",
     "model_name": "DescriptionStyleModel",
     "state": {
      "_model_module": "@jupyter-widgets/controls",
      "_model_module_version": "1.5.0",
      "_model_name": "DescriptionStyleModel",
      "_view_count": null,
      "_view_module": "@jupyter-widgets/base",
      "_view_module_version": "1.2.0",
      "_view_name": "StyleView",
      "description_width": ""
     }
    },
    "6b20409de34349049021dbacb8d9602f": {
     "model_module": "@jupyter-widgets/base",
     "model_module_version": "1.2.0",
     "model_name": "LayoutModel",
     "state": {
      "_model_module": "@jupyter-widgets/base",
      "_model_module_version": "1.2.0",
      "_model_name": "LayoutModel",
      "_view_count": null,
      "_view_module": "@jupyter-widgets/base",
      "_view_module_version": "1.2.0",
      "_view_name": "LayoutView",
      "align_content": null,
      "align_items": null,
      "align_self": null,
      "border": null,
      "bottom": null,
      "display": null,
      "flex": null,
      "flex_flow": null,
      "grid_area": null,
      "grid_auto_columns": null,
      "grid_auto_flow": null,
      "grid_auto_rows": null,
      "grid_column": null,
      "grid_gap": null,
      "grid_row": null,
      "grid_template_areas": null,
      "grid_template_columns": null,
      "grid_template_rows": null,
      "height": null,
      "justify_content": null,
      "justify_items": null,
      "left": null,
      "margin": null,
      "max_height": null,
      "max_width": null,
      "min_height": null,
      "min_width": null,
      "object_fit": null,
      "object_position": null,
      "order": null,
      "overflow": null,
      "overflow_x": null,
      "overflow_y": null,
      "padding": null,
      "right": null,
      "top": null,
      "visibility": null,
      "width": null
     }
    },
    "6c59d45716064e03900a36ccd4c1117c": {
     "model_module": "@jupyter-widgets/controls",
     "model_module_version": "1.5.0",
     "model_name": "DescriptionStyleModel",
     "state": {
      "_model_module": "@jupyter-widgets/controls",
      "_model_module_version": "1.5.0",
      "_model_name": "DescriptionStyleModel",
      "_view_count": null,
      "_view_module": "@jupyter-widgets/base",
      "_view_module_version": "1.2.0",
      "_view_name": "StyleView",
      "description_width": ""
     }
    },
    "6eb65cfa48df4389a5de44e323c4048b": {
     "model_module": "@jupyter-widgets/base",
     "model_module_version": "1.2.0",
     "model_name": "LayoutModel",
     "state": {
      "_model_module": "@jupyter-widgets/base",
      "_model_module_version": "1.2.0",
      "_model_name": "LayoutModel",
      "_view_count": null,
      "_view_module": "@jupyter-widgets/base",
      "_view_module_version": "1.2.0",
      "_view_name": "LayoutView",
      "align_content": null,
      "align_items": null,
      "align_self": null,
      "border": null,
      "bottom": null,
      "display": null,
      "flex": null,
      "flex_flow": null,
      "grid_area": null,
      "grid_auto_columns": null,
      "grid_auto_flow": null,
      "grid_auto_rows": null,
      "grid_column": null,
      "grid_gap": null,
      "grid_row": null,
      "grid_template_areas": null,
      "grid_template_columns": null,
      "grid_template_rows": null,
      "height": null,
      "justify_content": null,
      "justify_items": null,
      "left": null,
      "margin": null,
      "max_height": null,
      "max_width": null,
      "min_height": null,
      "min_width": null,
      "object_fit": null,
      "object_position": null,
      "order": null,
      "overflow": null,
      "overflow_x": null,
      "overflow_y": null,
      "padding": null,
      "right": null,
      "top": null,
      "visibility": null,
      "width": null
     }
    },
    "6ebe6a7b856d4032863d7016f1b84172": {
     "model_module": "@jupyter-widgets/controls",
     "model_module_version": "1.5.0",
     "model_name": "DescriptionStyleModel",
     "state": {
      "_model_module": "@jupyter-widgets/controls",
      "_model_module_version": "1.5.0",
      "_model_name": "DescriptionStyleModel",
      "_view_count": null,
      "_view_module": "@jupyter-widgets/base",
      "_view_module_version": "1.2.0",
      "_view_name": "StyleView",
      "description_width": ""
     }
    },
    "70af1487bce94bbc832442033a9c9160": {
     "model_module": "@jupyter-widgets/controls",
     "model_module_version": "1.5.0",
     "model_name": "DescriptionStyleModel",
     "state": {
      "_model_module": "@jupyter-widgets/controls",
      "_model_module_version": "1.5.0",
      "_model_name": "DescriptionStyleModel",
      "_view_count": null,
      "_view_module": "@jupyter-widgets/base",
      "_view_module_version": "1.2.0",
      "_view_name": "StyleView",
      "description_width": ""
     }
    },
    "721b84a11b894b14ae34bf4554366ea1": {
     "model_module": "@jupyter-widgets/controls",
     "model_module_version": "1.5.0",
     "model_name": "HTMLModel",
     "state": {
      "_dom_classes": [],
      "_model_module": "@jupyter-widgets/controls",
      "_model_module_version": "1.5.0",
      "_model_name": "HTMLModel",
      "_view_count": null,
      "_view_module": "@jupyter-widgets/controls",
      "_view_module_version": "1.5.0",
      "_view_name": "HTMLView",
      "description": "",
      "description_tooltip": null,
      "layout": "IPY_MODEL_d9cf780a6f2b4e25b8dd71b61319e006",
      "placeholder": "​",
      "style": "IPY_MODEL_086e764a3cdb4d8c90e3219426f2ec87",
      "value": "VALID Epoch 02: 100%"
     }
    },
    "7283ed084d2745e5b958009a1b0a62a6": {
     "model_module": "@jupyter-widgets/base",
     "model_module_version": "1.2.0",
     "model_name": "LayoutModel",
     "state": {
      "_model_module": "@jupyter-widgets/base",
      "_model_module_version": "1.2.0",
      "_model_name": "LayoutModel",
      "_view_count": null,
      "_view_module": "@jupyter-widgets/base",
      "_view_module_version": "1.2.0",
      "_view_name": "LayoutView",
      "align_content": null,
      "align_items": null,
      "align_self": null,
      "border": null,
      "bottom": null,
      "display": null,
      "flex": null,
      "flex_flow": null,
      "grid_area": null,
      "grid_auto_columns": null,
      "grid_auto_flow": null,
      "grid_auto_rows": null,
      "grid_column": null,
      "grid_gap": null,
      "grid_row": null,
      "grid_template_areas": null,
      "grid_template_columns": null,
      "grid_template_rows": null,
      "height": null,
      "justify_content": null,
      "justify_items": null,
      "left": null,
      "margin": null,
      "max_height": null,
      "max_width": null,
      "min_height": null,
      "min_width": null,
      "object_fit": null,
      "object_position": null,
      "order": null,
      "overflow": null,
      "overflow_x": null,
      "overflow_y": null,
      "padding": null,
      "right": null,
      "top": null,
      "visibility": null,
      "width": null
     }
    },
    "72e16dbaad72425583d6377d3bf60c46": {
     "model_module": "@jupyter-widgets/base",
     "model_module_version": "1.2.0",
     "model_name": "LayoutModel",
     "state": {
      "_model_module": "@jupyter-widgets/base",
      "_model_module_version": "1.2.0",
      "_model_name": "LayoutModel",
      "_view_count": null,
      "_view_module": "@jupyter-widgets/base",
      "_view_module_version": "1.2.0",
      "_view_name": "LayoutView",
      "align_content": null,
      "align_items": null,
      "align_self": null,
      "border": null,
      "bottom": null,
      "display": null,
      "flex": null,
      "flex_flow": null,
      "grid_area": null,
      "grid_auto_columns": null,
      "grid_auto_flow": null,
      "grid_auto_rows": null,
      "grid_column": null,
      "grid_gap": null,
      "grid_row": null,
      "grid_template_areas": null,
      "grid_template_columns": null,
      "grid_template_rows": null,
      "height": null,
      "justify_content": null,
      "justify_items": null,
      "left": null,
      "margin": null,
      "max_height": null,
      "max_width": null,
      "min_height": null,
      "min_width": null,
      "object_fit": null,
      "object_position": null,
      "order": null,
      "overflow": null,
      "overflow_x": null,
      "overflow_y": null,
      "padding": null,
      "right": null,
      "top": null,
      "visibility": null,
      "width": null
     }
    },
    "72fba5b662844d7f93da831314174fd9": {
     "model_module": "@jupyter-widgets/controls",
     "model_module_version": "1.5.0",
     "model_name": "DescriptionStyleModel",
     "state": {
      "_model_module": "@jupyter-widgets/controls",
      "_model_module_version": "1.5.0",
      "_model_name": "DescriptionStyleModel",
      "_view_count": null,
      "_view_module": "@jupyter-widgets/base",
      "_view_module_version": "1.2.0",
      "_view_name": "StyleView",
      "description_width": ""
     }
    },
    "74f733d86d6f433dac48fa04c564a48b": {
     "model_module": "@jupyter-widgets/controls",
     "model_module_version": "1.5.0",
     "model_name": "HBoxModel",
     "state": {
      "_dom_classes": [],
      "_model_module": "@jupyter-widgets/controls",
      "_model_module_version": "1.5.0",
      "_model_name": "HBoxModel",
      "_view_count": null,
      "_view_module": "@jupyter-widgets/controls",
      "_view_module_version": "1.5.0",
      "_view_name": "HBoxView",
      "box_style": "",
      "children": [
       "IPY_MODEL_55f2df91c2774273b7da5e8e30a5cc3a",
       "IPY_MODEL_11c9bd4612c54ac2bfcc1e1a64d60ffa",
       "IPY_MODEL_41b2d45672294944a6a460f695fb6d29"
      ],
      "layout": "IPY_MODEL_884d84a79a76406f9f834ec2e40f113a"
     }
    },
    "75725dccdd864a4cb3e6cffb05d94e17": {
     "model_module": "@jupyter-widgets/controls",
     "model_module_version": "1.5.0",
     "model_name": "HBoxModel",
     "state": {
      "_dom_classes": [],
      "_model_module": "@jupyter-widgets/controls",
      "_model_module_version": "1.5.0",
      "_model_name": "HBoxModel",
      "_view_count": null,
      "_view_module": "@jupyter-widgets/controls",
      "_view_module_version": "1.5.0",
      "_view_name": "HBoxView",
      "box_style": "",
      "children": [
       "IPY_MODEL_84271ab1138a4f4c8d52650d03b355c4",
       "IPY_MODEL_bf3619ebdb134fecb6831fb9bb5ab819",
       "IPY_MODEL_123cb19bbe3449c7be1ab42a926d02ad"
      ],
      "layout": "IPY_MODEL_0dce5c43c33d493a87baee1d1777fa21"
     }
    },
    "7722c43464904d7b90806163a6628a85": {
     "model_module": "@jupyter-widgets/controls",
     "model_module_version": "1.5.0",
     "model_name": "HBoxModel",
     "state": {
      "_dom_classes": [],
      "_model_module": "@jupyter-widgets/controls",
      "_model_module_version": "1.5.0",
      "_model_name": "HBoxModel",
      "_view_count": null,
      "_view_module": "@jupyter-widgets/controls",
      "_view_module_version": "1.5.0",
      "_view_name": "HBoxView",
      "box_style": "",
      "children": [
       "IPY_MODEL_b26199ed67b045aa830214355061db73",
       "IPY_MODEL_de820d03df5d4d8e9c6c1b05451fe2ef",
       "IPY_MODEL_c75a1cc9c3bc43e88680c2a294a0034e"
      ],
      "layout": "IPY_MODEL_021bd6c5019a45e883c12ed84730ad2e"
     }
    },
    "790c0467fb53474b8d2b742a72a09534": {
     "model_module": "@jupyter-widgets/base",
     "model_module_version": "1.2.0",
     "model_name": "LayoutModel",
     "state": {
      "_model_module": "@jupyter-widgets/base",
      "_model_module_version": "1.2.0",
      "_model_name": "LayoutModel",
      "_view_count": null,
      "_view_module": "@jupyter-widgets/base",
      "_view_module_version": "1.2.0",
      "_view_name": "LayoutView",
      "align_content": null,
      "align_items": null,
      "align_self": null,
      "border": null,
      "bottom": null,
      "display": null,
      "flex": null,
      "flex_flow": null,
      "grid_area": null,
      "grid_auto_columns": null,
      "grid_auto_flow": null,
      "grid_auto_rows": null,
      "grid_column": null,
      "grid_gap": null,
      "grid_row": null,
      "grid_template_areas": null,
      "grid_template_columns": null,
      "grid_template_rows": null,
      "height": null,
      "justify_content": null,
      "justify_items": null,
      "left": null,
      "margin": null,
      "max_height": null,
      "max_width": null,
      "min_height": null,
      "min_width": null,
      "object_fit": null,
      "object_position": null,
      "order": null,
      "overflow": null,
      "overflow_x": null,
      "overflow_y": null,
      "padding": null,
      "right": null,
      "top": null,
      "visibility": null,
      "width": null
     }
    },
    "7a3ce921a2034ab3a49e0eb420ac7cfa": {
     "model_module": "@jupyter-widgets/controls",
     "model_module_version": "1.5.0",
     "model_name": "HBoxModel",
     "state": {
      "_dom_classes": [],
      "_model_module": "@jupyter-widgets/controls",
      "_model_module_version": "1.5.0",
      "_model_name": "HBoxModel",
      "_view_count": null,
      "_view_module": "@jupyter-widgets/controls",
      "_view_module_version": "1.5.0",
      "_view_name": "HBoxView",
      "box_style": "",
      "children": [
       "IPY_MODEL_1e1f0a0a30d94bc0b0f3575e3d6a83dd",
       "IPY_MODEL_2e4db66dfbcd488392d167860db7fd71",
       "IPY_MODEL_22734154f2af484685e2dcfe6bd784fe"
      ],
      "layout": "IPY_MODEL_9d2369f510434bc6adacaeb13f7c40c4"
     }
    },
    "7a7ba6fdf18348f68b569b78fe29bcac": {
     "model_module": "@jupyter-widgets/controls",
     "model_module_version": "1.5.0",
     "model_name": "DescriptionStyleModel",
     "state": {
      "_model_module": "@jupyter-widgets/controls",
      "_model_module_version": "1.5.0",
      "_model_name": "DescriptionStyleModel",
      "_view_count": null,
      "_view_module": "@jupyter-widgets/base",
      "_view_module_version": "1.2.0",
      "_view_name": "StyleView",
      "description_width": ""
     }
    },
    "7b2c1516501948a684271ace9d156a84": {
     "model_module": "@jupyter-widgets/base",
     "model_module_version": "1.2.0",
     "model_name": "LayoutModel",
     "state": {
      "_model_module": "@jupyter-widgets/base",
      "_model_module_version": "1.2.0",
      "_model_name": "LayoutModel",
      "_view_count": null,
      "_view_module": "@jupyter-widgets/base",
      "_view_module_version": "1.2.0",
      "_view_name": "LayoutView",
      "align_content": null,
      "align_items": null,
      "align_self": null,
      "border": null,
      "bottom": null,
      "display": null,
      "flex": null,
      "flex_flow": null,
      "grid_area": null,
      "grid_auto_columns": null,
      "grid_auto_flow": null,
      "grid_auto_rows": null,
      "grid_column": null,
      "grid_gap": null,
      "grid_row": null,
      "grid_template_areas": null,
      "grid_template_columns": null,
      "grid_template_rows": null,
      "height": null,
      "justify_content": null,
      "justify_items": null,
      "left": null,
      "margin": null,
      "max_height": null,
      "max_width": null,
      "min_height": null,
      "min_width": null,
      "object_fit": null,
      "object_position": null,
      "order": null,
      "overflow": null,
      "overflow_x": null,
      "overflow_y": null,
      "padding": null,
      "right": null,
      "top": null,
      "visibility": null,
      "width": null
     }
    },
    "7b32172ad65848e9bcbc3f9d87e454f0": {
     "model_module": "@jupyter-widgets/base",
     "model_module_version": "1.2.0",
     "model_name": "LayoutModel",
     "state": {
      "_model_module": "@jupyter-widgets/base",
      "_model_module_version": "1.2.0",
      "_model_name": "LayoutModel",
      "_view_count": null,
      "_view_module": "@jupyter-widgets/base",
      "_view_module_version": "1.2.0",
      "_view_name": "LayoutView",
      "align_content": null,
      "align_items": null,
      "align_self": null,
      "border": null,
      "bottom": null,
      "display": null,
      "flex": null,
      "flex_flow": null,
      "grid_area": null,
      "grid_auto_columns": null,
      "grid_auto_flow": null,
      "grid_auto_rows": null,
      "grid_column": null,
      "grid_gap": null,
      "grid_row": null,
      "grid_template_areas": null,
      "grid_template_columns": null,
      "grid_template_rows": null,
      "height": null,
      "justify_content": null,
      "justify_items": null,
      "left": null,
      "margin": null,
      "max_height": null,
      "max_width": null,
      "min_height": null,
      "min_width": null,
      "object_fit": null,
      "object_position": null,
      "order": null,
      "overflow": null,
      "overflow_x": null,
      "overflow_y": null,
      "padding": null,
      "right": null,
      "top": null,
      "visibility": null,
      "width": null
     }
    },
    "7b3a4e93c6084b4a8c28dfde8b142a25": {
     "model_module": "@jupyter-widgets/base",
     "model_module_version": "1.2.0",
     "model_name": "LayoutModel",
     "state": {
      "_model_module": "@jupyter-widgets/base",
      "_model_module_version": "1.2.0",
      "_model_name": "LayoutModel",
      "_view_count": null,
      "_view_module": "@jupyter-widgets/base",
      "_view_module_version": "1.2.0",
      "_view_name": "LayoutView",
      "align_content": null,
      "align_items": null,
      "align_self": null,
      "border": null,
      "bottom": null,
      "display": null,
      "flex": null,
      "flex_flow": null,
      "grid_area": null,
      "grid_auto_columns": null,
      "grid_auto_flow": null,
      "grid_auto_rows": null,
      "grid_column": null,
      "grid_gap": null,
      "grid_row": null,
      "grid_template_areas": null,
      "grid_template_columns": null,
      "grid_template_rows": null,
      "height": null,
      "justify_content": null,
      "justify_items": null,
      "left": null,
      "margin": null,
      "max_height": null,
      "max_width": null,
      "min_height": null,
      "min_width": null,
      "object_fit": null,
      "object_position": null,
      "order": null,
      "overflow": null,
      "overflow_x": null,
      "overflow_y": null,
      "padding": null,
      "right": null,
      "top": null,
      "visibility": null,
      "width": null
     }
    },
    "7ba3d304796140bbadb93647fb172e1a": {
     "model_module": "@jupyter-widgets/base",
     "model_module_version": "1.2.0",
     "model_name": "LayoutModel",
     "state": {
      "_model_module": "@jupyter-widgets/base",
      "_model_module_version": "1.2.0",
      "_model_name": "LayoutModel",
      "_view_count": null,
      "_view_module": "@jupyter-widgets/base",
      "_view_module_version": "1.2.0",
      "_view_name": "LayoutView",
      "align_content": null,
      "align_items": null,
      "align_self": null,
      "border": null,
      "bottom": null,
      "display": null,
      "flex": null,
      "flex_flow": null,
      "grid_area": null,
      "grid_auto_columns": null,
      "grid_auto_flow": null,
      "grid_auto_rows": null,
      "grid_column": null,
      "grid_gap": null,
      "grid_row": null,
      "grid_template_areas": null,
      "grid_template_columns": null,
      "grid_template_rows": null,
      "height": null,
      "justify_content": null,
      "justify_items": null,
      "left": null,
      "margin": null,
      "max_height": null,
      "max_width": null,
      "min_height": null,
      "min_width": null,
      "object_fit": null,
      "object_position": null,
      "order": null,
      "overflow": null,
      "overflow_x": null,
      "overflow_y": null,
      "padding": null,
      "right": null,
      "top": null,
      "visibility": null,
      "width": null
     }
    },
    "7bbc2617af414d429bbc3928bc7a69c4": {
     "model_module": "@jupyter-widgets/controls",
     "model_module_version": "1.5.0",
     "model_name": "DescriptionStyleModel",
     "state": {
      "_model_module": "@jupyter-widgets/controls",
      "_model_module_version": "1.5.0",
      "_model_name": "DescriptionStyleModel",
      "_view_count": null,
      "_view_module": "@jupyter-widgets/base",
      "_view_module_version": "1.2.0",
      "_view_name": "StyleView",
      "description_width": ""
     }
    },
    "7bdff757f53f4ab8928dd9a620154517": {
     "model_module": "@jupyter-widgets/controls",
     "model_module_version": "1.5.0",
     "model_name": "HTMLModel",
     "state": {
      "_dom_classes": [],
      "_model_module": "@jupyter-widgets/controls",
      "_model_module_version": "1.5.0",
      "_model_name": "HTMLModel",
      "_view_count": null,
      "_view_module": "@jupyter-widgets/controls",
      "_view_module_version": "1.5.0",
      "_view_name": "HTMLView",
      "description": "",
      "description_tooltip": null,
      "layout": "IPY_MODEL_7c826394fb264ce687c2fc741b279de4",
      "placeholder": "​",
      "style": "IPY_MODEL_b8da56b57b3648c68f96c47e6d1a5476",
      "value": " 96/96 [00:02&lt;00:00, 52.88it/s]"
     }
    },
    "7c826394fb264ce687c2fc741b279de4": {
     "model_module": "@jupyter-widgets/base",
     "model_module_version": "1.2.0",
     "model_name": "LayoutModel",
     "state": {
      "_model_module": "@jupyter-widgets/base",
      "_model_module_version": "1.2.0",
      "_model_name": "LayoutModel",
      "_view_count": null,
      "_view_module": "@jupyter-widgets/base",
      "_view_module_version": "1.2.0",
      "_view_name": "LayoutView",
      "align_content": null,
      "align_items": null,
      "align_self": null,
      "border": null,
      "bottom": null,
      "display": null,
      "flex": null,
      "flex_flow": null,
      "grid_area": null,
      "grid_auto_columns": null,
      "grid_auto_flow": null,
      "grid_auto_rows": null,
      "grid_column": null,
      "grid_gap": null,
      "grid_row": null,
      "grid_template_areas": null,
      "grid_template_columns": null,
      "grid_template_rows": null,
      "height": null,
      "justify_content": null,
      "justify_items": null,
      "left": null,
      "margin": null,
      "max_height": null,
      "max_width": null,
      "min_height": null,
      "min_width": null,
      "object_fit": null,
      "object_position": null,
      "order": null,
      "overflow": null,
      "overflow_x": null,
      "overflow_y": null,
      "padding": null,
      "right": null,
      "top": null,
      "visibility": null,
      "width": null
     }
    },
    "7cf80646268c43adac155e5483339a6e": {
     "model_module": "@jupyter-widgets/base",
     "model_module_version": "1.2.0",
     "model_name": "LayoutModel",
     "state": {
      "_model_module": "@jupyter-widgets/base",
      "_model_module_version": "1.2.0",
      "_model_name": "LayoutModel",
      "_view_count": null,
      "_view_module": "@jupyter-widgets/base",
      "_view_module_version": "1.2.0",
      "_view_name": "LayoutView",
      "align_content": null,
      "align_items": null,
      "align_self": null,
      "border": null,
      "bottom": null,
      "display": null,
      "flex": null,
      "flex_flow": null,
      "grid_area": null,
      "grid_auto_columns": null,
      "grid_auto_flow": null,
      "grid_auto_rows": null,
      "grid_column": null,
      "grid_gap": null,
      "grid_row": null,
      "grid_template_areas": null,
      "grid_template_columns": null,
      "grid_template_rows": null,
      "height": null,
      "justify_content": null,
      "justify_items": null,
      "left": null,
      "margin": null,
      "max_height": null,
      "max_width": null,
      "min_height": null,
      "min_width": null,
      "object_fit": null,
      "object_position": null,
      "order": null,
      "overflow": null,
      "overflow_x": null,
      "overflow_y": null,
      "padding": null,
      "right": null,
      "top": null,
      "visibility": null,
      "width": null
     }
    },
    "7d95fc6a5b0848fbaee9374ddabe3ed1": {
     "model_module": "@jupyter-widgets/base",
     "model_module_version": "1.2.0",
     "model_name": "LayoutModel",
     "state": {
      "_model_module": "@jupyter-widgets/base",
      "_model_module_version": "1.2.0",
      "_model_name": "LayoutModel",
      "_view_count": null,
      "_view_module": "@jupyter-widgets/base",
      "_view_module_version": "1.2.0",
      "_view_name": "LayoutView",
      "align_content": null,
      "align_items": null,
      "align_self": null,
      "border": null,
      "bottom": null,
      "display": null,
      "flex": null,
      "flex_flow": null,
      "grid_area": null,
      "grid_auto_columns": null,
      "grid_auto_flow": null,
      "grid_auto_rows": null,
      "grid_column": null,
      "grid_gap": null,
      "grid_row": null,
      "grid_template_areas": null,
      "grid_template_columns": null,
      "grid_template_rows": null,
      "height": null,
      "justify_content": null,
      "justify_items": null,
      "left": null,
      "margin": null,
      "max_height": null,
      "max_width": null,
      "min_height": null,
      "min_width": null,
      "object_fit": null,
      "object_position": null,
      "order": null,
      "overflow": null,
      "overflow_x": null,
      "overflow_y": null,
      "padding": null,
      "right": null,
      "top": null,
      "visibility": null,
      "width": null
     }
    },
    "7dd0016023094b4fbacacbd2b39b5c51": {
     "model_module": "@jupyter-widgets/controls",
     "model_module_version": "1.5.0",
     "model_name": "HBoxModel",
     "state": {
      "_dom_classes": [],
      "_model_module": "@jupyter-widgets/controls",
      "_model_module_version": "1.5.0",
      "_model_name": "HBoxModel",
      "_view_count": null,
      "_view_module": "@jupyter-widgets/controls",
      "_view_module_version": "1.5.0",
      "_view_name": "HBoxView",
      "box_style": "",
      "children": [
       "IPY_MODEL_dd8a5a0cd45d4de6b877577f4ea0dec6",
       "IPY_MODEL_f01e886eb4d246458f4f1127cc70941e",
       "IPY_MODEL_83a98d4e9ea941139fbc1c3d633ba874"
      ],
      "layout": "IPY_MODEL_258db2e29e494eb1b8be46572ed8a9b0"
     }
    },
    "822b2c18b33843a48d41fc3f7675d564": {
     "model_module": "@jupyter-widgets/base",
     "model_module_version": "1.2.0",
     "model_name": "LayoutModel",
     "state": {
      "_model_module": "@jupyter-widgets/base",
      "_model_module_version": "1.2.0",
      "_model_name": "LayoutModel",
      "_view_count": null,
      "_view_module": "@jupyter-widgets/base",
      "_view_module_version": "1.2.0",
      "_view_name": "LayoutView",
      "align_content": null,
      "align_items": null,
      "align_self": null,
      "border": null,
      "bottom": null,
      "display": null,
      "flex": null,
      "flex_flow": null,
      "grid_area": null,
      "grid_auto_columns": null,
      "grid_auto_flow": null,
      "grid_auto_rows": null,
      "grid_column": null,
      "grid_gap": null,
      "grid_row": null,
      "grid_template_areas": null,
      "grid_template_columns": null,
      "grid_template_rows": null,
      "height": null,
      "justify_content": null,
      "justify_items": null,
      "left": null,
      "margin": null,
      "max_height": null,
      "max_width": null,
      "min_height": null,
      "min_width": null,
      "object_fit": null,
      "object_position": null,
      "order": null,
      "overflow": null,
      "overflow_x": null,
      "overflow_y": null,
      "padding": null,
      "right": null,
      "top": null,
      "visibility": null,
      "width": null
     }
    },
    "83501f42d3b346008d04e9871e11458c": {
     "model_module": "@jupyter-widgets/base",
     "model_module_version": "1.2.0",
     "model_name": "LayoutModel",
     "state": {
      "_model_module": "@jupyter-widgets/base",
      "_model_module_version": "1.2.0",
      "_model_name": "LayoutModel",
      "_view_count": null,
      "_view_module": "@jupyter-widgets/base",
      "_view_module_version": "1.2.0",
      "_view_name": "LayoutView",
      "align_content": null,
      "align_items": null,
      "align_self": null,
      "border": null,
      "bottom": null,
      "display": null,
      "flex": null,
      "flex_flow": null,
      "grid_area": null,
      "grid_auto_columns": null,
      "grid_auto_flow": null,
      "grid_auto_rows": null,
      "grid_column": null,
      "grid_gap": null,
      "grid_row": null,
      "grid_template_areas": null,
      "grid_template_columns": null,
      "grid_template_rows": null,
      "height": null,
      "justify_content": null,
      "justify_items": null,
      "left": null,
      "margin": null,
      "max_height": null,
      "max_width": null,
      "min_height": null,
      "min_width": null,
      "object_fit": null,
      "object_position": null,
      "order": null,
      "overflow": null,
      "overflow_x": null,
      "overflow_y": null,
      "padding": null,
      "right": null,
      "top": null,
      "visibility": null,
      "width": null
     }
    },
    "83a98d4e9ea941139fbc1c3d633ba874": {
     "model_module": "@jupyter-widgets/controls",
     "model_module_version": "1.5.0",
     "model_name": "HTMLModel",
     "state": {
      "_dom_classes": [],
      "_model_module": "@jupyter-widgets/controls",
      "_model_module_version": "1.5.0",
      "_model_name": "HTMLModel",
      "_view_count": null,
      "_view_module": "@jupyter-widgets/controls",
      "_view_module_version": "1.5.0",
      "_view_name": "HTMLView",
      "description": "",
      "description_tooltip": null,
      "layout": "IPY_MODEL_f106d5ea769445fcb91a83ec33efbe59",
      "placeholder": "​",
      "style": "IPY_MODEL_70af1487bce94bbc832442033a9c9160",
      "value": " 96/96 [00:02&lt;00:00, 52.30it/s]"
     }
    },
    "841806f099d348dcaee2ee75592b79b5": {
     "model_module": "@jupyter-widgets/base",
     "model_module_version": "1.2.0",
     "model_name": "LayoutModel",
     "state": {
      "_model_module": "@jupyter-widgets/base",
      "_model_module_version": "1.2.0",
      "_model_name": "LayoutModel",
      "_view_count": null,
      "_view_module": "@jupyter-widgets/base",
      "_view_module_version": "1.2.0",
      "_view_name": "LayoutView",
      "align_content": null,
      "align_items": null,
      "align_self": null,
      "border": null,
      "bottom": null,
      "display": null,
      "flex": null,
      "flex_flow": null,
      "grid_area": null,
      "grid_auto_columns": null,
      "grid_auto_flow": null,
      "grid_auto_rows": null,
      "grid_column": null,
      "grid_gap": null,
      "grid_row": null,
      "grid_template_areas": null,
      "grid_template_columns": null,
      "grid_template_rows": null,
      "height": null,
      "justify_content": null,
      "justify_items": null,
      "left": null,
      "margin": null,
      "max_height": null,
      "max_width": null,
      "min_height": null,
      "min_width": null,
      "object_fit": null,
      "object_position": null,
      "order": null,
      "overflow": null,
      "overflow_x": null,
      "overflow_y": null,
      "padding": null,
      "right": null,
      "top": null,
      "visibility": null,
      "width": null
     }
    },
    "84271ab1138a4f4c8d52650d03b355c4": {
     "model_module": "@jupyter-widgets/controls",
     "model_module_version": "1.5.0",
     "model_name": "HTMLModel",
     "state": {
      "_dom_classes": [],
      "_model_module": "@jupyter-widgets/controls",
      "_model_module_version": "1.5.0",
      "_model_name": "HTMLModel",
      "_view_count": null,
      "_view_module": "@jupyter-widgets/controls",
      "_view_module_version": "1.5.0",
      "_view_name": "HTMLView",
      "description": "",
      "description_tooltip": null,
      "layout": "IPY_MODEL_6b20409de34349049021dbacb8d9602f",
      "placeholder": "​",
      "style": "IPY_MODEL_b820c108f5d54a6d9881f53df5ca3121",
      "value": "VALID Epoch 09: 100%"
     }
    },
    "8614e77b3c414b9d982d208bb8a70d81": {
     "model_module": "@jupyter-widgets/controls",
     "model_module_version": "1.5.0",
     "model_name": "DescriptionStyleModel",
     "state": {
      "_model_module": "@jupyter-widgets/controls",
      "_model_module_version": "1.5.0",
      "_model_name": "DescriptionStyleModel",
      "_view_count": null,
      "_view_module": "@jupyter-widgets/base",
      "_view_module_version": "1.2.0",
      "_view_name": "StyleView",
      "description_width": ""
     }
    },
    "86263c930ad24e2cb1597dd4019d663a": {
     "model_module": "@jupyter-widgets/controls",
     "model_module_version": "1.5.0",
     "model_name": "HTMLModel",
     "state": {
      "_dom_classes": [],
      "_model_module": "@jupyter-widgets/controls",
      "_model_module_version": "1.5.0",
      "_model_name": "HTMLModel",
      "_view_count": null,
      "_view_module": "@jupyter-widgets/controls",
      "_view_module_version": "1.5.0",
      "_view_name": "HTMLView",
      "description": "",
      "description_tooltip": null,
      "layout": "IPY_MODEL_dff29060def04e7eaa82f1abd3393062",
      "placeholder": "​",
      "style": "IPY_MODEL_61ada837f6904535b3c60cbf30df7698",
      "value": " 96/96 [00:02&lt;00:00, 52.86it/s]"
     }
    },
    "866c29d16e8a4b2ba33ef1790da8206e": {
     "model_module": "@jupyter-widgets/controls",
     "model_module_version": "1.5.0",
     "model_name": "DescriptionStyleModel",
     "state": {
      "_model_module": "@jupyter-widgets/controls",
      "_model_module_version": "1.5.0",
      "_model_name": "DescriptionStyleModel",
      "_view_count": null,
      "_view_module": "@jupyter-widgets/base",
      "_view_module_version": "1.2.0",
      "_view_name": "StyleView",
      "description_width": ""
     }
    },
    "87db7a78d40d422e88eac4a865e58cc0": {
     "model_module": "@jupyter-widgets/controls",
     "model_module_version": "1.5.0",
     "model_name": "ProgressStyleModel",
     "state": {
      "_model_module": "@jupyter-widgets/controls",
      "_model_module_version": "1.5.0",
      "_model_name": "ProgressStyleModel",
      "_view_count": null,
      "_view_module": "@jupyter-widgets/base",
      "_view_module_version": "1.2.0",
      "_view_name": "StyleView",
      "bar_color": null,
      "description_width": ""
     }
    },
    "884d84a79a76406f9f834ec2e40f113a": {
     "model_module": "@jupyter-widgets/base",
     "model_module_version": "1.2.0",
     "model_name": "LayoutModel",
     "state": {
      "_model_module": "@jupyter-widgets/base",
      "_model_module_version": "1.2.0",
      "_model_name": "LayoutModel",
      "_view_count": null,
      "_view_module": "@jupyter-widgets/base",
      "_view_module_version": "1.2.0",
      "_view_name": "LayoutView",
      "align_content": null,
      "align_items": null,
      "align_self": null,
      "border": null,
      "bottom": null,
      "display": null,
      "flex": null,
      "flex_flow": null,
      "grid_area": null,
      "grid_auto_columns": null,
      "grid_auto_flow": null,
      "grid_auto_rows": null,
      "grid_column": null,
      "grid_gap": null,
      "grid_row": null,
      "grid_template_areas": null,
      "grid_template_columns": null,
      "grid_template_rows": null,
      "height": null,
      "justify_content": null,
      "justify_items": null,
      "left": null,
      "margin": null,
      "max_height": null,
      "max_width": null,
      "min_height": null,
      "min_width": null,
      "object_fit": null,
      "object_position": null,
      "order": null,
      "overflow": null,
      "overflow_x": null,
      "overflow_y": null,
      "padding": null,
      "right": null,
      "top": null,
      "visibility": null,
      "width": null
     }
    },
    "898d0bb0177a43ff8d43a1cff56de361": {
     "model_module": "@jupyter-widgets/controls",
     "model_module_version": "1.5.0",
     "model_name": "HTMLModel",
     "state": {
      "_dom_classes": [],
      "_model_module": "@jupyter-widgets/controls",
      "_model_module_version": "1.5.0",
      "_model_name": "HTMLModel",
      "_view_count": null,
      "_view_module": "@jupyter-widgets/controls",
      "_view_module_version": "1.5.0",
      "_view_name": "HTMLView",
      "description": "",
      "description_tooltip": null,
      "layout": "IPY_MODEL_f3e688b911794bcc931694f014f87280",
      "placeholder": "​",
      "style": "IPY_MODEL_51b3cb0e60dd43458bc32566999a512e",
      "value": " 387/387 [00:09&lt;00:00, 42.48it/s]"
     }
    },
    "89b35f6cd83f410e9678f7dceb8429df": {
     "model_module": "@jupyter-widgets/controls",
     "model_module_version": "1.5.0",
     "model_name": "HBoxModel",
     "state": {
      "_dom_classes": [],
      "_model_module": "@jupyter-widgets/controls",
      "_model_module_version": "1.5.0",
      "_model_name": "HBoxModel",
      "_view_count": null,
      "_view_module": "@jupyter-widgets/controls",
      "_view_module_version": "1.5.0",
      "_view_name": "HBoxView",
      "box_style": "",
      "children": [
       "IPY_MODEL_d371cd8705c541d0bad977ac7b141771",
       "IPY_MODEL_1dc412ddec8d47b9a758b4726a357d1f",
       "IPY_MODEL_5877c27a18174e5f9a7468f84fc26f49"
      ],
      "layout": "IPY_MODEL_0cdb413534964c24adb24b762923f351"
     }
    },
    "8a603ac96cae462baf70c43da1d0f21f": {
     "model_module": "@jupyter-widgets/controls",
     "model_module_version": "1.5.0",
     "model_name": "HTMLModel",
     "state": {
      "_dom_classes": [],
      "_model_module": "@jupyter-widgets/controls",
      "_model_module_version": "1.5.0",
      "_model_name": "HTMLModel",
      "_view_count": null,
      "_view_module": "@jupyter-widgets/controls",
      "_view_module_version": "1.5.0",
      "_view_name": "HTMLView",
      "description": "",
      "description_tooltip": null,
      "layout": "IPY_MODEL_59cdc83c878e477498cad2a74bd076a8",
      "placeholder": "​",
      "style": "IPY_MODEL_9e3d6344597d41529cc44e5efd604306",
      "value": " 96/96 [00:02&lt;00:00, 51.24it/s]"
     }
    },
    "8a75ad09a9ed4ffabddf4620c67f8f44": {
     "model_module": "@jupyter-widgets/controls",
     "model_module_version": "1.5.0",
     "model_name": "HTMLModel",
     "state": {
      "_dom_classes": [],
      "_model_module": "@jupyter-widgets/controls",
      "_model_module_version": "1.5.0",
      "_model_name": "HTMLModel",
      "_view_count": null,
      "_view_module": "@jupyter-widgets/controls",
      "_view_module_version": "1.5.0",
      "_view_name": "HTMLView",
      "description": "",
      "description_tooltip": null,
      "layout": "IPY_MODEL_83501f42d3b346008d04e9871e11458c",
      "placeholder": "​",
      "style": "IPY_MODEL_2c02df20cf8e406da352bd232f71a217",
      "value": "TRAIN Epoch 01: 100%"
     }
    },
    "8b14a2bca640419db2bc669a870525d1": {
     "model_module": "@jupyter-widgets/controls",
     "model_module_version": "1.5.0",
     "model_name": "HTMLModel",
     "state": {
      "_dom_classes": [],
      "_model_module": "@jupyter-widgets/controls",
      "_model_module_version": "1.5.0",
      "_model_name": "HTMLModel",
      "_view_count": null,
      "_view_module": "@jupyter-widgets/controls",
      "_view_module_version": "1.5.0",
      "_view_name": "HTMLView",
      "description": "",
      "description_tooltip": null,
      "layout": "IPY_MODEL_9f61f05050a248a38a5b0f778e301e54",
      "placeholder": "​",
      "style": "IPY_MODEL_6c59d45716064e03900a36ccd4c1117c",
      "value": " 387/387 [00:09&lt;00:00, 43.51it/s]"
     }
    },
    "8b48804a20c14a8a8b70f6eb8ea74e28": {
     "model_module": "@jupyter-widgets/controls",
     "model_module_version": "1.5.0",
     "model_name": "HBoxModel",
     "state": {
      "_dom_classes": [],
      "_model_module": "@jupyter-widgets/controls",
      "_model_module_version": "1.5.0",
      "_model_name": "HBoxModel",
      "_view_count": null,
      "_view_module": "@jupyter-widgets/controls",
      "_view_module_version": "1.5.0",
      "_view_name": "HBoxView",
      "box_style": "",
      "children": [
       "IPY_MODEL_8df567ca27644734a516484971e729fa",
       "IPY_MODEL_6216597660ea4f50b04ac4d3b9b1e251",
       "IPY_MODEL_e1b79015ceaa43caa111a2bb4657114d"
      ],
      "layout": "IPY_MODEL_654a1871b37a4210aa2a3ef86a62d1b4"
     }
    },
    "8b53a6b1e6534886b85acccc95f1b099": {
     "model_module": "@jupyter-widgets/controls",
     "model_module_version": "1.5.0",
     "model_name": "ProgressStyleModel",
     "state": {
      "_model_module": "@jupyter-widgets/controls",
      "_model_module_version": "1.5.0",
      "_model_name": "ProgressStyleModel",
      "_view_count": null,
      "_view_module": "@jupyter-widgets/base",
      "_view_module_version": "1.2.0",
      "_view_name": "StyleView",
      "bar_color": null,
      "description_width": ""
     }
    },
    "8ca3c76de44b43ceaaf9555e4ce76bce": {
     "model_module": "@jupyter-widgets/base",
     "model_module_version": "1.2.0",
     "model_name": "LayoutModel",
     "state": {
      "_model_module": "@jupyter-widgets/base",
      "_model_module_version": "1.2.0",
      "_model_name": "LayoutModel",
      "_view_count": null,
      "_view_module": "@jupyter-widgets/base",
      "_view_module_version": "1.2.0",
      "_view_name": "LayoutView",
      "align_content": null,
      "align_items": null,
      "align_self": null,
      "border": null,
      "bottom": null,
      "display": null,
      "flex": null,
      "flex_flow": null,
      "grid_area": null,
      "grid_auto_columns": null,
      "grid_auto_flow": null,
      "grid_auto_rows": null,
      "grid_column": null,
      "grid_gap": null,
      "grid_row": null,
      "grid_template_areas": null,
      "grid_template_columns": null,
      "grid_template_rows": null,
      "height": null,
      "justify_content": null,
      "justify_items": null,
      "left": null,
      "margin": null,
      "max_height": null,
      "max_width": null,
      "min_height": null,
      "min_width": null,
      "object_fit": null,
      "object_position": null,
      "order": null,
      "overflow": null,
      "overflow_x": null,
      "overflow_y": null,
      "padding": null,
      "right": null,
      "top": null,
      "visibility": null,
      "width": null
     }
    },
    "8ce704027a954760970f15027ce8c93f": {
     "model_module": "@jupyter-widgets/base",
     "model_module_version": "1.2.0",
     "model_name": "LayoutModel",
     "state": {
      "_model_module": "@jupyter-widgets/base",
      "_model_module_version": "1.2.0",
      "_model_name": "LayoutModel",
      "_view_count": null,
      "_view_module": "@jupyter-widgets/base",
      "_view_module_version": "1.2.0",
      "_view_name": "LayoutView",
      "align_content": null,
      "align_items": null,
      "align_self": null,
      "border": null,
      "bottom": null,
      "display": null,
      "flex": null,
      "flex_flow": null,
      "grid_area": null,
      "grid_auto_columns": null,
      "grid_auto_flow": null,
      "grid_auto_rows": null,
      "grid_column": null,
      "grid_gap": null,
      "grid_row": null,
      "grid_template_areas": null,
      "grid_template_columns": null,
      "grid_template_rows": null,
      "height": null,
      "justify_content": null,
      "justify_items": null,
      "left": null,
      "margin": null,
      "max_height": null,
      "max_width": null,
      "min_height": null,
      "min_width": null,
      "object_fit": null,
      "object_position": null,
      "order": null,
      "overflow": null,
      "overflow_x": null,
      "overflow_y": null,
      "padding": null,
      "right": null,
      "top": null,
      "visibility": null,
      "width": null
     }
    },
    "8df567ca27644734a516484971e729fa": {
     "model_module": "@jupyter-widgets/controls",
     "model_module_version": "1.5.0",
     "model_name": "HTMLModel",
     "state": {
      "_dom_classes": [],
      "_model_module": "@jupyter-widgets/controls",
      "_model_module_version": "1.5.0",
      "_model_name": "HTMLModel",
      "_view_count": null,
      "_view_module": "@jupyter-widgets/controls",
      "_view_module_version": "1.5.0",
      "_view_name": "HTMLView",
      "description": "",
      "description_tooltip": null,
      "layout": "IPY_MODEL_674c4cf07ff04f81b5feb569d87ac6ef",
      "placeholder": "​",
      "style": "IPY_MODEL_0a2effe6de324b058a2d55958e148a8f",
      "value": "TRAIN Epoch 00: 100%"
     }
    },
    "8f0205d3db1a459d96d1a9808ed13b6b": {
     "model_module": "@jupyter-widgets/controls",
     "model_module_version": "1.5.0",
     "model_name": "FloatProgressModel",
     "state": {
      "_dom_classes": [],
      "_model_module": "@jupyter-widgets/controls",
      "_model_module_version": "1.5.0",
      "_model_name": "FloatProgressModel",
      "_view_count": null,
      "_view_module": "@jupyter-widgets/controls",
      "_view_module_version": "1.5.0",
      "_view_name": "ProgressView",
      "bar_style": "success",
      "description": "",
      "description_tooltip": null,
      "layout": "IPY_MODEL_41fb64f5adfd4058a35f9d5e4ebda206",
      "max": 96,
      "min": 0,
      "orientation": "horizontal",
      "style": "IPY_MODEL_b8968534668147ffaa98106973256059",
      "value": 96
     }
    },
    "8fba2ce80ecb491e9dd21261be4ef709": {
     "model_module": "@jupyter-widgets/controls",
     "model_module_version": "1.5.0",
     "model_name": "DescriptionStyleModel",
     "state": {
      "_model_module": "@jupyter-widgets/controls",
      "_model_module_version": "1.5.0",
      "_model_name": "DescriptionStyleModel",
      "_view_count": null,
      "_view_module": "@jupyter-widgets/base",
      "_view_module_version": "1.2.0",
      "_view_name": "StyleView",
      "description_width": ""
     }
    },
    "9017558c16b84b4292c1643ffbd10f6b": {
     "model_module": "@jupyter-widgets/controls",
     "model_module_version": "1.5.0",
     "model_name": "HTMLModel",
     "state": {
      "_dom_classes": [],
      "_model_module": "@jupyter-widgets/controls",
      "_model_module_version": "1.5.0",
      "_model_name": "HTMLModel",
      "_view_count": null,
      "_view_module": "@jupyter-widgets/controls",
      "_view_module_version": "1.5.0",
      "_view_name": "HTMLView",
      "description": "",
      "description_tooltip": null,
      "layout": "IPY_MODEL_dacb4b704e7f4af2ad2b16952d3e3d94",
      "placeholder": "​",
      "style": "IPY_MODEL_6709e92040a841a8b9fa848aa501f24e",
      "value": " 387/387 [00:40&lt;00:00, 10.07it/s]"
     }
    },
    "9131edfb50d24881b87d5c2443d197df": {
     "model_module": "@jupyter-widgets/base",
     "model_module_version": "1.2.0",
     "model_name": "LayoutModel",
     "state": {
      "_model_module": "@jupyter-widgets/base",
      "_model_module_version": "1.2.0",
      "_model_name": "LayoutModel",
      "_view_count": null,
      "_view_module": "@jupyter-widgets/base",
      "_view_module_version": "1.2.0",
      "_view_name": "LayoutView",
      "align_content": null,
      "align_items": null,
      "align_self": null,
      "border": null,
      "bottom": null,
      "display": null,
      "flex": null,
      "flex_flow": null,
      "grid_area": null,
      "grid_auto_columns": null,
      "grid_auto_flow": null,
      "grid_auto_rows": null,
      "grid_column": null,
      "grid_gap": null,
      "grid_row": null,
      "grid_template_areas": null,
      "grid_template_columns": null,
      "grid_template_rows": null,
      "height": null,
      "justify_content": null,
      "justify_items": null,
      "left": null,
      "margin": null,
      "max_height": null,
      "max_width": null,
      "min_height": null,
      "min_width": null,
      "object_fit": null,
      "object_position": null,
      "order": null,
      "overflow": null,
      "overflow_x": null,
      "overflow_y": null,
      "padding": null,
      "right": null,
      "top": null,
      "visibility": null,
      "width": null
     }
    },
    "92c1b9854a984482acaea3442de8d2f3": {
     "model_module": "@jupyter-widgets/controls",
     "model_module_version": "1.5.0",
     "model_name": "DescriptionStyleModel",
     "state": {
      "_model_module": "@jupyter-widgets/controls",
      "_model_module_version": "1.5.0",
      "_model_name": "DescriptionStyleModel",
      "_view_count": null,
      "_view_module": "@jupyter-widgets/base",
      "_view_module_version": "1.2.0",
      "_view_name": "StyleView",
      "description_width": ""
     }
    },
    "92f214f47e504ba08548697f6a87a6cf": {
     "model_module": "@jupyter-widgets/controls",
     "model_module_version": "1.5.0",
     "model_name": "HTMLModel",
     "state": {
      "_dom_classes": [],
      "_model_module": "@jupyter-widgets/controls",
      "_model_module_version": "1.5.0",
      "_model_name": "HTMLModel",
      "_view_count": null,
      "_view_module": "@jupyter-widgets/controls",
      "_view_module_version": "1.5.0",
      "_view_name": "HTMLView",
      "description": "",
      "description_tooltip": null,
      "layout": "IPY_MODEL_7283ed084d2745e5b958009a1b0a62a6",
      "placeholder": "​",
      "style": "IPY_MODEL_d00cd9ddec7a4f479cfcc505a7569b67",
      "value": "TRAIN Epoch 00: 100%"
     }
    },
    "9318470dcf4f491fb78cbccc3e0bb892": {
     "model_module": "@jupyter-widgets/base",
     "model_module_version": "1.2.0",
     "model_name": "LayoutModel",
     "state": {
      "_model_module": "@jupyter-widgets/base",
      "_model_module_version": "1.2.0",
      "_model_name": "LayoutModel",
      "_view_count": null,
      "_view_module": "@jupyter-widgets/base",
      "_view_module_version": "1.2.0",
      "_view_name": "LayoutView",
      "align_content": null,
      "align_items": null,
      "align_self": null,
      "border": null,
      "bottom": null,
      "display": null,
      "flex": null,
      "flex_flow": null,
      "grid_area": null,
      "grid_auto_columns": null,
      "grid_auto_flow": null,
      "grid_auto_rows": null,
      "grid_column": null,
      "grid_gap": null,
      "grid_row": null,
      "grid_template_areas": null,
      "grid_template_columns": null,
      "grid_template_rows": null,
      "height": null,
      "justify_content": null,
      "justify_items": null,
      "left": null,
      "margin": null,
      "max_height": null,
      "max_width": null,
      "min_height": null,
      "min_width": null,
      "object_fit": null,
      "object_position": null,
      "order": null,
      "overflow": null,
      "overflow_x": null,
      "overflow_y": null,
      "padding": null,
      "right": null,
      "top": null,
      "visibility": null,
      "width": null
     }
    },
    "9470c4c46ca3448d803fc5ec84f98bd6": {
     "model_module": "@jupyter-widgets/controls",
     "model_module_version": "1.5.0",
     "model_name": "HTMLModel",
     "state": {
      "_dom_classes": [],
      "_model_module": "@jupyter-widgets/controls",
      "_model_module_version": "1.5.0",
      "_model_name": "HTMLModel",
      "_view_count": null,
      "_view_module": "@jupyter-widgets/controls",
      "_view_module_version": "1.5.0",
      "_view_name": "HTMLView",
      "description": "",
      "description_tooltip": null,
      "layout": "IPY_MODEL_a471e1ca1ce04bccb10ed157dba49c02",
      "placeholder": "​",
      "style": "IPY_MODEL_4c79595013b844ce9779d65fb20761fb",
      "value": " 96/96 [00:02&lt;00:00, 47.16it/s]"
     }
    },
    "98a2d2156edd4b3a9263a7b239b1232f": {
     "model_module": "@jupyter-widgets/controls",
     "model_module_version": "1.5.0",
     "model_name": "DescriptionStyleModel",
     "state": {
      "_model_module": "@jupyter-widgets/controls",
      "_model_module_version": "1.5.0",
      "_model_name": "DescriptionStyleModel",
      "_view_count": null,
      "_view_module": "@jupyter-widgets/base",
      "_view_module_version": "1.2.0",
      "_view_name": "StyleView",
      "description_width": ""
     }
    },
    "99fd3f7988be428097496c27f600f268": {
     "model_module": "@jupyter-widgets/controls",
     "model_module_version": "1.5.0",
     "model_name": "ProgressStyleModel",
     "state": {
      "_model_module": "@jupyter-widgets/controls",
      "_model_module_version": "1.5.0",
      "_model_name": "ProgressStyleModel",
      "_view_count": null,
      "_view_module": "@jupyter-widgets/base",
      "_view_module_version": "1.2.0",
      "_view_name": "StyleView",
      "bar_color": null,
      "description_width": ""
     }
    },
    "9cd08c36d4c54052a670d973ad5fd281": {
     "model_module": "@jupyter-widgets/controls",
     "model_module_version": "1.5.0",
     "model_name": "DescriptionStyleModel",
     "state": {
      "_model_module": "@jupyter-widgets/controls",
      "_model_module_version": "1.5.0",
      "_model_name": "DescriptionStyleModel",
      "_view_count": null,
      "_view_module": "@jupyter-widgets/base",
      "_view_module_version": "1.2.0",
      "_view_name": "StyleView",
      "description_width": ""
     }
    },
    "9d2369f510434bc6adacaeb13f7c40c4": {
     "model_module": "@jupyter-widgets/base",
     "model_module_version": "1.2.0",
     "model_name": "LayoutModel",
     "state": {
      "_model_module": "@jupyter-widgets/base",
      "_model_module_version": "1.2.0",
      "_model_name": "LayoutModel",
      "_view_count": null,
      "_view_module": "@jupyter-widgets/base",
      "_view_module_version": "1.2.0",
      "_view_name": "LayoutView",
      "align_content": null,
      "align_items": null,
      "align_self": null,
      "border": null,
      "bottom": null,
      "display": null,
      "flex": null,
      "flex_flow": null,
      "grid_area": null,
      "grid_auto_columns": null,
      "grid_auto_flow": null,
      "grid_auto_rows": null,
      "grid_column": null,
      "grid_gap": null,
      "grid_row": null,
      "grid_template_areas": null,
      "grid_template_columns": null,
      "grid_template_rows": null,
      "height": null,
      "justify_content": null,
      "justify_items": null,
      "left": null,
      "margin": null,
      "max_height": null,
      "max_width": null,
      "min_height": null,
      "min_width": null,
      "object_fit": null,
      "object_position": null,
      "order": null,
      "overflow": null,
      "overflow_x": null,
      "overflow_y": null,
      "padding": null,
      "right": null,
      "top": null,
      "visibility": null,
      "width": null
     }
    },
    "9e3d6344597d41529cc44e5efd604306": {
     "model_module": "@jupyter-widgets/controls",
     "model_module_version": "1.5.0",
     "model_name": "DescriptionStyleModel",
     "state": {
      "_model_module": "@jupyter-widgets/controls",
      "_model_module_version": "1.5.0",
      "_model_name": "DescriptionStyleModel",
      "_view_count": null,
      "_view_module": "@jupyter-widgets/base",
      "_view_module_version": "1.2.0",
      "_view_name": "StyleView",
      "description_width": ""
     }
    },
    "9ef1b83ce0784341b6ae1932467784fe": {
     "model_module": "@jupyter-widgets/controls",
     "model_module_version": "1.5.0",
     "model_name": "DescriptionStyleModel",
     "state": {
      "_model_module": "@jupyter-widgets/controls",
      "_model_module_version": "1.5.0",
      "_model_name": "DescriptionStyleModel",
      "_view_count": null,
      "_view_module": "@jupyter-widgets/base",
      "_view_module_version": "1.2.0",
      "_view_name": "StyleView",
      "description_width": ""
     }
    },
    "9f61f05050a248a38a5b0f778e301e54": {
     "model_module": "@jupyter-widgets/base",
     "model_module_version": "1.2.0",
     "model_name": "LayoutModel",
     "state": {
      "_model_module": "@jupyter-widgets/base",
      "_model_module_version": "1.2.0",
      "_model_name": "LayoutModel",
      "_view_count": null,
      "_view_module": "@jupyter-widgets/base",
      "_view_module_version": "1.2.0",
      "_view_name": "LayoutView",
      "align_content": null,
      "align_items": null,
      "align_self": null,
      "border": null,
      "bottom": null,
      "display": null,
      "flex": null,
      "flex_flow": null,
      "grid_area": null,
      "grid_auto_columns": null,
      "grid_auto_flow": null,
      "grid_auto_rows": null,
      "grid_column": null,
      "grid_gap": null,
      "grid_row": null,
      "grid_template_areas": null,
      "grid_template_columns": null,
      "grid_template_rows": null,
      "height": null,
      "justify_content": null,
      "justify_items": null,
      "left": null,
      "margin": null,
      "max_height": null,
      "max_width": null,
      "min_height": null,
      "min_width": null,
      "object_fit": null,
      "object_position": null,
      "order": null,
      "overflow": null,
      "overflow_x": null,
      "overflow_y": null,
      "padding": null,
      "right": null,
      "top": null,
      "visibility": null,
      "width": null
     }
    },
    "9f9e1fecbedc48319e59efbca0fcb7d1": {
     "model_module": "@jupyter-widgets/base",
     "model_module_version": "1.2.0",
     "model_name": "LayoutModel",
     "state": {
      "_model_module": "@jupyter-widgets/base",
      "_model_module_version": "1.2.0",
      "_model_name": "LayoutModel",
      "_view_count": null,
      "_view_module": "@jupyter-widgets/base",
      "_view_module_version": "1.2.0",
      "_view_name": "LayoutView",
      "align_content": null,
      "align_items": null,
      "align_self": null,
      "border": null,
      "bottom": null,
      "display": null,
      "flex": null,
      "flex_flow": null,
      "grid_area": null,
      "grid_auto_columns": null,
      "grid_auto_flow": null,
      "grid_auto_rows": null,
      "grid_column": null,
      "grid_gap": null,
      "grid_row": null,
      "grid_template_areas": null,
      "grid_template_columns": null,
      "grid_template_rows": null,
      "height": null,
      "justify_content": null,
      "justify_items": null,
      "left": null,
      "margin": null,
      "max_height": null,
      "max_width": null,
      "min_height": null,
      "min_width": null,
      "object_fit": null,
      "object_position": null,
      "order": null,
      "overflow": null,
      "overflow_x": null,
      "overflow_y": null,
      "padding": null,
      "right": null,
      "top": null,
      "visibility": null,
      "width": null
     }
    },
    "a01fbf10fe984166a1ea9bb38fe1f587": {
     "model_module": "@jupyter-widgets/controls",
     "model_module_version": "1.5.0",
     "model_name": "ProgressStyleModel",
     "state": {
      "_model_module": "@jupyter-widgets/controls",
      "_model_module_version": "1.5.0",
      "_model_name": "ProgressStyleModel",
      "_view_count": null,
      "_view_module": "@jupyter-widgets/base",
      "_view_module_version": "1.2.0",
      "_view_name": "StyleView",
      "bar_color": null,
      "description_width": ""
     }
    },
    "a02587c9bf9246e58230d5000a63d011": {
     "model_module": "@jupyter-widgets/base",
     "model_module_version": "1.2.0",
     "model_name": "LayoutModel",
     "state": {
      "_model_module": "@jupyter-widgets/base",
      "_model_module_version": "1.2.0",
      "_model_name": "LayoutModel",
      "_view_count": null,
      "_view_module": "@jupyter-widgets/base",
      "_view_module_version": "1.2.0",
      "_view_name": "LayoutView",
      "align_content": null,
      "align_items": null,
      "align_self": null,
      "border": null,
      "bottom": null,
      "display": null,
      "flex": null,
      "flex_flow": null,
      "grid_area": null,
      "grid_auto_columns": null,
      "grid_auto_flow": null,
      "grid_auto_rows": null,
      "grid_column": null,
      "grid_gap": null,
      "grid_row": null,
      "grid_template_areas": null,
      "grid_template_columns": null,
      "grid_template_rows": null,
      "height": null,
      "justify_content": null,
      "justify_items": null,
      "left": null,
      "margin": null,
      "max_height": null,
      "max_width": null,
      "min_height": null,
      "min_width": null,
      "object_fit": null,
      "object_position": null,
      "order": null,
      "overflow": null,
      "overflow_x": null,
      "overflow_y": null,
      "padding": null,
      "right": null,
      "top": null,
      "visibility": null,
      "width": null
     }
    },
    "a244411bc65c4967a1bcfba1cf5a4e07": {
     "model_module": "@jupyter-widgets/controls",
     "model_module_version": "1.5.0",
     "model_name": "HBoxModel",
     "state": {
      "_dom_classes": [],
      "_model_module": "@jupyter-widgets/controls",
      "_model_module_version": "1.5.0",
      "_model_name": "HBoxModel",
      "_view_count": null,
      "_view_module": "@jupyter-widgets/controls",
      "_view_module_version": "1.5.0",
      "_view_name": "HBoxView",
      "box_style": "",
      "children": [
       "IPY_MODEL_071d7884419640a9bd0237a74a085fb5",
       "IPY_MODEL_e95133fed5824975868d65802d0cba2d",
       "IPY_MODEL_a6083efa8b4748ab88ec2b63e0900a5f"
      ],
      "layout": "IPY_MODEL_1014d12c0d1a4fc4baf827ef100f89c9"
     }
    },
    "a3471d4c0541459dba04307d3d0b11e5": {
     "model_module": "@jupyter-widgets/base",
     "model_module_version": "1.2.0",
     "model_name": "LayoutModel",
     "state": {
      "_model_module": "@jupyter-widgets/base",
      "_model_module_version": "1.2.0",
      "_model_name": "LayoutModel",
      "_view_count": null,
      "_view_module": "@jupyter-widgets/base",
      "_view_module_version": "1.2.0",
      "_view_name": "LayoutView",
      "align_content": null,
      "align_items": null,
      "align_self": null,
      "border": null,
      "bottom": null,
      "display": null,
      "flex": null,
      "flex_flow": null,
      "grid_area": null,
      "grid_auto_columns": null,
      "grid_auto_flow": null,
      "grid_auto_rows": null,
      "grid_column": null,
      "grid_gap": null,
      "grid_row": null,
      "grid_template_areas": null,
      "grid_template_columns": null,
      "grid_template_rows": null,
      "height": null,
      "justify_content": null,
      "justify_items": null,
      "left": null,
      "margin": null,
      "max_height": null,
      "max_width": null,
      "min_height": null,
      "min_width": null,
      "object_fit": null,
      "object_position": null,
      "order": null,
      "overflow": null,
      "overflow_x": null,
      "overflow_y": null,
      "padding": null,
      "right": null,
      "top": null,
      "visibility": null,
      "width": null
     }
    },
    "a43d104f6be14effbf348025989b4d86": {
     "model_module": "@jupyter-widgets/base",
     "model_module_version": "1.2.0",
     "model_name": "LayoutModel",
     "state": {
      "_model_module": "@jupyter-widgets/base",
      "_model_module_version": "1.2.0",
      "_model_name": "LayoutModel",
      "_view_count": null,
      "_view_module": "@jupyter-widgets/base",
      "_view_module_version": "1.2.0",
      "_view_name": "LayoutView",
      "align_content": null,
      "align_items": null,
      "align_self": null,
      "border": null,
      "bottom": null,
      "display": null,
      "flex": null,
      "flex_flow": null,
      "grid_area": null,
      "grid_auto_columns": null,
      "grid_auto_flow": null,
      "grid_auto_rows": null,
      "grid_column": null,
      "grid_gap": null,
      "grid_row": null,
      "grid_template_areas": null,
      "grid_template_columns": null,
      "grid_template_rows": null,
      "height": null,
      "justify_content": null,
      "justify_items": null,
      "left": null,
      "margin": null,
      "max_height": null,
      "max_width": null,
      "min_height": null,
      "min_width": null,
      "object_fit": null,
      "object_position": null,
      "order": null,
      "overflow": null,
      "overflow_x": null,
      "overflow_y": null,
      "padding": null,
      "right": null,
      "top": null,
      "visibility": null,
      "width": null
     }
    },
    "a43ebb65612f4aeda2c43ae091547345": {
     "model_module": "@jupyter-widgets/controls",
     "model_module_version": "1.5.0",
     "model_name": "HBoxModel",
     "state": {
      "_dom_classes": [],
      "_model_module": "@jupyter-widgets/controls",
      "_model_module_version": "1.5.0",
      "_model_name": "HBoxModel",
      "_view_count": null,
      "_view_module": "@jupyter-widgets/controls",
      "_view_module_version": "1.5.0",
      "_view_name": "HBoxView",
      "box_style": "",
      "children": [
       "IPY_MODEL_6173b1e4b4c744adbc8e95863ecf7199",
       "IPY_MODEL_b57e45cb1cf140eebd735eac1554518b",
       "IPY_MODEL_a939cf06d8f94befb7535ba78a1bc8dc"
      ],
      "layout": "IPY_MODEL_3cc6205b410246f49b2e346fe9be5ffe"
     }
    },
    "a46deb4df36f495ca51dbcc2bea71bea": {
     "model_module": "@jupyter-widgets/base",
     "model_module_version": "1.2.0",
     "model_name": "LayoutModel",
     "state": {
      "_model_module": "@jupyter-widgets/base",
      "_model_module_version": "1.2.0",
      "_model_name": "LayoutModel",
      "_view_count": null,
      "_view_module": "@jupyter-widgets/base",
      "_view_module_version": "1.2.0",
      "_view_name": "LayoutView",
      "align_content": null,
      "align_items": null,
      "align_self": null,
      "border": null,
      "bottom": null,
      "display": null,
      "flex": null,
      "flex_flow": null,
      "grid_area": null,
      "grid_auto_columns": null,
      "grid_auto_flow": null,
      "grid_auto_rows": null,
      "grid_column": null,
      "grid_gap": null,
      "grid_row": null,
      "grid_template_areas": null,
      "grid_template_columns": null,
      "grid_template_rows": null,
      "height": null,
      "justify_content": null,
      "justify_items": null,
      "left": null,
      "margin": null,
      "max_height": null,
      "max_width": null,
      "min_height": null,
      "min_width": null,
      "object_fit": null,
      "object_position": null,
      "order": null,
      "overflow": null,
      "overflow_x": null,
      "overflow_y": null,
      "padding": null,
      "right": null,
      "top": null,
      "visibility": null,
      "width": null
     }
    },
    "a471e1ca1ce04bccb10ed157dba49c02": {
     "model_module": "@jupyter-widgets/base",
     "model_module_version": "1.2.0",
     "model_name": "LayoutModel",
     "state": {
      "_model_module": "@jupyter-widgets/base",
      "_model_module_version": "1.2.0",
      "_model_name": "LayoutModel",
      "_view_count": null,
      "_view_module": "@jupyter-widgets/base",
      "_view_module_version": "1.2.0",
      "_view_name": "LayoutView",
      "align_content": null,
      "align_items": null,
      "align_self": null,
      "border": null,
      "bottom": null,
      "display": null,
      "flex": null,
      "flex_flow": null,
      "grid_area": null,
      "grid_auto_columns": null,
      "grid_auto_flow": null,
      "grid_auto_rows": null,
      "grid_column": null,
      "grid_gap": null,
      "grid_row": null,
      "grid_template_areas": null,
      "grid_template_columns": null,
      "grid_template_rows": null,
      "height": null,
      "justify_content": null,
      "justify_items": null,
      "left": null,
      "margin": null,
      "max_height": null,
      "max_width": null,
      "min_height": null,
      "min_width": null,
      "object_fit": null,
      "object_position": null,
      "order": null,
      "overflow": null,
      "overflow_x": null,
      "overflow_y": null,
      "padding": null,
      "right": null,
      "top": null,
      "visibility": null,
      "width": null
     }
    },
    "a58183a912a3454a8677d7282f051e2b": {
     "model_module": "@jupyter-widgets/controls",
     "model_module_version": "1.5.0",
     "model_name": "FloatProgressModel",
     "state": {
      "_dom_classes": [],
      "_model_module": "@jupyter-widgets/controls",
      "_model_module_version": "1.5.0",
      "_model_name": "FloatProgressModel",
      "_view_count": null,
      "_view_module": "@jupyter-widgets/controls",
      "_view_module_version": "1.5.0",
      "_view_name": "ProgressView",
      "bar_style": "success",
      "description": "",
      "description_tooltip": null,
      "layout": "IPY_MODEL_c9c1f3d99c1a4fb7b3ea1f54b29cc55a",
      "max": 387,
      "min": 0,
      "orientation": "horizontal",
      "style": "IPY_MODEL_a01fbf10fe984166a1ea9bb38fe1f587",
      "value": 387
     }
    },
    "a6083efa8b4748ab88ec2b63e0900a5f": {
     "model_module": "@jupyter-widgets/controls",
     "model_module_version": "1.5.0",
     "model_name": "HTMLModel",
     "state": {
      "_dom_classes": [],
      "_model_module": "@jupyter-widgets/controls",
      "_model_module_version": "1.5.0",
      "_model_name": "HTMLModel",
      "_view_count": null,
      "_view_module": "@jupyter-widgets/controls",
      "_view_module_version": "1.5.0",
      "_view_name": "HTMLView",
      "description": "",
      "description_tooltip": null,
      "layout": "IPY_MODEL_27dba8a9f9be4e81b21b3f1021d3bcb7",
      "placeholder": "​",
      "style": "IPY_MODEL_98a2d2156edd4b3a9263a7b239b1232f",
      "value": " 96/96 [00:06&lt;00:00, 15.76it/s]"
     }
    },
    "a6c7b4eea43c4f6680508ef30fa2912b": {
     "model_module": "@jupyter-widgets/base",
     "model_module_version": "1.2.0",
     "model_name": "LayoutModel",
     "state": {
      "_model_module": "@jupyter-widgets/base",
      "_model_module_version": "1.2.0",
      "_model_name": "LayoutModel",
      "_view_count": null,
      "_view_module": "@jupyter-widgets/base",
      "_view_module_version": "1.2.0",
      "_view_name": "LayoutView",
      "align_content": null,
      "align_items": null,
      "align_self": null,
      "border": null,
      "bottom": null,
      "display": null,
      "flex": null,
      "flex_flow": null,
      "grid_area": null,
      "grid_auto_columns": null,
      "grid_auto_flow": null,
      "grid_auto_rows": null,
      "grid_column": null,
      "grid_gap": null,
      "grid_row": null,
      "grid_template_areas": null,
      "grid_template_columns": null,
      "grid_template_rows": null,
      "height": null,
      "justify_content": null,
      "justify_items": null,
      "left": null,
      "margin": null,
      "max_height": null,
      "max_width": null,
      "min_height": null,
      "min_width": null,
      "object_fit": null,
      "object_position": null,
      "order": null,
      "overflow": null,
      "overflow_x": null,
      "overflow_y": null,
      "padding": null,
      "right": null,
      "top": null,
      "visibility": null,
      "width": null
     }
    },
    "a923b70c95694a66a752b1bb75114d67": {
     "model_module": "@jupyter-widgets/base",
     "model_module_version": "1.2.0",
     "model_name": "LayoutModel",
     "state": {
      "_model_module": "@jupyter-widgets/base",
      "_model_module_version": "1.2.0",
      "_model_name": "LayoutModel",
      "_view_count": null,
      "_view_module": "@jupyter-widgets/base",
      "_view_module_version": "1.2.0",
      "_view_name": "LayoutView",
      "align_content": null,
      "align_items": null,
      "align_self": null,
      "border": null,
      "bottom": null,
      "display": null,
      "flex": null,
      "flex_flow": null,
      "grid_area": null,
      "grid_auto_columns": null,
      "grid_auto_flow": null,
      "grid_auto_rows": null,
      "grid_column": null,
      "grid_gap": null,
      "grid_row": null,
      "grid_template_areas": null,
      "grid_template_columns": null,
      "grid_template_rows": null,
      "height": null,
      "justify_content": null,
      "justify_items": null,
      "left": null,
      "margin": null,
      "max_height": null,
      "max_width": null,
      "min_height": null,
      "min_width": null,
      "object_fit": null,
      "object_position": null,
      "order": null,
      "overflow": null,
      "overflow_x": null,
      "overflow_y": null,
      "padding": null,
      "right": null,
      "top": null,
      "visibility": null,
      "width": null
     }
    },
    "a939cf06d8f94befb7535ba78a1bc8dc": {
     "model_module": "@jupyter-widgets/controls",
     "model_module_version": "1.5.0",
     "model_name": "HTMLModel",
     "state": {
      "_dom_classes": [],
      "_model_module": "@jupyter-widgets/controls",
      "_model_module_version": "1.5.0",
      "_model_name": "HTMLModel",
      "_view_count": null,
      "_view_module": "@jupyter-widgets/controls",
      "_view_module_version": "1.5.0",
      "_view_name": "HTMLView",
      "description": "",
      "description_tooltip": null,
      "layout": "IPY_MODEL_6a09d1b31f4b4e1bb2fdff16846a8ad3",
      "placeholder": "​",
      "style": "IPY_MODEL_66a8d8f576744b14a81abb4af5bc4b30",
      "value": " 96/96 [00:02&lt;00:00, 50.79it/s]"
     }
    },
    "adf9f2d260e6423eb654087687f6e2db": {
     "model_module": "@jupyter-widgets/base",
     "model_module_version": "1.2.0",
     "model_name": "LayoutModel",
     "state": {
      "_model_module": "@jupyter-widgets/base",
      "_model_module_version": "1.2.0",
      "_model_name": "LayoutModel",
      "_view_count": null,
      "_view_module": "@jupyter-widgets/base",
      "_view_module_version": "1.2.0",
      "_view_name": "LayoutView",
      "align_content": null,
      "align_items": null,
      "align_self": null,
      "border": null,
      "bottom": null,
      "display": null,
      "flex": null,
      "flex_flow": null,
      "grid_area": null,
      "grid_auto_columns": null,
      "grid_auto_flow": null,
      "grid_auto_rows": null,
      "grid_column": null,
      "grid_gap": null,
      "grid_row": null,
      "grid_template_areas": null,
      "grid_template_columns": null,
      "grid_template_rows": null,
      "height": null,
      "justify_content": null,
      "justify_items": null,
      "left": null,
      "margin": null,
      "max_height": null,
      "max_width": null,
      "min_height": null,
      "min_width": null,
      "object_fit": null,
      "object_position": null,
      "order": null,
      "overflow": null,
      "overflow_x": null,
      "overflow_y": null,
      "padding": null,
      "right": null,
      "top": null,
      "visibility": null,
      "width": null
     }
    },
    "ae8fbca3b56d426f8332e9391279dda9": {
     "model_module": "@jupyter-widgets/controls",
     "model_module_version": "1.5.0",
     "model_name": "DescriptionStyleModel",
     "state": {
      "_model_module": "@jupyter-widgets/controls",
      "_model_module_version": "1.5.0",
      "_model_name": "DescriptionStyleModel",
      "_view_count": null,
      "_view_module": "@jupyter-widgets/base",
      "_view_module_version": "1.2.0",
      "_view_name": "StyleView",
      "description_width": ""
     }
    },
    "b0a6aeb25bc14aa8bfc3efbef43c2e41": {
     "model_module": "@jupyter-widgets/base",
     "model_module_version": "1.2.0",
     "model_name": "LayoutModel",
     "state": {
      "_model_module": "@jupyter-widgets/base",
      "_model_module_version": "1.2.0",
      "_model_name": "LayoutModel",
      "_view_count": null,
      "_view_module": "@jupyter-widgets/base",
      "_view_module_version": "1.2.0",
      "_view_name": "LayoutView",
      "align_content": null,
      "align_items": null,
      "align_self": null,
      "border": null,
      "bottom": null,
      "display": null,
      "flex": null,
      "flex_flow": null,
      "grid_area": null,
      "grid_auto_columns": null,
      "grid_auto_flow": null,
      "grid_auto_rows": null,
      "grid_column": null,
      "grid_gap": null,
      "grid_row": null,
      "grid_template_areas": null,
      "grid_template_columns": null,
      "grid_template_rows": null,
      "height": null,
      "justify_content": null,
      "justify_items": null,
      "left": null,
      "margin": null,
      "max_height": null,
      "max_width": null,
      "min_height": null,
      "min_width": null,
      "object_fit": null,
      "object_position": null,
      "order": null,
      "overflow": null,
      "overflow_x": null,
      "overflow_y": null,
      "padding": null,
      "right": null,
      "top": null,
      "visibility": null,
      "width": null
     }
    },
    "b10bb3c53e2c4ce38c46d0590d155176": {
     "model_module": "@jupyter-widgets/controls",
     "model_module_version": "1.5.0",
     "model_name": "HTMLModel",
     "state": {
      "_dom_classes": [],
      "_model_module": "@jupyter-widgets/controls",
      "_model_module_version": "1.5.0",
      "_model_name": "HTMLModel",
      "_view_count": null,
      "_view_module": "@jupyter-widgets/controls",
      "_view_module_version": "1.5.0",
      "_view_name": "HTMLView",
      "description": "",
      "description_tooltip": null,
      "layout": "IPY_MODEL_6eb65cfa48df4389a5de44e323c4048b",
      "placeholder": "​",
      "style": "IPY_MODEL_e525660f600b46499a6f60f7793c3bb3",
      "value": " 387/387 [00:09&lt;00:00, 48.51it/s]"
     }
    },
    "b1ec0a74cc244c1cb3ec83a80da0f56e": {
     "model_module": "@jupyter-widgets/controls",
     "model_module_version": "1.5.0",
     "model_name": "ProgressStyleModel",
     "state": {
      "_model_module": "@jupyter-widgets/controls",
      "_model_module_version": "1.5.0",
      "_model_name": "ProgressStyleModel",
      "_view_count": null,
      "_view_module": "@jupyter-widgets/base",
      "_view_module_version": "1.2.0",
      "_view_name": "StyleView",
      "bar_color": null,
      "description_width": ""
     }
    },
    "b209730ab66b49e28eda673ef6035801": {
     "model_module": "@jupyter-widgets/controls",
     "model_module_version": "1.5.0",
     "model_name": "HTMLModel",
     "state": {
      "_dom_classes": [],
      "_model_module": "@jupyter-widgets/controls",
      "_model_module_version": "1.5.0",
      "_model_name": "HTMLModel",
      "_view_count": null,
      "_view_module": "@jupyter-widgets/controls",
      "_view_module_version": "1.5.0",
      "_view_name": "HTMLView",
      "description": "",
      "description_tooltip": null,
      "layout": "IPY_MODEL_22e7bdcc1fd74405918a37d6227ca649",
      "placeholder": "​",
      "style": "IPY_MODEL_2f387fa1e52c442cabe3b850c8564a5d",
      "value": " 96/96 [00:06&lt;00:00, 18.41it/s]"
     }
    },
    "b26199ed67b045aa830214355061db73": {
     "model_module": "@jupyter-widgets/controls",
     "model_module_version": "1.5.0",
     "model_name": "HTMLModel",
     "state": {
      "_dom_classes": [],
      "_model_module": "@jupyter-widgets/controls",
      "_model_module_version": "1.5.0",
      "_model_name": "HTMLModel",
      "_view_count": null,
      "_view_module": "@jupyter-widgets/controls",
      "_view_module_version": "1.5.0",
      "_view_name": "HTMLView",
      "description": "",
      "description_tooltip": null,
      "layout": "IPY_MODEL_2096d06042d84f0cae418678e66b8989",
      "placeholder": "​",
      "style": "IPY_MODEL_bc928a07373f49b6bfbeb107a2c3c0b6",
      "value": "TRAIN Epoch 01: 100%"
     }
    },
    "b4503f8e2a8541a6bc1e6729f95351b8": {
     "model_module": "@jupyter-widgets/base",
     "model_module_version": "1.2.0",
     "model_name": "LayoutModel",
     "state": {
      "_model_module": "@jupyter-widgets/base",
      "_model_module_version": "1.2.0",
      "_model_name": "LayoutModel",
      "_view_count": null,
      "_view_module": "@jupyter-widgets/base",
      "_view_module_version": "1.2.0",
      "_view_name": "LayoutView",
      "align_content": null,
      "align_items": null,
      "align_self": null,
      "border": null,
      "bottom": null,
      "display": null,
      "flex": null,
      "flex_flow": null,
      "grid_area": null,
      "grid_auto_columns": null,
      "grid_auto_flow": null,
      "grid_auto_rows": null,
      "grid_column": null,
      "grid_gap": null,
      "grid_row": null,
      "grid_template_areas": null,
      "grid_template_columns": null,
      "grid_template_rows": null,
      "height": null,
      "justify_content": null,
      "justify_items": null,
      "left": null,
      "margin": null,
      "max_height": null,
      "max_width": null,
      "min_height": null,
      "min_width": null,
      "object_fit": null,
      "object_position": null,
      "order": null,
      "overflow": null,
      "overflow_x": null,
      "overflow_y": null,
      "padding": null,
      "right": null,
      "top": null,
      "visibility": null,
      "width": null
     }
    },
    "b57e45cb1cf140eebd735eac1554518b": {
     "model_module": "@jupyter-widgets/controls",
     "model_module_version": "1.5.0",
     "model_name": "FloatProgressModel",
     "state": {
      "_dom_classes": [],
      "_model_module": "@jupyter-widgets/controls",
      "_model_module_version": "1.5.0",
      "_model_name": "FloatProgressModel",
      "_view_count": null,
      "_view_module": "@jupyter-widgets/controls",
      "_view_module_version": "1.5.0",
      "_view_name": "ProgressView",
      "bar_style": "success",
      "description": "",
      "description_tooltip": null,
      "layout": "IPY_MODEL_2eff267262604cff87ec1c212d2aa59b",
      "max": 96,
      "min": 0,
      "orientation": "horizontal",
      "style": "IPY_MODEL_8b53a6b1e6534886b85acccc95f1b099",
      "value": 96
     }
    },
    "b62da4071fe94a8580023c4c3598a898": {
     "model_module": "@jupyter-widgets/base",
     "model_module_version": "1.2.0",
     "model_name": "LayoutModel",
     "state": {
      "_model_module": "@jupyter-widgets/base",
      "_model_module_version": "1.2.0",
      "_model_name": "LayoutModel",
      "_view_count": null,
      "_view_module": "@jupyter-widgets/base",
      "_view_module_version": "1.2.0",
      "_view_name": "LayoutView",
      "align_content": null,
      "align_items": null,
      "align_self": null,
      "border": null,
      "bottom": null,
      "display": null,
      "flex": null,
      "flex_flow": null,
      "grid_area": null,
      "grid_auto_columns": null,
      "grid_auto_flow": null,
      "grid_auto_rows": null,
      "grid_column": null,
      "grid_gap": null,
      "grid_row": null,
      "grid_template_areas": null,
      "grid_template_columns": null,
      "grid_template_rows": null,
      "height": null,
      "justify_content": null,
      "justify_items": null,
      "left": null,
      "margin": null,
      "max_height": null,
      "max_width": null,
      "min_height": null,
      "min_width": null,
      "object_fit": null,
      "object_position": null,
      "order": null,
      "overflow": null,
      "overflow_x": null,
      "overflow_y": null,
      "padding": null,
      "right": null,
      "top": null,
      "visibility": null,
      "width": null
     }
    },
    "b638f9eefef14f279de4b3dcbc213bbc": {
     "model_module": "@jupyter-widgets/controls",
     "model_module_version": "1.5.0",
     "model_name": "FloatProgressModel",
     "state": {
      "_dom_classes": [],
      "_model_module": "@jupyter-widgets/controls",
      "_model_module_version": "1.5.0",
      "_model_name": "FloatProgressModel",
      "_view_count": null,
      "_view_module": "@jupyter-widgets/controls",
      "_view_module_version": "1.5.0",
      "_view_name": "ProgressView",
      "bar_style": "success",
      "description": "",
      "description_tooltip": null,
      "layout": "IPY_MODEL_841806f099d348dcaee2ee75592b79b5",
      "max": 387,
      "min": 0,
      "orientation": "horizontal",
      "style": "IPY_MODEL_5877368fe5b74a4fa4c6aca60e202244",
      "value": 387
     }
    },
    "b648349fe7ff4fe084700e890a3c3ee2": {
     "model_module": "@jupyter-widgets/base",
     "model_module_version": "1.2.0",
     "model_name": "LayoutModel",
     "state": {
      "_model_module": "@jupyter-widgets/base",
      "_model_module_version": "1.2.0",
      "_model_name": "LayoutModel",
      "_view_count": null,
      "_view_module": "@jupyter-widgets/base",
      "_view_module_version": "1.2.0",
      "_view_name": "LayoutView",
      "align_content": null,
      "align_items": null,
      "align_self": null,
      "border": null,
      "bottom": null,
      "display": null,
      "flex": null,
      "flex_flow": null,
      "grid_area": null,
      "grid_auto_columns": null,
      "grid_auto_flow": null,
      "grid_auto_rows": null,
      "grid_column": null,
      "grid_gap": null,
      "grid_row": null,
      "grid_template_areas": null,
      "grid_template_columns": null,
      "grid_template_rows": null,
      "height": null,
      "justify_content": null,
      "justify_items": null,
      "left": null,
      "margin": null,
      "max_height": null,
      "max_width": null,
      "min_height": null,
      "min_width": null,
      "object_fit": null,
      "object_position": null,
      "order": null,
      "overflow": null,
      "overflow_x": null,
      "overflow_y": null,
      "padding": null,
      "right": null,
      "top": null,
      "visibility": null,
      "width": null
     }
    },
    "b70e961a701c49f2b0cc57ddf867fa66": {
     "model_module": "@jupyter-widgets/controls",
     "model_module_version": "1.5.0",
     "model_name": "FloatProgressModel",
     "state": {
      "_dom_classes": [],
      "_model_module": "@jupyter-widgets/controls",
      "_model_module_version": "1.5.0",
      "_model_name": "FloatProgressModel",
      "_view_count": null,
      "_view_module": "@jupyter-widgets/controls",
      "_view_module_version": "1.5.0",
      "_view_name": "ProgressView",
      "bar_style": "success",
      "description": "",
      "description_tooltip": null,
      "layout": "IPY_MODEL_681b96ed7ef845e4adac07dc4583b079",
      "max": 96,
      "min": 0,
      "orientation": "horizontal",
      "style": "IPY_MODEL_da4011b371d94932981d9d529bda9bd1",
      "value": 96
     }
    },
    "b820c108f5d54a6d9881f53df5ca3121": {
     "model_module": "@jupyter-widgets/controls",
     "model_module_version": "1.5.0",
     "model_name": "DescriptionStyleModel",
     "state": {
      "_model_module": "@jupyter-widgets/controls",
      "_model_module_version": "1.5.0",
      "_model_name": "DescriptionStyleModel",
      "_view_count": null,
      "_view_module": "@jupyter-widgets/base",
      "_view_module_version": "1.2.0",
      "_view_name": "StyleView",
      "description_width": ""
     }
    },
    "b8968534668147ffaa98106973256059": {
     "model_module": "@jupyter-widgets/controls",
     "model_module_version": "1.5.0",
     "model_name": "ProgressStyleModel",
     "state": {
      "_model_module": "@jupyter-widgets/controls",
      "_model_module_version": "1.5.0",
      "_model_name": "ProgressStyleModel",
      "_view_count": null,
      "_view_module": "@jupyter-widgets/base",
      "_view_module_version": "1.2.0",
      "_view_name": "StyleView",
      "bar_color": null,
      "description_width": ""
     }
    },
    "b8da56b57b3648c68f96c47e6d1a5476": {
     "model_module": "@jupyter-widgets/controls",
     "model_module_version": "1.5.0",
     "model_name": "DescriptionStyleModel",
     "state": {
      "_model_module": "@jupyter-widgets/controls",
      "_model_module_version": "1.5.0",
      "_model_name": "DescriptionStyleModel",
      "_view_count": null,
      "_view_module": "@jupyter-widgets/base",
      "_view_module_version": "1.2.0",
      "_view_name": "StyleView",
      "description_width": ""
     }
    },
    "bc1fddd16e5040f3a9b8d87e340819d4": {
     "model_module": "@jupyter-widgets/controls",
     "model_module_version": "1.5.0",
     "model_name": "ProgressStyleModel",
     "state": {
      "_model_module": "@jupyter-widgets/controls",
      "_model_module_version": "1.5.0",
      "_model_name": "ProgressStyleModel",
      "_view_count": null,
      "_view_module": "@jupyter-widgets/base",
      "_view_module_version": "1.2.0",
      "_view_name": "StyleView",
      "bar_color": null,
      "description_width": ""
     }
    },
    "bc928a07373f49b6bfbeb107a2c3c0b6": {
     "model_module": "@jupyter-widgets/controls",
     "model_module_version": "1.5.0",
     "model_name": "DescriptionStyleModel",
     "state": {
      "_model_module": "@jupyter-widgets/controls",
      "_model_module_version": "1.5.0",
      "_model_name": "DescriptionStyleModel",
      "_view_count": null,
      "_view_module": "@jupyter-widgets/base",
      "_view_module_version": "1.2.0",
      "_view_name": "StyleView",
      "description_width": ""
     }
    },
    "bd0f8ecfaf954680a988035e40095dd4": {
     "model_module": "@jupyter-widgets/base",
     "model_module_version": "1.2.0",
     "model_name": "LayoutModel",
     "state": {
      "_model_module": "@jupyter-widgets/base",
      "_model_module_version": "1.2.0",
      "_model_name": "LayoutModel",
      "_view_count": null,
      "_view_module": "@jupyter-widgets/base",
      "_view_module_version": "1.2.0",
      "_view_name": "LayoutView",
      "align_content": null,
      "align_items": null,
      "align_self": null,
      "border": null,
      "bottom": null,
      "display": null,
      "flex": null,
      "flex_flow": null,
      "grid_area": null,
      "grid_auto_columns": null,
      "grid_auto_flow": null,
      "grid_auto_rows": null,
      "grid_column": null,
      "grid_gap": null,
      "grid_row": null,
      "grid_template_areas": null,
      "grid_template_columns": null,
      "grid_template_rows": null,
      "height": null,
      "justify_content": null,
      "justify_items": null,
      "left": null,
      "margin": null,
      "max_height": null,
      "max_width": null,
      "min_height": null,
      "min_width": null,
      "object_fit": null,
      "object_position": null,
      "order": null,
      "overflow": null,
      "overflow_x": null,
      "overflow_y": null,
      "padding": null,
      "right": null,
      "top": null,
      "visibility": null,
      "width": null
     }
    },
    "bd48bd83d84a4249bb04a90551017263": {
     "model_module": "@jupyter-widgets/controls",
     "model_module_version": "1.5.0",
     "model_name": "HTMLModel",
     "state": {
      "_dom_classes": [],
      "_model_module": "@jupyter-widgets/controls",
      "_model_module_version": "1.5.0",
      "_model_name": "HTMLModel",
      "_view_count": null,
      "_view_module": "@jupyter-widgets/controls",
      "_view_module_version": "1.5.0",
      "_view_name": "HTMLView",
      "description": "",
      "description_tooltip": null,
      "layout": "IPY_MODEL_2b18ddb8ab7a4de582039470e2bd8c62",
      "placeholder": "​",
      "style": "IPY_MODEL_fa5442882a0c46bdae0ed5825d61539e",
      "value": "VALID Epoch 06: 100%"
     }
    },
    "bf3619ebdb134fecb6831fb9bb5ab819": {
     "model_module": "@jupyter-widgets/controls",
     "model_module_version": "1.5.0",
     "model_name": "FloatProgressModel",
     "state": {
      "_dom_classes": [],
      "_model_module": "@jupyter-widgets/controls",
      "_model_module_version": "1.5.0",
      "_model_name": "FloatProgressModel",
      "_view_count": null,
      "_view_module": "@jupyter-widgets/controls",
      "_view_module_version": "1.5.0",
      "_view_name": "ProgressView",
      "bar_style": "success",
      "description": "",
      "description_tooltip": null,
      "layout": "IPY_MODEL_a6c7b4eea43c4f6680508ef30fa2912b",
      "max": 96,
      "min": 0,
      "orientation": "horizontal",
      "style": "IPY_MODEL_dd49c8825d7744a8bee59e4e537c2aba",
      "value": 96
     }
    },
    "bfd801abf85a43e99fdc1cd9c84d95f8": {
     "model_module": "@jupyter-widgets/controls",
     "model_module_version": "1.5.0",
     "model_name": "HTMLModel",
     "state": {
      "_dom_classes": [],
      "_model_module": "@jupyter-widgets/controls",
      "_model_module_version": "1.5.0",
      "_model_name": "HTMLModel",
      "_view_count": null,
      "_view_module": "@jupyter-widgets/controls",
      "_view_module_version": "1.5.0",
      "_view_name": "HTMLView",
      "description": "",
      "description_tooltip": null,
      "layout": "IPY_MODEL_0b3cb854f43f4a01b2be08238475c958",
      "placeholder": "​",
      "style": "IPY_MODEL_0f9268dafd084b3989beb38517692ecb",
      "value": "VALID Epoch 08: 100%"
     }
    },
    "c030d4fdaafe4a3393263b275d7b78d5": {
     "model_module": "@jupyter-widgets/controls",
     "model_module_version": "1.5.0",
     "model_name": "FloatProgressModel",
     "state": {
      "_dom_classes": [],
      "_model_module": "@jupyter-widgets/controls",
      "_model_module_version": "1.5.0",
      "_model_name": "FloatProgressModel",
      "_view_count": null,
      "_view_module": "@jupyter-widgets/controls",
      "_view_module_version": "1.5.0",
      "_view_name": "ProgressView",
      "bar_style": "success",
      "description": "",
      "description_tooltip": null,
      "layout": "IPY_MODEL_d7e0906db6854a7b97db0611b33cace9",
      "max": 96,
      "min": 0,
      "orientation": "horizontal",
      "style": "IPY_MODEL_ceb40235b08b4821aca4e82f97a531b0",
      "value": 96
     }
    },
    "c69742c36f4b442cabb432eeb78983f5": {
     "model_module": "@jupyter-widgets/controls",
     "model_module_version": "1.5.0",
     "model_name": "DescriptionStyleModel",
     "state": {
      "_model_module": "@jupyter-widgets/controls",
      "_model_module_version": "1.5.0",
      "_model_name": "DescriptionStyleModel",
      "_view_count": null,
      "_view_module": "@jupyter-widgets/base",
      "_view_module_version": "1.2.0",
      "_view_name": "StyleView",
      "description_width": ""
     }
    },
    "c724436eb7d64a14873591ddb0eb3f62": {
     "model_module": "@jupyter-widgets/controls",
     "model_module_version": "1.5.0",
     "model_name": "HTMLModel",
     "state": {
      "_dom_classes": [],
      "_model_module": "@jupyter-widgets/controls",
      "_model_module_version": "1.5.0",
      "_model_name": "HTMLModel",
      "_view_count": null,
      "_view_module": "@jupyter-widgets/controls",
      "_view_module_version": "1.5.0",
      "_view_name": "HTMLView",
      "description": "",
      "description_tooltip": null,
      "layout": "IPY_MODEL_1577f400958e43418513bf9e99b6863f",
      "placeholder": "​",
      "style": "IPY_MODEL_465d658254294592b835bfbeb04e10d0",
      "value": "TRAIN Epoch 08: 100%"
     }
    },
    "c75a1cc9c3bc43e88680c2a294a0034e": {
     "model_module": "@jupyter-widgets/controls",
     "model_module_version": "1.5.0",
     "model_name": "HTMLModel",
     "state": {
      "_dom_classes": [],
      "_model_module": "@jupyter-widgets/controls",
      "_model_module_version": "1.5.0",
      "_model_name": "HTMLModel",
      "_view_count": null,
      "_view_module": "@jupyter-widgets/controls",
      "_view_module_version": "1.5.0",
      "_view_name": "HTMLView",
      "description": "",
      "description_tooltip": null,
      "layout": "IPY_MODEL_b62da4071fe94a8580023c4c3598a898",
      "placeholder": "​",
      "style": "IPY_MODEL_62755ce2a04d4865939de2a029305285",
      "value": " 387/387 [00:40&lt;00:00,  9.88it/s]"
     }
    },
    "c75d8a77c94644759d36567042fd3dd2": {
     "model_module": "@jupyter-widgets/controls",
     "model_module_version": "1.5.0",
     "model_name": "FloatProgressModel",
     "state": {
      "_dom_classes": [],
      "_model_module": "@jupyter-widgets/controls",
      "_model_module_version": "1.5.0",
      "_model_name": "FloatProgressModel",
      "_view_count": null,
      "_view_module": "@jupyter-widgets/controls",
      "_view_module_version": "1.5.0",
      "_view_name": "ProgressView",
      "bar_style": "success",
      "description": "",
      "description_tooltip": null,
      "layout": "IPY_MODEL_47063c8354244a7398144868e5014c14",
      "max": 96,
      "min": 0,
      "orientation": "horizontal",
      "style": "IPY_MODEL_26776c3ba1ef4e3ab332c57788333cf5",
      "value": 96
     }
    },
    "c77ea5270fdc4a21823759a917c8964e": {
     "model_module": "@jupyter-widgets/controls",
     "model_module_version": "1.5.0",
     "model_name": "ProgressStyleModel",
     "state": {
      "_model_module": "@jupyter-widgets/controls",
      "_model_module_version": "1.5.0",
      "_model_name": "ProgressStyleModel",
      "_view_count": null,
      "_view_module": "@jupyter-widgets/base",
      "_view_module_version": "1.2.0",
      "_view_name": "StyleView",
      "bar_color": null,
      "description_width": ""
     }
    },
    "c9c1f3d99c1a4fb7b3ea1f54b29cc55a": {
     "model_module": "@jupyter-widgets/base",
     "model_module_version": "1.2.0",
     "model_name": "LayoutModel",
     "state": {
      "_model_module": "@jupyter-widgets/base",
      "_model_module_version": "1.2.0",
      "_model_name": "LayoutModel",
      "_view_count": null,
      "_view_module": "@jupyter-widgets/base",
      "_view_module_version": "1.2.0",
      "_view_name": "LayoutView",
      "align_content": null,
      "align_items": null,
      "align_self": null,
      "border": null,
      "bottom": null,
      "display": null,
      "flex": null,
      "flex_flow": null,
      "grid_area": null,
      "grid_auto_columns": null,
      "grid_auto_flow": null,
      "grid_auto_rows": null,
      "grid_column": null,
      "grid_gap": null,
      "grid_row": null,
      "grid_template_areas": null,
      "grid_template_columns": null,
      "grid_template_rows": null,
      "height": null,
      "justify_content": null,
      "justify_items": null,
      "left": null,
      "margin": null,
      "max_height": null,
      "max_width": null,
      "min_height": null,
      "min_width": null,
      "object_fit": null,
      "object_position": null,
      "order": null,
      "overflow": null,
      "overflow_x": null,
      "overflow_y": null,
      "padding": null,
      "right": null,
      "top": null,
      "visibility": null,
      "width": null
     }
    },
    "cbf21eb3dc71449c891e1b15ea7dd9d9": {
     "model_module": "@jupyter-widgets/controls",
     "model_module_version": "1.5.0",
     "model_name": "HTMLModel",
     "state": {
      "_dom_classes": [],
      "_model_module": "@jupyter-widgets/controls",
      "_model_module_version": "1.5.0",
      "_model_name": "HTMLModel",
      "_view_count": null,
      "_view_module": "@jupyter-widgets/controls",
      "_view_module_version": "1.5.0",
      "_view_name": "HTMLView",
      "description": "",
      "description_tooltip": null,
      "layout": "IPY_MODEL_b648349fe7ff4fe084700e890a3c3ee2",
      "placeholder": "​",
      "style": "IPY_MODEL_6aba9a56efb9478ab9b53fc0245a7225",
      "value": "VALID Epoch 01: 100%"
     }
    },
    "ccf20979e2d14bfdb5e1246ab56dd18a": {
     "model_module": "@jupyter-widgets/controls",
     "model_module_version": "1.5.0",
     "model_name": "FloatProgressModel",
     "state": {
      "_dom_classes": [],
      "_model_module": "@jupyter-widgets/controls",
      "_model_module_version": "1.5.0",
      "_model_name": "FloatProgressModel",
      "_view_count": null,
      "_view_module": "@jupyter-widgets/controls",
      "_view_module_version": "1.5.0",
      "_view_name": "ProgressView",
      "bar_style": "success",
      "description": "",
      "description_tooltip": null,
      "layout": "IPY_MODEL_a02587c9bf9246e58230d5000a63d011",
      "max": 387,
      "min": 0,
      "orientation": "horizontal",
      "style": "IPY_MODEL_58ea8979add741a7abb22d9ba7fa6c7f",
      "value": 387
     }
    },
    "cd0956fa3d364059a8815e85bd41da64": {
     "model_module": "@jupyter-widgets/controls",
     "model_module_version": "1.5.0",
     "model_name": "HBoxModel",
     "state": {
      "_dom_classes": [],
      "_model_module": "@jupyter-widgets/controls",
      "_model_module_version": "1.5.0",
      "_model_name": "HBoxModel",
      "_view_count": null,
      "_view_module": "@jupyter-widgets/controls",
      "_view_module_version": "1.5.0",
      "_view_name": "HBoxView",
      "box_style": "",
      "children": [
       "IPY_MODEL_c724436eb7d64a14873591ddb0eb3f62",
       "IPY_MODEL_f905df355e54429392d5e2b685ad48b7",
       "IPY_MODEL_898d0bb0177a43ff8d43a1cff56de361"
      ],
      "layout": "IPY_MODEL_7b2c1516501948a684271ace9d156a84"
     }
    },
    "ceb40235b08b4821aca4e82f97a531b0": {
     "model_module": "@jupyter-widgets/controls",
     "model_module_version": "1.5.0",
     "model_name": "ProgressStyleModel",
     "state": {
      "_model_module": "@jupyter-widgets/controls",
      "_model_module_version": "1.5.0",
      "_model_name": "ProgressStyleModel",
      "_view_count": null,
      "_view_module": "@jupyter-widgets/base",
      "_view_module_version": "1.2.0",
      "_view_name": "StyleView",
      "bar_color": null,
      "description_width": ""
     }
    },
    "d00cd9ddec7a4f479cfcc505a7569b67": {
     "model_module": "@jupyter-widgets/controls",
     "model_module_version": "1.5.0",
     "model_name": "DescriptionStyleModel",
     "state": {
      "_model_module": "@jupyter-widgets/controls",
      "_model_module_version": "1.5.0",
      "_model_name": "DescriptionStyleModel",
      "_view_count": null,
      "_view_module": "@jupyter-widgets/base",
      "_view_module_version": "1.2.0",
      "_view_name": "StyleView",
      "description_width": ""
     }
    },
    "d23b50e9c22046f187850f38b9a8521d": {
     "model_module": "@jupyter-widgets/base",
     "model_module_version": "1.2.0",
     "model_name": "LayoutModel",
     "state": {
      "_model_module": "@jupyter-widgets/base",
      "_model_module_version": "1.2.0",
      "_model_name": "LayoutModel",
      "_view_count": null,
      "_view_module": "@jupyter-widgets/base",
      "_view_module_version": "1.2.0",
      "_view_name": "LayoutView",
      "align_content": null,
      "align_items": null,
      "align_self": null,
      "border": null,
      "bottom": null,
      "display": null,
      "flex": null,
      "flex_flow": null,
      "grid_area": null,
      "grid_auto_columns": null,
      "grid_auto_flow": null,
      "grid_auto_rows": null,
      "grid_column": null,
      "grid_gap": null,
      "grid_row": null,
      "grid_template_areas": null,
      "grid_template_columns": null,
      "grid_template_rows": null,
      "height": null,
      "justify_content": null,
      "justify_items": null,
      "left": null,
      "margin": null,
      "max_height": null,
      "max_width": null,
      "min_height": null,
      "min_width": null,
      "object_fit": null,
      "object_position": null,
      "order": null,
      "overflow": null,
      "overflow_x": null,
      "overflow_y": null,
      "padding": null,
      "right": null,
      "top": null,
      "visibility": null,
      "width": null
     }
    },
    "d254ac9b1e00419cb899fe59377909e5": {
     "model_module": "@jupyter-widgets/controls",
     "model_module_version": "1.5.0",
     "model_name": "HBoxModel",
     "state": {
      "_dom_classes": [],
      "_model_module": "@jupyter-widgets/controls",
      "_model_module_version": "1.5.0",
      "_model_name": "HBoxModel",
      "_view_count": null,
      "_view_module": "@jupyter-widgets/controls",
      "_view_module_version": "1.5.0",
      "_view_name": "HBoxView",
      "box_style": "",
      "children": [
       "IPY_MODEL_f0b2a8dcb4ee4d3ea6eaba7e1f6bf95c",
       "IPY_MODEL_2f265936955848eaba5ab82fd7f44308",
       "IPY_MODEL_d27ad0700ae749f4adac90add72e648c"
      ],
      "layout": "IPY_MODEL_a3471d4c0541459dba04307d3d0b11e5"
     }
    },
    "d27ad0700ae749f4adac90add72e648c": {
     "model_module": "@jupyter-widgets/controls",
     "model_module_version": "1.5.0",
     "model_name": "HTMLModel",
     "state": {
      "_dom_classes": [],
      "_model_module": "@jupyter-widgets/controls",
      "_model_module_version": "1.5.0",
      "_model_name": "HTMLModel",
      "_view_count": null,
      "_view_module": "@jupyter-widgets/controls",
      "_view_module_version": "1.5.0",
      "_view_name": "HTMLView",
      "description": "",
      "description_tooltip": null,
      "layout": "IPY_MODEL_4e860aec9df248e09592295cd590d717",
      "placeholder": "​",
      "style": "IPY_MODEL_65a21f5669724f0b90998b6e2f8351ce",
      "value": " 387/387 [00:41&lt;00:00,  9.93it/s]"
     }
    },
    "d371cd8705c541d0bad977ac7b141771": {
     "model_module": "@jupyter-widgets/controls",
     "model_module_version": "1.5.0",
     "model_name": "HTMLModel",
     "state": {
      "_dom_classes": [],
      "_model_module": "@jupyter-widgets/controls",
      "_model_module_version": "1.5.0",
      "_model_name": "HTMLModel",
      "_view_count": null,
      "_view_module": "@jupyter-widgets/controls",
      "_view_module_version": "1.5.0",
      "_view_name": "HTMLView",
      "description": "",
      "description_tooltip": null,
      "layout": "IPY_MODEL_8ce704027a954760970f15027ce8c93f",
      "placeholder": "​",
      "style": "IPY_MODEL_4a2a00204e5f49a78b4a9ec0d54ec554",
      "value": "VALID Epoch 00: 100%"
     }
    },
    "d583a9df40be4858b1b3064adccb879a": {
     "model_module": "@jupyter-widgets/controls",
     "model_module_version": "1.5.0",
     "model_name": "DescriptionStyleModel",
     "state": {
      "_model_module": "@jupyter-widgets/controls",
      "_model_module_version": "1.5.0",
      "_model_name": "DescriptionStyleModel",
      "_view_count": null,
      "_view_module": "@jupyter-widgets/base",
      "_view_module_version": "1.2.0",
      "_view_name": "StyleView",
      "description_width": ""
     }
    },
    "d6f30c77b0624fb48bd782f55d154a95": {
     "model_module": "@jupyter-widgets/controls",
     "model_module_version": "1.5.0",
     "model_name": "HTMLModel",
     "state": {
      "_dom_classes": [],
      "_model_module": "@jupyter-widgets/controls",
      "_model_module_version": "1.5.0",
      "_model_name": "HTMLModel",
      "_view_count": null,
      "_view_module": "@jupyter-widgets/controls",
      "_view_module_version": "1.5.0",
      "_view_name": "HTMLView",
      "description": "",
      "description_tooltip": null,
      "layout": "IPY_MODEL_72e16dbaad72425583d6377d3bf60c46",
      "placeholder": "​",
      "style": "IPY_MODEL_1ad7e4fd1e744f68906d39300b0ff687",
      "value": "TRAIN Epoch 07: 100%"
     }
    },
    "d7e0906db6854a7b97db0611b33cace9": {
     "model_module": "@jupyter-widgets/base",
     "model_module_version": "1.2.0",
     "model_name": "LayoutModel",
     "state": {
      "_model_module": "@jupyter-widgets/base",
      "_model_module_version": "1.2.0",
      "_model_name": "LayoutModel",
      "_view_count": null,
      "_view_module": "@jupyter-widgets/base",
      "_view_module_version": "1.2.0",
      "_view_name": "LayoutView",
      "align_content": null,
      "align_items": null,
      "align_self": null,
      "border": null,
      "bottom": null,
      "display": null,
      "flex": null,
      "flex_flow": null,
      "grid_area": null,
      "grid_auto_columns": null,
      "grid_auto_flow": null,
      "grid_auto_rows": null,
      "grid_column": null,
      "grid_gap": null,
      "grid_row": null,
      "grid_template_areas": null,
      "grid_template_columns": null,
      "grid_template_rows": null,
      "height": null,
      "justify_content": null,
      "justify_items": null,
      "left": null,
      "margin": null,
      "max_height": null,
      "max_width": null,
      "min_height": null,
      "min_width": null,
      "object_fit": null,
      "object_position": null,
      "order": null,
      "overflow": null,
      "overflow_x": null,
      "overflow_y": null,
      "padding": null,
      "right": null,
      "top": null,
      "visibility": null,
      "width": null
     }
    },
    "d931fd25ed5b4a978a151da213391bd9": {
     "model_module": "@jupyter-widgets/base",
     "model_module_version": "1.2.0",
     "model_name": "LayoutModel",
     "state": {
      "_model_module": "@jupyter-widgets/base",
      "_model_module_version": "1.2.0",
      "_model_name": "LayoutModel",
      "_view_count": null,
      "_view_module": "@jupyter-widgets/base",
      "_view_module_version": "1.2.0",
      "_view_name": "LayoutView",
      "align_content": null,
      "align_items": null,
      "align_self": null,
      "border": null,
      "bottom": null,
      "display": null,
      "flex": null,
      "flex_flow": null,
      "grid_area": null,
      "grid_auto_columns": null,
      "grid_auto_flow": null,
      "grid_auto_rows": null,
      "grid_column": null,
      "grid_gap": null,
      "grid_row": null,
      "grid_template_areas": null,
      "grid_template_columns": null,
      "grid_template_rows": null,
      "height": null,
      "justify_content": null,
      "justify_items": null,
      "left": null,
      "margin": null,
      "max_height": null,
      "max_width": null,
      "min_height": null,
      "min_width": null,
      "object_fit": null,
      "object_position": null,
      "order": null,
      "overflow": null,
      "overflow_x": null,
      "overflow_y": null,
      "padding": null,
      "right": null,
      "top": null,
      "visibility": null,
      "width": null
     }
    },
    "d9599de7e85d4d2e8ec8bfc1603c4249": {
     "model_module": "@jupyter-widgets/base",
     "model_module_version": "1.2.0",
     "model_name": "LayoutModel",
     "state": {
      "_model_module": "@jupyter-widgets/base",
      "_model_module_version": "1.2.0",
      "_model_name": "LayoutModel",
      "_view_count": null,
      "_view_module": "@jupyter-widgets/base",
      "_view_module_version": "1.2.0",
      "_view_name": "LayoutView",
      "align_content": null,
      "align_items": null,
      "align_self": null,
      "border": null,
      "bottom": null,
      "display": null,
      "flex": null,
      "flex_flow": null,
      "grid_area": null,
      "grid_auto_columns": null,
      "grid_auto_flow": null,
      "grid_auto_rows": null,
      "grid_column": null,
      "grid_gap": null,
      "grid_row": null,
      "grid_template_areas": null,
      "grid_template_columns": null,
      "grid_template_rows": null,
      "height": null,
      "justify_content": null,
      "justify_items": null,
      "left": null,
      "margin": null,
      "max_height": null,
      "max_width": null,
      "min_height": null,
      "min_width": null,
      "object_fit": null,
      "object_position": null,
      "order": null,
      "overflow": null,
      "overflow_x": null,
      "overflow_y": null,
      "padding": null,
      "right": null,
      "top": null,
      "visibility": null,
      "width": null
     }
    },
    "d9cf780a6f2b4e25b8dd71b61319e006": {
     "model_module": "@jupyter-widgets/base",
     "model_module_version": "1.2.0",
     "model_name": "LayoutModel",
     "state": {
      "_model_module": "@jupyter-widgets/base",
      "_model_module_version": "1.2.0",
      "_model_name": "LayoutModel",
      "_view_count": null,
      "_view_module": "@jupyter-widgets/base",
      "_view_module_version": "1.2.0",
      "_view_name": "LayoutView",
      "align_content": null,
      "align_items": null,
      "align_self": null,
      "border": null,
      "bottom": null,
      "display": null,
      "flex": null,
      "flex_flow": null,
      "grid_area": null,
      "grid_auto_columns": null,
      "grid_auto_flow": null,
      "grid_auto_rows": null,
      "grid_column": null,
      "grid_gap": null,
      "grid_row": null,
      "grid_template_areas": null,
      "grid_template_columns": null,
      "grid_template_rows": null,
      "height": null,
      "justify_content": null,
      "justify_items": null,
      "left": null,
      "margin": null,
      "max_height": null,
      "max_width": null,
      "min_height": null,
      "min_width": null,
      "object_fit": null,
      "object_position": null,
      "order": null,
      "overflow": null,
      "overflow_x": null,
      "overflow_y": null,
      "padding": null,
      "right": null,
      "top": null,
      "visibility": null,
      "width": null
     }
    },
    "da104f872ba2497a862adbe027e01c51": {
     "model_module": "@jupyter-widgets/base",
     "model_module_version": "1.2.0",
     "model_name": "LayoutModel",
     "state": {
      "_model_module": "@jupyter-widgets/base",
      "_model_module_version": "1.2.0",
      "_model_name": "LayoutModel",
      "_view_count": null,
      "_view_module": "@jupyter-widgets/base",
      "_view_module_version": "1.2.0",
      "_view_name": "LayoutView",
      "align_content": null,
      "align_items": null,
      "align_self": null,
      "border": null,
      "bottom": null,
      "display": null,
      "flex": null,
      "flex_flow": null,
      "grid_area": null,
      "grid_auto_columns": null,
      "grid_auto_flow": null,
      "grid_auto_rows": null,
      "grid_column": null,
      "grid_gap": null,
      "grid_row": null,
      "grid_template_areas": null,
      "grid_template_columns": null,
      "grid_template_rows": null,
      "height": null,
      "justify_content": null,
      "justify_items": null,
      "left": null,
      "margin": null,
      "max_height": null,
      "max_width": null,
      "min_height": null,
      "min_width": null,
      "object_fit": null,
      "object_position": null,
      "order": null,
      "overflow": null,
      "overflow_x": null,
      "overflow_y": null,
      "padding": null,
      "right": null,
      "top": null,
      "visibility": null,
      "width": null
     }
    },
    "da4011b371d94932981d9d529bda9bd1": {
     "model_module": "@jupyter-widgets/controls",
     "model_module_version": "1.5.0",
     "model_name": "ProgressStyleModel",
     "state": {
      "_model_module": "@jupyter-widgets/controls",
      "_model_module_version": "1.5.0",
      "_model_name": "ProgressStyleModel",
      "_view_count": null,
      "_view_module": "@jupyter-widgets/base",
      "_view_module_version": "1.2.0",
      "_view_name": "StyleView",
      "bar_color": null,
      "description_width": ""
     }
    },
    "dacb4b704e7f4af2ad2b16952d3e3d94": {
     "model_module": "@jupyter-widgets/base",
     "model_module_version": "1.2.0",
     "model_name": "LayoutModel",
     "state": {
      "_model_module": "@jupyter-widgets/base",
      "_model_module_version": "1.2.0",
      "_model_name": "LayoutModel",
      "_view_count": null,
      "_view_module": "@jupyter-widgets/base",
      "_view_module_version": "1.2.0",
      "_view_name": "LayoutView",
      "align_content": null,
      "align_items": null,
      "align_self": null,
      "border": null,
      "bottom": null,
      "display": null,
      "flex": null,
      "flex_flow": null,
      "grid_area": null,
      "grid_auto_columns": null,
      "grid_auto_flow": null,
      "grid_auto_rows": null,
      "grid_column": null,
      "grid_gap": null,
      "grid_row": null,
      "grid_template_areas": null,
      "grid_template_columns": null,
      "grid_template_rows": null,
      "height": null,
      "justify_content": null,
      "justify_items": null,
      "left": null,
      "margin": null,
      "max_height": null,
      "max_width": null,
      "min_height": null,
      "min_width": null,
      "object_fit": null,
      "object_position": null,
      "order": null,
      "overflow": null,
      "overflow_x": null,
      "overflow_y": null,
      "padding": null,
      "right": null,
      "top": null,
      "visibility": null,
      "width": null
     }
    },
    "dcefe25b60414de485cbe462e8256327": {
     "model_module": "@jupyter-widgets/controls",
     "model_module_version": "1.5.0",
     "model_name": "FloatProgressModel",
     "state": {
      "_dom_classes": [],
      "_model_module": "@jupyter-widgets/controls",
      "_model_module_version": "1.5.0",
      "_model_name": "FloatProgressModel",
      "_view_count": null,
      "_view_module": "@jupyter-widgets/controls",
      "_view_module_version": "1.5.0",
      "_view_name": "ProgressView",
      "bar_style": "success",
      "description": "",
      "description_tooltip": null,
      "layout": "IPY_MODEL_0b3f907b5b3c455b8a038070142bc755",
      "max": 96,
      "min": 0,
      "orientation": "horizontal",
      "style": "IPY_MODEL_5bbb7c7ed4024444bc0a60b0ae30092a",
      "value": 96
     }
    },
    "dd49c8825d7744a8bee59e4e537c2aba": {
     "model_module": "@jupyter-widgets/controls",
     "model_module_version": "1.5.0",
     "model_name": "ProgressStyleModel",
     "state": {
      "_model_module": "@jupyter-widgets/controls",
      "_model_module_version": "1.5.0",
      "_model_name": "ProgressStyleModel",
      "_view_count": null,
      "_view_module": "@jupyter-widgets/base",
      "_view_module_version": "1.2.0",
      "_view_name": "StyleView",
      "bar_color": null,
      "description_width": ""
     }
    },
    "dd8a5a0cd45d4de6b877577f4ea0dec6": {
     "model_module": "@jupyter-widgets/controls",
     "model_module_version": "1.5.0",
     "model_name": "HTMLModel",
     "state": {
      "_dom_classes": [],
      "_model_module": "@jupyter-widgets/controls",
      "_model_module_version": "1.5.0",
      "_model_name": "HTMLModel",
      "_view_count": null,
      "_view_module": "@jupyter-widgets/controls",
      "_view_module_version": "1.5.0",
      "_view_name": "HTMLView",
      "description": "",
      "description_tooltip": null,
      "layout": "IPY_MODEL_822b2c18b33843a48d41fc3f7675d564",
      "placeholder": "​",
      "style": "IPY_MODEL_1db529161bc645cd8f4ec27cb9ef256f",
      "value": "VALID Epoch 04: 100%"
     }
    },
    "de820d03df5d4d8e9c6c1b05451fe2ef": {
     "model_module": "@jupyter-widgets/controls",
     "model_module_version": "1.5.0",
     "model_name": "FloatProgressModel",
     "state": {
      "_dom_classes": [],
      "_model_module": "@jupyter-widgets/controls",
      "_model_module_version": "1.5.0",
      "_model_name": "FloatProgressModel",
      "_view_count": null,
      "_view_module": "@jupyter-widgets/controls",
      "_view_module_version": "1.5.0",
      "_view_name": "ProgressView",
      "bar_style": "success",
      "description": "",
      "description_tooltip": null,
      "layout": "IPY_MODEL_7b3a4e93c6084b4a8c28dfde8b142a25",
      "max": 387,
      "min": 0,
      "orientation": "horizontal",
      "style": "IPY_MODEL_4fac1b4562e64a16a698126e61d30983",
      "value": 387
     }
    },
    "df1bf30fbee44eecb16c9f68da0a2aad": {
     "model_module": "@jupyter-widgets/base",
     "model_module_version": "1.2.0",
     "model_name": "LayoutModel",
     "state": {
      "_model_module": "@jupyter-widgets/base",
      "_model_module_version": "1.2.0",
      "_model_name": "LayoutModel",
      "_view_count": null,
      "_view_module": "@jupyter-widgets/base",
      "_view_module_version": "1.2.0",
      "_view_name": "LayoutView",
      "align_content": null,
      "align_items": null,
      "align_self": null,
      "border": null,
      "bottom": null,
      "display": null,
      "flex": null,
      "flex_flow": null,
      "grid_area": null,
      "grid_auto_columns": null,
      "grid_auto_flow": null,
      "grid_auto_rows": null,
      "grid_column": null,
      "grid_gap": null,
      "grid_row": null,
      "grid_template_areas": null,
      "grid_template_columns": null,
      "grid_template_rows": null,
      "height": null,
      "justify_content": null,
      "justify_items": null,
      "left": null,
      "margin": null,
      "max_height": null,
      "max_width": null,
      "min_height": null,
      "min_width": null,
      "object_fit": null,
      "object_position": null,
      "order": null,
      "overflow": null,
      "overflow_x": null,
      "overflow_y": null,
      "padding": null,
      "right": null,
      "top": null,
      "visibility": null,
      "width": null
     }
    },
    "dfa504428d6c4e84a54a092e1536fc94": {
     "model_module": "@jupyter-widgets/controls",
     "model_module_version": "1.5.0",
     "model_name": "HTMLModel",
     "state": {
      "_dom_classes": [],
      "_model_module": "@jupyter-widgets/controls",
      "_model_module_version": "1.5.0",
      "_model_name": "HTMLModel",
      "_view_count": null,
      "_view_module": "@jupyter-widgets/controls",
      "_view_module_version": "1.5.0",
      "_view_name": "HTMLView",
      "description": "",
      "description_tooltip": null,
      "layout": "IPY_MODEL_687fe0aa3f134586b2874da87a545fce",
      "placeholder": "​",
      "style": "IPY_MODEL_7a7ba6fdf18348f68b569b78fe29bcac",
      "value": " 387/387 [00:09&lt;00:00, 43.16it/s]"
     }
    },
    "dff29060def04e7eaa82f1abd3393062": {
     "model_module": "@jupyter-widgets/base",
     "model_module_version": "1.2.0",
     "model_name": "LayoutModel",
     "state": {
      "_model_module": "@jupyter-widgets/base",
      "_model_module_version": "1.2.0",
      "_model_name": "LayoutModel",
      "_view_count": null,
      "_view_module": "@jupyter-widgets/base",
      "_view_module_version": "1.2.0",
      "_view_name": "LayoutView",
      "align_content": null,
      "align_items": null,
      "align_self": null,
      "border": null,
      "bottom": null,
      "display": null,
      "flex": null,
      "flex_flow": null,
      "grid_area": null,
      "grid_auto_columns": null,
      "grid_auto_flow": null,
      "grid_auto_rows": null,
      "grid_column": null,
      "grid_gap": null,
      "grid_row": null,
      "grid_template_areas": null,
      "grid_template_columns": null,
      "grid_template_rows": null,
      "height": null,
      "justify_content": null,
      "justify_items": null,
      "left": null,
      "margin": null,
      "max_height": null,
      "max_width": null,
      "min_height": null,
      "min_width": null,
      "object_fit": null,
      "object_position": null,
      "order": null,
      "overflow": null,
      "overflow_x": null,
      "overflow_y": null,
      "padding": null,
      "right": null,
      "top": null,
      "visibility": null,
      "width": null
     }
    },
    "e0c42be4dced48508a55df7f5bb142ec": {
     "model_module": "@jupyter-widgets/base",
     "model_module_version": "1.2.0",
     "model_name": "LayoutModel",
     "state": {
      "_model_module": "@jupyter-widgets/base",
      "_model_module_version": "1.2.0",
      "_model_name": "LayoutModel",
      "_view_count": null,
      "_view_module": "@jupyter-widgets/base",
      "_view_module_version": "1.2.0",
      "_view_name": "LayoutView",
      "align_content": null,
      "align_items": null,
      "align_self": null,
      "border": null,
      "bottom": null,
      "display": null,
      "flex": null,
      "flex_flow": null,
      "grid_area": null,
      "grid_auto_columns": null,
      "grid_auto_flow": null,
      "grid_auto_rows": null,
      "grid_column": null,
      "grid_gap": null,
      "grid_row": null,
      "grid_template_areas": null,
      "grid_template_columns": null,
      "grid_template_rows": null,
      "height": null,
      "justify_content": null,
      "justify_items": null,
      "left": null,
      "margin": null,
      "max_height": null,
      "max_width": null,
      "min_height": null,
      "min_width": null,
      "object_fit": null,
      "object_position": null,
      "order": null,
      "overflow": null,
      "overflow_x": null,
      "overflow_y": null,
      "padding": null,
      "right": null,
      "top": null,
      "visibility": null,
      "width": null
     }
    },
    "e18aa815f21f4795b8e9383beda606c6": {
     "model_module": "@jupyter-widgets/controls",
     "model_module_version": "1.5.0",
     "model_name": "ProgressStyleModel",
     "state": {
      "_model_module": "@jupyter-widgets/controls",
      "_model_module_version": "1.5.0",
      "_model_name": "ProgressStyleModel",
      "_view_count": null,
      "_view_module": "@jupyter-widgets/base",
      "_view_module_version": "1.2.0",
      "_view_name": "StyleView",
      "bar_color": null,
      "description_width": ""
     }
    },
    "e1b79015ceaa43caa111a2bb4657114d": {
     "model_module": "@jupyter-widgets/controls",
     "model_module_version": "1.5.0",
     "model_name": "HTMLModel",
     "state": {
      "_dom_classes": [],
      "_model_module": "@jupyter-widgets/controls",
      "_model_module_version": "1.5.0",
      "_model_name": "HTMLModel",
      "_view_count": null,
      "_view_module": "@jupyter-widgets/controls",
      "_view_module_version": "1.5.0",
      "_view_name": "HTMLView",
      "description": "",
      "description_tooltip": null,
      "layout": "IPY_MODEL_3a17f1cc849f44d8944d0073a8b85b27",
      "placeholder": "​",
      "style": "IPY_MODEL_c69742c36f4b442cabb432eeb78983f5",
      "value": " 387/387 [00:09&lt;00:00, 44.54it/s]"
     }
    },
    "e4f1a4aea6994deab2df41e513ad4465": {
     "model_module": "@jupyter-widgets/controls",
     "model_module_version": "1.5.0",
     "model_name": "HTMLModel",
     "state": {
      "_dom_classes": [],
      "_model_module": "@jupyter-widgets/controls",
      "_model_module_version": "1.5.0",
      "_model_name": "HTMLModel",
      "_view_count": null,
      "_view_module": "@jupyter-widgets/controls",
      "_view_module_version": "1.5.0",
      "_view_name": "HTMLView",
      "description": "",
      "description_tooltip": null,
      "layout": "IPY_MODEL_a923b70c95694a66a752b1bb75114d67",
      "placeholder": "​",
      "style": "IPY_MODEL_6864092ff4674836bb330ea8ec12563e",
      "value": " 387/387 [00:09&lt;00:00, 42.24it/s]"
     }
    },
    "e525660f600b46499a6f60f7793c3bb3": {
     "model_module": "@jupyter-widgets/controls",
     "model_module_version": "1.5.0",
     "model_name": "DescriptionStyleModel",
     "state": {
      "_model_module": "@jupyter-widgets/controls",
      "_model_module_version": "1.5.0",
      "_model_name": "DescriptionStyleModel",
      "_view_count": null,
      "_view_module": "@jupyter-widgets/base",
      "_view_module_version": "1.2.0",
      "_view_name": "StyleView",
      "description_width": ""
     }
    },
    "e609e1a894874b909f25ffd83acc4393": {
     "model_module": "@jupyter-widgets/controls",
     "model_module_version": "1.5.0",
     "model_name": "HTMLModel",
     "state": {
      "_dom_classes": [],
      "_model_module": "@jupyter-widgets/controls",
      "_model_module_version": "1.5.0",
      "_model_name": "HTMLModel",
      "_view_count": null,
      "_view_module": "@jupyter-widgets/controls",
      "_view_module_version": "1.5.0",
      "_view_name": "HTMLView",
      "description": "",
      "description_tooltip": null,
      "layout": "IPY_MODEL_6a14db1a97134ec4873def8e075094ef",
      "placeholder": "​",
      "style": "IPY_MODEL_507589182a86424ba1d8c6f31a284b3a",
      "value": "TRAIN Epoch 05: 100%"
     }
    },
    "e6ed5e6e67364cd4beb37ffb28284886": {
     "model_module": "@jupyter-widgets/base",
     "model_module_version": "1.2.0",
     "model_name": "LayoutModel",
     "state": {
      "_model_module": "@jupyter-widgets/base",
      "_model_module_version": "1.2.0",
      "_model_name": "LayoutModel",
      "_view_count": null,
      "_view_module": "@jupyter-widgets/base",
      "_view_module_version": "1.2.0",
      "_view_name": "LayoutView",
      "align_content": null,
      "align_items": null,
      "align_self": null,
      "border": null,
      "bottom": null,
      "display": null,
      "flex": null,
      "flex_flow": null,
      "grid_area": null,
      "grid_auto_columns": null,
      "grid_auto_flow": null,
      "grid_auto_rows": null,
      "grid_column": null,
      "grid_gap": null,
      "grid_row": null,
      "grid_template_areas": null,
      "grid_template_columns": null,
      "grid_template_rows": null,
      "height": null,
      "justify_content": null,
      "justify_items": null,
      "left": null,
      "margin": null,
      "max_height": null,
      "max_width": null,
      "min_height": null,
      "min_width": null,
      "object_fit": null,
      "object_position": null,
      "order": null,
      "overflow": null,
      "overflow_x": null,
      "overflow_y": null,
      "padding": null,
      "right": null,
      "top": null,
      "visibility": null,
      "width": null
     }
    },
    "e95133fed5824975868d65802d0cba2d": {
     "model_module": "@jupyter-widgets/controls",
     "model_module_version": "1.5.0",
     "model_name": "FloatProgressModel",
     "state": {
      "_dom_classes": [],
      "_model_module": "@jupyter-widgets/controls",
      "_model_module_version": "1.5.0",
      "_model_name": "FloatProgressModel",
      "_view_count": null,
      "_view_module": "@jupyter-widgets/controls",
      "_view_module_version": "1.5.0",
      "_view_name": "ProgressView",
      "bar_style": "success",
      "description": "",
      "description_tooltip": null,
      "layout": "IPY_MODEL_28ed63c7d589477281497707e18ee57f",
      "max": 96,
      "min": 0,
      "orientation": "horizontal",
      "style": "IPY_MODEL_e18aa815f21f4795b8e9383beda606c6",
      "value": 96
     }
    },
    "eaf982d791304d529ca2778af02081af": {
     "model_module": "@jupyter-widgets/base",
     "model_module_version": "1.2.0",
     "model_name": "LayoutModel",
     "state": {
      "_model_module": "@jupyter-widgets/base",
      "_model_module_version": "1.2.0",
      "_model_name": "LayoutModel",
      "_view_count": null,
      "_view_module": "@jupyter-widgets/base",
      "_view_module_version": "1.2.0",
      "_view_name": "LayoutView",
      "align_content": null,
      "align_items": null,
      "align_self": null,
      "border": null,
      "bottom": null,
      "display": null,
      "flex": null,
      "flex_flow": null,
      "grid_area": null,
      "grid_auto_columns": null,
      "grid_auto_flow": null,
      "grid_auto_rows": null,
      "grid_column": null,
      "grid_gap": null,
      "grid_row": null,
      "grid_template_areas": null,
      "grid_template_columns": null,
      "grid_template_rows": null,
      "height": null,
      "justify_content": null,
      "justify_items": null,
      "left": null,
      "margin": null,
      "max_height": null,
      "max_width": null,
      "min_height": null,
      "min_width": null,
      "object_fit": null,
      "object_position": null,
      "order": null,
      "overflow": null,
      "overflow_x": null,
      "overflow_y": null,
      "padding": null,
      "right": null,
      "top": null,
      "visibility": null,
      "width": null
     }
    },
    "eb9d5948a05845eaa9c530843871b16d": {
     "model_module": "@jupyter-widgets/controls",
     "model_module_version": "1.5.0",
     "model_name": "FloatProgressModel",
     "state": {
      "_dom_classes": [],
      "_model_module": "@jupyter-widgets/controls",
      "_model_module_version": "1.5.0",
      "_model_name": "FloatProgressModel",
      "_view_count": null,
      "_view_module": "@jupyter-widgets/controls",
      "_view_module_version": "1.5.0",
      "_view_name": "ProgressView",
      "bar_style": "success",
      "description": "",
      "description_tooltip": null,
      "layout": "IPY_MODEL_9131edfb50d24881b87d5c2443d197df",
      "max": 387,
      "min": 0,
      "orientation": "horizontal",
      "style": "IPY_MODEL_395d59a532554014a487041559fd2395",
      "value": 387
     }
    },
    "ed84a2c90ae840fba47d167a18662963": {
     "model_module": "@jupyter-widgets/controls",
     "model_module_version": "1.5.0",
     "model_name": "DescriptionStyleModel",
     "state": {
      "_model_module": "@jupyter-widgets/controls",
      "_model_module_version": "1.5.0",
      "_model_name": "DescriptionStyleModel",
      "_view_count": null,
      "_view_module": "@jupyter-widgets/base",
      "_view_module_version": "1.2.0",
      "_view_name": "StyleView",
      "description_width": ""
     }
    },
    "efa79b7f495545289bfc40244fcc3e23": {
     "model_module": "@jupyter-widgets/controls",
     "model_module_version": "1.5.0",
     "model_name": "HBoxModel",
     "state": {
      "_dom_classes": [],
      "_model_module": "@jupyter-widgets/controls",
      "_model_module_version": "1.5.0",
      "_model_name": "HBoxModel",
      "_view_count": null,
      "_view_module": "@jupyter-widgets/controls",
      "_view_module_version": "1.5.0",
      "_view_name": "HBoxView",
      "box_style": "",
      "children": [
       "IPY_MODEL_92f214f47e504ba08548697f6a87a6cf",
       "IPY_MODEL_eb9d5948a05845eaa9c530843871b16d",
       "IPY_MODEL_9017558c16b84b4292c1643ffbd10f6b"
      ],
      "layout": "IPY_MODEL_a46deb4df36f495ca51dbcc2bea71bea"
     }
    },
    "f01e886eb4d246458f4f1127cc70941e": {
     "model_module": "@jupyter-widgets/controls",
     "model_module_version": "1.5.0",
     "model_name": "FloatProgressModel",
     "state": {
      "_dom_classes": [],
      "_model_module": "@jupyter-widgets/controls",
      "_model_module_version": "1.5.0",
      "_model_name": "FloatProgressModel",
      "_view_count": null,
      "_view_module": "@jupyter-widgets/controls",
      "_view_module_version": "1.5.0",
      "_view_name": "ProgressView",
      "bar_style": "success",
      "description": "",
      "description_tooltip": null,
      "layout": "IPY_MODEL_b0a6aeb25bc14aa8bfc3efbef43c2e41",
      "max": 96,
      "min": 0,
      "orientation": "horizontal",
      "style": "IPY_MODEL_b1ec0a74cc244c1cb3ec83a80da0f56e",
      "value": 96
     }
    },
    "f0b2a8dcb4ee4d3ea6eaba7e1f6bf95c": {
     "model_module": "@jupyter-widgets/controls",
     "model_module_version": "1.5.0",
     "model_name": "HTMLModel",
     "state": {
      "_dom_classes": [],
      "_model_module": "@jupyter-widgets/controls",
      "_model_module_version": "1.5.0",
      "_model_name": "HTMLModel",
      "_view_count": null,
      "_view_module": "@jupyter-widgets/controls",
      "_view_module_version": "1.5.0",
      "_view_name": "HTMLView",
      "description": "",
      "description_tooltip": null,
      "layout": "IPY_MODEL_e0c42be4dced48508a55df7f5bb142ec",
      "placeholder": "​",
      "style": "IPY_MODEL_92c1b9854a984482acaea3442de8d2f3",
      "value": "TRAIN Epoch 02: 100%"
     }
    },
    "f106d5ea769445fcb91a83ec33efbe59": {
     "model_module": "@jupyter-widgets/base",
     "model_module_version": "1.2.0",
     "model_name": "LayoutModel",
     "state": {
      "_model_module": "@jupyter-widgets/base",
      "_model_module_version": "1.2.0",
      "_model_name": "LayoutModel",
      "_view_count": null,
      "_view_module": "@jupyter-widgets/base",
      "_view_module_version": "1.2.0",
      "_view_name": "LayoutView",
      "align_content": null,
      "align_items": null,
      "align_self": null,
      "border": null,
      "bottom": null,
      "display": null,
      "flex": null,
      "flex_flow": null,
      "grid_area": null,
      "grid_auto_columns": null,
      "grid_auto_flow": null,
      "grid_auto_rows": null,
      "grid_column": null,
      "grid_gap": null,
      "grid_row": null,
      "grid_template_areas": null,
      "grid_template_columns": null,
      "grid_template_rows": null,
      "height": null,
      "justify_content": null,
      "justify_items": null,
      "left": null,
      "margin": null,
      "max_height": null,
      "max_width": null,
      "min_height": null,
      "min_width": null,
      "object_fit": null,
      "object_position": null,
      "order": null,
      "overflow": null,
      "overflow_x": null,
      "overflow_y": null,
      "padding": null,
      "right": null,
      "top": null,
      "visibility": null,
      "width": null
     }
    },
    "f1ee16386cd6404a9fda78d7c7cf0cce": {
     "model_module": "@jupyter-widgets/controls",
     "model_module_version": "1.5.0",
     "model_name": "FloatProgressModel",
     "state": {
      "_dom_classes": [],
      "_model_module": "@jupyter-widgets/controls",
      "_model_module_version": "1.5.0",
      "_model_name": "FloatProgressModel",
      "_view_count": null,
      "_view_module": "@jupyter-widgets/controls",
      "_view_module_version": "1.5.0",
      "_view_name": "ProgressView",
      "bar_style": "success",
      "description": "",
      "description_tooltip": null,
      "layout": "IPY_MODEL_0688021a898a46f0bcbe4fcd84ead086",
      "max": 1339,
      "min": 0,
      "orientation": "horizontal",
      "style": "IPY_MODEL_152aff73b9e941909d87e30718361aa9",
      "value": 1339
     }
    },
    "f2ddc394f32e455080c204d0bbd0baa8": {
     "model_module": "@jupyter-widgets/controls",
     "model_module_version": "1.5.0",
     "model_name": "HBoxModel",
     "state": {
      "_dom_classes": [],
      "_model_module": "@jupyter-widgets/controls",
      "_model_module_version": "1.5.0",
      "_model_name": "HBoxModel",
      "_view_count": null,
      "_view_module": "@jupyter-widgets/controls",
      "_view_module_version": "1.5.0",
      "_view_name": "HBoxView",
      "box_style": "",
      "children": [
       "IPY_MODEL_1d191509d7974e62a3b5d9fa08791883",
       "IPY_MODEL_f1ee16386cd6404a9fda78d7c7cf0cce",
       "IPY_MODEL_4ea39805b4b043f7a9b9d603e29a88a1"
      ],
      "layout": "IPY_MODEL_00b03e3e1b36414f904f77c11cd273ab"
     }
    },
    "f3e688b911794bcc931694f014f87280": {
     "model_module": "@jupyter-widgets/base",
     "model_module_version": "1.2.0",
     "model_name": "LayoutModel",
     "state": {
      "_model_module": "@jupyter-widgets/base",
      "_model_module_version": "1.2.0",
      "_model_name": "LayoutModel",
      "_view_count": null,
      "_view_module": "@jupyter-widgets/base",
      "_view_module_version": "1.2.0",
      "_view_name": "LayoutView",
      "align_content": null,
      "align_items": null,
      "align_self": null,
      "border": null,
      "bottom": null,
      "display": null,
      "flex": null,
      "flex_flow": null,
      "grid_area": null,
      "grid_auto_columns": null,
      "grid_auto_flow": null,
      "grid_auto_rows": null,
      "grid_column": null,
      "grid_gap": null,
      "grid_row": null,
      "grid_template_areas": null,
      "grid_template_columns": null,
      "grid_template_rows": null,
      "height": null,
      "justify_content": null,
      "justify_items": null,
      "left": null,
      "margin": null,
      "max_height": null,
      "max_width": null,
      "min_height": null,
      "min_width": null,
      "object_fit": null,
      "object_position": null,
      "order": null,
      "overflow": null,
      "overflow_x": null,
      "overflow_y": null,
      "padding": null,
      "right": null,
      "top": null,
      "visibility": null,
      "width": null
     }
    },
    "f546f77d9b054668adb547ac7ca03be4": {
     "model_module": "@jupyter-widgets/controls",
     "model_module_version": "1.5.0",
     "model_name": "HTMLModel",
     "state": {
      "_dom_classes": [],
      "_model_module": "@jupyter-widgets/controls",
      "_model_module_version": "1.5.0",
      "_model_name": "HTMLModel",
      "_view_count": null,
      "_view_module": "@jupyter-widgets/controls",
      "_view_module_version": "1.5.0",
      "_view_name": "HTMLView",
      "description": "",
      "description_tooltip": null,
      "layout": "IPY_MODEL_615a675234504d4693b50b9c0900167a",
      "placeholder": "​",
      "style": "IPY_MODEL_fdfd4979a14841a2a414eb796923d829",
      "value": "TRAIN Epoch 04: 100%"
     }
    },
    "f56d14df27524479a5c7e5569d297946": {
     "model_module": "@jupyter-widgets/controls",
     "model_module_version": "1.5.0",
     "model_name": "FloatProgressModel",
     "state": {
      "_dom_classes": [],
      "_model_module": "@jupyter-widgets/controls",
      "_model_module_version": "1.5.0",
      "_model_name": "FloatProgressModel",
      "_view_count": null,
      "_view_module": "@jupyter-widgets/controls",
      "_view_module_version": "1.5.0",
      "_view_name": "ProgressView",
      "bar_style": "success",
      "description": "",
      "description_tooltip": null,
      "layout": "IPY_MODEL_1b3cd2c081164d30be288bb3f5a53e1b",
      "max": 387,
      "min": 0,
      "orientation": "horizontal",
      "style": "IPY_MODEL_99fd3f7988be428097496c27f600f268",
      "value": 387
     }
    },
    "f5b3d7fa214245d497d632c6760ae152": {
     "model_module": "@jupyter-widgets/base",
     "model_module_version": "1.2.0",
     "model_name": "LayoutModel",
     "state": {
      "_model_module": "@jupyter-widgets/base",
      "_model_module_version": "1.2.0",
      "_model_name": "LayoutModel",
      "_view_count": null,
      "_view_module": "@jupyter-widgets/base",
      "_view_module_version": "1.2.0",
      "_view_name": "LayoutView",
      "align_content": null,
      "align_items": null,
      "align_self": null,
      "border": null,
      "bottom": null,
      "display": null,
      "flex": null,
      "flex_flow": null,
      "grid_area": null,
      "grid_auto_columns": null,
      "grid_auto_flow": null,
      "grid_auto_rows": null,
      "grid_column": null,
      "grid_gap": null,
      "grid_row": null,
      "grid_template_areas": null,
      "grid_template_columns": null,
      "grid_template_rows": null,
      "height": null,
      "justify_content": null,
      "justify_items": null,
      "left": null,
      "margin": null,
      "max_height": null,
      "max_width": null,
      "min_height": null,
      "min_width": null,
      "object_fit": null,
      "object_position": null,
      "order": null,
      "overflow": null,
      "overflow_x": null,
      "overflow_y": null,
      "padding": null,
      "right": null,
      "top": null,
      "visibility": null,
      "width": null
     }
    },
    "f670d31c36e8490f97a4ebf69c8837cf": {
     "model_module": "@jupyter-widgets/controls",
     "model_module_version": "1.5.0",
     "model_name": "ProgressStyleModel",
     "state": {
      "_model_module": "@jupyter-widgets/controls",
      "_model_module_version": "1.5.0",
      "_model_name": "ProgressStyleModel",
      "_view_count": null,
      "_view_module": "@jupyter-widgets/base",
      "_view_module_version": "1.2.0",
      "_view_name": "StyleView",
      "bar_color": null,
      "description_width": ""
     }
    },
    "f905df355e54429392d5e2b685ad48b7": {
     "model_module": "@jupyter-widgets/controls",
     "model_module_version": "1.5.0",
     "model_name": "FloatProgressModel",
     "state": {
      "_dom_classes": [],
      "_model_module": "@jupyter-widgets/controls",
      "_model_module_version": "1.5.0",
      "_model_name": "FloatProgressModel",
      "_view_count": null,
      "_view_module": "@jupyter-widgets/controls",
      "_view_module_version": "1.5.0",
      "_view_name": "ProgressView",
      "bar_style": "success",
      "description": "",
      "description_tooltip": null,
      "layout": "IPY_MODEL_df1bf30fbee44eecb16c9f68da0a2aad",
      "max": 387,
      "min": 0,
      "orientation": "horizontal",
      "style": "IPY_MODEL_bc1fddd16e5040f3a9b8d87e340819d4",
      "value": 387
     }
    },
    "fa1604a1b664494c98e351ecd1c3aba0": {
     "model_module": "@jupyter-widgets/controls",
     "model_module_version": "1.5.0",
     "model_name": "ProgressStyleModel",
     "state": {
      "_model_module": "@jupyter-widgets/controls",
      "_model_module_version": "1.5.0",
      "_model_name": "ProgressStyleModel",
      "_view_count": null,
      "_view_module": "@jupyter-widgets/base",
      "_view_module_version": "1.2.0",
      "_view_name": "StyleView",
      "bar_color": null,
      "description_width": ""
     }
    },
    "fa5442882a0c46bdae0ed5825d61539e": {
     "model_module": "@jupyter-widgets/controls",
     "model_module_version": "1.5.0",
     "model_name": "DescriptionStyleModel",
     "state": {
      "_model_module": "@jupyter-widgets/controls",
      "_model_module_version": "1.5.0",
      "_model_name": "DescriptionStyleModel",
      "_view_count": null,
      "_view_module": "@jupyter-widgets/base",
      "_view_module_version": "1.2.0",
      "_view_name": "StyleView",
      "description_width": ""
     }
    },
    "fb91db9b7bac484baddaf600c223df36": {
     "model_module": "@jupyter-widgets/controls",
     "model_module_version": "1.5.0",
     "model_name": "FloatProgressModel",
     "state": {
      "_dom_classes": [],
      "_model_module": "@jupyter-widgets/controls",
      "_model_module_version": "1.5.0",
      "_model_name": "FloatProgressModel",
      "_view_count": null,
      "_view_module": "@jupyter-widgets/controls",
      "_view_module_version": "1.5.0",
      "_view_name": "ProgressView",
      "bar_style": "success",
      "description": "",
      "description_tooltip": null,
      "layout": "IPY_MODEL_3c1dc8d3251440bdb4e52ceb4711d165",
      "max": 387,
      "min": 0,
      "orientation": "horizontal",
      "style": "IPY_MODEL_2dc90c4f4e11409ea4d7631ed3c7ac95",
      "value": 387
     }
    },
    "fc24a54fd7314c08a091960469af5b18": {
     "model_module": "@jupyter-widgets/controls",
     "model_module_version": "1.5.0",
     "model_name": "HBoxModel",
     "state": {
      "_dom_classes": [],
      "_model_module": "@jupyter-widgets/controls",
      "_model_module_version": "1.5.0",
      "_model_name": "HBoxModel",
      "_view_count": null,
      "_view_module": "@jupyter-widgets/controls",
      "_view_module_version": "1.5.0",
      "_view_name": "HBoxView",
      "box_style": "",
      "children": [
       "IPY_MODEL_bfd801abf85a43e99fdc1cd9c84d95f8",
       "IPY_MODEL_dcefe25b60414de485cbe462e8256327",
       "IPY_MODEL_9470c4c46ca3448d803fc5ec84f98bd6"
      ],
      "layout": "IPY_MODEL_bd0f8ecfaf954680a988035e40095dd4"
     }
    },
    "fcc843e9ec544746b3a22042fc961f9a": {
     "model_module": "@jupyter-widgets/controls",
     "model_module_version": "1.5.0",
     "model_name": "FloatProgressModel",
     "state": {
      "_dom_classes": [],
      "_model_module": "@jupyter-widgets/controls",
      "_model_module_version": "1.5.0",
      "_model_name": "FloatProgressModel",
      "_view_count": null,
      "_view_module": "@jupyter-widgets/controls",
      "_view_module_version": "1.5.0",
      "_view_name": "ProgressView",
      "bar_style": "success",
      "description": "",
      "description_tooltip": null,
      "layout": "IPY_MODEL_6727e94af2fc45149897da8bc0aaf3d6",
      "max": 96,
      "min": 0,
      "orientation": "horizontal",
      "style": "IPY_MODEL_fa1604a1b664494c98e351ecd1c3aba0",
      "value": 96
     }
    },
    "fdd89f705c524e8d9839fd0d14e3e037": {
     "model_module": "@jupyter-widgets/controls",
     "model_module_version": "1.5.0",
     "model_name": "HBoxModel",
     "state": {
      "_dom_classes": [],
      "_model_module": "@jupyter-widgets/controls",
      "_model_module_version": "1.5.0",
      "_model_name": "HBoxModel",
      "_view_count": null,
      "_view_module": "@jupyter-widgets/controls",
      "_view_module_version": "1.5.0",
      "_view_name": "HBoxView",
      "box_style": "",
      "children": [
       "IPY_MODEL_721b84a11b894b14ae34bf4554366ea1",
       "IPY_MODEL_c030d4fdaafe4a3393263b275d7b78d5",
       "IPY_MODEL_20f1f9a9401a43a092bbe07dabc9bfbb"
      ],
      "layout": "IPY_MODEL_adf9f2d260e6423eb654087687f6e2db"
     }
    },
    "fdfd4979a14841a2a414eb796923d829": {
     "model_module": "@jupyter-widgets/controls",
     "model_module_version": "1.5.0",
     "model_name": "DescriptionStyleModel",
     "state": {
      "_model_module": "@jupyter-widgets/controls",
      "_model_module_version": "1.5.0",
      "_model_name": "DescriptionStyleModel",
      "_view_count": null,
      "_view_module": "@jupyter-widgets/base",
      "_view_module_version": "1.2.0",
      "_view_name": "StyleView",
      "description_width": ""
     }
    },
    "fe122ba9856f494c9cbcb257e1695735": {
     "model_module": "@jupyter-widgets/controls",
     "model_module_version": "1.5.0",
     "model_name": "DescriptionStyleModel",
     "state": {
      "_model_module": "@jupyter-widgets/controls",
      "_model_module_version": "1.5.0",
      "_model_name": "DescriptionStyleModel",
      "_view_count": null,
      "_view_module": "@jupyter-widgets/base",
      "_view_module_version": "1.2.0",
      "_view_name": "StyleView",
      "description_width": ""
     }
    },
    "fe329a08a1df445cb998ffd8959b2177": {
     "model_module": "@jupyter-widgets/controls",
     "model_module_version": "1.5.0",
     "model_name": "HBoxModel",
     "state": {
      "_dom_classes": [],
      "_model_module": "@jupyter-widgets/controls",
      "_model_module_version": "1.5.0",
      "_model_name": "HBoxModel",
      "_view_count": null,
      "_view_module": "@jupyter-widgets/controls",
      "_view_module_version": "1.5.0",
      "_view_name": "HBoxView",
      "box_style": "",
      "children": [
       "IPY_MODEL_bd48bd83d84a4249bb04a90551017263",
       "IPY_MODEL_c75d8a77c94644759d36567042fd3dd2",
       "IPY_MODEL_8a603ac96cae462baf70c43da1d0f21f"
      ],
      "layout": "IPY_MODEL_2bc8840140564a67b082cbbdd87aea1f"
     }
    },
    "fe5b72307897434cb978d62394dc96db": {
     "model_module": "@jupyter-widgets/base",
     "model_module_version": "1.2.0",
     "model_name": "LayoutModel",
     "state": {
      "_model_module": "@jupyter-widgets/base",
      "_model_module_version": "1.2.0",
      "_model_name": "LayoutModel",
      "_view_count": null,
      "_view_module": "@jupyter-widgets/base",
      "_view_module_version": "1.2.0",
      "_view_name": "LayoutView",
      "align_content": null,
      "align_items": null,
      "align_self": null,
      "border": null,
      "bottom": null,
      "display": null,
      "flex": null,
      "flex_flow": null,
      "grid_area": null,
      "grid_auto_columns": null,
      "grid_auto_flow": null,
      "grid_auto_rows": null,
      "grid_column": null,
      "grid_gap": null,
      "grid_row": null,
      "grid_template_areas": null,
      "grid_template_columns": null,
      "grid_template_rows": null,
      "height": null,
      "justify_content": null,
      "justify_items": null,
      "left": null,
      "margin": null,
      "max_height": null,
      "max_width": null,
      "min_height": null,
      "min_width": null,
      "object_fit": null,
      "object_position": null,
      "order": null,
      "overflow": null,
      "overflow_x": null,
      "overflow_y": null,
      "padding": null,
      "right": null,
      "top": null,
      "visibility": null,
      "width": null
     }
    }
   }
  }
 },
 "nbformat": 4,
 "nbformat_minor": 1
}
